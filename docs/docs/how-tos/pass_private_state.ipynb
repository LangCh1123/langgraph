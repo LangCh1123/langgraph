{
 "cells": [
  {
   "cell_type": "markdown",
   "id": "47ed5db3-bda5-49e1-bf75-23e08c9a3af0",
   "metadata": {},
   "source": [
    "# How to pass private state between nodes\n",
    "\n",
    "Oftentimes, you may want nodes to be able to pass state to each other that should NOT be part of the main schema of the graph. This is often useful because there may be information that is not needed as input/output (and therefore doesn't really make sense to have in the main schema) but is ABSOLUTELY needed as part of the intermediate working logic.\n",
    "\n",
    "We will have a separate node for each step. We will only have the `question` and `answer` on the overall state. However, we will need separate states for the `search_query` and the `documents` - we will pass these as private state keys. See the conceptual docs [here](https://langchain-ai.github.io/langgraph/concepts/low_level/#multiple-schemas) for more details.\n",
    "\n",
    "Let's look at an example!\n",
    "\n",
    "## Setup\n",
    "\n",
    "First, let's install the required packages"
   ]
  },
  {
   "cell_type": "code",
   "execution_count": 1,
   "id": "32d79ebd",
   "metadata": {},
   "outputs": [],
   "source": [
    "%%capture --no-stderr\n",
    "%pip install -U langgraph"
   ]
  },
  {
   "cell_type": "markdown",
   "id": "e30836ce",
   "metadata": {},
   "source": [
    "<div class=\"admonition tip\">\n",
    "    <p class=\"admonition-title\">Set up <a href=\"https://smith.langchain.com\">LangSmith</a> for LangGraph development</p>\n",
    "    <p style=\"padding-top: 5px;\">\n",
    "        Sign up for LangSmith to quickly spot issues and improve the performance of your LangGraph projects. LangSmith lets you use trace data to debug, test, and monitor your LLM apps built with LangGraph — read more about how to get started <a href=\"https://docs.smith.langchain.com\">here</a>. \n",
    "    </p>\n",
    "</div>    "
   ]
  },
  {
   "cell_type": "markdown",
   "id": "a0028ced",
   "metadata": {},
   "source": [
    "## Define and use the graph"
   ]
  },
  {
   "cell_type": "code",
   "execution_count": 54,
   "id": "9c884962-e99b-48e9-b1bb-3f1e8b310b8c",
   "metadata": {},
   "outputs": [
    {
     "name": "stdout",
     "output_type": "stream",
     "text": [
      "Entered node `foo`:\n",
      "\tInput: {'a': 'set at start'}.\n",
      "\tReturned: {'private_data': 'set by foo'}\n",
      "Entered node `bar`:\n",
      "\tInput: {'a': 'set at start', 'private_data': 'set by foo'}.\n",
      "\tReturned: {'a': 'set by bar'}\n",
      "Entered node `buzz`:\n",
      "\tInput: {'a': 'set by bar', 'private_data': 'set by foo'}.\n",
      "\tReturned: {'a': 'set by buzz'}\n",
      "\n",
      "Output of graph invocation: {'a': 'set by buzz'}\n"
     ]
    }
   ],
   "source": [
    "from langgraph.graph import StateGraph, START, END\n",
    "from typing_extensions import TypedDict\n",
    "\n",
    "# The overall state of the graph (this is the public state shared across nodes)\n",
    "class OverallState(TypedDict):\n",
    "    a: str\n",
    "\n",
    "# Output from foo contains private data that is not part of the overall state\n",
    "class FooOutput(TypedDict):\n",
    "    private_data: str\n",
    "\n",
    "# The private data is only shared between foo and bar\n",
    "def foo(state: OverallState) -> FooOutput:\n",
    "    output = {\"private_data\": \"set by foo\"}\n",
    "    print(f'Entered node `foo`:\\n\\tInput: {state}.\\n\\tReturned: {output}')\n",
    "    return output\n",
    "\n",
    "\n",
    "# Step 2 (bar) input includes both the overall state and the private data from foo\n",
    "class BarInput(OverallState, FooOutput):\n",
    "    pass\n",
    "\n",
    "def bar(state: BarInput) -> OverallState:\n",
    "    output = {\"a\": \"set by bar\"}\n",
    "    print(f'Entered node `bar`:\\n\\tInput: {state}.\\n\\tReturned: {output}')\n",
    "    return output\n",
    "\n",
    "# Buzz only has access to the overall state (no access to private data from foo)\n",
    "def buzz(state: OverallState) -> OverallState:\n",
    "    output = {\"a\": \"set by buzz\"}\n",
    "    print(f'Entered node `buzz`:\\n\\tInput: {state}.\\n\\tReturned: {output}')\n",
    "    return output\n",
    "\n",
    "\n",
    "# Build the state graph\n",
    "builder = StateGraph(OverallState)\n",
    "builder.add_node(foo),  # foo is the first node\n",
    "builder.add_node(bar),  # bar is the second node and accepts private data from foo\n",
    "builder.add_node(buzz), # buzz is the third node and does not see the private data\n",
    "builder.add_edge(START, \"foo\")  # Start the graph with foo\n",
    "builder.add_edge(\"foo\", \"bar\")  # Pass from foo to bar\n",
    "builder.add_edge(\"bar\", \"buzz\") # Pass from bar to buzz (only overall state is shared)\n",
    "builder.add_edge(\"buzz\", END)   # End the graph after buzz\n",
    "graph = builder.compile()\n",
    "\n",
    "# Invoke the graph with the initial state\n",
    "response = graph.invoke({\n",
    "    \"a\": \"set at start\", \n",
    "})\n",
    "\n",
    "print()\n",
    "print(f\"Output of graph invocation: {response}\")"
   ]
  }
 ],
 "metadata": {
  "kernelspec": {
   "display_name": "Python 3 (ipykernel)",
   "language": "python",
   "name": "python3"
  },
  "language_info": {
   "codemirror_mode": {
    "name": "ipython",
    "version": 3
   },
   "file_extension": ".py",
   "mimetype": "text/x-python",
   "name": "python",
   "nbconvert_exporter": "python",
   "pygments_lexer": "ipython3",
   "version": "3.11.4"
  }
 },
 "nbformat": 4,
 "nbformat_minor": 5
}
