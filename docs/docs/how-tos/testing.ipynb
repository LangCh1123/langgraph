{
 "cells": [
  {
   "cell_type": "code",
   "execution_count": 9,
   "metadata": {},
   "outputs": [],
   "source": [
    "from langchain_openai import ChatOpenAI\n",
    "from langgraph.graph import MessagesState\n",
    "from langgraph.graph import StateGraph, START, END\n",
    "\n",
    "llm = ChatOpenAI(model=\"o1-preview\",temperature=1)\n",
    "\n",
    "graph_builder = StateGraph(MessagesState)\n",
    "\n",
    "def chatbot(state: MessagesState):\n",
    "    return {\"messages\": [llm.invoke(state[\"messages\"])]}\n",
    "\n",
    "graph_builder.add_node(\"chatbot\", chatbot)\n",
    "graph_builder.add_edge(START, \"chatbot\")\n",
    "graph_builder.add_edge(\"chatbot\", END)\n",
    "graph = graph_builder.compile()"
   ]
  },
  {
   "cell_type": "code",
   "execution_count": 10,
   "metadata": {},
   "outputs": [
    {
     "name": "stdout",
     "output_type": "stream",
     "text": [
      "{'event': 'on_chain_start', 'data': {'input': {'messages': ('user', \"how many r's are in strawberry\")}}, 'name': 'LangGraph', 'tags': [], 'run_id': 'e9fc4b0b-e8b8-49c8-a5f5-6ff53fae2d3b', 'metadata': {}, 'parent_ids': []}\n",
      "{'event': 'on_chain_start', 'data': {'input': {'messages': ('user', \"how many r's are in strawberry\")}}, 'name': '__start__', 'tags': ['graph:step:0', 'langsmith:hidden', 'langsmith:hidden'], 'run_id': 'adc531aa-5116-438c-ba82-8d15cf41e273', 'metadata': {'langgraph_step': 0, 'langgraph_node': '__start__', 'langgraph_triggers': ['__start__'], 'langgraph_path': ('__pregel_pull', '__start__'), 'langgraph_checkpoint_ns': '__start__:f495cb1a-133f-18dc-d069-b4a7b3885cdb'}, 'parent_ids': ['e9fc4b0b-e8b8-49c8-a5f5-6ff53fae2d3b']}\n",
      "{'event': 'on_chain_end', 'data': {'output': {'messages': ('user', \"how many r's are in strawberry\")}, 'input': {'messages': ('user', \"how many r's are in strawberry\")}}, 'run_id': 'adc531aa-5116-438c-ba82-8d15cf41e273', 'name': '__start__', 'tags': ['graph:step:0', 'langsmith:hidden', 'langsmith:hidden'], 'metadata': {'langgraph_step': 0, 'langgraph_node': '__start__', 'langgraph_triggers': ['__start__'], 'langgraph_path': ('__pregel_pull', '__start__'), 'langgraph_checkpoint_ns': '__start__:f495cb1a-133f-18dc-d069-b4a7b3885cdb'}, 'parent_ids': ['e9fc4b0b-e8b8-49c8-a5f5-6ff53fae2d3b']}\n",
      "{'event': 'on_chain_start', 'data': {'input': {'messages': [HumanMessage(content=\"how many r's are in strawberry\", additional_kwargs={}, response_metadata={}, id='014cb889-63dc-4d09-8c4b-9c4815af6ee1')]}}, 'name': 'chatbot', 'tags': ['graph:step:1'], 'run_id': 'fae1545a-0fe0-4cea-ac07-311a556f3df8', 'metadata': {'langgraph_step': 1, 'langgraph_node': 'chatbot', 'langgraph_triggers': ['start:chatbot'], 'langgraph_path': ('__pregel_pull', 'chatbot'), 'langgraph_checkpoint_ns': 'chatbot:a06ead09-46b5-f6c1-916a-adcf2c3ace7f'}, 'parent_ids': ['e9fc4b0b-e8b8-49c8-a5f5-6ff53fae2d3b']}\n",
      "{'event': 'on_chat_model_start', 'data': {'input': {'messages': [[HumanMessage(content=\"how many r's are in strawberry\", additional_kwargs={}, response_metadata={}, id='014cb889-63dc-4d09-8c4b-9c4815af6ee1')]]}}, 'name': 'ChatOpenAI', 'tags': ['seq:step:1'], 'run_id': '9e5ad6c8-b1aa-4fb8-b079-de842658273d', 'metadata': {'langgraph_step': 1, 'langgraph_node': 'chatbot', 'langgraph_triggers': ['start:chatbot'], 'langgraph_path': ('__pregel_pull', 'chatbot'), 'langgraph_checkpoint_ns': 'chatbot:a06ead09-46b5-f6c1-916a-adcf2c3ace7f', 'checkpoint_ns': 'chatbot:a06ead09-46b5-f6c1-916a-adcf2c3ace7f', 'ls_provider': 'openai', 'ls_model_name': 'o1-preview', 'ls_model_type': 'chat', 'ls_temperature': 1.0}, 'parent_ids': ['e9fc4b0b-e8b8-49c8-a5f5-6ff53fae2d3b', 'fae1545a-0fe0-4cea-ac07-311a556f3df8']}\n",
      "{'event': 'on_chat_model_end', 'data': {'output': AIMessage(content='There are **three** letter \"r\"s in the word \"strawberry.\"', additional_kwargs={'refusal': None}, response_metadata={'token_usage': {'completion_tokens': 362, 'prompt_tokens': 15, 'total_tokens': 377, 'completion_tokens_details': {'reasoning_tokens': 320}}, 'model_name': 'o1-preview-2024-09-12', 'system_fingerprint': 'fp_9b7441b27b', 'finish_reason': 'stop', 'logprobs': None}, id='run-9e5ad6c8-b1aa-4fb8-b079-de842658273d-0', usage_metadata={'input_tokens': 15, 'output_tokens': 362, 'total_tokens': 377}), 'input': {'messages': [[HumanMessage(content=\"how many r's are in strawberry\", additional_kwargs={}, response_metadata={}, id='014cb889-63dc-4d09-8c4b-9c4815af6ee1')]]}}, 'run_id': '9e5ad6c8-b1aa-4fb8-b079-de842658273d', 'name': 'ChatOpenAI', 'tags': ['seq:step:1'], 'metadata': {'langgraph_step': 1, 'langgraph_node': 'chatbot', 'langgraph_triggers': ['start:chatbot'], 'langgraph_path': ('__pregel_pull', 'chatbot'), 'langgraph_checkpoint_ns': 'chatbot:a06ead09-46b5-f6c1-916a-adcf2c3ace7f', 'checkpoint_ns': 'chatbot:a06ead09-46b5-f6c1-916a-adcf2c3ace7f', 'ls_provider': 'openai', 'ls_model_name': 'o1-preview', 'ls_model_type': 'chat', 'ls_temperature': 1.0}, 'parent_ids': ['e9fc4b0b-e8b8-49c8-a5f5-6ff53fae2d3b', 'fae1545a-0fe0-4cea-ac07-311a556f3df8']}\n",
      "{'event': 'on_chain_start', 'data': {'input': {'messages': [AIMessage(content='There are **three** letter \"r\"s in the word \"strawberry.\"', additional_kwargs={'refusal': None}, response_metadata={'token_usage': {'completion_tokens': 362, 'prompt_tokens': 15, 'total_tokens': 377, 'completion_tokens_details': {'reasoning_tokens': 320}}, 'model_name': 'o1-preview-2024-09-12', 'system_fingerprint': 'fp_9b7441b27b', 'finish_reason': 'stop', 'logprobs': None}, id='run-9e5ad6c8-b1aa-4fb8-b079-de842658273d-0', usage_metadata={'input_tokens': 15, 'output_tokens': 362, 'total_tokens': 377})]}}, 'name': '_write', 'tags': ['seq:step:2', 'langsmith:hidden'], 'run_id': '52a3d0e6-a05a-435b-85d9-0559f845a8c6', 'metadata': {'langgraph_step': 1, 'langgraph_node': 'chatbot', 'langgraph_triggers': ['start:chatbot'], 'langgraph_path': ('__pregel_pull', 'chatbot'), 'langgraph_checkpoint_ns': 'chatbot:a06ead09-46b5-f6c1-916a-adcf2c3ace7f'}, 'parent_ids': ['e9fc4b0b-e8b8-49c8-a5f5-6ff53fae2d3b', 'fae1545a-0fe0-4cea-ac07-311a556f3df8']}\n",
      "{'event': 'on_chain_end', 'data': {'output': {'messages': [AIMessage(content='There are **three** letter \"r\"s in the word \"strawberry.\"', additional_kwargs={'refusal': None}, response_metadata={'token_usage': {'completion_tokens': 362, 'prompt_tokens': 15, 'total_tokens': 377, 'completion_tokens_details': {'reasoning_tokens': 320}}, 'model_name': 'o1-preview-2024-09-12', 'system_fingerprint': 'fp_9b7441b27b', 'finish_reason': 'stop', 'logprobs': None}, id='run-9e5ad6c8-b1aa-4fb8-b079-de842658273d-0', usage_metadata={'input_tokens': 15, 'output_tokens': 362, 'total_tokens': 377})]}, 'input': {'messages': [AIMessage(content='There are **three** letter \"r\"s in the word \"strawberry.\"', additional_kwargs={'refusal': None}, response_metadata={'token_usage': {'completion_tokens': 362, 'prompt_tokens': 15, 'total_tokens': 377, 'completion_tokens_details': {'reasoning_tokens': 320}}, 'model_name': 'o1-preview-2024-09-12', 'system_fingerprint': 'fp_9b7441b27b', 'finish_reason': 'stop', 'logprobs': None}, id='run-9e5ad6c8-b1aa-4fb8-b079-de842658273d-0', usage_metadata={'input_tokens': 15, 'output_tokens': 362, 'total_tokens': 377})]}}, 'run_id': '52a3d0e6-a05a-435b-85d9-0559f845a8c6', 'name': '_write', 'tags': ['seq:step:2', 'langsmith:hidden'], 'metadata': {'langgraph_step': 1, 'langgraph_node': 'chatbot', 'langgraph_triggers': ['start:chatbot'], 'langgraph_path': ('__pregel_pull', 'chatbot'), 'langgraph_checkpoint_ns': 'chatbot:a06ead09-46b5-f6c1-916a-adcf2c3ace7f'}, 'parent_ids': ['e9fc4b0b-e8b8-49c8-a5f5-6ff53fae2d3b', 'fae1545a-0fe0-4cea-ac07-311a556f3df8']}\n",
      "{'event': 'on_chain_stream', 'run_id': 'fae1545a-0fe0-4cea-ac07-311a556f3df8', 'name': 'chatbot', 'tags': ['graph:step:1'], 'metadata': {'langgraph_step': 1, 'langgraph_node': 'chatbot', 'langgraph_triggers': ['start:chatbot'], 'langgraph_path': ('__pregel_pull', 'chatbot'), 'langgraph_checkpoint_ns': 'chatbot:a06ead09-46b5-f6c1-916a-adcf2c3ace7f'}, 'data': {'chunk': {'messages': [AIMessage(content='There are **three** letter \"r\"s in the word \"strawberry.\"', additional_kwargs={'refusal': None}, response_metadata={'token_usage': {'completion_tokens': 362, 'prompt_tokens': 15, 'total_tokens': 377, 'completion_tokens_details': {'reasoning_tokens': 320}}, 'model_name': 'o1-preview-2024-09-12', 'system_fingerprint': 'fp_9b7441b27b', 'finish_reason': 'stop', 'logprobs': None}, id='run-9e5ad6c8-b1aa-4fb8-b079-de842658273d-0', usage_metadata={'input_tokens': 15, 'output_tokens': 362, 'total_tokens': 377})]}}, 'parent_ids': ['e9fc4b0b-e8b8-49c8-a5f5-6ff53fae2d3b']}\n",
      "{'event': 'on_chain_end', 'data': {'output': {'messages': [AIMessage(content='There are **three** letter \"r\"s in the word \"strawberry.\"', additional_kwargs={'refusal': None}, response_metadata={'token_usage': {'completion_tokens': 362, 'prompt_tokens': 15, 'total_tokens': 377, 'completion_tokens_details': {'reasoning_tokens': 320}}, 'model_name': 'o1-preview-2024-09-12', 'system_fingerprint': 'fp_9b7441b27b', 'finish_reason': 'stop', 'logprobs': None}, id='run-9e5ad6c8-b1aa-4fb8-b079-de842658273d-0', usage_metadata={'input_tokens': 15, 'output_tokens': 362, 'total_tokens': 377})]}, 'input': {'messages': [HumanMessage(content=\"how many r's are in strawberry\", additional_kwargs={}, response_metadata={}, id='014cb889-63dc-4d09-8c4b-9c4815af6ee1')]}}, 'run_id': 'fae1545a-0fe0-4cea-ac07-311a556f3df8', 'name': 'chatbot', 'tags': ['graph:step:1'], 'metadata': {'langgraph_step': 1, 'langgraph_node': 'chatbot', 'langgraph_triggers': ['start:chatbot'], 'langgraph_path': ('__pregel_pull', 'chatbot'), 'langgraph_checkpoint_ns': 'chatbot:a06ead09-46b5-f6c1-916a-adcf2c3ace7f'}, 'parent_ids': ['e9fc4b0b-e8b8-49c8-a5f5-6ff53fae2d3b']}\n",
      "{'event': 'on_chain_stream', 'run_id': 'e9fc4b0b-e8b8-49c8-a5f5-6ff53fae2d3b', 'name': 'LangGraph', 'tags': [], 'metadata': {}, 'data': {'chunk': {'chatbot': {'messages': [AIMessage(content='There are **three** letter \"r\"s in the word \"strawberry.\"', additional_kwargs={'refusal': None}, response_metadata={'token_usage': {'completion_tokens': 362, 'prompt_tokens': 15, 'total_tokens': 377, 'completion_tokens_details': {'reasoning_tokens': 320}}, 'model_name': 'o1-preview-2024-09-12', 'system_fingerprint': 'fp_9b7441b27b', 'finish_reason': 'stop', 'logprobs': None}, id='run-9e5ad6c8-b1aa-4fb8-b079-de842658273d-0', usage_metadata={'input_tokens': 15, 'output_tokens': 362, 'total_tokens': 377})]}}}, 'parent_ids': []}\n",
      "{'event': 'on_chain_end', 'data': {'output': {'messages': [HumanMessage(content=\"how many r's are in strawberry\", additional_kwargs={}, response_metadata={}, id='014cb889-63dc-4d09-8c4b-9c4815af6ee1'), AIMessage(content='There are **three** letter \"r\"s in the word \"strawberry.\"', additional_kwargs={'refusal': None}, response_metadata={'token_usage': {'completion_tokens': 362, 'prompt_tokens': 15, 'total_tokens': 377, 'completion_tokens_details': {'reasoning_tokens': 320}}, 'model_name': 'o1-preview-2024-09-12', 'system_fingerprint': 'fp_9b7441b27b', 'finish_reason': 'stop', 'logprobs': None}, id='run-9e5ad6c8-b1aa-4fb8-b079-de842658273d-0', usage_metadata={'input_tokens': 15, 'output_tokens': 362, 'total_tokens': 377})]}}, 'run_id': 'e9fc4b0b-e8b8-49c8-a5f5-6ff53fae2d3b', 'name': 'LangGraph', 'tags': [], 'metadata': {}, 'parent_ids': []}\n"
     ]
    }
   ],
   "source": [
    "user_input = input(\"User: \")\n",
    "async for event in graph.astream_events({\"messages\": (\"user\", user_input)}, version=\"v2\"):\n",
    "    print(event)"
   ]
  },
  {
   "cell_type": "code",
   "execution_count": null,
   "metadata": {},
   "outputs": [],
   "source": []
  }
 ],
 "metadata": {
  "kernelspec": {
   "display_name": "Python 3",
   "language": "python",
   "name": "python3"
  },
  "language_info": {
   "codemirror_mode": {
    "name": "ipython",
    "version": 3
   },
   "file_extension": ".py",
   "mimetype": "text/x-python",
   "name": "python",
   "nbconvert_exporter": "python",
   "pygments_lexer": "ipython3",
   "version": "3.11.9"
  }
 },
 "nbformat": 4,
 "nbformat_minor": 2
}
