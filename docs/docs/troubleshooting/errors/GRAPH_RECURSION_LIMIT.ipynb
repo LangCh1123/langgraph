{
 "cells": [
  {
   "cell_type": "markdown",
   "metadata": {},
   "source": [
    "# GRAPH_RECURSION_LIMIT\n",
    "\n",
    "Your LangGraph [`StateGraph`](https://langchain-ai.github.io/langgraph/reference/graphs/#langgraph.graph.state.StateGraph) reached the maximum number of steps before hitting a stop condition.\n",
    "This is often due to an infinite loop caused by code like the example below:\n",
    "\n",
    "```python\n",
    "class State(TypedDict):\n",
    "    some_key: str\n",
    "\n",
    "builder = StateGraph(State)\n",
    "builder.add_node(\"a\", ...)\n",
    "builder.add_node(\"b\", ...)\n",
    "builder.add_edge(\"a\", \"b\")\n",
    "builder.add_edge(\"b\", \"a\")\n",
    "...\n",
    "\n",
    "graph = builder.compile()\n",
    "```\n",
    "\n",
    "However, complex graphs may hit the default limit naturally.\n",
    "\n",
    "## Troubleshooting\n",
    "\n",
    "- If you are not expecting your graph to go through many iterations, you likely have a cycle. Check your logic for infinite loops.\n",
    "- If you have a complex graph, you can pass in a higher `recursion_limit` value into your `config` object when invoking your graph like this:\n",
    "\n",
    "```ts\n",
    "graph.invoke({...}, {\"recursion_limit\": 100});\n",
    "```\n"
   ]
  }
 ],
 "metadata": {
  "language_info": {
   "name": "python"
  }
 },
 "nbformat": 4,
 "nbformat_minor": 2
}
