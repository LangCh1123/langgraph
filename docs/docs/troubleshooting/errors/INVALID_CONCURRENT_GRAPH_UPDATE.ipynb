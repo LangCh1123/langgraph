{
 "cells": [
  {
   "cell_type": "markdown",
   "metadata": {},
   "source": [
    "# INVALID_CONCURRENT_GRAPH_UPDATE\n",
    "\n",
    "A LangGraph [`StateGraph`](https://langchain-ai.github.io/langgraph/reference/graphs/#langgraph.graph.state.StateGraph) received concurrent updates to its state from multiple nodes to a state property that doesn't\n",
    "support it.\n",
    "\n",
    "One way this can occur is if you are using a [fanout](https://langchain-ai.github.io/langgraph/how-tos/map-reduce/)\n",
    "or other parallel execution in your graph and you have defined a graph like this:\n",
    "\n",
    "```python\n",
    "class State(TypedDict):\n",
    "    some_key: str\n",
    "\n",
    "def bad_node(state: State):\n",
    "    return {\"some_key\": \"whoops\"}\n",
    "\n",
    "builder = StateGraph(State)\n",
    "builder.add_node(bad_node)\n",
    "builder.add_edge(START, \"bad_node\")\n",
    "builder.add_edge(START, \"bad_node\")\n",
    "...\n",
    "\n",
    "graph = builder.compile()\n",
    "```\n",
    "\n",
    "If a node in the above graph returns `{ \"some_key\": \"some_string_value\" }`, this will overwrite the state value for `\"some_key\"` with `\"some_string_value\"`.\n",
    "However, if multiple nodes in e.g. a fanout within a single step return values for `\"some_key\"`, the graph will throw this error because\n",
    "there is uncertainty around how to update the internal state.\n",
    "\n",
    "To get around this, you can define a reducer that combines multiple values:\n",
    "\n",
    "```python\n",
    "import operator\n",
    "from typing import Annotated\n",
    "\n",
    "class State(TypedDict):\n",
    "    # The operator.add reducer fn makes this append-only\n",
    "    some_key: Annotated[list, operator.add]\n",
    "```\n",
    "\n",
    "This will allow you to define logic that handles the same key returned from multiple nodes executed in parallel.\n",
    "\n",
    "## Troubleshooting\n",
    "\n",
    "The following may help resolve this error:\n",
    "\n",
    "- If your graph executes nodes in parallel, make sure you have defined relevant state keys with a reducer.\n"
   ]
  }
 ],
 "metadata": {
  "language_info": {
   "name": "python"
  }
 },
 "nbformat": 4,
 "nbformat_minor": 2
}
