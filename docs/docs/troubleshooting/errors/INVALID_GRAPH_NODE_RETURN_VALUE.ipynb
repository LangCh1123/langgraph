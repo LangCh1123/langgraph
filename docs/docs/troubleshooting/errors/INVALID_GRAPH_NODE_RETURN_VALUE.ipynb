{
 "cells": [
  {
   "cell_type": "markdown",
   "metadata": {},
   "source": [
    "# INVALID_GRAPH_NODE_RETURN_VALUE\n",
    "\n",
    "A LangGraph [`StateGraph`](https://langchain-ai.github.io/langgraph/reference/graphs/#langgraph.graph.state.StateGraph)\n",
    "received a non-dict return type from a node. Here's an example:\n",
    "\n",
    "```python\n",
    "class State(TypedDict):\n",
    "    some_key: str\n",
    "\n",
    "def bad_node(state: State):\n",
    "    # Should return an dict with a value for \"some_key\", not a list\n",
    "    return [\"whoops\"]\n",
    "\n",
    "builder = StateGraph(State)\n",
    "builder.add_node(bad_node)\n",
    "...\n",
    "\n",
    "graph = builder.compile()\n",
    "```\n",
    "\n",
    "Invoking the above graph will result in an error like this:\n",
    "\n",
    "```python\n",
    "graph.invoke({ \"some_key\": \"someval\" });\n",
    "```\n",
    "\n",
    "```\n",
    "InvalidUpdateError: Expected node \"bad_noe\" to return an dict, received number\n",
    "\n",
    "Troubleshooting URL: https://js.langchain.com/troubleshooting/errors/INVALID_GRAPH_NODE_RETURN_VALUE\n",
    "```\n",
    "\n",
    "Nodes in your graph must return an dict containing one or more keys defined in your state.\n",
    "\n",
    "## Troubleshooting\n",
    "\n",
    "The following may help resolve this error:\n",
    "\n",
    "- If you have complex logic in your node, make sure all code paths return an appropriate dict for your defined state.\n"
   ]
  }
 ],
 "metadata": {
  "language_info": {
   "name": "python"
  }
 },
 "nbformat": 4,
 "nbformat_minor": 2
}
