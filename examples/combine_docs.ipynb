{
 "cells": [
  {
   "cell_type": "markdown",
   "id": "780c1001-557c-4b03-8ebd-a2a381d5f85d",
   "metadata": {},
   "source": [
    "# Combine Docs\n",
    "\n",
    "PermChain is a great choice for implementating workflows that involve operating over longer documents because of its recursive nature"
   ]
  },
  {
   "cell_type": "code",
   "execution_count": 1,
   "id": "624c452c-ddd5-4390-9065-7ec55dc64b96",
   "metadata": {},
   "outputs": [],
   "source": [
    "from operator import itemgetter\n",
    "\n",
    "from langchain.chat_models.openai import ChatOpenAI\n",
    "from langchain.prompts import SystemMessagePromptTemplate, ChatPromptTemplate, PromptTemplate\n",
    "from langchain.schema.output_parser import StrOutputParser\n",
    "from langchain.runnables.openai_functions import OpenAIFunctionsRouter\n",
    "from langchain.schema.runnable import RunnableMap\n",
    "from langchain.schema.document import Document\n",
    "from langchain.schema import format_document\n",
    "\n",
    "from permchain.connection_inmemory import InMemoryPubSubConnection\n",
    "from permchain.pubsub import PubSub\n",
    "from permchain.topic import Topic"
   ]
  },
  {
   "cell_type": "markdown",
   "id": "271728d7-b3c8-4ec6-a728-19835e282ec3",
   "metadata": {},
   "source": [
    "## Stuff Documents\n",
    "\n",
    "Stuff documents is simple - just a chain"
   ]
  },
  {
   "cell_type": "code",
   "execution_count": 2,
   "id": "59d6430b-c113-4498-9ffc-f4623f7a0b5c",
   "metadata": {},
   "outputs": [],
   "source": [
    "DEFAULT_DOCUMENT_PROMPT = PromptTemplate.from_template(template=\"{page_content}\")\n",
    "def _combine_documents(docs, document_prompt = DEFAULT_DOCUMENT_PROMPT, document_separator=\"\\n\\n\"):\n",
    "    doc_strings = [format_document(doc, document_prompt) for doc in docs]\n",
    "    return document_separator.join(doc_strings)"
   ]
  },
  {
   "cell_type": "code",
   "execution_count": 77,
   "id": "29b2668d-e4a6-4876-9b04-bdc841774c62",
   "metadata": {},
   "outputs": [],
   "source": [
    "docs = [Document(page_content=\"Harrison used to work at Kensho\"), Document(page_content=\"Ankush worked at Facebook\")]"
   ]
  },
  {
   "cell_type": "code",
   "execution_count": 4,
   "id": "17da58b7-8685-4d0a-9a47-c398c085d477",
   "metadata": {},
   "outputs": [],
   "source": [
    "stuff_chain = {\n",
    "    \"question\": lambda x: x[\"question\"],\n",
    "    \"context\": lambda x: _combine_documents(x[\"docs\"])\n",
    "} |ChatPromptTemplate.from_messages([\n",
    "    (\"system\", \"Answer user questions based on the following documents:\\n\\n{context}\"),\n",
    "    (\"human\", \"{question}\"),\n",
    "]) | ChatOpenAI()"
   ]
  },
  {
   "cell_type": "code",
   "execution_count": 5,
   "id": "87295b71-0afc-4901-b57c-a7b945aa4bd9",
   "metadata": {},
   "outputs": [
    {
     "data": {
      "text/plain": [
       "AIMessage(content='Harrison worked at Kensho.', additional_kwargs={}, example=False)"
      ]
     },
     "execution_count": 5,
     "metadata": {},
     "output_type": "execute_result"
    }
   ],
   "source": [
    "stuff_chain.invoke({\"question\": \"where did harrison work\", \"docs\": docs})"
   ]
  },
  {
   "cell_type": "markdown",
   "id": "fff324c1-7fbf-41e5-861f-a10ba0112dbd",
   "metadata": {},
   "source": [
    "## Reduce Documents\n",
    "\n",
    "Reduce documents tries to merge documents recursively."
   ]
  },
  {
   "cell_type": "code",
   "execution_count": 78,
   "id": "b15f5abb-1cfe-4965-a021-c891506c5dd2",
   "metadata": {},
   "outputs": [],
   "source": [
    "many_docs = docs * 5"
   ]
  },
  {
   "cell_type": "code",
   "execution_count": 86,
   "id": "ccad04a3-fd3f-4e73-b895-29e53535f000",
   "metadata": {},
   "outputs": [],
   "source": [
    "def _split_list_of_docs(docs, max_length=70):\n",
    "    new_result_doc_list = []\n",
    "    _sub_result_docs = []\n",
    "    for doc in docs:\n",
    "        _sub_result_docs.append(doc)\n",
    "        _num_tokens = sum([len(d.page_content) for d in _sub_result_docs])\n",
    "        if _num_tokens > max_length:\n",
    "            if len(_sub_result_docs) == 1:\n",
    "                raise ValueError(\n",
    "                    \"A single document was longer than the context length,\"\n",
    "                    \" we cannot handle this.\"\n",
    "                )\n",
    "            new_result_doc_list.append(_sub_result_docs[:-1])\n",
    "            _sub_result_docs = _sub_result_docs[-1:]\n",
    "    new_result_doc_list.append(_sub_result_docs)\n",
    "    return new_result_doc_list"
   ]
  },
  {
   "cell_type": "code",
   "execution_count": 87,
   "id": "11cfd337-9f3b-4b26-ba30-251e17b18994",
   "metadata": {},
   "outputs": [
    {
     "data": {
      "text/plain": [
       "[[Document(page_content='Harrison used to work at Kensho', metadata={}),\n",
       "  Document(page_content='Ankush worked at Facebook', metadata={})],\n",
       " [Document(page_content='Harrison used to work at Kensho', metadata={}),\n",
       "  Document(page_content='Ankush worked at Facebook', metadata={})],\n",
       " [Document(page_content='Harrison used to work at Kensho', metadata={}),\n",
       "  Document(page_content='Ankush worked at Facebook', metadata={})],\n",
       " [Document(page_content='Harrison used to work at Kensho', metadata={}),\n",
       "  Document(page_content='Ankush worked at Facebook', metadata={})],\n",
       " [Document(page_content='Harrison used to work at Kensho', metadata={}),\n",
       "  Document(page_content='Ankush worked at Facebook', metadata={})]]"
      ]
     },
     "execution_count": 87,
     "metadata": {},
     "output_type": "execute_result"
    }
   ],
   "source": [
    "# Just to show what its like split\n",
    "split_docs = _split_list_of_docs(many_docs)\n",
    "split_docs"
   ]
  },
  {
   "cell_type": "code",
   "execution_count": 88,
   "id": "8d524ba6-0939-4a5d-8db0-4fa1ef06eaeb",
   "metadata": {},
   "outputs": [],
   "source": [
    "reduce_inbox = Topic(\"reduce_inbox\")\n",
    "finish_inbox = Topic(\"finish_inbox\")\n",
    "collapse_inbox = Topic(\"collapse_inbox\")"
   ]
  },
  {
   "cell_type": "code",
   "execution_count": 97,
   "id": "67370694-86f4-4b64-9d4f-38b2e306abeb",
   "metadata": {},
   "outputs": [],
   "source": [
    "# Decide if should finish or should reduce one more step\n",
    "def decide_end(plan):\n",
    "    if len(plan['docs']) > 1:\n",
    "        return reduce_inbox.publish()\n",
    "    else:\n",
    "        return {\"docs\": lambda x: x[\"docs\"][0], \"question\": lambda x: x[\"question\"]} | stuff_chain | Topic.OUT.publish()\n",
    "\n",
    "# Chain that collapses documents then chooses end\n",
    "collapse_chain = collapse_inbox.subscribe() | RunnableMap({\n",
    "    \"docs\": lambda x: _split_list_of_docs(x[\"docs\"]),\n",
    "    \"question\": lambda x: x[\"question\"]\n",
    "}) | decide_end\n",
    "\n",
    "# Call the stuff chain on all elements and then pass to collapse\n",
    "# TODO: this causes some errors because of the Topic.IN being where it is I believe\n",
    "# reduce_chain = (\n",
    "#     reduce_inbox.subscribe() \n",
    "#     | (lambda x: [{\"docs\": d, \"question\": x[\"question\"]} for d in x['docs']])\n",
    "#     | stuff_chain.map() \n",
    "#     | {\n",
    "#         \"docs\": lambda x: [Document(page_content=m.content) for m in x],\n",
    "#         # TODO: this causes some errors\n",
    "#         \"question\": Topic.IN.current() | itemgetter(\"question\"),\n",
    "#     }\n",
    "#     | collapse_inbox.publish()\n",
    "# )\n",
    "reduce_chain = (\n",
    "    reduce_inbox.subscribe() \n",
    "    | {\n",
    "        \"docs\":(lambda x: [{\"docs\": d, \"question\": x[\"question\"]} for d in x['docs']]) | stuff_chain.map() | (lambda x: [Document(page_content=m.content) for m in x]),\n",
    "        \"question\": lambda x: x[\"question\"]\n",
    "        }\n",
    "    | collapse_inbox.publish()\n",
    ")\n",
    "start_chain = Topic.IN.subscribe() | collapse_inbox.publish()"
   ]
  },
  {
   "cell_type": "code",
   "execution_count": 98,
   "id": "3019e7d2-ab7f-4868-b43c-ad898d824a26",
   "metadata": {},
   "outputs": [],
   "source": [
    "reduce_agent = PubSub(processes=(start_chain, collapse_chain, reduce_chain),\n",
    "    connection=InMemoryPubSubConnection(),)"
   ]
  },
  {
   "cell_type": "code",
   "execution_count": 99,
   "id": "a3202dd2-a68f-4792-bd4b-96dc738e9a01",
   "metadata": {},
   "outputs": [],
   "source": [
    "# TODO: why does this return a list?"
   ]
  },
  {
   "cell_type": "code",
   "execution_count": 101,
   "id": "69fcb829-3dae-432a-8db3-11bbb179a7d2",
   "metadata": {},
   "outputs": [
    {
     "data": {
      "text/plain": [
       "[AIMessage(content='Harrison used to work at Kensho.', additional_kwargs={}, example=False)]"
      ]
     },
     "execution_count": 101,
     "metadata": {},
     "output_type": "execute_result"
    }
   ],
   "source": [
    "reduce_agent.invoke({\"question\": \"where did harrison work\", \"docs\": many_docs})"
   ]
  },
  {
   "cell_type": "code",
   "execution_count": null,
   "id": "265b29cd-d4f4-4e48-8d4e-b759e909ac2e",
   "metadata": {},
   "outputs": [],
   "source": []
  }
 ],
 "metadata": {
  "kernelspec": {
   "display_name": "Python 3 (ipykernel)",
   "language": "python",
   "name": "python3"
  },
  "language_info": {
   "codemirror_mode": {
    "name": "ipython",
    "version": 3
   },
   "file_extension": ".py",
   "mimetype": "text/x-python",
   "name": "python",
   "nbconvert_exporter": "python",
   "pygments_lexer": "ipython3",
   "version": "3.10.1"
  }
 },
 "nbformat": 4,
 "nbformat_minor": 5
}
