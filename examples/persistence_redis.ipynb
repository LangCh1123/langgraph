{
 "cells": [
  {
   "cell_type": "markdown",
   "id": "51466c8d-8ce4-4b3d-be4e-18fdbeda5f53",
   "metadata": {},
   "source": [
    "# How to create a custom checkpointer using Redis\n",
    "\n",
    "When creating LangGraph agents, you can also set them up so that they persist their state. This allows you to do things like interact with an agent multiple times and have it remember previous interactions. Make sure that you have Redis running on port `6379` for going through this tutorial\n",
    "\n",
    "This example shows how to use `Redis` as the backend for persisting checkpoint state.\n",
    "\n",
    "NOTE: this is just an example implementation. You can implement your own checkpointer using a different database or modify this one as long as it conforms to the `BaseCheckpointSaver` interface."
   ]
  },
  {
   "cell_type": "markdown",
   "id": "0aac2830",
   "metadata": {},
   "source": [
    "## Install the necessary libraries for Redis on Python"
   ]
  },
  {
   "cell_type": "code",
   "execution_count": 1,
   "id": "faadfb1b-cebe-4dcf-82fd-34044c380bc4",
   "metadata": {},
   "outputs": [],
   "source": [
    "%%capture --no-stderr\n",
    "%pip install -U redis langgraph langchain_openai"
   ]
  },
  {
   "cell_type": "markdown",
   "id": "a6a4e417",
   "metadata": {},
   "source": [
    "## Checkpointer implementation"
   ]
  },
  {
   "cell_type": "code",
   "execution_count": 2,
   "id": "a35dba8e-5562-4803-ad80-160f53592dd7",
   "metadata": {},
   "outputs": [],
   "source": [
    "\"\"\"Implementation of a langgraph checkpoint saver using Redis.\"\"\"\n",
    "from contextlib import asynccontextmanager, contextmanager\n",
    "from typing import Any, AsyncGenerator, Generator, Union, Tuple, Optional\n",
    "\n",
    "import redis\n",
    "from redis.asyncio import Redis as AsyncRedis, ConnectionPool as AsyncConnectionPool\n",
    "from langchain_core.runnables import RunnableConfig\n",
    "from langgraph.checkpoint import BaseCheckpointSaver\n",
    "from langgraph.serde.jsonplus import JsonPlusSerializer\n",
    "from langgraph.checkpoint.base import Checkpoint, CheckpointMetadata, CheckpointTuple\n",
    "import logging\n",
    "\n",
    "logging.basicConfig(level=logging.INFO)\n",
    "logger = logging.getLogger(__name__)\n",
    "\n",
    "class JsonAndBinarySerializer(JsonPlusSerializer):\n",
    "    def _default(self, obj: Any) -> Any:\n",
    "        if isinstance(obj, (bytes, bytearray)):\n",
    "            return self._encode_constructor_args(obj.__class__, method=\"fromhex\", args=[obj.hex()])\n",
    "        return super()._default(obj)\n",
    "\n",
    "    def dumps(self, obj: Any) -> str:\n",
    "        try:\n",
    "            if isinstance(obj, (bytes, bytearray)):\n",
    "                return obj.hex()\n",
    "            return super().dumps(obj)\n",
    "        except Exception as e:\n",
    "            logger.error(f\"Serialization error: {e}\")\n",
    "            raise\n",
    "\n",
    "    def loads(self, s: str, is_binary: bool = False) -> Any:\n",
    "        try:\n",
    "            if is_binary:\n",
    "                return bytes.fromhex(s)\n",
    "            return super().loads(s)\n",
    "        except Exception as e:\n",
    "            logger.error(f\"Deserialization error: {e}\")\n",
    "            raise\n",
    "\n",
    "def initialize_sync_pool(host: str = 'localhost', port: int = 6379, db: int = 0, **kwargs) -> redis.ConnectionPool:\n",
    "    \"\"\"Initialize a synchronous Redis connection pool.\"\"\"\n",
    "    try:\n",
    "        pool = redis.ConnectionPool(host=host, port=port, db=db, **kwargs)\n",
    "        logger.info(f\"Synchronous Redis pool initialized with host={host}, port={port}, db={db}\")\n",
    "        return pool\n",
    "    except Exception as e:\n",
    "        logger.error(f\"Error initializing sync pool: {e}\")\n",
    "        raise\n",
    "\n",
    "def initialize_async_pool(url: str = \"redis://localhost\", **kwargs) -> AsyncConnectionPool:\n",
    "    \"\"\"Initialize an asynchronous Redis connection pool.\"\"\"\n",
    "    try:\n",
    "        pool = AsyncConnectionPool.from_url(url, **kwargs)\n",
    "        logger.info(f\"Asynchronous Redis pool initialized with url={url}\")\n",
    "        return pool\n",
    "    except Exception as e:\n",
    "        logger.error(f\"Error initializing async pool: {e}\")\n",
    "        raise\n",
    "\n",
    "@contextmanager\n",
    "def _get_sync_connection(connection: Union[redis.Redis, redis.ConnectionPool, None]) -> Generator[redis.Redis, None, None]:\n",
    "    conn = None\n",
    "    try:\n",
    "        if isinstance(connection, redis.Redis):\n",
    "            yield connection\n",
    "        elif isinstance(connection, redis.ConnectionPool):\n",
    "            conn = redis.Redis(connection_pool=connection)\n",
    "            yield conn\n",
    "        else:\n",
    "            raise ValueError(\"Invalid sync connection object.\")\n",
    "    except redis.ConnectionError as e:\n",
    "        logger.error(f\"Sync connection error: {e}\")\n",
    "        raise\n",
    "    finally:\n",
    "        if conn:\n",
    "            conn.close()\n",
    "\n",
    "@asynccontextmanager\n",
    "async def _get_async_connection(connection: Union[AsyncRedis, AsyncConnectionPool, None]) -> AsyncGenerator[AsyncRedis, None]:\n",
    "    conn = None\n",
    "    try:\n",
    "        if isinstance(connection, AsyncRedis):\n",
    "            yield connection\n",
    "        elif isinstance(connection, AsyncConnectionPool):\n",
    "            conn = AsyncRedis(connection_pool=connection)\n",
    "            yield conn\n",
    "        else:\n",
    "            raise ValueError(\"Invalid async connection object.\")\n",
    "    except redis.ConnectionError as e:\n",
    "        logger.error(f\"Async connection error: {e}\")\n",
    "        raise\n",
    "    finally:\n",
    "        if conn:\n",
    "            await conn.aclose()\n",
    "\n",
    "class RedisSaver(BaseCheckpointSaver):\n",
    "    sync_connection: Optional[Union[redis.Redis, redis.ConnectionPool]] = None\n",
    "    async_connection: Optional[Union[AsyncRedis, AsyncConnectionPool]] = None\n",
    "\n",
    "    def __init__(self, sync_connection: Optional[Union[redis.Redis, redis.ConnectionPool]] = None, async_connection: Optional[Union[AsyncRedis, AsyncConnectionPool]] = None):\n",
    "        super().__init__(serde=JsonAndBinarySerializer())\n",
    "        self.sync_connection = sync_connection\n",
    "        self.async_connection = async_connection\n",
    "\n",
    "    def put(self, config: RunnableConfig, checkpoint: Checkpoint, metadata: CheckpointMetadata) -> RunnableConfig:\n",
    "        thread_id = config[\"configurable\"][\"thread_id\"]\n",
    "        parent_ts = config[\"configurable\"].get(\"thread_ts\")\n",
    "        key = f\"checkpoint:{thread_id}:{checkpoint['ts']}\"\n",
    "        try:\n",
    "            with _get_sync_connection(self.sync_connection) as conn:\n",
    "                conn.hset(key, mapping={\n",
    "                    \"checkpoint\": self.serde.dumps(checkpoint),\n",
    "                    \"metadata\": self.serde.dumps(metadata),\n",
    "                    \"parent_ts\": parent_ts if parent_ts else \"\"\n",
    "                })\n",
    "                logger.info(f\"Checkpoint stored successfully for thread_id: {thread_id}, ts: {checkpoint['ts']}\")\n",
    "        except Exception as e:\n",
    "            logger.error(f\"Failed to put checkpoint: {e}\")\n",
    "            raise\n",
    "        return {\n",
    "            \"configurable\": {\n",
    "                \"thread_id\": thread_id,\n",
    "                \"thread_ts\": checkpoint[\"ts\"],\n",
    "            },\n",
    "        }\n",
    "\n",
    "    async def aput(self, config: RunnableConfig, checkpoint: Checkpoint, metadata: CheckpointMetadata) -> RunnableConfig:\n",
    "        thread_id = config[\"configurable\"][\"thread_id\"]\n",
    "        parent_ts = config[\"configurable\"].get(\"thread_ts\")\n",
    "        key = f\"checkpoint:{thread_id}:{checkpoint['ts']}\"\n",
    "        try:\n",
    "            async with _get_async_connection(self.async_connection) as conn:\n",
    "                await conn.hset(key, mapping={\n",
    "                    \"checkpoint\": self.serde.dumps(checkpoint),\n",
    "                    \"metadata\": self.serde.dumps(metadata),\n",
    "                    \"parent_ts\": parent_ts if parent_ts else \"\"\n",
    "                })\n",
    "                logger.info(f\"Checkpoint stored successfully for thread_id: {thread_id}, ts: {checkpoint['ts']}\")\n",
    "        except Exception as e:\n",
    "            logger.error(f\"Failed to aput checkpoint: {e}\")\n",
    "            raise\n",
    "        return {\n",
    "            \"configurable\": {\n",
    "                \"thread_id\": thread_id,\n",
    "                \"thread_ts\": checkpoint[\"ts\"],\n",
    "            },\n",
    "        }\n",
    "\n",
    "    def get_tuple(self, config: RunnableConfig) -> Optional[CheckpointTuple]:\n",
    "        thread_id = config[\"configurable\"][\"thread_id\"]\n",
    "        thread_ts = config[\"configurable\"].get(\"thread_ts\", None)\n",
    "        try:\n",
    "            with _get_sync_connection(self.sync_connection) as conn:\n",
    "                if thread_ts:\n",
    "                    key = f\"checkpoint:{thread_id}:{thread_ts}\"\n",
    "                else:\n",
    "                    all_keys = conn.keys(f\"checkpoint:{thread_id}:*\")\n",
    "                    if not all_keys:\n",
    "                        logger.info(f\"No checkpoints found for thread_id: {thread_id}\")\n",
    "                        return None\n",
    "                    latest_key = max(all_keys, key=lambda k: k.decode().split(\":\")[-1])\n",
    "                    key = latest_key.decode()\n",
    "                checkpoint_data = conn.hgetall(key)\n",
    "                if not checkpoint_data:\n",
    "                    logger.info(f\"No valid checkpoint data found for key: {key}\")\n",
    "                    return None\n",
    "                checkpoint = self.serde.loads(checkpoint_data[b\"checkpoint\"].decode())\n",
    "                metadata = self.serde.loads(checkpoint_data[b\"metadata\"].decode())\n",
    "                parent_ts = checkpoint_data.get(b\"parent_ts\", b\"\").decode()\n",
    "                parent_config = {\"configurable\": {\"thread_id\": thread_id, \"thread_ts\": parent_ts}} if parent_ts else None\n",
    "                logger.info(f\"Checkpoint retrieved successfully for thread_id: {thread_id}, ts: {thread_ts}\")\n",
    "                return CheckpointTuple(config=config, checkpoint=checkpoint, metadata=metadata, parent_config=parent_config)\n",
    "        except Exception as e:\n",
    "            logger.error(f\"Failed to get checkpoint tuple: {e}\")\n",
    "            raise\n",
    "\n",
    "    async def aget_tuple(self, config: RunnableConfig) -> Optional[CheckpointTuple]:\n",
    "        thread_id = config[\"configurable\"][\"thread_id\"]\n",
    "        thread_ts = config[\"configurable\"].get(\"thread_ts\", None)\n",
    "        try:\n",
    "            async with _get_async_connection(self.async_connection) as conn:\n",
    "                if thread_ts:\n",
    "                    key = f\"checkpoint:{thread_id}:{thread_ts}\"\n",
    "                else:\n",
    "                    all_keys = await conn.keys(f\"checkpoint:{thread_id}:*\")\n",
    "                    if not all_keys:\n",
    "                        logger.info(f\"No checkpoints found for thread_id: {thread_id}\")\n",
    "                        return None\n",
    "                    latest_key = max(all_keys, key=lambda k: k.decode().split(\":\")[-1])\n",
    "                    key = latest_key.decode()\n",
    "                checkpoint_data = await conn.hgetall(key)\n",
    "                if not checkpoint_data:\n",
    "                    logger.info(f\"No valid checkpoint data found for key: {key}\")\n",
    "                    return None\n",
    "                checkpoint = self.serde.loads(checkpoint_data[b\"checkpoint\"].decode())\n",
    "                metadata = self.serde.loads(checkpoint_data[b\"metadata\"].decode())\n",
    "                parent_ts = checkpoint_data.get(b\"parent_ts\", b\"\").decode()\n",
    "                parent_config = {\"configurable\": {\"thread_id\": thread_id, \"thread_ts\": parent_ts}} if parent_ts else None\n",
    "                logger.info(f\"Checkpoint retrieved successfully for thread_id: {thread_id}, ts: {thread_ts}\")\n",
    "                return CheckpointTuple(config=config, checkpoint=checkpoint, metadata=metadata, parent_config=parent_config)\n",
    "        except Exception as e:\n",
    "            logger.error(f\"Failed to get checkpoint tuple: {e}\")\n",
    "            raise\n",
    "\n",
    "    def list(self, config: Optional[RunnableConfig], *, filter: Optional[dict[str, Any]] = None, before: Optional[RunnableConfig] = None, limit: Optional[int] = None) -> Generator[CheckpointTuple, None, None]:\n",
    "        thread_id = config[\"configurable\"][\"thread_id\"] if config else \"*\"\n",
    "        pattern = f\"checkpoint:{thread_id}:*\"\n",
    "        try:\n",
    "            with _get_sync_connection(self.sync_connection) as conn:\n",
    "                keys = conn.keys(pattern)\n",
    "                if before:\n",
    "                    keys = [k for k in keys if k.decode().split(\":\")[-1] < before[\"configurable\"][\"thread_ts\"]]\n",
    "                keys = sorted(keys, key=lambda k: k.decode().split(\":\")[-1], reverse=True)\n",
    "                if limit:\n",
    "                    keys = keys[:limit]\n",
    "                for key in keys:\n",
    "                    data = conn.hgetall(key)\n",
    "                    if data and \"checkpoint\" in data and \"metadata\" in data:\n",
    "                        thread_ts = key.decode().split(\":\")[-1]\n",
    "                        yield CheckpointTuple(\n",
    "                            config={\"configurable\": {\"thread_id\": thread_id, \"thread_ts\": thread_ts}},\n",
    "                            checkpoint=self.serde.loads(data[\"checkpoint\"].decode()),\n",
    "                            metadata=self.serde.loads(data[\"metadata\"].decode()),\n",
    "                            parent_config={\"configurable\": {\"thread_id\": thread_id, \"thread_ts\": data.get(\"parent_ts\", b\"\").decode()}} if data.get(\"parent_ts\") else None,\n",
    "                        )\n",
    "                        logger.info(f\"Checkpoint listed for thread_id: {thread_id}, ts: {thread_ts}\")\n",
    "        except Exception as e:\n",
    "            logger.error(f\"Failed to list checkpoints: {e}\")\n",
    "            raise\n",
    "\n",
    "    async def alist(self, config: Optional[RunnableConfig], *, filter: Optional[dict[str, Any]] = None, before: Optional[RunnableConfig] = None, limit: Optional[int] = None) -> AsyncGenerator[CheckpointTuple, None]:\n",
    "        thread_id = config[\"configurable\"][\"thread_id\"] if config else \"*\"\n",
    "        pattern = f\"checkpoint:{thread_id}:*\"\n",
    "        try:\n",
    "            async with _get_async_connection(self.async_connection) as conn:\n",
    "                keys = await conn.keys(pattern)\n",
    "                if before:\n",
    "                    keys = [k for k in keys if k.decode().split(\":\")[-1] < before[\"configurable\"][\"thread_ts\"]]\n",
    "                keys = sorted(keys, key=lambda k: k.decode().split(\":\")[-1], reverse=True)\n",
    "                if limit:\n",
    "                    keys = keys[:limit]\n",
    "                for key in keys:\n",
    "                    data = await conn.hgetall(key)\n",
    "                    if data and \"checkpoint\" in data and \"metadata\" in data:\n",
    "                        thread_ts = key.decode().split(\":\")[-1]\n",
    "                        yield CheckpointTuple(\n",
    "                            config={\"configurable\": {\"thread_id\": thread_id, \"thread_ts\": thread_ts}},\n",
    "                            checkpoint=self.serde.loads(data[\"checkpoint\"].decode()),\n",
    "                            metadata=self.serde.loads(data[\"metadata\"].decode()),\n",
    "                            parent_config={\"configurable\": {\"thread_id\": thread_id, \"thread_ts\": data.get(\"parent_ts\", b\"\").decode()}} if data.get(\"parent_ts\") else None,\n",
    "                        )\n",
    "                        logger.info(f\"Checkpoint listed for thread_id: {thread_id}, ts: {thread_ts}\")\n",
    "        except Exception as e:\n",
    "            logger.error(f\"Failed to list checkpoints: {e}\")\n",
    "            raise\n"
   ]
  },
  {
   "cell_type": "markdown",
   "metadata": {},
   "source": [
    "## Checkpointer implementation"
   ]
  },
  {
   "cell_type": "markdown",
   "id": "456fa19c-93a5-4750-a410-f2d810b964ad",
   "metadata": {},
   "source": [
    "## Setup environment"
   ]
  },
  {
   "cell_type": "code",
   "execution_count": 3,
   "id": "eca9aafb-a155-407a-8036-682a2f1297d7",
   "metadata": {},
   "outputs": [],
   "source": [
    "import getpass\n",
    "import os\n",
    "\n",
    "\n",
    "def _set_env(var: str):\n",
    "    if not os.environ.get(var):\n",
    "        os.environ[var] = getpass.getpass(f\"{var}: \")\n",
    "\n",
    "\n",
    "_set_env(\"OPENAI_API_KEY\")"
   ]
  },
  {
   "cell_type": "markdown",
   "id": "e26b3204-cca2-414c-800e-7e09032445ae",
   "metadata": {},
   "source": [
    "## Setup model and tools for the graph"
   ]
  },
  {
   "cell_type": "code",
   "execution_count": 4,
   "id": "e5213193-5a7d-43e7-aeba-fe732bb1cd7a",
   "metadata": {},
   "outputs": [],
   "source": [
    "from typing import Literal\n",
    "from langchain_core.tools import tool\n",
    "from langchain_openai import ChatOpenAI\n",
    "from langgraph.prebuilt import create_react_agent\n",
    "\n",
    "\n",
    "@tool\n",
    "def get_weather(city: Literal[\"nyc\", \"sf\"]):\n",
    "    \"\"\"Use this to get weather information.\"\"\"\n",
    "    if city == \"nyc\":\n",
    "        return \"It might be cloudy in nyc\"\n",
    "    elif city == \"sf\":\n",
    "        return \"It's always sunny in sf\"\n",
    "    else:\n",
    "        raise AssertionError(\"Unknown city\")\n",
    "\n",
    "\n",
    "tools = [get_weather]\n",
    "model = ChatOpenAI(model_name=\"gpt-4o\", temperature=0)"
   ]
  },
  {
   "cell_type": "markdown",
   "id": "e9342c62-dbb4-40f6-9271-7393f1ca48c4",
   "metadata": {},
   "source": [
    "## Use sync connection"
   ]
  },
  {
   "cell_type": "markdown",
   "id": "e39fc712-9e1c-4831-9077-dd07b0c13594",
   "metadata": {},
   "source": [
    "### With a connection pool"
   ]
  },
  {
   "cell_type": "code",
   "execution_count": 5,
   "id": "a1710e2f",
   "metadata": {},
   "outputs": [
    {
     "name": "stderr",
     "output_type": "stream",
     "text": [
      "INFO:__main__:Synchronous Redis pool initialized with host=localhost, port=6379, db=0\n"
     ]
    }
   ],
   "source": [
    "sync_pool = initialize_sync_pool(host=\"localhost\", port=6379, db=0)"
   ]
  },
  {
   "cell_type": "code",
   "execution_count": 6,
   "id": "2657c1c4-d8a5-4fe3-8f77-95415a98ed6c",
   "metadata": {},
   "outputs": [],
   "source": [
    "checkpointer = RedisSaver(sync_connection=sync_pool)"
   ]
  },
  {
   "cell_type": "code",
   "execution_count": 7,
   "id": "6d388241-de57-4b4e-af7b-eb1081fb8f36",
   "metadata": {},
   "outputs": [
    {
     "name": "stderr",
     "output_type": "stream",
     "text": [
      "INFO:__main__:No checkpoints found for thread_id: 1\n",
      "INFO:__main__:Checkpoint stored successfully for thread_id: 1, ts: 2024-07-09T16:56:07.959844+00:00\n",
      "INFO:__main__:Checkpoint stored successfully for thread_id: 1, ts: 2024-07-09T16:56:07.962854+00:00\n",
      "INFO:httpx:HTTP Request: POST https://api.openai.com/v1/chat/completions \"HTTP/1.1 200 OK\"\n",
      "INFO:__main__:Checkpoint stored successfully for thread_id: 1, ts: 2024-07-09T16:56:11.534476+00:00\n",
      "INFO:__main__:Checkpoint stored successfully for thread_id: 1, ts: 2024-07-09T16:56:11.545819+00:00\n",
      "INFO:httpx:HTTP Request: POST https://api.openai.com/v1/chat/completions \"HTTP/1.1 200 OK\"\n",
      "INFO:__main__:Checkpoint stored successfully for thread_id: 1, ts: 2024-07-09T16:56:12.223025+00:00\n"
     ]
    }
   ],
   "source": [
    "graph = create_react_agent(model, tools=tools, checkpointer=checkpointer)\n",
    "config = {\"configurable\": {\"thread_id\": \"1\"}}\n",
    "res = graph.invoke({\"messages\": [(\"human\", \"what's the weather in sf\")]}, config)"
   ]
  },
  {
   "cell_type": "code",
   "execution_count": 8,
   "id": "a7e0e7ec-a675-470b-9270-e4bdc59d4a4d",
   "metadata": {},
   "outputs": [
    {
     "data": {
      "text/plain": [
       "{'messages': [HumanMessage(content=\"what's the weather in sf\", id='d11aed0c-3b0e-4bdb-bf55-dc2b9cf39459'),\n",
       "  AIMessage(content='', additional_kwargs={'tool_calls': [{'id': 'call_pc3jX4JgJeP1OOSyrBSLFB7B', 'function': {'arguments': '{\"city\":\"sf\"}', 'name': 'get_weather'}, 'type': 'function'}]}, response_metadata={'token_usage': {'completion_tokens': 14, 'prompt_tokens': 57, 'total_tokens': 71}, 'model_name': 'gpt-4o-2024-05-13', 'system_fingerprint': 'fp_ce0793330f', 'finish_reason': 'tool_calls', 'logprobs': None}, id='run-72521265-7602-4a7e-8dfb-b8c6096cfe8d-0', tool_calls=[{'name': 'get_weather', 'args': {'city': 'sf'}, 'id': 'call_pc3jX4JgJeP1OOSyrBSLFB7B'}], usage_metadata={'input_tokens': 57, 'output_tokens': 14, 'total_tokens': 71}),\n",
       "  ToolMessage(content=\"It's always sunny in sf\", name='get_weather', id='05260fdd-b0fa-4eef-bffb-33b178adc173', tool_call_id='call_pc3jX4JgJeP1OOSyrBSLFB7B'),\n",
       "  AIMessage(content='The weather in San Francisco is currently sunny.', response_metadata={'token_usage': {'completion_tokens': 10, 'prompt_tokens': 84, 'total_tokens': 94}, 'model_name': 'gpt-4o-2024-05-13', 'system_fingerprint': 'fp_d576307f90', 'finish_reason': 'stop', 'logprobs': None}, id='run-93826fc5-cd75-4eb0-a36e-1295dabb31a6-0', usage_metadata={'input_tokens': 84, 'output_tokens': 10, 'total_tokens': 94})]}"
      ]
     },
     "execution_count": 8,
     "metadata": {},
     "output_type": "execute_result"
    }
   ],
   "source": [
    "res"
   ]
  },
  {
   "cell_type": "code",
   "execution_count": 9,
   "id": "96efd8b2-97c9-4207-83b2-00131723a75a",
   "metadata": {},
   "outputs": [
    {
     "name": "stderr",
     "output_type": "stream",
     "text": [
      "INFO:__main__:Checkpoint retrieved successfully for thread_id: 1, ts: None\n"
     ]
    },
    {
     "data": {
      "text/plain": [
       "{'v': 1,\n",
       " 'ts': '2024-07-09T16:56:07.962854+00:00',\n",
       " 'id': '1ef3e142-305d-68fe-8000-789353335a86',\n",
       " 'channel_values': {'messages': [HumanMessage(content=\"what's the weather in sf\", id='d11aed0c-3b0e-4bdb-bf55-dc2b9cf39459')],\n",
       "  'start:agent': '__start__'},\n",
       " 'channel_versions': {'__start__': 2, 'messages': 2, 'start:agent': 2},\n",
       " 'versions_seen': {'__start__': {'__start__': 1}, 'agent': {}, 'tools': {}},\n",
       " 'pending_sends': []}"
      ]
     },
     "execution_count": 9,
     "metadata": {},
     "output_type": "execute_result"
    }
   ],
   "source": [
    "checkpointer.get(config)"
   ]
  },
  {
   "cell_type": "markdown",
   "id": "967c95c7-e392-4819-bd71-f29e91c68df3",
   "metadata": {},
   "source": [
    "### With a connection"
   ]
  },
  {
   "cell_type": "code",
   "execution_count": 10,
   "id": "b7d3687b",
   "metadata": {},
   "outputs": [
    {
     "name": "stderr",
     "output_type": "stream",
     "text": [
      "INFO:__main__:No checkpoints found for thread_id: 2\n",
      "INFO:__main__:Checkpoint stored successfully for thread_id: 2, ts: 2024-07-09T16:56:12.293037+00:00\n",
      "INFO:__main__:Checkpoint stored successfully for thread_id: 2, ts: 2024-07-09T16:56:12.297036+00:00\n",
      "INFO:httpx:HTTP Request: POST https://api.openai.com/v1/chat/completions \"HTTP/1.1 200 OK\"\n",
      "INFO:__main__:Checkpoint stored successfully for thread_id: 2, ts: 2024-07-09T16:56:13.529097+00:00\n",
      "INFO:__main__:Checkpoint stored successfully for thread_id: 2, ts: 2024-07-09T16:56:13.536109+00:00\n",
      "INFO:httpx:HTTP Request: POST https://api.openai.com/v1/chat/completions \"HTTP/1.1 200 OK\"\n",
      "INFO:__main__:Checkpoint stored successfully for thread_id: 2, ts: 2024-07-09T16:56:14.534713+00:00\n",
      "INFO:__main__:Checkpoint retrieved successfully for thread_id: 2, ts: None\n"
     ]
    }
   ],
   "source": [
    "import redis\n",
    "\n",
    "# Initialize the Redis synchronous direct connection\n",
    "sync_redis_direct = redis.Redis(host='localhost', port=6379, db=0)\n",
    "\n",
    "# Initialize the RedisSaver with the synchronous direct connection\n",
    "checkpointer = RedisSaver(sync_connection=sync_redis_direct)\n",
    "\n",
    "graph = create_react_agent(model, tools=tools, checkpointer=checkpointer)\n",
    "config = {\"configurable\": {\"thread_id\": \"2\"}}\n",
    "res = graph.invoke({\"messages\": [(\"human\", \"what's the weather in sf\")]}, config)\n",
    "\n",
    "checkpoint_tuple = checkpointer.get_tuple(config)"
   ]
  },
  {
   "cell_type": "markdown",
   "id": "c0a47d3e-e588-48fc-a5d4-2145dff17e77",
   "metadata": {},
   "source": [
    "## Use async connection"
   ]
  },
  {
   "cell_type": "markdown",
   "id": "ee6b6cf7-d8f7-4777-a48d-93b5855fe681",
   "metadata": {},
   "source": [
    "### With a connection pool"
   ]
  },
  {
   "cell_type": "code",
   "execution_count": 11,
   "id": "20cea8b7-8f13-4dc7-a3c9-825040eb4c57",
   "metadata": {},
   "outputs": [
    {
     "name": "stderr",
     "output_type": "stream",
     "text": [
      "INFO:__main__:Asynchronous Redis pool initialized with url=redis://localhost:6379/0\n"
     ]
    }
   ],
   "source": [
    "# Initialize a synchronous Redis connection pool\n",
    "async_pool = initialize_async_pool(url='redis://localhost:6379/0')\n",
    "\n",
    "checkpointer = RedisSaver(async_connection=async_pool)"
   ]
  },
  {
   "cell_type": "code",
   "execution_count": 12,
   "id": "f889dce6-7ec1-4277-b8af-ace7811733fa",
   "metadata": {},
   "outputs": [
    {
     "name": "stderr",
     "output_type": "stream",
     "text": [
      "INFO:__main__:No checkpoints found for thread_id: 3\n",
      "INFO:__main__:Checkpoint stored successfully for thread_id: 3, ts: 2024-07-09T16:56:14.578808+00:00\n",
      "INFO:__main__:Checkpoint stored successfully for thread_id: 3, ts: 2024-07-09T16:56:14.581816+00:00\n",
      "INFO:httpx:HTTP Request: POST https://api.openai.com/v1/chat/completions \"HTTP/1.1 200 OK\"\n",
      "INFO:__main__:Checkpoint stored successfully for thread_id: 3, ts: 2024-07-09T16:56:15.612974+00:00\n",
      "INFO:__main__:Checkpoint stored successfully for thread_id: 3, ts: 2024-07-09T16:56:15.618970+00:00\n",
      "INFO:httpx:HTTP Request: POST https://api.openai.com/v1/chat/completions \"HTTP/1.1 200 OK\"\n",
      "INFO:__main__:Checkpoint stored successfully for thread_id: 3, ts: 2024-07-09T16:56:16.869217+00:00\n"
     ]
    }
   ],
   "source": [
    "graph = create_react_agent(model, tools=tools, checkpointer=checkpointer)\n",
    "config = {\"configurable\": {\"thread_id\": \"3\"}}\n",
    "res = await graph.ainvoke(\n",
    "    {\"messages\": [(\"human\", \"what's the weather in nyc\")]}, config\n",
    ")"
   ]
  },
  {
   "cell_type": "code",
   "execution_count": 13,
   "id": "ed58c722-1662-4ae2-9bb7-4872158a5b29",
   "metadata": {},
   "outputs": [
    {
     "name": "stderr",
     "output_type": "stream",
     "text": [
      "INFO:__main__:Checkpoint retrieved successfully for thread_id: 3, ts: None\n"
     ]
    }
   ],
   "source": [
    "checkpoint_tuple = await checkpointer.aget_tuple(config)"
   ]
  },
  {
   "cell_type": "code",
   "execution_count": 14,
   "id": "e0c42044-4de6-4742-8e00-fe295d50c95a",
   "metadata": {},
   "outputs": [
    {
     "data": {
      "text/plain": [
       "CheckpointTuple(config={'configurable': {'thread_id': '3'}}, checkpoint={'v': 1, 'ts': '2024-07-09T16:56:15.612974+00:00', 'id': '1ef3e142-7952-69d0-8001-08a4f3107323', 'channel_values': {'messages': [HumanMessage(content=\"what's the weather in nyc\", id='101881be-b9db-4af7-a073-cd2ee7193a4c'), AIMessage(content='', additional_kwargs={'tool_calls': [{'id': 'call_UpIsRbQSL62CU9BPRBrohOtb', 'function': {'arguments': '{\"city\":\"nyc\"}', 'name': 'get_weather'}, 'type': 'function'}]}, response_metadata={'token_usage': {'completion_tokens': 15, 'prompt_tokens': 58, 'total_tokens': 73}, 'model_name': 'gpt-4o-2024-05-13', 'system_fingerprint': 'fp_ce0793330f', 'finish_reason': 'tool_calls', 'logprobs': None}, id='run-64795730-57a5-4a88-b4b8-e6b978bd02a7-0', tool_calls=[{'name': 'get_weather', 'args': {'city': 'nyc'}, 'id': 'call_UpIsRbQSL62CU9BPRBrohOtb'}], usage_metadata={'input_tokens': 58, 'output_tokens': 15, 'total_tokens': 73})], 'agent': 'agent', 'branch:agent:should_continue:tools': 'agent'}, 'channel_versions': {'__start__': 2, 'messages': 3, 'start:agent': 3, 'agent': 3, 'branch:agent:should_continue:tools': 3}, 'versions_seen': {'__start__': {'__start__': 1}, 'agent': {'start:agent': 2}, 'tools': {}}, 'pending_sends': []}, metadata={'source': 'loop', 'step': 1, 'writes': {'agent': {'messages': [AIMessage(content='', additional_kwargs={'tool_calls': [{'id': 'call_UpIsRbQSL62CU9BPRBrohOtb', 'function': {'arguments': '{\"city\":\"nyc\"}', 'name': 'get_weather'}, 'type': 'function'}]}, response_metadata={'token_usage': {'completion_tokens': 15, 'prompt_tokens': 58, 'total_tokens': 73}, 'model_name': 'gpt-4o-2024-05-13', 'system_fingerprint': 'fp_ce0793330f', 'finish_reason': 'tool_calls', 'logprobs': None}, id='run-64795730-57a5-4a88-b4b8-e6b978bd02a7-0', tool_calls=[{'name': 'get_weather', 'args': {'city': 'nyc'}, 'id': 'call_UpIsRbQSL62CU9BPRBrohOtb'}], usage_metadata={'input_tokens': 58, 'output_tokens': 15, 'total_tokens': 73})]}}}, parent_config={'configurable': {'thread_id': '3', 'thread_ts': '1ef3e142-6f7d-6232-8000-372ec119f096'}})"
      ]
     },
     "execution_count": 14,
     "metadata": {},
     "output_type": "execute_result"
    }
   ],
   "source": [
    "checkpoint_tuple"
   ]
  },
  {
   "cell_type": "markdown",
   "id": "56552584-9eb8-40df-a6a0-44151018b509",
   "metadata": {},
   "source": [
    "### Use connection"
   ]
  },
  {
   "cell_type": "code",
   "execution_count": 15,
   "id": "a7bf32bd",
   "metadata": {},
   "outputs": [
    {
     "name": "stderr",
     "output_type": "stream",
     "text": [
      "INFO:__main__:No checkpoints found for thread_id: 4\n",
      "INFO:__main__:Checkpoint stored successfully for thread_id: 4, ts: 2024-07-09T16:56:16.942889+00:00\n",
      "INFO:__main__:Checkpoint stored successfully for thread_id: 4, ts: 2024-07-09T16:56:16.947805+00:00\n",
      "INFO:httpx:HTTP Request: POST https://api.openai.com/v1/chat/completions \"HTTP/1.1 200 OK\"\n",
      "INFO:__main__:Checkpoint stored successfully for thread_id: 4, ts: 2024-07-09T16:56:17.880330+00:00\n",
      "INFO:__main__:Checkpoint stored successfully for thread_id: 4, ts: 2024-07-09T16:56:17.884599+00:00\n",
      "INFO:httpx:HTTP Request: POST https://api.openai.com/v1/chat/completions \"HTTP/1.1 200 OK\"\n",
      "INFO:__main__:Checkpoint stored successfully for thread_id: 4, ts: 2024-07-09T16:56:18.897295+00:00\n"
     ]
    }
   ],
   "source": [
    "from redis.asyncio import Redis as AsyncRedis\n",
    "\n",
    "async with await AsyncRedis(host='localhost', port=6379, db=0) as conn:\n",
    "    checkpointer = RedisSaver(async_connection=conn)\n",
    "    graph = create_react_agent(model, tools=tools, checkpointer=checkpointer)\n",
    "    config = {\"configurable\": {\"thread_id\": \"4\"}}\n",
    "    res = await graph.ainvoke(\n",
    "        {\"messages\": [(\"human\", \"what's the weather in nyc\")]}, config\n",
    "    )\n",
    "    checkpoint_tuples = [c async for c in checkpointer.alist(config)]"
   ]
  }
 ],
 "metadata": {
  "kernelspec": {
   "display_name": "Python 3",
   "language": "python",
   "name": "python3"
  },
  "language_info": {
   "codemirror_mode": {
    "name": "ipython",
    "version": 3
   },
   "file_extension": ".py",
   "mimetype": "text/x-python",
   "name": "python",
   "nbconvert_exporter": "python",
   "pygments_lexer": "ipython3",
   "version": "3.11.9"
  }
 },
 "nbformat": 4,
 "nbformat_minor": 5
}
