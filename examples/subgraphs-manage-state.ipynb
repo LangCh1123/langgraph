{
 "cells": [
  {
   "attachments": {},
   "cell_type": "markdown",
   "metadata": {},
   "source": [
    "# How to manage state in subgraphs\n",
    "\n",
    "For more complex systems, sub-graphs are a useful design principle. Sub-graphs allow you to create and manage different states in different parts of your graph. This allows you build things like [multi-agent teams](https://langchain-ai.github.io/langgraph/tutorials/multi_agent/hierarchical_agent_teams/), where each team can track its own separate state.\n",
    "\n",
    "In this how-to guide we will cover how to manage the persisted state in subgraphs. This will enable a lot of the human-in-the-loop interaction patterns."
   ]
  },
  {
   "cell_type": "code",
   "execution_count": 3,
   "metadata": {},
   "outputs": [],
   "source": [
    "%%capture --no-stderr\n",
    "%pip install -U langgraph"
   ]
  },
  {
   "attachments": {},
   "cell_type": "markdown",
   "metadata": {},
   "source": [
    "## Setup SubGraph\n",
    "\n",
    "First, let's set up our subgraph. For this, we will create a simple graph that can get the weather for a specific city."
   ]
  },
  {
   "cell_type": "code",
   "execution_count": 1,
   "metadata": {},
   "outputs": [],
   "source": [
    "from langgraph.graph import StateGraph, END, START, MessagesState\n",
    "from langchain_core.tools import tool\n",
    "from langchain_openai import ChatOpenAI\n",
    "\n",
    "\n",
    "@tool\n",
    "def get_weather(city: str):\n",
    "    \"\"\"Get the weather for a specific city\"\"\"\n",
    "    return f\"I'ts sunny in {city}!\"\n",
    "\n",
    "raw_model = ChatOpenAI()\n",
    "model = raw_model.with_structured_output(get_weather)\n",
    "\n",
    "\n",
    "class SubGraphState(MessagesState):\n",
    "    city: str\n",
    "\n",
    "\n",
    "def model_node(state: SubGraphState):\n",
    "    result = model.invoke(state['messages'])\n",
    "    return {\"city\": result[\"city\"]}\n",
    "\n",
    "def weather_node(state: SubGraphState):\n",
    "    result = get_weather.invoke({\"city\": state['city']})\n",
    "    return {\"messages\": [{\"role\": \"assistant\", \"content\": result}]}\n",
    "\n",
    "\n",
    "subgraph = StateGraph(SubGraphState)\n",
    "subgraph.add_node(model_node)\n",
    "subgraph.add_node(weather_node)\n",
    "subgraph.add_edge(START, \"model_node\")\n",
    "subgraph.add_edge(\"model_node\", \"weather_node\")\n",
    "subgraph.add_edge(\"weather_node\", END)\n",
    "subgraph = subgraph.compile(interrupt_before=[\"weather_node\"])"
   ]
  },
  {
   "cell_type": "markdown",
   "metadata": {},
   "source": [
    "## Setup Graph\n",
    "\n",
    "We can now setup the overall graph. This graph will first route to the subgraph if it needs to get the weather, otherwise it will route to a normal LLM."
   ]
  },
  {
   "cell_type": "code",
   "execution_count": 2,
   "metadata": {},
   "outputs": [],
   "source": [
    "from typing import TypedDict, Literal\n",
    "from langgraph.checkpoint.memory import MemorySaver\n",
    "\n",
    "\n",
    "memory = MemorySaver()\n",
    "\n",
    "\n",
    "class RouterState(MessagesState):\n",
    "    route: Literal[\"weather\", \"other\"]\n",
    "\n",
    "\n",
    "class Router(TypedDict):\n",
    "    route: Literal[\"weather\", \"other\"]\n",
    "\n",
    "router_model = raw_model.with_structured_output(Router)\n",
    "    \n",
    "def router_node(state: RouterState):\n",
    "    system_message = \"Classify the incoming query as either about weather or not.\"\n",
    "    messages = [{\"role\": \"system\", \"content\": system_message}] + state['messages']\n",
    "    route = router_model.invoke(messages)\n",
    "    return {\"route\": route['route']}\n",
    "\n",
    "\n",
    "def normal_llm_node(state: RouterState):\n",
    "    response = raw_model.invoke(state['messages'])\n",
    "    return {\"messages\": [response]}\n",
    "\n",
    "\n",
    "def route_after_prediction(state: RouterState):\n",
    "    if state['route'] == \"weather\":\n",
    "        return \"weather_graph\"\n",
    "    else:\n",
    "        return \"normal_llm_node\"\n",
    "\n",
    "\n",
    "graph = StateGraph(RouterState)\n",
    "graph.add_node(router_node)\n",
    "graph.add_node(normal_llm_node)\n",
    "graph.add_node(\"weather_graph\", subgraph)\n",
    "graph.add_edge(START, \"router_node\")\n",
    "graph.add_conditional_edges(\"router_node\", route_after_prediction)\n",
    "graph.add_edge(\"normal_llm_node\", END)\n",
    "graph.add_edge(\"weather_graph\", END)\n",
    "graph = graph.compile(checkpointer=memory)"
   ]
  },
  {
   "cell_type": "code",
   "execution_count": 3,
   "metadata": {},
   "outputs": [
    {
     "data": {
      "image/jpeg": "[encoded data removed]",
      "text/plain": [
       "<IPython.core.display.Image object>"
      ]
     },
     "metadata": {},
     "output_type": "display_data"
    }
   ],
   "source": [
    "from IPython.display import Image, display\n",
    "\n",
    "# Setting xray to 1 will show the internal structure of the nested graph\n",
    "display(Image(graph.get_graph(xray=1).draw_mermaid_png()))"
   ]
  },
  {
   "cell_type": "markdown",
   "metadata": {},
   "source": [
    "Let's test this out with a normal query!"
   ]
  },
  {
   "cell_type": "code",
   "execution_count": 4,
   "metadata": {},
   "outputs": [
    {
     "name": "stdout",
     "output_type": "stream",
     "text": [
      "{'router_node': {'route': 'other'}}\n",
      "{'normal_llm_node': {'messages': [AIMessage(content='Hello! How can I assist you today?', additional_kwargs={'refusal': None}, response_metadata={'token_usage': {'completion_tokens': 9, 'prompt_tokens': 9, 'total_tokens': 18}, 'model_name': 'gpt-3.5-turbo-0125', 'system_fingerprint': None, 'finish_reason': 'stop', 'logprobs': None}, id='run-a29f5f9a-6c18-42fb-ba42-24fd099b8841-0', usage_metadata={'input_tokens': 9, 'output_tokens': 9, 'total_tokens': 18})]}}\n"
     ]
    }
   ],
   "source": [
    "config = {\"configurable\": {\"thread_id\": \"1\"}}\n",
    "inputs = {\"messages\": [{\"role\": \"user\", \"content\": \"hi!\"}]}\n",
    "for update in graph.stream(inputs, config=config, stream_mode=\"updates\"):\n",
    "    print(update)"
   ]
  },
  {
   "cell_type": "markdown",
   "metadata": {},
   "source": [
    "## Resuming from breakpoints\n",
    "\n",
    "Let's now look at what happens with breakpoints. Let's invoke it with a query that should get routed to the weather subgraph where we have the interrupt node."
   ]
  },
  {
   "cell_type": "code",
   "execution_count": 5,
   "metadata": {},
   "outputs": [
    {
     "name": "stdout",
     "output_type": "stream",
     "text": [
      "{'router_node': {'route': 'weather'}}\n"
     ]
    }
   ],
   "source": [
    "config = {\"configurable\": {\"thread_id\": \"2\"}}\n",
    "inputs = {\"messages\": [{\"role\": \"user\", \"content\": \"what's the weather in sf\"}]}\n",
    "for update in graph.stream(inputs, config=config, stream_mode=\"updates\"):\n",
    "    print(update)"
   ]
  },
  {
   "cell_type": "markdown",
   "metadata": {},
   "source": [
    "Note that this doesn't include subgraph events. If I want to stream subgraph events, I can pass `subgraphs=True` and get back subgraph events."
   ]
  },
  {
   "cell_type": "code",
   "execution_count": 6,
   "metadata": {},
   "outputs": [
    {
     "name": "stdout",
     "output_type": "stream",
     "text": [
      "((), {'messages': [HumanMessage(content=\"what's the weather in sf\", id='75c7ba82-33db-421c-86a9-3cbc2f2d4740'), HumanMessage(content=\"what's the weather in sf\", id='f9ad148e-350b-412a-8075-8eae75cd6142')], 'route': 'weather'})\n",
      "((), {'messages': [HumanMessage(content=\"what's the weather in sf\", id='75c7ba82-33db-421c-86a9-3cbc2f2d4740'), HumanMessage(content=\"what's the weather in sf\", id='f9ad148e-350b-412a-8075-8eae75cd6142')], 'route': 'weather'})\n",
      "(('weather_graph:37c544e7-84b4-5096-b5f5-f5bcd4def17e',), {'messages': [HumanMessage(content=\"what's the weather in sf\", id='75c7ba82-33db-421c-86a9-3cbc2f2d4740'), HumanMessage(content=\"what's the weather in sf\", id='f9ad148e-350b-412a-8075-8eae75cd6142')]})\n",
      "(('weather_graph:37c544e7-84b4-5096-b5f5-f5bcd4def17e',), {'messages': [HumanMessage(content=\"what's the weather in sf\", id='75c7ba82-33db-421c-86a9-3cbc2f2d4740'), HumanMessage(content=\"what's the weather in sf\", id='f9ad148e-350b-412a-8075-8eae75cd6142')], 'city': 'San Francisco'})\n"
     ]
    }
   ],
   "source": [
    "config = {\"configurable\": {\"thread_id\": \"2\"}}\n",
    "inputs = {\"messages\": [{\"role\": \"user\", \"content\": \"what's the weather in sf\"}]}\n",
    "for update in graph.stream(inputs, config=config, stream_mode=\"values\", subgraphs=True):\n",
    "    print(update)"
   ]
  },
  {
   "cell_type": "markdown",
   "metadata": {},
   "source": [
    "If we get the state now, we can see that it's paused on `weather_graph`"
   ]
  },
  {
   "cell_type": "code",
   "execution_count": 7,
   "metadata": {},
   "outputs": [
    {
     "data": {
      "text/plain": [
       "('weather_graph',)"
      ]
     },
     "execution_count": 7,
     "metadata": {},
     "output_type": "execute_result"
    }
   ],
   "source": [
    "state = graph.get_state(config)\n",
    "state.next"
   ]
  },
  {
   "cell_type": "markdown",
   "metadata": {},
   "source": [
    "If we look at the tasks, we can see that we have one task and it has a state associate with it. That means the next execution is a subgraph and has some state"
   ]
  },
  {
   "cell_type": "code",
   "execution_count": 8,
   "metadata": {},
   "outputs": [
    {
     "data": {
      "text/plain": [
       "PregelTask(id='37c544e7-84b4-5096-b5f5-f5bcd4def17e', name='weather_graph', error=None, interrupts=(), state={'configurable': {'thread_id': '2', 'checkpoint_ns': 'weather_graph:37c544e7-84b4-5096-b5f5-f5bcd4def17e'}})"
      ]
     },
     "execution_count": 8,
     "metadata": {},
     "output_type": "execute_result"
    }
   ],
   "source": [
    "state.tasks[0]"
   ]
  },
  {
   "cell_type": "markdown",
   "metadata": {},
   "source": [
    "We can get that state information by taking `state.tasks[0].state` and passing it back into `graph.get_state`. This will now return the state for that checkpoint, which corresponds to the subgraph state. This has all the information - like the next node (`weather_node`) and the current state"
   ]
  },
  {
   "cell_type": "code",
   "execution_count": 9,
   "metadata": {},
   "outputs": [
    {
     "data": {
      "text/plain": [
       "StateSnapshot(values={'messages': [HumanMessage(content=\"what's the weather in sf\", id='75c7ba82-33db-421c-86a9-3cbc2f2d4740'), HumanMessage(content=\"what's the weather in sf\", id='f9ad148e-350b-412a-8075-8eae75cd6142')], 'city': 'San Francisco'}, next=('weather_node',), config={'configurable': {'thread_id': '2', 'checkpoint_ns': 'weather_graph:37c544e7-84b4-5096-b5f5-f5bcd4def17e', 'checkpoint_id': '1ef66f39-4f52-6b5e-8001-b59212377a65', 'checkpoint_map': {'': '1ef66f39-4b32-6498-8004-70f81026b7b6', 'weather_graph:37c544e7-84b4-5096-b5f5-f5bcd4def17e': '1ef66f39-4f52-6b5e-8001-b59212377a65'}}}, metadata={'source': 'loop', 'writes': {'model_node': {'city': 'San Francisco'}}, 'step': 1, 'parents': {'': '1ef66f39-4b32-6498-8004-70f81026b7b6'}}, created_at='2024-08-30T17:16:23.395595+00:00', parent_config={'configurable': {'thread_id': '2', 'checkpoint_ns': 'weather_graph:37c544e7-84b4-5096-b5f5-f5bcd4def17e', 'checkpoint_id': '1ef66f39-4b52-6180-8000-4a8e8acb73bf'}}, tasks=(PregelTask(id='e1a3e8fd-0530-5f39-9ab7-2b68c0b96e67', name='weather_node', error=None, interrupts=(), state=None),))"
      ]
     },
     "execution_count": 9,
     "metadata": {},
     "output_type": "execute_result"
    }
   ],
   "source": [
    "state = graph.get_state(state.tasks[0].state)\n",
    "state"
   ]
  },
  {
   "cell_type": "markdown",
   "metadata": {},
   "source": [
    "Another way we can see that state by calling `graph.get_state` again but passing in `subgraphs=True` to show subgraph information. If we then look at the tasks, we can see a lot more information! This has all the information - like the next node (`weather_node`) and the current state"
   ]
  },
  {
   "cell_type": "code",
   "execution_count": 10,
   "metadata": {},
   "outputs": [
    {
     "data": {
      "text/plain": [
       "PregelTask(id='37c544e7-84b4-5096-b5f5-f5bcd4def17e', name='weather_graph', error=None, interrupts=(), state=StateSnapshot(values={'messages': [HumanMessage(content=\"what's the weather in sf\", id='75c7ba82-33db-421c-86a9-3cbc2f2d4740'), HumanMessage(content=\"what's the weather in sf\", id='f9ad148e-350b-412a-8075-8eae75cd6142')], 'city': 'San Francisco'}, next=('weather_node',), config={'configurable': {'thread_id': '2', 'checkpoint_ns': 'weather_graph:37c544e7-84b4-5096-b5f5-f5bcd4def17e', 'checkpoint_id': '1ef66f39-4f52-6b5e-8001-b59212377a65', 'checkpoint_map': {'': '1ef66f39-4b32-6498-8004-70f81026b7b6', 'weather_graph:37c544e7-84b4-5096-b5f5-f5bcd4def17e': '1ef66f39-4f52-6b5e-8001-b59212377a65'}}}, metadata={'source': 'loop', 'writes': {'model_node': {'city': 'San Francisco'}}, 'step': 1, 'parents': {'': '1ef66f39-4b32-6498-8004-70f81026b7b6'}}, created_at='2024-08-30T17:16:23.395595+00:00', parent_config={'configurable': {'thread_id': '2', 'checkpoint_ns': 'weather_graph:37c544e7-84b4-5096-b5f5-f5bcd4def17e', 'checkpoint_id': '1ef66f39-4b52-6180-8000-4a8e8acb73bf'}}, tasks=(PregelTask(id='e1a3e8fd-0530-5f39-9ab7-2b68c0b96e67', name='weather_node', error=None, interrupts=(), state=None),)))"
      ]
     },
     "execution_count": 10,
     "metadata": {},
     "output_type": "execute_result"
    }
   ],
   "source": [
    "state = graph.get_state(config, subgraphs=True)\n",
    "state.tasks[0]"
   ]
  },
  {
   "cell_type": "markdown",
   "metadata": {},
   "source": [
    "To resume execution, we can just invoke the outer graph as normal"
   ]
  },
  {
   "cell_type": "code",
   "execution_count": 11,
   "metadata": {},
   "outputs": [
    {
     "name": "stdout",
     "output_type": "stream",
     "text": [
      "{'weather_graph': {'messages': [HumanMessage(content=\"what's the weather in sf\", id='75c7ba82-33db-421c-86a9-3cbc2f2d4740'), HumanMessage(content=\"what's the weather in sf\", id='f9ad148e-350b-412a-8075-8eae75cd6142'), AIMessage(content=\"I'ts sunny in San Francisco!\", id='45055c39-d13c-4a82-9bd5-c273e693374c')]}}\n"
     ]
    }
   ],
   "source": [
    "for update in graph.stream(None, config=config, stream_mode=\"updates\"):\n",
    "    print(update)"
   ]
  },
  {
   "cell_type": "markdown",
   "metadata": {},
   "source": [
    "## Modifying state\n",
    "\n",
    "What if we want to modify the state? We can do this by updating the state at the point in time."
   ]
  },
  {
   "cell_type": "code",
   "execution_count": 12,
   "metadata": {},
   "outputs": [
    {
     "name": "stdout",
     "output_type": "stream",
     "text": [
      "{'router_node': {'route': 'weather'}}\n"
     ]
    }
   ],
   "source": [
    "config = {\"configurable\": {\"thread_id\": \"4\"}}\n",
    "inputs = {\"messages\": [{\"role\": \"user\", \"content\": \"what's the weather in sf\"}]}\n",
    "for update in graph.stream(inputs, config=config, stream_mode=\"updates\"):\n",
    "    print(update)"
   ]
  },
  {
   "cell_type": "code",
   "execution_count": 13,
   "metadata": {},
   "outputs": [
    {
     "data": {
      "text/plain": [
       "[HumanMessage(content=\"what's the weather in sf\", id='d9384957-ac31-4abd-a1f0-70e3dcb9c30e')]"
      ]
     },
     "execution_count": 13,
     "metadata": {},
     "output_type": "execute_result"
    }
   ],
   "source": [
    "state = graph.get_state(config, subgraphs=True)\n",
    "state.values['messages']"
   ]
  },
  {
   "cell_type": "markdown",
   "metadata": {},
   "source": [
    "In order to update the state of the **inner** graph, we need to pass the config for that graph"
   ]
  },
  {
   "cell_type": "code",
   "execution_count": 14,
   "metadata": {},
   "outputs": [
    {
     "data": {
      "text/plain": [
       "{'configurable': {'thread_id': '4',\n",
       "  'checkpoint_ns': 'weather_graph:9f95ecac-08d7-5350-9b1f-970f6837f486',\n",
       "  'checkpoint_id': '1ef66f3a-57a2-68c6-8002-d9d6ceeec784',\n",
       "  'checkpoint_map': {'': '1ef66f3a-279b-6c04-8001-f80b83ea9538',\n",
       "   'weather_graph:9f95ecac-08d7-5350-9b1f-970f6837f486': '1ef66f3a-57a2-68c6-8002-d9d6ceeec784'}}}"
      ]
     },
     "execution_count": 14,
     "metadata": {},
     "output_type": "execute_result"
    }
   ],
   "source": [
    "graph.update_state(state.tasks[0].state.config, {\"city\": \"la\"})"
   ]
  },
  {
   "cell_type": "code",
   "execution_count": 15,
   "metadata": {},
   "outputs": [
    {
     "name": "stdout",
     "output_type": "stream",
     "text": [
      "(('weather_graph:9f95ecac-08d7-5350-9b1f-970f6837f486',), {'weather_node': {'messages': [{'role': 'assistant', 'content': \"I'ts sunny in la!\"}]}})\n",
      "((), {'weather_graph': {'messages': [HumanMessage(content=\"what's the weather in sf\", id='d9384957-ac31-4abd-a1f0-70e3dcb9c30e'), AIMessage(content=\"I'ts sunny in la!\", id='0a09d270-a2d0-4e7c-aa33-f9c9ae0c29fa')]}})\n"
     ]
    }
   ],
   "source": [
    "for update in graph.stream(None, config=config, stream_mode=\"updates\", subgraphs=True):\n",
    "    print(update)"
   ]
  },
  {
   "cell_type": "markdown",
   "metadata": {},
   "source": [
    "If we want to, we we can also update the state by adding a message acting as the weather node in the subgraph. We can do this by passing the subgraph config and then also the `as_node` argument."
   ]
  },
  {
   "cell_type": "code",
   "execution_count": 17,
   "metadata": {},
   "outputs": [
    {
     "name": "stdout",
     "output_type": "stream",
     "text": [
      "((), {'router_node': {'route': 'weather'}})\n",
      "(('weather_graph:818eda98-159e-575a-bff8-072a8ab1b5cb',), {'model_node': {'city': 'San Francisco'}})\n",
      "StateSnapshot(values={'messages': [HumanMessage(content=\"what's the weather in sf\", id='ddf3f71c-31d7-45f9-b499-3d8d87657b58')], 'route': 'weather'}, next=('weather_graph',), config={'configurable': {'thread_id': '15', 'checkpoint_ns': '', 'checkpoint_id': '1ef66f3d-ee1f-61b6-8001-f3b8dbb27202'}}, metadata={'source': 'loop', 'writes': {'router_node': {'route': 'weather'}}, 'step': 1, 'parents': {}}, created_at='2024-08-30T17:18:27.421004+00:00', parent_config={'configurable': {'thread_id': '15', 'checkpoint_ns': '', 'checkpoint_id': '1ef66f3d-e8e0-6bc8-8000-0422169e5363'}}, tasks=(PregelTask(id='818eda98-159e-575a-bff8-072a8ab1b5cb', name='weather_graph', error=None, interrupts=(), state=StateSnapshot(values={'messages': [HumanMessage(content=\"what's the weather in sf\", id='ddf3f71c-31d7-45f9-b499-3d8d87657b58'), AIMessage(content='rainy', id='148a7eb5-66d2-4f5f-b693-c46844f8a934')], 'city': 'San Francisco'}, next=(), config={'configurable': {'thread_id': '15', 'checkpoint_ns': 'weather_graph:818eda98-159e-575a-bff8-072a8ab1b5cb', 'checkpoint_id': '1ef66f3d-f3ba-61f2-8002-279d767433af', 'checkpoint_map': {'': '1ef66f3d-ee1f-61b6-8001-f3b8dbb27202', 'weather_graph:818eda98-159e-575a-bff8-072a8ab1b5cb': '1ef66f3d-f3ba-61f2-8002-279d767433af'}}}, metadata={'source': 'update', 'step': 2, 'writes': {'weather_node': {'messages': [{'role': 'assistant', 'content': 'rainy'}]}}, 'parents': {'': '1ef66f3d-ee1f-61b6-8001-f3b8dbb27202'}}, created_at='2024-08-30T17:18:28.008783+00:00', parent_config={'configurable': {'thread_id': '15', 'checkpoint_ns': 'weather_graph:818eda98-159e-575a-bff8-072a8ab1b5cb', 'checkpoint_id': '1ef66f3d-f39c-6a30-8001-3fabcdcd13a2'}}, tasks=())),))\n",
      "((), {'weather_graph': {'messages': [HumanMessage(content=\"what's the weather in sf\", id='ddf3f71c-31d7-45f9-b499-3d8d87657b58'), AIMessage(content='rainy', id='148a7eb5-66d2-4f5f-b693-c46844f8a934')]}})\n",
      "[HumanMessage(content=\"what's the weather in sf\", id='ddf3f71c-31d7-45f9-b499-3d8d87657b58'), AIMessage(content='rainy', id='148a7eb5-66d2-4f5f-b693-c46844f8a934')]\n"
     ]
    }
   ],
   "source": [
    "config = {\"configurable\": {\"thread_id\": \"14\"}}\n",
    "inputs = {\"messages\": [{\"role\": \"user\", \"content\": \"what's the weather in sf\"}]}\n",
    "for update in graph.stream(inputs, config=config, stream_mode=\"updates\", subgraphs=True):\n",
    "    print(update)\n",
    "print(\"interrupted!\")\n",
    "state = graph.get_state(config, subgraphs=True)\n",
    "graph.update_state(state.tasks[0].state.config, {\"messages\": [{\"role\": \"assistant\", \"content\": \"rainy\"}]}, as_node=\"weather_node\")\n",
    "for update in graph.stream(None, config=config, stream_mode=\"updates\", subgraphs=True):\n",
    "    print(update)\n",
    "print(graph.get_state(config).values['messages'])"
   ]
  },
  {
   "cell_type": "markdown",
   "metadata": {},
   "source": [
    "We could also update the graph just acting as the **entire** subgraph. This is done with the normal config as well as the `as_node` argument"
   ]
  },
  {
   "cell_type": "code",
   "execution_count": 18,
   "metadata": {},
   "outputs": [
    {
     "name": "stdout",
     "output_type": "stream",
     "text": [
      "((), {'router_node': {'route': 'weather'}})\n",
      "(('weather_graph:e979ba61-4004-5257-b8d6-94f5b045027a',), {'model_node': {'city': 'San Francisco'}})\n",
      "interrupted!\n",
      "[HumanMessage(content=\"what's the weather in sf\", id='414e0e76-66f0-40ed-a3b7-93d67436eb85'), AIMessage(content='rainy', id='0d1e4415-f7c0-4832-8898-761ac263cc1b')]\n"
     ]
    }
   ],
   "source": [
    "config = {\"configurable\": {\"thread_id\": \"8\"}}\n",
    "inputs = {\"messages\": [{\"role\": \"user\", \"content\": \"what's the weather in sf\"}]}\n",
    "for update in graph.stream(inputs, config=config, stream_mode=\"updates\", subgraphs=True):\n",
    "    print(update)\n",
    "print(\"interrupted!\")\n",
    "graph.update_state(config, {\"messages\": [{\"role\": \"assistant\", \"content\": \"rainy\"}]}, as_node=\"weather_graph\")\n",
    "for update in graph.stream(None, config=config, stream_mode=\"updates\"):\n",
    "    print(update)\n",
    "print(graph.get_state(config).values['messages'])"
   ]
  },
  {
   "cell_type": "markdown",
   "metadata": {},
   "source": [
    "## Triple nested subgraphs\n",
    "\n",
    "This same functionality continues to work no matter the level of nesting. Here is an example of doing the same things with a triple nested subgraph. We add another router on top of our already defined graphs."
   ]
  },
  {
   "cell_type": "code",
   "execution_count": 19,
   "metadata": {},
   "outputs": [],
   "source": [
    "from typing import TypedDict, Literal\n",
    "from langgraph.checkpoint.memory import MemorySaver\n",
    "\n",
    "\n",
    "memory = MemorySaver()\n",
    "\n",
    "\n",
    "class RouterState(MessagesState):\n",
    "    route: Literal[\"weather\", \"other\"]\n",
    "\n",
    "\n",
    "class Router(TypedDict):\n",
    "    route: Literal[\"weather\", \"other\"]\n",
    "\n",
    "router_model = raw_model.with_structured_output(Router)\n",
    "    \n",
    "def router_node(state: RouterState):\n",
    "    system_message = \"Classify the incoming query as either about weather or not.\"\n",
    "    messages = [{\"role\": \"system\", \"content\": system_message}] + state['messages']\n",
    "    route = router_model.invoke(messages)\n",
    "    return {\"route\": route['route']}\n",
    "\n",
    "\n",
    "def normal_llm_node(state: RouterState):\n",
    "    response = raw_model.invoke(state['messages'])\n",
    "    return {\"messages\": [response]}\n",
    "\n",
    "\n",
    "def route_after_prediction(state: RouterState):\n",
    "    if state['route'] == \"weather\":\n",
    "        return \"weather_graph\"\n",
    "    else:\n",
    "        return \"normal_llm_node\"\n",
    "\n",
    "\n",
    "graph = StateGraph(RouterState)\n",
    "graph.add_node(router_node)\n",
    "graph.add_node(normal_llm_node)\n",
    "graph.add_node(\"weather_graph\", subgraph)\n",
    "graph.add_edge(START, \"router_node\")\n",
    "graph.add_conditional_edges(\"router_node\", route_after_prediction)\n",
    "graph.add_edge(\"normal_llm_node\", END)\n",
    "graph.add_edge(\"weather_graph\", END)\n",
    "graph = graph.compile()"
   ]
  },
  {
   "cell_type": "code",
   "execution_count": 20,
   "metadata": {},
   "outputs": [],
   "source": [
    "from typing import TypedDict, Literal\n",
    "from langgraph.checkpoint.memory import MemorySaver\n",
    "\n",
    "\n",
    "memory = MemorySaver()\n",
    "\n",
    "\n",
    "class GrandfatherState(MessagesState):\n",
    "    to_continue: bool\n",
    "\n",
    "    \n",
    "def router_node(state: GrandfatherState):\n",
    "    # Dummy logic that will always continue\n",
    "    return {\"to_continue\": True}\n",
    "\n",
    "\n",
    "\n",
    "def route_after_prediction(state: GrandfatherState):\n",
    "    if state['to_continue']:\n",
    "        return \"graph\"\n",
    "    else:\n",
    "        return END\n",
    "\n",
    "\n",
    "grandfather_graph = StateGraph(GrandfatherState)\n",
    "grandfather_graph.add_node(router_node)\n",
    "grandfather_graph.add_node(\"graph\", graph)\n",
    "grandfather_graph.add_edge(START, \"router_node\")\n",
    "grandfather_graph.add_conditional_edges(\"router_node\", route_after_prediction)\n",
    "grandfather_graph.add_edge(\"graph\", END)\n",
    "grandfather_graph = grandfather_graph.compile(checkpointer=MemorySaver())"
   ]
  },
  {
   "cell_type": "code",
   "execution_count": 21,
   "metadata": {},
   "outputs": [
    {
     "data": {
      "image/jpeg": "[encoded data removed]",
      "text/plain": [
       "<IPython.core.display.Image object>"
      ]
     },
     "metadata": {},
     "output_type": "display_data"
    }
   ],
   "source": [
    "from IPython.display import Image, display\n",
    "\n",
    "# Setting xray to 1 will show the internal structure of the nested graph\n",
    "display(Image(grandfather_graph.get_graph(xray=2).draw_mermaid_png()))"
   ]
  },
  {
   "cell_type": "markdown",
   "metadata": {},
   "source": [
    "If we run until the interrupt, we can now see that there are snapshots of the state of all three graphs"
   ]
  },
  {
   "cell_type": "code",
   "execution_count": 22,
   "metadata": {},
   "outputs": [
    {
     "name": "stdout",
     "output_type": "stream",
     "text": [
      "((), {'router_node': {'to_continue': True}})\n",
      "(('graph:b59fe96f-fdce-5afe-aa58-bd2876a0d592',), {'router_node': {'route': 'weather'}})\n",
      "(('graph:b59fe96f-fdce-5afe-aa58-bd2876a0d592', 'weather_graph:9b4829e9-dd5d-5344-a2fc-2631e55eba8e'), {'model_node': {'city': 'San Francisco'}})\n"
     ]
    }
   ],
   "source": [
    "config = {\"configurable\": {\"thread_id\": \"2\"}}\n",
    "inputs = {\"messages\": [{\"role\": \"user\", \"content\": \"what's the weather in sf\"}]}\n",
    "for update in grandfather_graph.stream(inputs, config=config, stream_mode=\"updates\", subgraphs=True):\n",
    "    print(update)"
   ]
  },
  {
   "cell_type": "code",
   "execution_count": 23,
   "metadata": {},
   "outputs": [
    {
     "name": "stdout",
     "output_type": "stream",
     "text": [
      "GrandFather State:\n",
      "{'messages': [HumanMessage(content=\"what's the weather in sf\", id='5ff89e4d-8255-4d23-8b55-01633c112720')], 'to_continue': True}\n",
      "---------------\n",
      "Graph State:\n",
      "{'messages': [HumanMessage(content=\"what's the weather in sf\", id='5ff89e4d-8255-4d23-8b55-01633c112720')], 'route': 'weather'}\n",
      "---------------\n",
      "SubGraph State:\n",
      "{'messages': [HumanMessage(content=\"what's the weather in sf\", id='5ff89e4d-8255-4d23-8b55-01633c112720')], 'city': 'San Francisco'}\n"
     ]
    }
   ],
   "source": [
    "state = grandfather_graph.get_state(config, subgraphs=True)\n",
    "print(\"GrandFather State:\")\n",
    "print(state.values)\n",
    "print(\"---------------\")\n",
    "print(\"Graph State:\")\n",
    "print(state.tasks[0].state.values)\n",
    "print(\"---------------\")\n",
    "print(\"SubGraph State:\")\n",
    "print(state.tasks[0].state.tasks[0].state.values)"
   ]
  },
  {
   "cell_type": "markdown",
   "metadata": {},
   "source": [
    "We can now continue, acting as the node three levels down"
   ]
  },
  {
   "cell_type": "code",
   "execution_count": 24,
   "metadata": {},
   "outputs": [
    {
     "name": "stdout",
     "output_type": "stream",
     "text": [
      "(('graph:b59fe96f-fdce-5afe-aa58-bd2876a0d592',), {'weather_graph': {'messages': [HumanMessage(content=\"what's the weather in sf\", id='5ff89e4d-8255-4d23-8b55-01633c112720'), AIMessage(content='rainy', id='7c80f847-248d-4b8f-8238-633ed757b353')]}})\n",
      "((), {'graph': {'messages': [HumanMessage(content=\"what's the weather in sf\", id='5ff89e4d-8255-4d23-8b55-01633c112720'), AIMessage(content='rainy', id='7c80f847-248d-4b8f-8238-633ed757b353')]}})\n",
      "[HumanMessage(content=\"what's the weather in sf\", id='5ff89e4d-8255-4d23-8b55-01633c112720'), AIMessage(content='rainy', id='7c80f847-248d-4b8f-8238-633ed757b353')]\n"
     ]
    }
   ],
   "source": [
    "bottom_config = state.tasks[0].state.tasks[0].state.config\n",
    "grandfather_graph.update_state(bottom_config, {\"messages\": [{\"role\": \"assistant\", \"content\": \"rainy\"}]}, as_node=\"weather_node\")\n",
    "for update in grandfather_graph.stream(None, config=config, stream_mode=\"updates\", subgraphs=True):\n",
    "    print(update)\n",
    "print(grandfather_graph.get_state(config).values['messages'])"
   ]
  },
  {
   "cell_type": "code",
   "execution_count": 25,
   "metadata": {},
   "outputs": [
    {
     "name": "stdout",
     "output_type": "stream",
     "text": [
      "StateSnapshot(values={'messages': [HumanMessage(content=\"what's the weather in sf\", id='5ff89e4d-8255-4d23-8b55-01633c112720'), AIMessage(content='rainy', id='7c80f847-248d-4b8f-8238-633ed757b353')], 'to_continue': True}, next=(), config={'configurable': {'thread_id': '2', 'checkpoint_ns': '', 'checkpoint_id': '1ef66f40-7a2c-6f9e-8002-a37a61b26709'}}, metadata={'source': 'loop', 'writes': {'graph': {'messages': [HumanMessage(content=\"what's the weather in sf\", id='5ff89e4d-8255-4d23-8b55-01633c112720'), AIMessage(content='rainy', id='7c80f847-248d-4b8f-8238-633ed757b353')]}}, 'step': 2, 'parents': {}}, created_at='2024-08-30T17:19:35.793847+00:00', parent_config={'configurable': {'thread_id': '2', 'checkpoint_ns': '', 'checkpoint_id': '1ef66f3f-f312-6338-8001-766acddc781e'}}, tasks=())\n",
      "-----\n",
      "StateSnapshot(values={'messages': [HumanMessage(content=\"what's the weather in sf\", id='5ff89e4d-8255-4d23-8b55-01633c112720')], 'to_continue': True}, next=('graph',), config={'configurable': {'thread_id': '2', 'checkpoint_ns': '', 'checkpoint_id': '1ef66f3f-f312-6338-8001-766acddc781e'}}, metadata={'source': 'loop', 'writes': {'router_node': {'to_continue': True}}, 'step': 1, 'parents': {}}, created_at='2024-08-30T17:19:21.627097+00:00', parent_config={'configurable': {'thread_id': '2', 'checkpoint_ns': '', 'checkpoint_id': '1ef66f3f-f303-61d0-8000-1945c8a74e9e'}}, tasks=(PregelTask(id='b59fe96f-fdce-5afe-aa58-bd2876a0d592', name='graph', error=None, interrupts=(), state={'configurable': {'thread_id': '2', 'checkpoint_ns': 'graph:b59fe96f-fdce-5afe-aa58-bd2876a0d592'}}),))\n",
      "-----\n",
      "StateSnapshot(values={'messages': [HumanMessage(content=\"what's the weather in sf\", id='5ff89e4d-8255-4d23-8b55-01633c112720')]}, next=('router_node',), config={'configurable': {'thread_id': '2', 'checkpoint_ns': '', 'checkpoint_id': '1ef66f3f-f303-61d0-8000-1945c8a74e9e'}}, metadata={'source': 'loop', 'writes': None, 'step': 0, 'parents': {}}, created_at='2024-08-30T17:19:21.620923+00:00', parent_config={'configurable': {'thread_id': '2', 'checkpoint_ns': '', 'checkpoint_id': '1ef66f3f-f2f9-6d6a-bfff-c8b76e5b2462'}}, tasks=(PregelTask(id='e3d4a97a-f4ca-5260-801e-e65b02907825', name='router_node', error=None, interrupts=(), state=None),))\n",
      "-----\n",
      "StateSnapshot(values={'messages': []}, next=('__start__',), config={'configurable': {'thread_id': '2', 'checkpoint_ns': '', 'checkpoint_id': '1ef66f3f-f2f9-6d6a-bfff-c8b76e5b2462'}}, metadata={'source': 'input', 'writes': {'messages': [{'role': 'user', 'content': \"what's the weather in sf\"}]}, 'step': -1, 'parents': {}}, created_at='2024-08-30T17:19:21.617127+00:00', parent_config=None, tasks=(PregelTask(id='f0538638-b794-58fc-a406-980d2fea28a1', name='__start__', error=None, interrupts=(), state=None),))\n",
      "-----\n"
     ]
    }
   ],
   "source": [
    "for state in grandfather_graph.get_state_history(config):\n",
    "    print(state)\n",
    "    print(\"-----\")"
   ]
  },
  {
   "cell_type": "code",
   "execution_count": 42,
   "metadata": {},
   "outputs": [],
   "source": [
    "import operator\n",
    "from typing import Annotated, TypedDict\n",
    "\n",
    "from langchain_core.pydantic_v1 import BaseModel\n",
    "from langchain_anthropic import ChatAnthropic\n",
    "\n",
    "from langgraph.constants import Send\n",
    "from langgraph.graph import END, StateGraph, START\n",
    "\n",
    "# Model and prompts\n",
    "# Define model and prompts we will use\n",
    "subjects_prompt = \"\"\"Generate a comma separated list of between 2 and 5 examples related to: {topic}.\"\"\"\n",
    "joke_prompt = \"\"\"Generate a joke about {subject}\"\"\"\n",
    "best_joke_prompt = \"\"\"Below are a bunch of jokes about {topic}. Select the best one! Return the ID of the best one.\n",
    "\n",
    "{jokes}\"\"\"\n",
    "\n",
    "\n",
    "class Subjects(BaseModel):\n",
    "    subjects: list[str]\n",
    "\n",
    "\n",
    "class Joke(BaseModel):\n",
    "    joke: str\n",
    "\n",
    "\n",
    "class BestJoke(BaseModel):\n",
    "    id: int\n",
    "\n",
    "\n",
    "model = ChatAnthropic(model=\"claude-3-5-sonnet-20240620\")\n",
    "\n",
    "# Graph components: define the components that will make up the graph\n",
    "\n",
    "\n",
    "# This will be the overall state of the main graph.\n",
    "# It will contain a topic (which we expect the user to provide)\n",
    "# and then will generate a list of subjects, and then a joke for\n",
    "# each subject\n",
    "class OverallState(TypedDict):\n",
    "    topic: str\n",
    "    subjects: list\n",
    "    # Notice here we use the operator.add\n",
    "    # This is because we want combine all the jokes we generate\n",
    "    # from individual nodes back into one list - this is essentially\n",
    "    # the \"reduce\" part\n",
    "    jokes: Annotated[list, operator.add]\n",
    "    best_selected_joke: str\n",
    "\n",
    "\n",
    "# This will be the state of the node that we will \"map\" all\n",
    "# subjects to in order to generate a joke\n",
    "class JokeState(TypedDict):\n",
    "    subject: str\n",
    "    jokes: Annotated[list, operator.add]\n",
    "\n",
    "\n",
    "# This is the function we will use to generate the subjects of the jokes\n",
    "def generate_topics(state: OverallState):\n",
    "    prompt = subjects_prompt.format(topic=state[\"topic\"])\n",
    "    response = model.with_structured_output(Subjects).invoke(prompt)\n",
    "    return {\"subjects\": response.subjects}\n",
    "\n",
    "\n",
    "# Here we generate a joke, given a subject\n",
    "def generate_joke(state: JokeState):\n",
    "    prompt = joke_prompt.format(subject=state[\"subject\"])\n",
    "    response = model.with_structured_output(Joke).invoke(prompt)\n",
    "    return {\"jokes\": [response.joke]}\n",
    "\n",
    "\n",
    "# Here we define the logic to map out over the generated subjects\n",
    "# We will use this an edge in the graph\n",
    "def continue_to_jokes(state: OverallState):\n",
    "    # We will return a list of `Send` objects\n",
    "    # Each `Send` object consists of the name of a node in the graph\n",
    "    # as well as the state to send to that node\n",
    "    return [Send(\"generate_joke\", {\"subject\": s}) for s in state[\"subjects\"]]\n",
    "\n",
    "\n",
    "# Here we will judge the best joke\n",
    "def best_joke(state: OverallState):\n",
    "    jokes = \"\\n\\n\".join(state[\"jokes\"])\n",
    "    prompt = best_joke_prompt.format(topic=state[\"topic\"], jokes=jokes)\n",
    "    response = model.with_structured_output(BestJoke).invoke(prompt)\n",
    "    return {\"best_selected_joke\": state[\"jokes\"][response.id]}\n",
    "\n",
    "joke_graph = StateGraph(JokeState)\n",
    "joke_graph.add_node(generate_joke)\n",
    "joke_graph.add_edge(START, \"generate_joke\")\n",
    "joke_graph.add_edge(\"generate_joke\", END)\n",
    "joke_graph = joke_graph.compile()\n",
    "\n",
    "\n",
    "# Construct the graph: here we put everything together to construct our graph\n",
    "graph = StateGraph(OverallState)\n",
    "graph.add_node(\"generate_topics\", generate_topics)\n",
    "graph.add_node(\"generate_joke\", joke_graph)\n",
    "graph.add_node(\"best_joke\", best_joke)\n",
    "graph.add_edge(START, \"generate_topics\")\n",
    "graph.add_conditional_edges(\"generate_topics\", continue_to_jokes, [\"generate_joke\"])\n",
    "graph.add_edge(\"generate_joke\", \"best_joke\")\n",
    "graph.add_edge(\"best_joke\", END)\n",
    "app = graph.compile()"
   ]
  },
  {
   "cell_type": "code",
   "execution_count": 43,
   "metadata": {},
   "outputs": [
    {
     "name": "stdout",
     "output_type": "stream",
     "text": [
      "{'generate_topics': {'subjects': ['Lion', 'Elephant', 'Penguin', 'Giraffe']}}\n",
      "{'generate_joke': {'jokes': [\"Why don't elephants use computers? Because they're afraid of the mouse!\"]}}\n",
      "{'generate_joke': {'jokes': [\"Why don't lions like fast food? Because they can't catch it!\"]}}\n",
      "{'generate_joke': {'jokes': [\"Why don't penguins like online shopping? They're afraid of the ice-cart!\"]}}\n",
      "{'generate_joke': {'jokes': [\"Why don't giraffes ever gossip? Because they can't keep anything under their necks!\"]}}\n",
      "{'best_joke': {'best_selected_joke': \"Why don't penguins like online shopping? They're afraid of the ice-cart!\"}}\n"
     ]
    }
   ],
   "source": [
    "# Call the graph: here we call it to generate a list of jokes\n",
    "for s in app.stream({\"topic\": \"animals\"}):\n",
    "    print(s)"
   ]
  },
  {
   "cell_type": "code",
   "execution_count": 34,
   "metadata": {},
   "outputs": [],
   "source": [
    "import operator\n",
    "from typing import Annotated, TypedDict\n",
    "\n",
    "from langchain_core.pydantic_v1 import BaseModel, Field\n",
    "from langchain_openai import ChatOpenAI\n",
    "\n",
    "from langgraph.constants import Send\n",
    "from langgraph.graph import END, StateGraph, START\n",
    "\n",
    "# Model and prompts\n",
    "# Define model and prompts we will use\n",
    "subjects_prompt = \"\"\"Generate a comma separated list of between 2 and 5 examples related to: {topic}.\"\"\"\n",
    "joke_prompt = \"\"\"Generate a joke about {subject}\"\"\"\n",
    "best_joke_prompt = \"\"\"Below are a bunch of jokes about {topic}. Select the best one! Return the ID of the best one.\n",
    "\n",
    "{jokes}\"\"\"\n",
    "\n",
    "\n",
    "class Subjects(BaseModel):\n",
    "    subjects: list[str]\n",
    "\n",
    "\n",
    "class Joke(BaseModel):\n",
    "    joke: str\n",
    "\n",
    "\n",
    "class BestJoke(BaseModel):\n",
    "    id: int = Field(..., description=\"Index, starting with 0\")\n",
    "\n",
    "\n",
    "model = ChatAnthropic(model=\"claude-3-5-sonnet-20240620\")\n",
    "\n",
    "# Graph components: define the components that will make up the graph\n",
    "\n",
    "\n",
    "# This will be the overall state of the main graph.\n",
    "# It will contain a topic (which we expect the user to provide)\n",
    "# and then will generate a list of subjects, and then a joke for\n",
    "# each subject\n",
    "class OverallState(TypedDict):\n",
    "    topic: str\n",
    "    subjects: list\n",
    "    # Notice here we use the operator.add\n",
    "    # This is because we want combine all the jokes we generate\n",
    "    # from individual nodes back into one list - this is essentially\n",
    "    # the \"reduce\" part\n",
    "    jokes: Annotated[list, operator.add]\n",
    "    best_selected_joke: str\n",
    "\n",
    "\n",
    "# This will be the state of the node that we will \"map\" all\n",
    "# subjects to in order to generate a joke\n",
    "class JokeState(TypedDict):\n",
    "    subject: str\n",
    "    jokes: Annotated[list, operator.add]\n",
    "\n",
    "\n",
    "# This is the function we will use to generate the subjects of the jokes\n",
    "def generate_topics(state: OverallState):\n",
    "    prompt = subjects_prompt.format(topic=state[\"topic\"])\n",
    "    response = model.with_structured_output(Subjects).invoke(prompt)\n",
    "    return {\"subjects\": response.subjects}\n",
    "\n",
    "\n",
    "# Here we generate a joke, given a subject\n",
    "def generate_joke(state: JokeState):\n",
    "    prompt = joke_prompt.format(subject=state[\"subject\"])\n",
    "    response = model.with_structured_output(Joke).invoke(prompt)\n",
    "    return {\"jokes\": [response.joke]}\n",
    "\n",
    "\n",
    "# Here we define the logic to map out over the generated subjects\n",
    "# We will use this an edge in the graph\n",
    "def continue_to_jokes(state: OverallState):\n",
    "    # We will return a list of `Send` objects\n",
    "    # Each `Send` object consists of the name of a node in the graph\n",
    "    # as well as the state to send to that node\n",
    "    return [Send(\"generate_joke\", {\"subject\": s}) for s in state[\"subjects\"]]\n",
    "\n",
    "\n",
    "# Here we will judge the best joke\n",
    "def best_joke(state: OverallState):\n",
    "    jokes = \"\\n\\n\".join(state[\"jokes\"])\n",
    "    prompt = best_joke_prompt.format(topic=state[\"topic\"], jokes=jokes)\n",
    "    response = model.with_structured_output(BestJoke).invoke(prompt)\n",
    "    return {\"best_selected_joke\": state[\"jokes\"][response.id]}\n",
    "\n",
    "def edit_subject(state: JokeState):\n",
    "    return {\"subject\": \"pink \" + state[\"subject\"]}\n",
    "\n",
    "joke_graph = StateGraph(JokeState)\n",
    "joke_graph.add_node(\"generate_joke\", generate_joke)\n",
    "joke_graph.add_node(\"edit_subject\", edit_subject)\n",
    "joke_graph.add_edge(START, \"edit_subject\")\n",
    "joke_graph.add_edge(\"edit_subject\", \"generate_joke\")\n",
    "joke_graph.add_edge(\"generate_joke\", END)\n",
    "joke_graph = joke_graph.compile(interrupt_before=[\"generate_joke\"])\n",
    "\n",
    "\n",
    "# Construct the graph: here we put everything together to construct our graph\n",
    "graph = StateGraph(OverallState)\n",
    "graph.add_node(\"generate_topics\", generate_topics)\n",
    "graph.add_node(\"generate_joke\", joke_graph)\n",
    "graph.add_node(\"best_joke\", best_joke)\n",
    "graph.add_edge(START, \"generate_topics\")\n",
    "graph.add_conditional_edges(\"generate_topics\", continue_to_jokes, [\"generate_joke\"])\n",
    "graph.add_edge(\"generate_joke\", \"best_joke\")\n",
    "graph.add_edge(\"best_joke\", END)\n",
    "\n",
    "from langgraph.checkpoint.memory import MemorySaver\n",
    "checkpointer = MemorySaver()\n",
    "app = graph.compile(checkpointer=checkpointer)"
   ]
  },
  {
   "cell_type": "code",
   "execution_count": 35,
   "metadata": {},
   "outputs": [],
   "source": [
    "config = {\"configurable\": {\"thread_id\": \"1\"}}\n",
    "res = app.invoke({\"topic\": \"animals\"}, config)\n",
    "state = app.get_state(config, subgraphs=True)"
   ]
  },
  {
   "cell_type": "code",
   "execution_count": 40,
   "metadata": {},
   "outputs": [],
   "source": [
    "res = app.invoke(None, config)"
   ]
  },
  {
   "cell_type": "code",
   "execution_count": 41,
   "metadata": {},
   "outputs": [
    {
     "data": {
      "text/plain": [
       "{'topic': 'animals',\n",
       " 'subjects': ['lion', 'elephant', 'penguin', 'giraffe'],\n",
       " 'jokes': ['Why was the pink lion so embarrassed? Because he was caught lion about his natural color!',\n",
       "  \"Why don't you ever see elephants hiding in trees? Because they're really good at it, especially the pink ones!\",\n",
       "  'Why did the pink penguin get kicked out of the zoo? Because it was caught salmon-dancing!',\n",
       "  'Why did the pink giraffe always win at hide and seek? Because no one could spot it!'],\n",
       " 'best_selected_joke': 'Why did the pink giraffe always win at hide and seek? Because no one could spot it!'}"
      ]
     },
     "execution_count": 41,
     "metadata": {},
     "output_type": "execute_result"
    }
   ],
   "source": [
    "res"
   ]
  },
  {
   "cell_type": "code",
   "execution_count": 32,
   "metadata": {},
   "outputs": [],
   "source": [
    "import operator\n",
    "from typing import Annotated, TypedDict\n",
    "\n",
    "from langchain_core.pydantic_v1 import BaseModel\n",
    "from langchain_anthropic import ChatAnthropic\n",
    "\n",
    "from langgraph.constants import Send\n",
    "from langgraph.graph import END, StateGraph, START\n",
    "\n",
    "# Model and prompts\n",
    "# Define model and prompts we will use\n",
    "subjects_prompt = \"\"\"Generate a comma separated list of between 2 and 5 examples related to: {topic}.\"\"\"\n",
    "joke_prompt = \"\"\"Generate a joke about {subject}\"\"\"\n",
    "best_joke_prompt = \"\"\"Below are a bunch of jokes about {topic}. Select the best one! Return the ID of the best one.\n",
    "\n",
    "{jokes}\"\"\"\n",
    "\n",
    "\n",
    "class Subjects(BaseModel):\n",
    "    subjects: list[str]\n",
    "\n",
    "\n",
    "class Joke(BaseModel):\n",
    "    joke: str\n",
    "\n",
    "\n",
    "class BestJoke(BaseModel):\n",
    "    id: int\n",
    "\n",
    "\n",
    "model = ChatAnthropic(model=\"claude-3-5-sonnet-20240620\")\n",
    "\n",
    "# Graph components: define the components that will make up the graph\n",
    "\n",
    "\n",
    "# This will be the overall state of the main graph.\n",
    "# It will contain a topic (which we expect the user to provide)\n",
    "# and then will generate a list of subjects, and then a joke for\n",
    "# each subject\n",
    "class OverallState(TypedDict):\n",
    "    topic: str\n",
    "    subjects: list\n",
    "    # Notice here we use the operator.add\n",
    "    # This is because we want combine all the jokes we generate\n",
    "    # from individual nodes back into one list - this is essentially\n",
    "    # the \"reduce\" part\n",
    "    jokes: Annotated[list, operator.add]\n",
    "    best_selected_joke: str\n",
    "\n",
    "\n",
    "# This will be the state of the node that we will \"map\" all\n",
    "# subjects to in order to generate a joke\n",
    "class JokeState(TypedDict):\n",
    "    subject: str\n",
    "\n",
    "\n",
    "# This is the function we will use to generate the subjects of the jokes\n",
    "def generate_topics(state: OverallState):\n",
    "    prompt = subjects_prompt.format(topic=state[\"topic\"])\n",
    "    response = model.with_structured_output(Subjects).invoke(prompt)\n",
    "    return {\"subjects\": response.subjects}\n",
    "\n",
    "\n",
    "# Here we generate a joke, given a subject\n",
    "def generate_joke(state: JokeState):\n",
    "    prompt = joke_prompt.format(subject=state[\"subject\"])\n",
    "    response = model.with_structured_output(Joke).invoke(prompt)\n",
    "    return {\"jokes\": [response.joke]}\n",
    "\n",
    "\n",
    "# Here we define the logic to map out over the generated subjects\n",
    "# We will use this an edge in the graph\n",
    "def continue_to_jokes(state: OverallState):\n",
    "    # We will return a list of `Send` objects\n",
    "    # Each `Send` object consists of the name of a node in the graph\n",
    "    # as well as the state to send to that node\n",
    "    return [Send(\"generate_joke\", {\"subject\": s}) for s in state[\"subjects\"]]\n",
    "\n",
    "\n",
    "# Here we will judge the best joke\n",
    "def best_joke(state: OverallState):\n",
    "    jokes = \"\\n\\n\".join(state[\"jokes\"])\n",
    "    prompt = best_joke_prompt.format(topic=state[\"topic\"], jokes=jokes)\n",
    "    response = model.with_structured_output(BestJoke).invoke(prompt)\n",
    "    return {\"best_selected_joke\": state[\"jokes\"][response.id]}\n",
    "\n",
    "\n",
    "# Construct the graph: here we put everything together to construct our graph\n",
    "graph = StateGraph(OverallState)\n",
    "graph.add_node(\"generate_topics\", generate_topics)\n",
    "graph.add_node(\"generate_joke\", generate_joke)\n",
    "graph.add_node(\"best_joke\", best_joke)\n",
    "graph.add_edge(START, \"generate_topics\")\n",
    "graph.add_conditional_edges(\"generate_topics\", continue_to_jokes, [\"generate_joke\"])\n",
    "graph.add_edge(\"generate_joke\", \"best_joke\")\n",
    "graph.add_edge(\"best_joke\", END)\n",
    "from langgraph.checkpoint.memory import MemorySaver\n",
    "checkpointer = MemorySaver()\n",
    "app = graph.compile(checkpointer=checkpointer, interrupt_before=[\"generate_joke\"])"
   ]
  },
  {
   "cell_type": "code",
   "execution_count": 33,
   "metadata": {},
   "outputs": [
    {
     "data": {
      "text/plain": [
       "StateSnapshot(values={'topic': 'animals', 'subjects': ['lion', 'elephant', 'penguin', 'dolphin'], 'jokes': []}, next=('generate_joke', 'generate_joke', 'generate_joke', 'generate_joke'), config={'configurable': {'thread_id': '1', 'checkpoint_ns': '', 'checkpoint_id': '1ef66f47-4201-63fc-8001-de3ca28f48dc'}}, metadata={'source': 'loop', 'writes': {'generate_topics': {'subjects': ['lion', 'elephant', 'penguin', 'dolphin']}}, 'step': 1, 'parents': {}}, created_at='2024-08-30T17:22:37.808717+00:00', parent_config={'configurable': {'thread_id': '1', 'checkpoint_ns': '', 'checkpoint_id': '1ef66f47-3636-60b8-8000-f3fefe9fcab7'}}, tasks=(PregelTask(id='2deec87f-7c8f-537f-b8b5-95f45d30edea', name='generate_joke', error=None, interrupts=(), state=None), PregelTask(id='12cfc7f5-93bd-5173-9bd8-073a1643d29d', name='generate_joke', error=None, interrupts=(), state=None), PregelTask(id='38993d07-3b8a-5c39-8a3d-70c3ff393eff', name='generate_joke', error=None, interrupts=(), state=None), PregelTask(id='01178349-b1fd-577c-ad5e-ad7b0de55524', name='generate_joke', error=None, interrupts=(), state=None)))"
      ]
     },
     "execution_count": 33,
     "metadata": {},
     "output_type": "execute_result"
    }
   ],
   "source": [
    "config = {\"configurable\": {\"thread_id\": \"1\"}}\n",
    "res = app.invoke({\"topic\": \"animals\"}, config)\n",
    "app.get_state(config, subgraphs=True)"
   ]
  },
  {
   "cell_type": "code",
   "execution_count": 99,
   "metadata": {},
   "outputs": [
    {
     "data": {
      "text/plain": [
       "{'topic': 'animals',\n",
       " 'subjects': ['lion', 'elephant', 'penguin', 'giraffe'],\n",
       " 'jokes': []}"
      ]
     },
     "execution_count": 99,
     "metadata": {},
     "output_type": "execute_result"
    }
   ],
   "source": [
    "app.get_state(config).values"
   ]
  },
  {
   "cell_type": "code",
   "execution_count": null,
   "metadata": {},
   "outputs": [],
   "source": []
  }
 ],
 "metadata": {
  "kernelspec": {
   "display_name": "Python 3 (ipykernel)",
   "language": "python",
   "name": "python3"
  },
  "language_info": {
   "codemirror_mode": {
    "name": "ipython",
    "version": 3
   },
   "file_extension": ".py",
   "mimetype": "text/x-python",
   "name": "python",
   "nbconvert_exporter": "python",
   "pygments_lexer": "ipython3",
   "version": "3.11.1"
  }
 },
 "nbformat": 4,
 "nbformat_minor": 4
}
