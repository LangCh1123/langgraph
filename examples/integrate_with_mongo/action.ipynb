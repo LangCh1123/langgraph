{
 "cells": [
  {
   "cell_type": "markdown",
   "source": [
    "### Upsert in LangGraph\n",
    "\n",
    "**Upsert** (a combination of \"update\" and \"insert\") is a database operation that allows for updating an existing record or inserting a new one if it does not already exist. In the context of **LangGraph**, an open-source stateful graph, upsert operations are crucial for efficiently managing and manipulating State within the graph. The upsert mechanism ensures that data consistency is maintained without the need for separate update and insert commands, thus simplifying the code and improving performance.\n",
    "\n",
    "### Loading Stateful Graph in LangGraph\n",
    "\n",
    "**Loading a stateful graph** in LangGraph involves initializing and managing the state of the graph, which includes the nodes, edges, and their properties. This process is essential for applications that require the persistence of graph state across different sessions and operations. Here’s a step-by-step outline of how this is typically done:\n",
    "\n",
    "1. **Initialization**:\n",
    "   - Start by initializing the LangGraph instance.\n",
    "   - Load the graph's state if it exists or define a new State.\n",
    "   - Start Mongo DB\n",
    "\n",
    "2. **Data Import**:\n",
    "   - Use the upsert operations to import data into the graph. This can be done by reading data from various sources (e.g., CSV files, databases) and inserting or updating the nodes and edges in the graph.\n",
    "   - During this step, ensure that each node and edge is uniquely identified to prevent duplication and maintain data integrity.\n",
    "\n",
    "3. **State Management**:\n",
    "   - Implement mechanisms to track changes in the graph state. This can involve using timestamps, versioning, or change logs.\n",
    "   - Store the state of the graph periodically or after significant updates to allow for recovery and rollback if necessary.\n",
    "\n",
    "4. **Query and Analysis**:\n",
    "   - Once the graph is loaded and stateful, use LangGraph's querying capabilities to extract insights, run algorithms, and perform analysis.\n",
    "   - Ensure that the queries take into account the current state of the graph, reflecting the most recent updates.\n",
    "\n",
    "5. **Persistence**:\n",
    "   - Save the state of the graph to persistent storage. This can be achieved by serializing the graph state and storing it in a file or a database.\n",
    "   - Ensure that the persistence mechanism supports efficient loading and saving to minimize downtime and performance impact.\n",
    "\n",
    "6. **Recovery**:\n",
    "   - Implement recovery procedures to restore the graph state from persistent storage in case of a failure or restart.\n",
    "   - Ensure that the recovery process is robust and can handle partial or corrupted state files.\n",
    "\n",
    "By following these steps, you can efficiently manage a stateful graph in LangGraph, leveraging its upsert capabilities to maintain a dynamic and consistent graph database. This approach is particularly useful for applications that require real-time updates and historical state tracking, such as social networks, recommendation systems,Human decision, and knowledge graphs."
   ],
   "metadata": {
    "collapsed": false
   }
  },
  {
   "cell_type": "code",
   "execution_count": null,
   "outputs": [],
   "source": [
    "from typing import TypedDict, Optional\n",
    "from bson import ObjectId\n",
    "from langgraph.graph import StateGraph\n",
    "from storage import MongoDBHandler\n",
    "\n",
    "\"\"\"_id: use for mongo or any persistence key \"\"\"\n",
    "\n",
    "\n",
    "class GraphState(TypedDict):\n",
    "    _id: Optional[str] = None\n",
    "    question: Optional[str] = None\n",
    "    strip: Optional[str] = None\n",
    "    response: Optional[str] = None\n",
    "\n",
    "\n",
    "workflow = StateGraph(GraphState)\n"
   ],
   "metadata": {
    "collapsed": false
   }
  },
  {
   "cell_type": "code",
   "execution_count": null,
   "outputs": [],
   "source": [
    "\"\"\"This is an entry point node that fetches data if there is an _id in the state.\"\"\"\n",
    "\n",
    "\n",
    "def decision_route_node(state):\n",
    "    if _id := state.get(\"_id\"):\n",
    "        query = {\"_id\": ObjectId(_id)}\n",
    "        db_handler = MongoDBHandler()\n",
    "        loaded_dict = db_handler.load_dictionary('my_database', 'my_collection', query)\n",
    "        return loaded_dict"
   ],
   "metadata": {
    "collapsed": false
   }
  },
  {
   "cell_type": "code",
   "execution_count": null,
   "outputs": [],
   "source": [
    "\"\"\"This is a finish point that stores the state before termination.\"\"\"\n",
    "\n",
    "\n",
    "def end_route_node(state):\n",
    "    if not state.get('_id'):\n",
    "        del state['_id']\n",
    "    db_handler = MongoDBHandler()\n",
    "    db_handler.insert_upsert_dictionary('my_database', 'my_collection', state)"
   ],
   "metadata": {
    "collapsed": false
   }
  },
  {
   "cell_type": "code",
   "execution_count": null,
   "outputs": [],
   "source": [
    "\n",
    "def strip_input_node(state):\n",
    "    print(\"Skip this step when the state is populated in two ways: either through the strip in the input or when fetched from MongoDB.\")\n",
    "    question = state.get('question', '').strip()\n",
    "    return {\"strip\": question}\n",
    "\n",
    "\n",
    "def handle_greeting_node(state):\n",
    "    return {\"response\": \"Hello! How can I help you today?\"}\n",
    "\n",
    "\n",
    "def handle_search_node(state):\n",
    "    question = state.get('question', '').strip()\n",
    "    search_result = f\"Search result for '{question}'\"\n",
    "    return {\"response\": search_result}\n",
    "\n",
    "\n",
    "workflow.add_node(\"decision_route\", decision_route_node)\n",
    "workflow.add_node(\"strip_input\", strip_input_node)\n",
    "workflow.add_node(\"handle_greeting\", handle_greeting_node)\n",
    "workflow.add_node(\"handle_search\", handle_search_node)\n",
    "workflow.add_node(\"end_route\", end_route_node)\n",
    "\n",
    "\n",
    "def decide_next_node(state):\n",
    "    return \"handle_greeting\" if state.get('strip') == \"greeting\" else \"handle_search\"\n",
    "\n",
    "\n",
    "workflow.add_conditional_edges(\n",
    "    \"strip_input\",\n",
    "    decide_next_node,\n",
    "    {\n",
    "        \"handle_greeting\": \"handle_greeting\",\n",
    "        \"handle_search\": \"handle_search\"\n",
    "    }\n",
    ")\n",
    "\n",
    "\n",
    "def decide_route_node(state):\n",
    "    \"\"\" You can manage your route when data loads based on the state in mongo.\"\"\"\n",
    "    if current_state := state.get('strip'):\n",
    "        return decide_next_node(state)\n",
    "    return \"strip_input\"\n",
    "\n",
    "\n",
    "workflow.add_conditional_edges(\n",
    "    \"decision_route\",\n",
    "    decide_route_node,\n",
    "    {\n",
    "        \"strip_input\": \"strip_input\",\n",
    "        \"handle_search\": \"handle_search\",\n",
    "        \"handle_greeting\": \"handle_greeting\"\n",
    "    }\n",
    ")\n",
    "\n",
    "workflow.set_entry_point(\"decision_route\")\n",
    "workflow.add_edge('handle_greeting', 'end_route')\n",
    "workflow.add_edge('handle_search', 'end_route')\n",
    "workflow.set_finish_point('end_route')\n",
    "app = workflow.compile()"
   ],
   "metadata": {
    "collapsed": false
   }
  },
  {
   "cell_type": "markdown",
   "source": [
    "1. These examples illustrate a simple flow followed by storing the data in MongoDB."
   ],
   "metadata": {
    "collapsed": false
   }
  },
  {
   "cell_type": "code",
   "execution_count": null,
   "outputs": [],
   "source": [
    "inputs = {\"question\": \"       Hello, how are u?    \"}\n",
    "result = app.invoke(inputs)\n",
    "inputs = {\"question\": \"greeting\"}\n",
    "result = app.invoke(inputs)"
   ],
   "metadata": {
    "collapsed": false
   }
  },
  {
   "cell_type": "markdown",
   "source": [
    "2. These examples skip strip step: when loading data from the database or when manually provided in a dictionary."
   ],
   "metadata": {
    "collapsed": false
   }
  },
  {
   "cell_type": "code",
   "execution_count": null,
   "outputs": [],
   "source": [
    "inputs = {\"_id\": \"66534bc5ddaaf11b77c43295\"}\n",
    "result = app.invoke(inputs)\n",
    "\n",
    "inputs = {\"question\": \"       Hello, how are you?    \", \"strip\": \"Hello, how are you?\"}\n",
    "result = app.invoke(inputs)"
   ],
   "metadata": {
    "collapsed": false
   }
  }
 ],
 "metadata": {
  "kernelspec": {
   "display_name": "Python 3",
   "language": "python",
   "name": "python3"
  },
  "language_info": {
   "codemirror_mode": {
    "name": "ipython",
    "version": 2
   },
   "file_extension": ".py",
   "mimetype": "text/x-python",
   "name": "python",
   "nbconvert_exporter": "python",
   "pygments_lexer": "ipython2",
   "version": "2.7.6"
  }
 },
 "nbformat": 4,
 "nbformat_minor": 0
}
