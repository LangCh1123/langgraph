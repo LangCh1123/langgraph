{
 "cells": [
  {
   "cell_type": "markdown",
   "metadata": {},
   "source": [
    "# How to handle tool errors\n",
    "\n",
    "Calling tools with an LLM is generally more reliable than pure prompting, but it isn't perfect. The model may try to call a tool that doesn't exist or fail to return arguments that match the requested schema. Strategies like keeping schemas simple, reducing the number of tools you pass at once, and having good names and descriptions can help mitigate this risk, but aren't foolproof.\n",
    "\n",
    "This guide covers some ways to build error handling into your graphs to mitigate these failure modes.\n",
    "\n",
    "## Using the prebuilt `ToolNode`\n",
    "\n",
    "To start, define a mock weather tool that has some hidden restrictions on input queries. The intent here is to simulate a real-world case where a model fails to call a tool correctly:"
   ]
  },
  {
   "cell_type": "code",
   "execution_count": 1,
   "metadata": {},
   "outputs": [],
   "source": [
    "%%capture --no-stderr\n",
    "%pip install --quiet -U langgraph langchain_anthropic"
   ]
  },
  {
   "cell_type": "code",
   "execution_count": 5,
   "metadata": {},
   "outputs": [],
   "source": [
    "from langchain_core.tools import tool\n",
    "\n",
    "@tool\n",
    "def get_weather(location: str):\n",
    "    \"\"\"Call to get the current weather.\"\"\"\n",
    "    if \"san francisco\" in location.lower():\n",
    "        raise ValueError(\"Only abbreviations are accepted for input queries\")\n",
    "    elif \"sf\" in location.lower():\n",
    "        return [\"It's 60 degrees and foggy.\"]\n",
    "    else:\n",
    "        raise ValueError('Invalid input.')"
   ]
  },
  {
   "cell_type": "markdown",
   "metadata": {},
   "source": [
    "Next, set up a graph implementation of the [ReAct agent](https://langchain-ai.github.io/langgraph/concepts/agentic_concepts/#react-agent). This agent takes some query as input, then repeatedly call tools until it has enough information to resolve the query. We'll use the prebuilt [`ToolNode`](https://langchain-ai.github.io/langgraph/reference/prebuilt/#toolnode) to execute called tools, and a small, fast model powered by Anthropic:"
   ]
  },
  {
   "cell_type": "code",
   "execution_count": 6,
   "metadata": {},
   "outputs": [],
   "source": [
    "from typing import Literal\n",
    "\n",
    "from langchain_anthropic import ChatAnthropic\n",
    "from langgraph.graph import StateGraph, MessagesState\n",
    "from langgraph.prebuilt import ToolNode\n",
    "\n",
    "tool_node = ToolNode([get_weather])\n",
    "\n",
    "model = ChatAnthropic(model=\"claude-3-haiku-20240307\", temperature=0).bind_tools([get_weather])\n",
    "\n",
    "def should_continue(state: MessagesState) -> Literal[\"tools\", \"__end__\"]:\n",
    "    messages = state['messages']\n",
    "    last_message = messages[-1]\n",
    "    if last_message.tool_calls:\n",
    "        return \"tools\"\n",
    "    return \"__end__\"\n",
    "\n",
    "\n",
    "def call_model(state: MessagesState):\n",
    "    messages = state['messages']\n",
    "    response = model.invoke(messages)\n",
    "    return {\"messages\": [response]}\n",
    "\n",
    "\n",
    "workflow = StateGraph(MessagesState)\n",
    "\n",
    "# Define the two nodes we will cycle between\n",
    "workflow.add_node(\"agent\", call_model)\n",
    "workflow.add_node(\"tools\", tool_node)\n",
    "\n",
    "workflow.add_edge(\"__start__\", \"agent\")\n",
    "workflow.add_conditional_edges(\n",
    "    \"agent\",\n",
    "    should_continue,\n",
    ")\n",
    "workflow.add_edge(\"tools\", 'agent')\n",
    "\n",
    "app = workflow.compile()"
   ]
  },
  {
   "cell_type": "code",
   "execution_count": 3,
   "metadata": {},
   "outputs": [
    {
     "data": {
      "image/jpeg": "[encoded data removed]",
      "text/plain": [
       "<IPython.core.display.Image object>"
      ]
     },
     "metadata": {},
     "output_type": "display_data"
    }
   ],
   "source": [
    "from IPython.display import Image, display\n",
    "\n",
    "try:\n",
    "    display(Image(app.get_graph().draw_mermaid_png()))\n",
    "except Exception:\n",
    "    # This requires some extra dependencies and is optional\n",
    "    pass"
   ]
  },
  {
   "cell_type": "markdown",
   "metadata": {},
   "source": [
    "When you try to call the tool, you can see that the model calls the tool with a bad input, causing the tool to throw an error. The prebuilt `ToolNode` that executes the tool has some built-in error handling that captures the error and passes it back to the model so that it can try again:"
   ]
  },
  {
   "cell_type": "code",
   "execution_count": 7,
   "metadata": {},
   "outputs": [
    {
     "data": {
      "text/plain": [
       "{'messages': [HumanMessage(content='what is the weather in sf', id='e9d63736-c388-48bc-8ef5-315d4aa26534'),\n",
       "  AIMessage(content=[{'text': 'Okay, let me check the weather for San Francisco (SF).', 'type': 'text'}, {'id': 'toolu_018BW6anqMNVgWjXyhW8o1PG', 'input': {'location': 'San Francisco'}, 'name': 'get_weather', 'type': 'tool_use'}], response_metadata={'id': 'msg_01U96cLhgwNUEBaeF8jTKRWm', 'model': 'claude-3-sonnet-20240229', 'stop_reason': 'tool_use', 'stop_sequence': None, 'usage': {'input_tokens': 226, 'output_tokens': 68}}, id='run-698da99d-fc6c-4ac5-90d8-d99579916952-0', tool_calls=[{'name': 'get_weather', 'args': {'location': 'San Francisco'}, 'id': 'toolu_018BW6anqMNVgWjXyhW8o1PG'}], usage_metadata={'input_tokens': 226, 'output_tokens': 68, 'total_tokens': 294}),\n",
       "  ToolMessage(content=\"Error: ValueError('Only abbreviations are accepted for input queries')\\n Please fix your mistakes.\", name='get_weather', id='dedf13b9-d268-4357-9193-47ef44d1f6ab', tool_call_id='toolu_018BW6anqMNVgWjXyhW8o1PG'),\n",
       "  AIMessage(content=[{'text': 'Oops, it looks like the tool requires the location to be an abbreviation rather than the full city name. Let me try again:', 'type': 'text'}, {'id': 'toolu_01JycgbiX19HvmmWSiknXDLU', 'input': {'location': 'SF'}, 'name': 'get_weather', 'type': 'tool_use'}], response_metadata={'id': 'msg_01BcE8dYzeuVyUA2cUJgguKJ', 'model': 'claude-3-sonnet-20240229', 'stop_reason': 'tool_use', 'stop_sequence': None, 'usage': {'input_tokens': 325, 'output_tokens': 84}}, id='run-066492d2-eb2a-48a9-b6aa-01eb993f8ed8-0', tool_calls=[{'name': 'get_weather', 'args': {'location': 'SF'}, 'id': 'toolu_01JycgbiX19HvmmWSiknXDLU'}], usage_metadata={'input_tokens': 325, 'output_tokens': 84, 'total_tokens': 409}),\n",
       "  ToolMessage(content='[\"It\\'s 60 degrees and foggy.\"]', name='get_weather', id='889a43d3-c0f7-4411-9deb-e356d20d5798', tool_call_id='toolu_01JycgbiX19HvmmWSiknXDLU'),\n",
       "  AIMessage(content='The current weather in San Francisco (SF) is 60 degrees Fahrenheit and foggy.', response_metadata={'id': 'msg_01NsSHyvS8askVCs3kVuHH39', 'model': 'claude-3-sonnet-20240229', 'stop_reason': 'end_turn', 'stop_sequence': None, 'usage': {'input_tokens': 432, 'output_tokens': 25}}, id='run-ce936447-bb72-478f-8b2f-e1de4a58b0f0-0', usage_metadata={'input_tokens': 432, 'output_tokens': 25, 'total_tokens': 457})]}"
      ]
     },
     "execution_count": 7,
     "metadata": {},
     "output_type": "execute_result"
    }
   ],
   "source": [
    "app.invoke(\n",
    "    {\"messages\": [(\"human\", \"what is the weather in san francisco?\")]},\n",
    ")"
   ]
  },
  {
   "cell_type": "markdown",
   "metadata": {},
   "source": [
    "## Custom strategies\n",
    "\n",
    "This is a fine default in many cases, but there are cases where custom fallbacks may be better.\n",
    "\n",
    "For example, the below tool requires as input a list of elements of a specific length - tricky for a small model! We'll also intentionally avoid pluralizing `topic` to trick the model into thinking it should pass a string:"
   ]
  },
  {
   "cell_type": "code",
   "execution_count": 25,
   "metadata": {},
   "outputs": [
    {
     "data": {
      "text/plain": [
       "{'messages': [HumanMessage(content='Write me an incredible haiku about water.', id='0d5d5337-f018-4c2f-ac45-7660ac0d1929'),\n",
       "  AIMessage(content=[{'text': 'Here is a haiku about water:', 'type': 'text'}, {'id': 'toolu_01Xqz9EcC81qDHapA25m8JEA', 'input': {'topic': ['water']}, 'name': 'master_haiku_generator', 'type': 'tool_use'}], response_metadata={'id': 'msg_01Q2pSp9Zd4twvKiSzLFUu7c', 'model': 'claude-3-haiku-20240307', 'stop_reason': 'tool_use', 'stop_sequence': None, 'usage': {'input_tokens': 384, 'output_tokens': 67}}, id='run-fca377ca-afbb-44d2-a8e0-137944343df8-0', tool_calls=[{'name': 'master_haiku_generator', 'args': {'topic': ['water']}, 'id': 'toolu_01Xqz9EcC81qDHapA25m8JEA'}], usage_metadata={'input_tokens': 384, 'output_tokens': 67, 'total_tokens': 451}),\n",
       "  ToolMessage(content=\"Error: ValidationError(model='master_haiku_generatorSchema', errors=[{'loc': ('request',), 'msg': 'field required', 'type': 'value_error.missing'}])\\n Please fix your mistakes.\", name='master_haiku_generator', id='76f6bbec-5cdd-4e6b-984a-7db5a9b6c06e', tool_call_id='toolu_01Xqz9EcC81qDHapA25m8JEA'),\n",
       "  AIMessage(content=[{'text': 'Oops, looks like I forgot to include all the required parameters. Let me try that again:', 'type': 'text'}, {'id': 'toolu_01FAFNf12ZBDxNovVg4H4aej', 'input': {'request': {'topic': ['water']}}, 'name': 'master_haiku_generator', 'type': 'tool_use'}], response_metadata={'id': 'msg_01PJAkFtaUNLwk7dEDySMHyQ', 'model': 'claude-3-haiku-20240307', 'stop_reason': 'tool_use', 'stop_sequence': None, 'usage': {'input_tokens': 515, 'output_tokens': 91}}, id='run-388f2498-e3a3-4837-a047-dd3e6472da47-0', tool_calls=[{'name': 'master_haiku_generator', 'args': {'request': {'topic': ['water']}}, 'id': 'toolu_01FAFNf12ZBDxNovVg4H4aej'}], usage_metadata={'input_tokens': 515, 'output_tokens': 91, 'total_tokens': 606}),\n",
       "  ToolMessage(content=\"Error: ValidationError(model='master_haiku_generatorSchema', errors=[{'loc': ('request', 'topic'), 'msg': 'ensure this value has at least 3 items', 'type': 'value_error.list.min_items', 'ctx': {'limit_value': 3}}])\\n Please fix your mistakes.\", name='master_haiku_generator', id='ed35ac48-21e6-4766-83f6-804c0197a954', tool_call_id='toolu_01FAFNf12ZBDxNovVg4H4aej'),\n",
       "  AIMessage(content=[{'text': 'Hmm, it looks like the haiku generator requires at least 3 topics. Let me provide 3 related topics:', 'type': 'text'}, {'id': 'toolu_015S3TmasVpLLso9ofS3khFd', 'input': {'request': {'topic': ['water', 'ocean', 'waves']}}, 'name': 'master_haiku_generator', 'type': 'tool_use'}], response_metadata={'id': 'msg_018pu5g5uQTLGjkerMrRUdyA', 'model': 'claude-3-haiku-20240307', 'stop_reason': 'tool_use', 'stop_sequence': None, 'usage': {'input_tokens': 690, 'output_tokens': 97}}, id='run-60c4d999-76d1-4bce-af68-c6b353dbfaf1-0', tool_calls=[{'name': 'master_haiku_generator', 'args': {'request': {'topic': ['water', 'ocean', 'waves']}}, 'id': 'toolu_015S3TmasVpLLso9ofS3khFd'}], usage_metadata={'input_tokens': 690, 'output_tokens': 97, 'total_tokens': 787}),\n",
       "  ToolMessage(content='content=\"Here is a haiku about water, ocean, and waves:\\\\n\\\\nVast ocean\\'s embrace,\\\\nWaves crash upon the shoreline,\\\\nWater\\'s eternal dance.\" response_metadata={\\'id\\': \\'msg_01Wu4E6TqKSGsbPRA6Z1Az7Z\\', \\'model\\': \\'claude-3-haiku-20240307\\', \\'stop_reason\\': \\'end_turn\\', \\'stop_sequence\\': None, \\'usage\\': {\\'input_tokens\\': 17, \\'output_tokens\\': 38}} id=\\'run-bf9adae5-7f23-4fbf-a75e-d6ae0297b41e-0\\' usage_metadata={\\'input_tokens\\': 17, \\'output_tokens\\': 38, \\'total_tokens\\': 55}', name='master_haiku_generator', id='b6ea6f2e-5d67-4a40-b234-37cb1289a2ea', tool_call_id='toolu_015S3TmasVpLLso9ofS3khFd'),\n",
       "  AIMessage(content='The haiku generator has produced a beautiful poem about the themes of water, ocean, and waves. I hope you enjoy this creative and evocative haiku!', response_metadata={'id': 'msg_012vKzCsh3JaTLJ1SkA39Dzj', 'model': 'claude-3-haiku-20240307', 'stop_reason': 'end_turn', 'stop_sequence': None, 'usage': {'input_tokens': 989, 'output_tokens': 37}}, id='run-15be5ed1-d4e6-4861-a90d-b46fcdd28a1e-0', usage_metadata={'input_tokens': 989, 'output_tokens': 37, 'total_tokens': 1026})]}"
      ]
     },
     "execution_count": 25,
     "metadata": {},
     "output_type": "execute_result"
    }
   ],
   "source": [
    "from pydantic import BaseModel, conlist\n",
    "\n",
    "model = ChatAnthropic(model=\"claude-3-haiku-20240307\", temperature=0)\n",
    "\n",
    "class HaikuRequest(BaseModel):\n",
    "    topic: conlist(str, min_items=3, max_items=3)\n",
    "\n",
    "@tool\n",
    "def master_haiku_generator(request: HaikuRequest):\n",
    "    \"\"\"Generates a haiku based on the provided topics.\"\"\"\n",
    "    topics = \", \".join(request.topic)\n",
    "    haiku = model.invoke(f\"Write a haiku about {topics}\")\n",
    "    return haiku\n",
    "\n",
    "tool_node = ToolNode([master_haiku_generator])\n",
    "\n",
    "model_with_tools = model.bind_tools([master_haiku_generator])\n",
    "\n",
    "def should_continue(state: MessagesState) -> Literal[\"tools\", \"__end__\"]:\n",
    "    messages = state['messages']\n",
    "    last_message = messages[-1]\n",
    "    if last_message.tool_calls:\n",
    "        return \"tools\"\n",
    "    return \"__end__\"\n",
    "\n",
    "\n",
    "def call_model(state: MessagesState):\n",
    "    messages = state['messages']\n",
    "    response = model_with_tools.invoke(messages)\n",
    "    return {\"messages\": [response]}\n",
    "\n",
    "\n",
    "workflow = StateGraph(MessagesState)\n",
    "\n",
    "# Define the two nodes we will cycle between\n",
    "workflow.add_node(\"agent\", call_model)\n",
    "workflow.add_node(\"tools\", tool_node)\n",
    "\n",
    "workflow.add_edge(\"__start__\", \"agent\")\n",
    "workflow.add_conditional_edges(\n",
    "    \"agent\",\n",
    "    should_continue,\n",
    ")\n",
    "workflow.add_edge(\"tools\", 'agent')\n",
    "\n",
    "app = workflow.compile()\n",
    "\n",
    "app.invoke(\n",
    "    {\"messages\": [(\"human\", \"Write me an incredible haiku about water.\")]},\n",
    "    {\"recursion_limit\": 10}\n",
    ")"
   ]
  },
  {
   "cell_type": "markdown",
   "metadata": {},
   "source": [
    "We can see that the model takes multiple tries to get the input correct. Additionally, it doesn't actually return the generated haiku in the final answer because it gets so distracted by all the retries!\n",
    "\n",
    "A better strategy might be to fall back to a more advanced model. Here's an example that uses a custom node instead of the prebuilt `ToolNode`:"
   ]
  },
  {
   "cell_type": "code",
   "execution_count": null,
   "metadata": {},
   "outputs": [],
   "source": [
    "from pydantic import BaseModel, conlist\n",
    "\n",
    "model = ChatAnthropic(model=\"claude-3-haiku-20240307\", temperature=0)\n",
    "\n",
    "class HaikuRequest(BaseModel):\n",
    "    topic: conlist(str, min_items=3, max_items=3)\n",
    "\n",
    "@tool\n",
    "def master_haiku_generator(request: HaikuRequest):\n",
    "    \"\"\"Generates a haiku based on the provided topics.\"\"\"\n",
    "    topics = \", \".join(request.topic)\n",
    "    haiku = model.invoke(f\"Write a haiku about {topics}\")\n",
    "    return haiku\n",
    "\n",
    "def call_tool(state: MessagesState):\n",
    "    \n",
    "    pass\n",
    "\n",
    "model_with_tools = model.bind_tools([master_haiku_generator])\n",
    "\n",
    "def should_continue(state: MessagesState) -> Literal[\"tools\", \"__end__\"]:\n",
    "    messages = state['messages']\n",
    "    last_message = messages[-1]\n",
    "    if last_message.tool_calls:\n",
    "        return \"tools\"\n",
    "    return \"__end__\"\n",
    "\n",
    "\n",
    "def call_model(state: MessagesState):\n",
    "    messages = state['messages']\n",
    "    response = model_with_tools.invoke(messages)\n",
    "    return {\"messages\": [response]}\n",
    "\n",
    "\n",
    "workflow = StateGraph(MessagesState)\n",
    "\n",
    "# Define the two nodes we will cycle between\n",
    "workflow.add_node(\"agent\", call_model)\n",
    "workflow.add_node(\"tools\", tool_node)\n",
    "\n",
    "workflow.add_edge(\"__start__\", \"agent\")\n",
    "workflow.add_conditional_edges(\n",
    "    \"agent\",\n",
    "    should_continue,\n",
    ")\n",
    "workflow.add_edge(\"tools\", 'agent')\n",
    "\n",
    "app = workflow.compile()\n",
    "\n",
    "app.invoke(\n",
    "    {\"messages\": [(\"human\", \"Write me an incredible haiku about water.\")]},\n",
    "    {\"recursion_limit\": 10}\n",
    ")"
   ]
  }
 ],
 "metadata": {
  "kernelspec": {
   "display_name": "Python 3",
   "language": "python",
   "name": "python3"
  },
  "language_info": {
   "codemirror_mode": {
    "name": "ipython",
    "version": 3
   },
   "file_extension": ".py",
   "mimetype": "text/x-python",
   "name": "python",
   "nbconvert_exporter": "python",
   "pygments_lexer": "ipython3",
   "version": "3.11.3"
  }
 },
 "nbformat": 4,
 "nbformat_minor": 2
}
