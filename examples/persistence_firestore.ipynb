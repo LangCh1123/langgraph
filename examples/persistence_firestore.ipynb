{
 "cells": [
  {
   "cell_type": "markdown",
   "metadata": {},
   "source": [
    "# How to create a custom checkpointer using Firestore\n",
    "\n",
    "When creating LangGraph agents, you can also set them up so that they persist their state. This allows you to do things like interact with an agent multiple times and have it remember previous interactions.\n",
    "\n",
    "This example shows how to use firestore as the backend for persisting checkpoint state.\n",
    "\n",
    "NOTE: this is just an example implementation. You can implement your own checkpointer using a different database or modify this one as long as it conforms to the BaseCheckpointSaver interface."
   ]
  },
  {
   "cell_type": "markdown",
   "metadata": {},
   "source": [
    "## Checkpointer implementation"
   ]
  },
  {
   "cell_type": "code",
   "execution_count": 1,
   "metadata": {},
   "outputs": [],
   "source": [
    "%%capture --no-stderr\n",
    "%pip install -U langgraph google-cloud-firestore"
   ]
  },
  {
   "cell_type": "code",
   "execution_count": 2,
   "metadata": {},
   "outputs": [],
   "source": [
    "from typing import Any, AsyncIterator, Dict, Iterator, Optional\n",
    "from google.cloud import firestore\n",
    "from langchain_core.runnables import RunnableConfig\n",
    "from langgraph.checkpoint import BaseCheckpointSaver\n",
    "from langgraph.serde.jsonplus import JsonPlusSerializer\n",
    "from langgraph.checkpoint.base import Checkpoint, CheckpointMetadata, CheckpointTuple\n",
    "import pickle\n",
    "\n",
    "class JsonPlusSerializerCompat(JsonPlusSerializer):\n",
    "    def loads(self, data: bytes) -> Any:\n",
    "        if data.startswith(b\"\\x80\") and data.endswith(b\".\"):\n",
    "            return pickle.loads(data)\n",
    "        return super().loads(data)\n",
    "\n",
    "class FirestoreSaver(BaseCheckpointSaver):\n",
    "    serde = JsonPlusSerializerCompat()\n",
    "\n",
    "    def __init__(self, project_id: str, collection_name: str = \"checkpoints\", *, serde: Optional[Any] = None) -> None:\n",
    "        super().__init__(serde=serde)\n",
    "        self.db: firestore.Client = firestore.Client(project=project_id)\n",
    "        self.async_db: firestore.AsyncClient = firestore.AsyncClient(project=project_id)\n",
    "        self.collection_name: str = collection_name\n",
    "\n",
    "    def get_tuple(self, config: RunnableConfig) -> Optional[CheckpointTuple]:\n",
    "        thread_id: str = config[\"configurable\"][\"thread_id\"]\n",
    "        thread_ts: Optional[str] = config[\"configurable\"].get(\"thread_ts\")\n",
    "        \n",
    "        doc_ref: firestore.DocumentReference = self.db.collection(self.collection_name).document(thread_id)\n",
    "        doc: firestore.DocumentSnapshot = doc_ref.get()\n",
    "\n",
    "        if not doc.exists:\n",
    "            return None\n",
    "\n",
    "        data: Dict[str, Any] = doc.to_dict()\n",
    "        return self._process_checkpoint_data(thread_id, thread_ts, data)\n",
    "\n",
    "    async def aget_tuple(self, config: RunnableConfig) -> Optional[CheckpointTuple]:\n",
    "        thread_id: str = config[\"configurable\"][\"thread_id\"]\n",
    "        thread_ts: Optional[str] = config[\"configurable\"].get(\"thread_ts\")\n",
    "        \n",
    "        doc_ref: firestore.AsyncDocumentReference = self.async_db.collection(self.collection_name).document(thread_id)\n",
    "        doc: firestore.DocumentSnapshot = await doc_ref.get()\n",
    "        \n",
    "        data: Dict[str, Any] = doc.to_dict()\n",
    "        return await self._aprocess_checkpoint_data(thread_id, thread_ts, data)\n",
    "\n",
    "    def list(\n",
    "        self,\n",
    "        config: Optional[RunnableConfig],\n",
    "        *,\n",
    "        filter: Optional[Dict[str, Any]] = None,\n",
    "        before: Optional[RunnableConfig] = None,\n",
    "        limit: Optional[int] = None,\n",
    "    ) -> Iterator[CheckpointTuple]:\n",
    "        thread_id: Optional[str] = config[\"configurable\"][\"thread_id\"] if config else None\n",
    "        if filter:\n",
    "            raise NotImplementedError(\"Filtering is not implemented for FirestoreSaver\")\n",
    "        \n",
    "        doc_ref: firestore.DocumentReference = self.db.collection(self.collection_name).document(thread_id)\n",
    "        doc: firestore.DocumentSnapshot = doc_ref.get()\n",
    "\n",
    "        if not doc.exists:\n",
    "            raise ValueError(f\"No checkpoints found for thread_id: {thread_id}\")\n",
    "\n",
    "        data: Dict[str, Any] = doc.to_dict()\n",
    "        yield from self._process_checkpoint_list(thread_id, data, before, limit)\n",
    "\n",
    "    async def alist(\n",
    "        self,\n",
    "        config: Optional[RunnableConfig],\n",
    "        *,\n",
    "        filter: Optional[Dict[str, Any]] = None,\n",
    "        before: Optional[RunnableConfig] = None,\n",
    "        limit: Optional[int] = None,\n",
    "    ) -> AsyncIterator[CheckpointTuple]:\n",
    "        thread_id: Optional[str] = config[\"configurable\"][\"thread_id\"] if config else None\n",
    "        if filter:\n",
    "            raise NotImplementedError(\"Filtering is not implemented for FirestoreSaver\")\n",
    "        \n",
    "        doc_ref: firestore.AsyncDocumentReference = self.async_db.collection(self.collection_name).document(thread_id)\n",
    "        doc: firestore.DocumentSnapshot = await doc_ref.get()\n",
    "\n",
    "        if not doc.exists:\n",
    "            raise ValueError(f\"No checkpoints found for thread_id: {thread_id}\")\n",
    "\n",
    "        data: Dict[str, Any] = doc.to_dict()\n",
    "        async for item in self._aprocess_checkpoint_list(thread_id, data, before, limit):\n",
    "            yield item\n",
    "\n",
    "    def put(\n",
    "        self,\n",
    "        config: RunnableConfig,\n",
    "        checkpoint: Checkpoint,\n",
    "        metadata: CheckpointMetadata,\n",
    "    ) -> RunnableConfig:\n",
    "        thread_id: str = config[\"configurable\"][\"thread_id\"]\n",
    "        parent_ts: Optional[str] = config[\"configurable\"].get(\"thread_ts\")\n",
    "        ts: str = checkpoint[\"id\"]\n",
    "        \n",
    "        doc_ref: firestore.DocumentReference = self.db.collection(self.collection_name).document(thread_id)\n",
    "        doc_ref.set({\n",
    "            ts: {\n",
    "                \"checkpoint\": self.serde.dumps(checkpoint),\n",
    "                \"metadata\": self.serde.dumps(metadata),\n",
    "                \"parent_ts\": parent_ts if parent_ts else \"\",\n",
    "            }\n",
    "        }, merge=True)\n",
    "\n",
    "        return {\n",
    "            \"configurable\": {\n",
    "                \"thread_id\": thread_id,\n",
    "                \"thread_ts\": ts,\n",
    "            },\n",
    "        }\n",
    "\n",
    "    async def aput(\n",
    "        self,\n",
    "        config: RunnableConfig,\n",
    "        checkpoint: Checkpoint,\n",
    "        metadata: CheckpointMetadata,\n",
    "    ) -> RunnableConfig:\n",
    "        thread_id: str = config[\"configurable\"][\"thread_id\"]\n",
    "        parent_ts: Optional[str] = config[\"configurable\"].get(\"thread_ts\")\n",
    "        ts: str = checkpoint[\"id\"]\n",
    "        \n",
    "        doc_ref: firestore.AsyncDocumentReference = self.async_db.collection(self.collection_name).document(thread_id)\n",
    "        await doc_ref.set({\n",
    "            ts: {\n",
    "                \"checkpoint\": self.serde.dumps(checkpoint),\n",
    "                \"metadata\": self.serde.dumps(metadata),\n",
    "                \"parent_ts\": parent_ts if parent_ts else \"\",\n",
    "            }\n",
    "        }, merge=True)\n",
    "\n",
    "        return {\n",
    "            \"configurable\": {\n",
    "                \"thread_id\": thread_id,\n",
    "                \"thread_ts\": ts,\n",
    "            },\n",
    "        }\n",
    "\n",
    "    def _process_checkpoint_data(self, thread_id: str, thread_ts: Optional[str], data: Dict[str, Any]) -> Optional[CheckpointTuple]:\n",
    "        return self._process_checkpoint_data_common(thread_id, thread_ts, data)\n",
    "\n",
    "    async def _aprocess_checkpoint_data(self, thread_id: str, thread_ts: Optional[str], data: Dict[str, Any]) -> Optional[CheckpointTuple]:\n",
    "        return self._process_checkpoint_data_common(thread_id, thread_ts, data)\n",
    "\n",
    "    def _process_checkpoint_list(self, thread_id: str, data: Dict[str, Any], before: Optional[RunnableConfig], limit: Optional[int]):\n",
    "        yield from self._process_checkpoint_list_common(thread_id, data, before, limit)\n",
    "\n",
    "    async def _aprocess_checkpoint_list(self, thread_id: str, data: Dict[str, Any], before: Optional[RunnableConfig], limit: Optional[int]):\n",
    "        for item in self._process_checkpoint_list_common(thread_id, data, before, limit):\n",
    "            yield item\n",
    "    \n",
    "    def _process_checkpoint_data_common(self, thread_id: str, thread_ts: Optional[str], data: Dict[str, Any]) -> Optional[CheckpointTuple]:\n",
    "        if thread_ts:\n",
    "            checkpoint_data = data[thread_ts]\n",
    "        else:\n",
    "            latest_ts = max(data.keys())\n",
    "            checkpoint_data = data[latest_ts]\n",
    "            thread_ts = latest_ts\n",
    "\n",
    "        checkpoint: Checkpoint = self.serde.loads(checkpoint_data[\"checkpoint\"])\n",
    "        metadata: CheckpointMetadata = self.serde.loads(checkpoint_data[\"metadata\"])\n",
    "        parent_ts: str = checkpoint_data.get(\"parent_ts\", \"\")\n",
    "        parent_config: Optional[RunnableConfig] = {\"configurable\": {\"thread_id\": thread_id, \"thread_ts\": parent_ts}} if parent_ts else None\n",
    "\n",
    "        config: RunnableConfig = {\"configurable\": {\"thread_id\": thread_id, \"thread_ts\": thread_ts}}\n",
    "        return CheckpointTuple(config=config, checkpoint=checkpoint, metadata=metadata, parent_config=parent_config)\n",
    "\n",
    "    def _process_checkpoint_list_common(self, thread_id: str, data: Dict[str, Any], before: Optional[RunnableConfig], limit: Optional[int]):\n",
    "        count = 0\n",
    "        for ts, checkpoint_data in sorted(data.items(), reverse=True):\n",
    "            if before and ts >= before[\"configurable\"][\"thread_ts\"]:\n",
    "                continue\n",
    "            checkpoint: Checkpoint = self.serde.loads(checkpoint_data[\"checkpoint\"])\n",
    "            metadata: CheckpointMetadata = self.serde.loads(checkpoint_data[\"metadata\"])\n",
    "            parent_ts: str = checkpoint_data.get(\"parent_ts\", \"\")\n",
    "            parent_config: Optional[RunnableConfig] = {\"configurable\": {\"thread_id\": thread_id, \"thread_ts\": parent_ts}} if parent_ts else None\n",
    "            yield CheckpointTuple(\n",
    "                config={\"configurable\": {\"thread_id\": thread_id, \"thread_ts\": ts}},\n",
    "                checkpoint=checkpoint,\n",
    "                metadata=metadata,\n",
    "                parent_config=parent_config,\n",
    "            )\n",
    "            count += 1\n",
    "            if limit is not None and count >= limit:\n",
    "                break"
   ]
  },
  {
   "cell_type": "markdown",
   "metadata": {},
   "source": [
    "## GCP authentification\n",
    "\n",
    "Run the two commands below and login with your google account to populate [ADC credentials](https://cloud.google.com/docs/authentication/provide-credentials-adc#local-dev)."
   ]
  },
  {
   "cell_type": "code",
   "execution_count": 3,
   "metadata": {},
   "outputs": [],
   "source": [
    "#!gcloud auth login"
   ]
  },
  {
   "cell_type": "code",
   "execution_count": 4,
   "metadata": {},
   "outputs": [],
   "source": [
    "#!gcloud auth application-default login"
   ]
  },
  {
   "cell_type": "code",
   "execution_count": 5,
   "metadata": {},
   "outputs": [],
   "source": [
    "GCP_PROJECT_ID = \"\"\n",
    "COLLECTION_NAME = \"checkpoints\""
   ]
  },
  {
   "cell_type": "markdown",
   "metadata": {},
   "source": [
    "# Basic example using graph"
   ]
  },
  {
   "cell_type": "code",
   "execution_count": 6,
   "metadata": {},
   "outputs": [],
   "source": [
    "from langgraph.graph import StateGraph\n",
    "from uuid import uuid4\n",
    "\n",
    "checkpointer = FirestoreSaver(project_id=GCP_PROJECT_ID, collection_name=COLLECTION_NAME)\n",
    "builder = StateGraph(int)\n",
    "builder.add_node(\"add_one\", lambda x: x + 1)\n",
    "builder.set_entry_point(\"add_one\")\n",
    "builder.set_finish_point(\"add_one\")\n",
    "graph = builder.compile(checkpointer=checkpointer)\n",
    "\n",
    "\n",
    "config = {\"configurable\": {\"thread_id\": str(uuid4())}}\n",
    "\n",
    "result = graph.invoke(3,config)"
   ]
  },
  {
   "cell_type": "markdown",
   "metadata": {},
   "source": [
    "## Synchronous usage"
   ]
  },
  {
   "cell_type": "code",
   "execution_count": 7,
   "metadata": {},
   "outputs": [
    {
     "data": {
      "text/plain": [
       "StateSnapshot(values=4, next=(), config={'configurable': {'thread_id': 'd4e38642-ee2e-445c-9dc1-238a9e4d2e03', 'thread_ts': '1ef443cf-f502-6366-8001-653ad92e7f5b'}}, metadata={'source': 'loop', 'step': 1, 'writes': {'add_one': 4}}, created_at='2024-07-17T13:03:44.394318+00:00', parent_config={'configurable': {'thread_id': 'd4e38642-ee2e-445c-9dc1-238a9e4d2e03', 'thread_ts': '1ef443cf-f4f7-6100-8000-e74d88d270ef'}})"
      ]
     },
     "execution_count": 7,
     "metadata": {},
     "output_type": "execute_result"
    }
   ],
   "source": [
    "graph.get_state(config)"
   ]
  },
  {
   "cell_type": "code",
   "execution_count": 8,
   "metadata": {},
   "outputs": [
    {
     "data": {
      "text/plain": [
       "{'v': 1,\n",
       " 'ts': '2024-07-17T13:03:44.394318+00:00',\n",
       " 'id': '1ef443cf-f502-6366-8001-653ad92e7f5b',\n",
       " 'channel_values': {'__root__': 4, 'add_one': 'add_one'},\n",
       " 'channel_versions': {'__start__': 2,\n",
       "  '__root__': 3,\n",
       "  'start:add_one': 3,\n",
       "  'add_one': 3},\n",
       " 'versions_seen': {'__start__': {'__start__': 1},\n",
       "  'add_one': {'start:add_one': 2}},\n",
       " 'pending_sends': []}"
      ]
     },
     "execution_count": 8,
     "metadata": {},
     "output_type": "execute_result"
    }
   ],
   "source": [
    "checkpointer.get(config)"
   ]
  },
  {
   "cell_type": "code",
   "execution_count": 9,
   "metadata": {},
   "outputs": [
    {
     "name": "stdout",
     "output_type": "stream",
     "text": [
      "CheckpointTuple(config={'configurable': {'thread_id': 'd4e38642-ee2e-445c-9dc1-238a9e4d2e03', 'thread_ts': '1ef443cf-f502-6366-8001-653ad92e7f5b'}}, checkpoint={'v': 1, 'ts': '2024-07-17T13:03:44.394318+00:00', 'id': '1ef443cf-f502-6366-8001-653ad92e7f5b', 'channel_values': {'__root__': 4, 'add_one': 'add_one'}, 'channel_versions': {'__start__': 2, '__root__': 3, 'start:add_one': 3, 'add_one': 3}, 'versions_seen': {'__start__': {'__start__': 1}, 'add_one': {'start:add_one': 2}}, 'pending_sends': []}, metadata={'source': 'loop', 'step': 1, 'writes': {'add_one': 4}}, parent_config={'configurable': {'thread_id': 'd4e38642-ee2e-445c-9dc1-238a9e4d2e03', 'thread_ts': '1ef443cf-f4f7-6100-8000-e74d88d270ef'}}, pending_writes=None)\n",
      "CheckpointTuple(config={'configurable': {'thread_id': 'd4e38642-ee2e-445c-9dc1-238a9e4d2e03', 'thread_ts': '1ef443cf-f4f7-6100-8000-e74d88d270ef'}}, checkpoint={'v': 1, 'ts': '2024-07-17T13:03:44.389752+00:00', 'id': '1ef443cf-f4f7-6100-8000-e74d88d270ef', 'channel_values': {'__root__': 3, 'start:add_one': '__start__'}, 'channel_versions': {'__start__': 2, '__root__': 2, 'start:add_one': 2}, 'versions_seen': {'__start__': {'__start__': 1}, 'add_one': {}}, 'pending_sends': []}, metadata={'source': 'loop', 'step': 0, 'writes': None}, parent_config={'configurable': {'thread_id': 'd4e38642-ee2e-445c-9dc1-238a9e4d2e03', 'thread_ts': '1ef443cf-f4f3-63e8-bfff-6d1d4fcbd117'}}, pending_writes=None)\n",
      "CheckpointTuple(config={'configurable': {'thread_id': 'd4e38642-ee2e-445c-9dc1-238a9e4d2e03', 'thread_ts': '1ef443cf-f4f3-63e8-bfff-6d1d4fcbd117'}}, checkpoint={'v': 1, 'ts': '2024-07-17T13:03:44.388183+00:00', 'id': '1ef443cf-f4f3-63e8-bfff-6d1d4fcbd117', 'channel_values': {'__start__': 3}, 'channel_versions': {'__start__': 1}, 'versions_seen': {}, 'pending_sends': []}, metadata={'source': 'input', 'step': -1, 'writes': 3}, parent_config=None, pending_writes=None)\n"
     ]
    }
   ],
   "source": [
    "list = checkpointer.list(config, limit=3)\n",
    "for item in list:\n",
    "    print(item)"
   ]
  },
  {
   "cell_type": "code",
   "execution_count": 10,
   "metadata": {},
   "outputs": [
    {
     "data": {
      "text/plain": [
       "CheckpointTuple(config={'configurable': {'thread_id': 'd4e38642-ee2e-445c-9dc1-238a9e4d2e03', 'thread_ts': '1ef443cf-f502-6366-8001-653ad92e7f5b'}}, checkpoint={'v': 1, 'ts': '2024-07-17T13:03:44.394318+00:00', 'id': '1ef443cf-f502-6366-8001-653ad92e7f5b', 'channel_values': {'__root__': 4, 'add_one': 'add_one'}, 'channel_versions': {'__start__': 2, '__root__': 3, 'start:add_one': 3, 'add_one': 3}, 'versions_seen': {'__start__': {'__start__': 1}, 'add_one': {'start:add_one': 2}}, 'pending_sends': []}, metadata={'source': 'loop', 'step': 1, 'writes': {'add_one': 4}}, parent_config={'configurable': {'thread_id': 'd4e38642-ee2e-445c-9dc1-238a9e4d2e03', 'thread_ts': '1ef443cf-f4f7-6100-8000-e74d88d270ef'}}, pending_writes=None)"
      ]
     },
     "execution_count": 10,
     "metadata": {},
     "output_type": "execute_result"
    }
   ],
   "source": [
    "checkpointer.get_tuple(config)\n"
   ]
  },
  {
   "cell_type": "markdown",
   "metadata": {},
   "source": [
    "## Asynchronous usage"
   ]
  },
  {
   "cell_type": "code",
   "execution_count": 11,
   "metadata": {},
   "outputs": [
    {
     "data": {
      "text/plain": [
       "{'v': 1,\n",
       " 'ts': '2024-07-17T13:03:44.394318+00:00',\n",
       " 'id': '1ef443cf-f502-6366-8001-653ad92e7f5b',\n",
       " 'channel_values': {'__root__': 4, 'add_one': 'add_one'},\n",
       " 'channel_versions': {'__start__': 2,\n",
       "  '__root__': 3,\n",
       "  'start:add_one': 3,\n",
       "  'add_one': 3},\n",
       " 'versions_seen': {'__start__': {'__start__': 1},\n",
       "  'add_one': {'start:add_one': 2}},\n",
       " 'pending_sends': []}"
      ]
     },
     "execution_count": 11,
     "metadata": {},
     "output_type": "execute_result"
    }
   ],
   "source": [
    "await checkpointer.aget(config)"
   ]
  },
  {
   "cell_type": "code",
   "execution_count": 12,
   "metadata": {},
   "outputs": [
    {
     "data": {
      "text/plain": [
       "CheckpointTuple(config={'configurable': {'thread_id': 'd4e38642-ee2e-445c-9dc1-238a9e4d2e03', 'thread_ts': '1ef443cf-f502-6366-8001-653ad92e7f5b'}}, checkpoint={'v': 1, 'ts': '2024-07-17T13:03:44.394318+00:00', 'id': '1ef443cf-f502-6366-8001-653ad92e7f5b', 'channel_values': {'__root__': 4, 'add_one': 'add_one'}, 'channel_versions': {'__start__': 2, '__root__': 3, 'start:add_one': 3, 'add_one': 3}, 'versions_seen': {'__start__': {'__start__': 1}, 'add_one': {'start:add_one': 2}}, 'pending_sends': []}, metadata={'source': 'loop', 'step': 1, 'writes': {'add_one': 4}}, parent_config={'configurable': {'thread_id': 'd4e38642-ee2e-445c-9dc1-238a9e4d2e03', 'thread_ts': '1ef443cf-f4f7-6100-8000-e74d88d270ef'}}, pending_writes=None)"
      ]
     },
     "execution_count": 12,
     "metadata": {},
     "output_type": "execute_result"
    }
   ],
   "source": [
    "await checkpointer.aget_tuple(config)"
   ]
  },
  {
   "cell_type": "code",
   "execution_count": 13,
   "metadata": {},
   "outputs": [
    {
     "name": "stdout",
     "output_type": "stream",
     "text": [
      "CheckpointTuple(config={'configurable': {'thread_id': 'd4e38642-ee2e-445c-9dc1-238a9e4d2e03', 'thread_ts': '1ef443cf-f502-6366-8001-653ad92e7f5b'}}, checkpoint={'v': 1, 'ts': '2024-07-17T13:03:44.394318+00:00', 'id': '1ef443cf-f502-6366-8001-653ad92e7f5b', 'channel_values': {'__root__': 4, 'add_one': 'add_one'}, 'channel_versions': {'__start__': 2, '__root__': 3, 'start:add_one': 3, 'add_one': 3}, 'versions_seen': {'__start__': {'__start__': 1}, 'add_one': {'start:add_one': 2}}, 'pending_sends': []}, metadata={'source': 'loop', 'step': 1, 'writes': {'add_one': 4}}, parent_config={'configurable': {'thread_id': 'd4e38642-ee2e-445c-9dc1-238a9e4d2e03', 'thread_ts': '1ef443cf-f4f7-6100-8000-e74d88d270ef'}}, pending_writes=None)\n",
      "CheckpointTuple(config={'configurable': {'thread_id': 'd4e38642-ee2e-445c-9dc1-238a9e4d2e03', 'thread_ts': '1ef443cf-f4f7-6100-8000-e74d88d270ef'}}, checkpoint={'v': 1, 'ts': '2024-07-17T13:03:44.389752+00:00', 'id': '1ef443cf-f4f7-6100-8000-e74d88d270ef', 'channel_values': {'__root__': 3, 'start:add_one': '__start__'}, 'channel_versions': {'__start__': 2, '__root__': 2, 'start:add_one': 2}, 'versions_seen': {'__start__': {'__start__': 1}, 'add_one': {}}, 'pending_sends': []}, metadata={'source': 'loop', 'step': 0, 'writes': None}, parent_config={'configurable': {'thread_id': 'd4e38642-ee2e-445c-9dc1-238a9e4d2e03', 'thread_ts': '1ef443cf-f4f3-63e8-bfff-6d1d4fcbd117'}}, pending_writes=None)\n",
      "CheckpointTuple(config={'configurable': {'thread_id': 'd4e38642-ee2e-445c-9dc1-238a9e4d2e03', 'thread_ts': '1ef443cf-f4f3-63e8-bfff-6d1d4fcbd117'}}, checkpoint={'v': 1, 'ts': '2024-07-17T13:03:44.388183+00:00', 'id': '1ef443cf-f4f3-63e8-bfff-6d1d4fcbd117', 'channel_values': {'__start__': 3}, 'channel_versions': {'__start__': 1}, 'versions_seen': {}, 'pending_sends': []}, metadata={'source': 'input', 'step': -1, 'writes': 3}, parent_config=None, pending_writes=None)\n"
     ]
    }
   ],
   "source": [
    "list = checkpointer.alist(config, limit=3)\n",
    "async for item in list:\n",
    "    print(item)"
   ]
  }
 ],
 "metadata": {
  "kernelspec": {
   "display_name": "to_delete",
   "language": "python",
   "name": "python3"
  },
  "language_info": {
   "codemirror_mode": {
    "name": "ipython",
    "version": 3
   },
   "file_extension": ".py",
   "mimetype": "text/x-python",
   "name": "python",
   "nbconvert_exporter": "python",
   "pygments_lexer": "ipython3",
   "version": "3.12.4"
  }
 },
 "nbformat": 4,
 "nbformat_minor": 2
}
