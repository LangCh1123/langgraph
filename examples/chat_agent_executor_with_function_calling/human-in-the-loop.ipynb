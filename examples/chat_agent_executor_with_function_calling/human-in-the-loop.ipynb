{
 "cells": [
  {
   "cell_type": "markdown",
   "id": "51466c8d-8ce4-4b3d-be4e-18fdbeda5f53",
   "metadata": {},
   "source": [
    "# Human-in-the-loop\n",
    "\n",
    "In this example we will build a ReAct Agent that has a human in the loop. We will use the human to approve specific actions.\n",
    "\n",
    "This examples builds off the base chat executor. It is highly recommended you learn about that executor before going through this notebook. You can find documentation for that example [here](./base.ipynb).\n",
    "\n",
    "Any modifications of that example are called below with **MODIFICATION**, so if you are looking for the differences you can just search for that."
   ]
  },
  {
   "cell_type": "markdown",
   "id": "7cbd446a-808f-4394-be92-d45ab818953c",
   "metadata": {},
   "source": [
    "## Setup\n",
    "\n",
    "First we need to install the packages required"
   ]
  },
  {
   "cell_type": "code",
   "execution_count": 1,
   "id": "af4ce0ba-7596-4e5f-8bf8-0b0bd6e62833",
   "metadata": {},
   "outputs": [],
   "source": [
    "%%capture --no-stderr\n",
    "%pip install --quiet -U langgraph langchain_community langchain_openai tavily-python"
   ]
  },
  {
   "cell_type": "markdown",
   "id": "0abe11f4-62ed-4dc4-8875-3db21e260d1d",
   "metadata": {},
   "source": [
    "Next, we need to set API keys for OpenAI (the LLM we will use) and Tavily (the search tool we will use)"
   ]
  },
  {
   "cell_type": "code",
   "execution_count": 2,
   "id": "c903a1cf-2977-4e2d-ad7d-8b3946821d89",
   "metadata": {},
   "outputs": [
    {
     "name": "stdout",
     "output_type": "stream",
     "text": [
      "OpenAI API Key: ········\n",
      "Tavily API Key: ········\n"
     ]
    }
   ],
   "source": [
    "import os\n",
    "import getpass\n",
    "\n",
    "os.environ[\"OPENAI_API_KEY\"] = getpass.getpass(\"OpenAI API Key:\")\n",
    "os.environ[\"TAVILY_API_KEY\"] = getpass.getpass(\"Tavily API Key:\")"
   ]
  },
  {
   "cell_type": "markdown",
   "id": "f0ed46a8-effe-4596-b0e1-a6a29ee16f5c",
   "metadata": {},
   "source": [
    "Optionally, we can set API key for [LangSmith tracing](https://smith.langchain.com/), which will give us best-in-class observability."
   ]
  },
  {
   "cell_type": "code",
   "execution_count": 3,
   "id": "95e25aec-7c9f-4a63-b143-225d0e9a79c3",
   "metadata": {},
   "outputs": [
    {
     "name": "stdout",
     "output_type": "stream",
     "text": [
      "LangSmith API Key: ········\n"
     ]
    }
   ],
   "source": [
    "os.environ[\"LANGCHAIN_TRACING_V2\"] = \"true\"\n",
    "os.environ[\"LANGCHAIN_API_KEY\"] = getpass.getpass(\"LangSmith API Key:\")"
   ]
  },
  {
   "cell_type": "markdown",
   "id": "21ac643b-cb06-4724-a80c-2862ba4773f1",
   "metadata": {},
   "source": [
    "## Set up the tools\n",
    "\n",
    "We will first define the tools we want to use.\n",
    "For this simple example, we will use a built-in search tool via Tavily.\n",
    "However, it is really easy to create your own tools - see documentation [here](https://python.langchain.com/docs/modules/agents/tools/custom_tools) on how to do that.\n"
   ]
  },
  {
   "cell_type": "code",
   "execution_count": 1,
   "id": "d7ef57dd-5d6e-4ad3-9377-a92201c1310e",
   "metadata": {},
   "outputs": [],
   "source": [
    "from langchain_community.tools.tavily_search import TavilySearchResults\n",
    "\n",
    "tools = [TavilySearchResults(max_results=1)]"
   ]
  },
  {
   "cell_type": "markdown",
   "id": "01885785-b71a-44d1-b1d6-7b5b14d53b58",
   "metadata": {},
   "source": [
    "We can now wrap these tools in a simple ToolExecutor.\n",
    "This is a real simple class that takes in a ToolInvocation and calls that tool, returning the output.\n",
    "A ToolInvocation is any class with `tool` and `tool_input` attribute.\n"
   ]
  },
  {
   "cell_type": "code",
   "execution_count": 2,
   "id": "5cf3331e-ccb3-41c8-aeb9-a840a94d41e7",
   "metadata": {},
   "outputs": [],
   "source": [
    "from langgraph.prebuilt import ToolExecutor\n",
    "\n",
    "tool_executor = ToolExecutor(tools)"
   ]
  },
  {
   "cell_type": "markdown",
   "id": "5497ed70-fce3-47f1-9cad-46f912bad6a5",
   "metadata": {},
   "source": [
    "## Set up the model\n",
    "\n",
    "Now we need to load the chat model we want to use.\n",
    "Importantly, this should satisfy two criteria:\n",
    "\n",
    "1. It should work with messages. We will represent all agent state in the form of messages, so it needs to be able to work well with them.\n",
    "2. It should work with OpenAI function calling. This means it should either be an OpenAI model or a model that exposes a similar interface.\n",
    "\n",
    "Note: these model requirements are not requirements for using LangGraph - they are just requirements for this one example.\n"
   ]
  },
  {
   "cell_type": "code",
   "execution_count": 3,
   "id": "892b54b9-75f0-4804-9ed0-88b5e5532989",
   "metadata": {},
   "outputs": [],
   "source": [
    "from langchain_openai import ChatOpenAI\n",
    "\n",
    "# We will set streaming=True so that we can stream tokens\n",
    "# See the streaming section for more information on this.\n",
    "model = ChatOpenAI(temperature=0, streaming=True)"
   ]
  },
  {
   "cell_type": "markdown",
   "id": "a77995c0-bae2-4cee-a036-8688a90f05b9",
   "metadata": {},
   "source": [
    "\n",
    "After we've done this, we should make sure the model knows that it has these tools available to call.\n",
    "We can do this by converting the LangChain tools into the format for OpenAI function calling, and then bind them to the model class.\n"
   ]
  },
  {
   "cell_type": "code",
   "execution_count": 4,
   "id": "cd3cbae5-d92c-4559-a4aa-44721b80d107",
   "metadata": {},
   "outputs": [],
   "source": [
    "model = model.bind_tools(tools)"
   ]
  },
  {
   "cell_type": "markdown",
   "id": "8e8b9211-93d0-4ad5-aa7a-9c09099c53ff",
   "metadata": {},
   "source": [
    "## Define the agent state\n",
    "\n",
    "The main type of graph in `langgraph` is the [StateGraph](https://langchain-ai.github.io/langgraph/reference/graphs/#langgraph.graph.StateGraph).\n",
    "This graph is parameterized by a state object that it passes around to each node.\n",
    "Each node then returns operations to update that state.\n",
    "These operations can either SET specific attributes on the state (e.g. overwrite the existing values) or ADD to the existing attribute.\n",
    "Whether to set or add is denoted by annotating the state object you construct the graph with.\n",
    "\n",
    "For this example, the state we will track will just be a list of messages.\n",
    "We want each node to just add messages to that list.\n",
    "Therefore, we will use a `TypedDict` with one key (`messages`) and annotate it so that the `messages` attribute is always added to.\n"
   ]
  },
  {
   "cell_type": "code",
   "execution_count": 5,
   "id": "ea793afa-2eab-4901-910d-6eed90cd6564",
   "metadata": {},
   "outputs": [],
   "source": [
    "from typing import TypedDict, Annotated, Sequence\n",
    "import operator\n",
    "from langchain_core.messages import BaseMessage\n",
    "\n",
    "\n",
    "class AgentState(TypedDict):\n",
    "    messages: Annotated[Sequence[BaseMessage], operator.add]"
   ]
  },
  {
   "cell_type": "markdown",
   "id": "e03c5094-9297-4d19-a04e-3eedc75cefb4",
   "metadata": {},
   "source": [
    "## Define the nodes\n",
    "\n",
    "We now need to define a few different nodes in our graph.\n",
    "In `langgraph`, a node can be either a function or a [runnable](https://python.langchain.com/docs/expression_language/).\n",
    "There are two main nodes we need for this:\n",
    "\n",
    "1. The agent: responsible for deciding what (if any) actions to take.\n",
    "2. A function to invoke tools: if the agent decides to take an action, this node will then execute that action.\n",
    "\n",
    "We will also need to define some edges.\n",
    "Some of these edges may be conditional.\n",
    "The reason they are conditional is that based on the output of a node, one of several paths may be taken.\n",
    "The path that is taken is not known until that node is run (the LLM decides).\n",
    "\n",
    "1. Conditional Edge: after the agent is called, we should either:\n",
    "   a. If the agent said to take an action, then the function to invoke tools should be called\n",
    "   b. If the agent said that it was finished, then it should finish\n",
    "2. Normal Edge: after the tools are invoked, it should always go back to the agent to decide what to do next\n",
    "\n",
    "Let's define the nodes, as well as a function to decide how what conditional edge to take.\n"
   ]
  },
  {
   "cell_type": "code",
   "execution_count": 6,
   "id": "b547109f-f9e8-4e77-a7e7-ed2bae7a72ab",
   "metadata": {},
   "outputs": [],
   "source": [
    "from langgraph.prebuilt import ToolInvocation\n",
    "from langchain_core.messages import ToolMessage\n",
    "\n",
    "\n",
    "# Define the function that determines whether to continue or not\n",
    "def should_continue(state):\n",
    "    messages = state[\"messages\"]\n",
    "    last_message = messages[-1]\n",
    "    # If there is no function call, then we finish\n",
    "    if not last_message.tool_calls:\n",
    "        return \"end\"\n",
    "    # Otherwise if there is, we continue\n",
    "    else:\n",
    "        return \"continue\"\n",
    "\n",
    "\n",
    "# Define the function that calls the model\n",
    "def call_model(state):\n",
    "    messages = state[\"messages\"]\n",
    "    response = model.invoke(messages)\n",
    "    # We return a list, because this will get added to the existing list\n",
    "    return {\"messages\": [response]}"
   ]
  },
  {
   "cell_type": "code",
   "execution_count": 7,
   "id": "73fd6432-42e8-472a-89ca-bb5ddbbcc35a",
   "metadata": {},
   "outputs": [],
   "source": [
    "# Define the function to execute tools\n",
    "def call_tool(state):\n",
    "    messages = state[\"messages\"]\n",
    "    # Based on the continue condition\n",
    "    # we know the last message involves a function call\n",
    "    last_message = messages[-1]\n",
    "    # We construct an ToolInvocation for each tool call\n",
    "    tool_invocations = []\n",
    "    for tool_call in last_message.tool_calls:\n",
    "        action = ToolInvocation(\n",
    "            tool=tool_call[\"name\"],\n",
    "            tool_input=tool_call[\"args\"],\n",
    "        )\n",
    "        tool_invocations.append(action)\n",
    "\n",
    "    action = ToolInvocation(\n",
    "        tool=tool_call[\"name\"],\n",
    "        tool_input=tool_call[\"args\"],\n",
    "    )\n",
    "    # We call the tool_executor and get back a response\n",
    "    responses = tool_executor.batch(tool_invocations, return_exceptions=True)\n",
    "    # We use the response to create tool messages\n",
    "    tool_messages = [\n",
    "        ToolMessage(\n",
    "            content=str(response),\n",
    "            name=tc[\"name\"],\n",
    "            tool_call_id=tc[\"id\"],\n",
    "        )\n",
    "        for tc, response in zip(last_message.tool_calls, responses)\n",
    "    ]\n",
    "\n",
    "    # We return a list, because this will get added to the existing list\n",
    "    return {\"messages\": tool_messages}"
   ]
  },
  {
   "cell_type": "markdown",
   "id": "ffd6e892-946c-4899-8cc0-7c9291c1f73b",
   "metadata": {},
   "source": [
    "## Define the graph\n",
    "\n",
    "We can now put it all together and define the graph!\n",
    "\n",
    "**MODIFICATION**\n",
    "\n",
    "We modify the graph to **interrupt** before calling the tools. This lets the user give approval to continue. Note that this is a simple example and we could modify it to change the tool input, use some other channel besides input, etc."
   ]
  },
  {
   "cell_type": "code",
   "execution_count": 8,
   "id": "813ae66c-3b58-4283-a02a-36da72a2ab90",
   "metadata": {},
   "outputs": [],
   "source": [
    "from langgraph.graph import StateGraph, END\n",
    "from langgraph.checkpoint.memory import MemorySaver\n",
    "\n",
    "# Define a new graph\n",
    "workflow = StateGraph(AgentState)\n",
    "\n",
    "# Define the two nodes we will cycle between\n",
    "workflow.add_node(\"agent\", call_model)\n",
    "workflow.add_node(\"action\", call_tool)\n",
    "\n",
    "# Set the entrypoint as `agent`\n",
    "# This means that this node is the first one called\n",
    "workflow.set_entry_point(\"agent\")\n",
    "\n",
    "# We now add a conditional edge\n",
    "workflow.add_conditional_edges(\n",
    "    # First, we define the start node. We use `agent`.\n",
    "    # This means these are the edges taken after the `agent` node is called.\n",
    "    \"agent\",\n",
    "    # Next, we pass in the function that will determine which node is called next.\n",
    "    should_continue,\n",
    "    # Finally we pass in a mapping.\n",
    "    # The keys are strings, and the values are other nodes.\n",
    "    # END is a special node marking that the graph should finish.\n",
    "    # What will happen is we will call `should_continue`, and then the output of that\n",
    "    # will be matched against the keys in this mapping.\n",
    "    # Based on which one it matches, that node will then be called.\n",
    "    {\n",
    "        # If `tools`, then we call the tool node.\n",
    "        \"continue\": \"action\",\n",
    "        # Otherwise we finish.\n",
    "        \"end\": END,\n",
    "    },\n",
    ")\n",
    "\n",
    "# We now add a normal edge from `tools` to `agent`.\n",
    "# This means that after `tools` is called, `agent` node is called next.\n",
    "workflow.add_edge(\"action\", \"agent\")\n",
    "\n",
    "# Finally, we compile it!\n",
    "# This compiles it into a LangChain Runnable,\n",
    "# meaning you can use it as you would any other runnable\n",
    "app = workflow.compile(checkpointer=MemorySaver(), interrupt_before=[\"action\"])"
   ]
  },
  {
   "cell_type": "code",
   "execution_count": 9,
   "id": "a0212d00",
   "metadata": {},
   "outputs": [
    {
     "data": {
      "image/jpeg": "[encoded data removed]",
      "text/plain": [
       "<IPython.core.display.Image object>"
      ]
     },
     "metadata": {},
     "output_type": "display_data"
    }
   ],
   "source": [
    "from IPython.display import Image, display\n",
    "\n",
    "try:\n",
    "    display(Image(app.get_graph(xray=True).draw_mermaid_png()))\n",
    "except:\n",
    "    # This requires some extra dependencies and is optional\n",
    "    pass"
   ]
  },
  {
   "cell_type": "markdown",
   "id": "547c3931-3dae-4281-ad4e-4b51305594d4",
   "metadata": {},
   "source": [
    "## Use it!\n",
    "\n",
    "We can now use it!\n",
    "This now exposes the [same interface](https://python.langchain.com/docs/expression_language/) as all other LangChain runnables."
   ]
  },
  {
   "cell_type": "code",
   "execution_count": 11,
   "id": "f79aa672-17fd-4dfa-b549-6deb17dc59f3",
   "metadata": {},
   "outputs": [
    {
     "name": "stdout",
     "output_type": "stream",
     "text": [
      "Output from node 'agent':\n",
      "---\n",
      "{'messages': [AIMessage(content='', additional_kwargs={'tool_calls': [{'index': 0, 'id': 'call_lsdncO46fHYkzrGlYYuXfxUg', 'function': {'arguments': '{\"query\":\"weather in San Francisco\"}', 'name': 'tavily_search_results_json'}, 'type': 'function'}]}, response_metadata={'finish_reason': 'tool_calls'}, id='run-8cf32ab2-564c-4bca-8439-28095ffefef3-0', tool_calls=[{'name': 'tavily_search_results_json', 'args': {'query': 'weather in San Francisco'}, 'id': 'call_lsdncO46fHYkzrGlYYuXfxUg'}], usage_metadata={'input_tokens': 87, 'output_tokens': 21, 'total_tokens': 108})]}\n",
      "\n",
      "---\n",
      "\n"
     ]
    },
    {
     "name": "stdin",
     "output_type": "stream",
     "text": [
      "Do you approve the next step? Type y if you do, anything else to stop:  y\n"
     ]
    },
    {
     "name": "stdout",
     "output_type": "stream",
     "text": [
      "Output from node 'action':\n",
      "---\n",
      "{'messages': [ToolMessage(content='[{\\'url\\': \\'https://www.weatherapi.com/\\', \\'content\\': \"{\\'location\\': {\\'name\\': \\'San Francisco\\', \\'region\\': \\'California\\', \\'country\\': \\'United States of America\\', \\'lat\\': 37.78, \\'lon\\': -122.42, \\'tz_id\\': \\'America/Los_Angeles\\', \\'localtime_epoch\\': 1716915235, \\'localtime\\': \\'2024-05-28 9:53\\'}, \\'current\\': {\\'last_updated_epoch\\': 1716914700, \\'last_updated\\': \\'2024-05-28 09:45\\', \\'temp_c\\': 12.8, \\'temp_f\\': 55.0, \\'is_day\\': 1, \\'condition\\': {\\'text\\': \\'Partly cloudy\\', \\'icon\\': \\'//cdn.weatherapi.com/weather/64x64/day/116.png\\', \\'code\\': 1003}, \\'wind_mph\\': 10.5, \\'wind_kph\\': 16.9, \\'wind_degree\\': 250, \\'wind_dir\\': \\'WSW\\', \\'pressure_mb\\': 1019.0, \\'pressure_in\\': 30.09, \\'precip_mm\\': 0.0, \\'precip_in\\': 0.0, \\'humidity\\': 83, \\'cloud\\': 50, \\'feelslike_c\\': 11.9, \\'feelslike_f\\': 53.3, \\'windchill_c\\': 11.4, \\'windchill_f\\': 52.5, \\'heatindex_c\\': 12.5, \\'heatindex_f\\': 54.5, \\'dewpoint_c\\': 9.0, \\'dewpoint_f\\': 48.1, \\'vis_km\\': 16.0, \\'vis_miles\\': 9.0, \\'uv\\': 4.0, \\'gust_mph\\': 15.0, \\'gust_kph\\': 24.1}}\"}]', name='tavily_search_results_json', tool_call_id='call_lsdncO46fHYkzrGlYYuXfxUg')]}\n",
      "\n",
      "---\n",
      "\n",
      "Output from node 'agent':\n",
      "---\n",
      "{'messages': [AIMessage(content='The current weather in San Francisco is partly cloudy with a temperature of 55.0°F (12.8°C). The wind speed is 10.5 mph (16.9 kph) coming from the WSW direction. The humidity is at 83%, and the visibility is 9.0 miles.', response_metadata={'finish_reason': 'stop'}, id='run-5daaec57-7501-4bcd-aa26-390830569857-0', usage_metadata={'input_tokens': 530, 'output_tokens': 65, 'total_tokens': 595})]}\n",
      "\n",
      "---\n",
      "\n"
     ]
    }
   ],
   "source": [
    "from langchain_core.messages import HumanMessage\n",
    "\n",
    "inputs = {\"messages\": [HumanMessage(content=\"what is the weather in sf\")]}\n",
    "config = {\"configurable\": {\"thread_id\": \"thread-1\"}}\n",
    "while True:\n",
    "    for output in app.stream(inputs, config):\n",
    "        # stream() yields dictionaries with output keyed by node name\n",
    "        for key, value in output.items():\n",
    "            print(f\"Output from node '{key}':\")\n",
    "            print(\"---\")\n",
    "            print(value)\n",
    "        print(\"\\n---\\n\")\n",
    "    snapshot = app.get_state(config)\n",
    "    # If \"next\" is present, it means we've interrupted mid-execution\n",
    "    if not snapshot.next:\n",
    "        break\n",
    "    inputs = None\n",
    "    response = input(\n",
    "        \"Do you approve the next step? Type y if you do, anything else to stop: \"\n",
    "    )\n",
    "    if response != \"y\":\n",
    "        break"
   ]
  },
  {
   "cell_type": "markdown",
   "id": "13d431df-577c-4438-8063-ace781c28d2e",
   "metadata": {},
   "source": [
    "## Conversational interrupt\n",
    "\n",
    "We can also have the verification take place naturally as part of the conversation.\n",
    "\n",
    "This would allow conversations of the form:\n",
    "```\n",
    "Human: Hello, what is the weather in San Francisco?\n",
    "\n",
    "AI: I will execute an API call with {params} parameters,\n",
    "should I go ahead?\n",
    "\n",
    "Human: yes\n",
    "\n",
    "AI: It is sunny in San Francisco.\n",
    "```\n",
    "\n",
    "Some providers require the result of a tool call (i.e., a [ToolMessage](https://api.python.langchain.com/en/latest/messages/langchain_core.messages.tool.ToolMessage.html)) to immediately follow a message with tool calls. To accommodate this, here we add a `hidden` boolean to messages in the state. We hide messages with tool calls, and add them to the chat only after verification."
   ]
  },
  {
   "cell_type": "code",
   "execution_count": 13,
   "id": "0465ec9f-f57a-45e8-a1c7-a5b65324514e",
   "metadata": {},
   "outputs": [],
   "source": [
    "import json\n",
    "from typing import Optional, Tuple\n",
    "\n",
    "from langchain_core.messages import AIMessage\n",
    "\n",
    "\n",
    "class AgentState(TypedDict):\n",
    "    messages: Annotated[Sequence[Tuple[BaseMessage, bool]], operator.add]\n",
    "    \"\"\"Tuple of (message: BaseMessage, hidden: bool) specifying if the\n",
    "    message should be hidden from the chat.\"\"\"\n",
    "\n",
    "\n",
    "# Define the function to verify tool calls\n",
    "def verify_tool(state):\n",
    "    message = [\n",
    "        message\n",
    "        for message, hidden in state[\"messages\"]\n",
    "        if hidden\n",
    "    ][-1]\n",
    "    # Assemble tool calls into a message\n",
    "    serialized_tool_calls = json.dumps(\n",
    "        message.tool_calls,\n",
    "        indent=2,\n",
    "    )\n",
    "    message = AIMessage(\n",
    "        content=(\n",
    "            \"I plan to invoke the following tools, do you approve?\\n\\n\"\n",
    "            \"Type 'y' if you do, anything else to stop.\\n\\n\"\n",
    "            f\"{serialized_tool_calls}\"\n",
    "        )\n",
    "    )\n",
    "\n",
    "    return {\"messages\": [(message, False)]}\n",
    "\n",
    "\n",
    "def human(state):\n",
    "    input_content = input()\n",
    "    return {\n",
    "        \"messages\": [(HumanMessage(content=input_content), False)]\n",
    "    }\n",
    "\n",
    "\n",
    "# Update call_model function to \"hide\" tool call messages.\n",
    "# This is done because some providers (e.g., OpenAI) require tool messages\n",
    "# to immediately follow messages with tool calls.\n",
    "def call_model(state):\n",
    "    messages = [\n",
    "        message\n",
    "        for message, hidden in state[\"messages\"]\n",
    "        if not hidden\n",
    "    ]\n",
    "    response = model.invoke(messages)\n",
    "    if response.tool_calls:\n",
    "        hidden = True\n",
    "    else:\n",
    "        hidden = False\n",
    "    return {\"messages\": [(response, hidden)]}\n",
    "\n",
    "# Update call_tool function to execute tools, then\n",
    "# prefix the ToolMessage with the hidden tool call.\n",
    "def call_tool(state):\n",
    "    last_message = [\n",
    "        message\n",
    "        for message, hidden in state[\"messages\"]\n",
    "        if hidden\n",
    "    ][-1]\n",
    "    # We construct an ToolInvocation for each tool call\n",
    "    tool_invocations = []\n",
    "    for tool_call in last_message.tool_calls:\n",
    "        action = ToolInvocation(\n",
    "            tool=tool_call[\"name\"],\n",
    "            tool_input=tool_call[\"args\"],\n",
    "        )\n",
    "        tool_invocations.append(action)\n",
    "\n",
    "    action = ToolInvocation(\n",
    "        tool=tool_call[\"name\"],\n",
    "        tool_input=tool_call[\"args\"],\n",
    "    )\n",
    "    # We call the tool_executor and get back a response\n",
    "    responses = tool_executor.batch(tool_invocations, return_exceptions=True)\n",
    "    # We use the response to create tool messages\n",
    "    tool_messages = [\n",
    "        (\n",
    "            ToolMessage(\n",
    "                content=str(response),\n",
    "                name=tc[\"name\"],\n",
    "                tool_call_id=tc[\"id\"],\n",
    "            ),\n",
    "            False,\n",
    "        )\n",
    "        for tc, response in zip(last_message.tool_calls, responses)\n",
    "    ]\n",
    "\n",
    "    # Add back in the stored tool_call_message\n",
    "    return {\"messages\": [(last_message, False)] + tool_messages}\n",
    "\n",
    "\n",
    "# Define the function that routes a HumanMessage. This could be a verification\n",
    "# message, or a normal conversational message.\n",
    "def route_message(state):\n",
    "    last_message, _ = state[\"messages\"][-1]\n",
    "    if last_message.content == \"y\":\n",
    "        return \"action\"\n",
    "    elif last_message.content == \"exit\":\n",
    "        return \"exit\"\n",
    "    else:\n",
    "        return \"agent\"\n",
    "\n",
    "\n",
    "# Define the function that determines whether to call tools or not\n",
    "def should_continue(state):\n",
    "    message, hidden = state[\"messages\"][-1]\n",
    "    if hidden:\n",
    "        return \"tool_calls\"\n",
    "    else:\n",
    "        return \"human\""
   ]
  },
  {
   "cell_type": "code",
   "execution_count": 14,
   "id": "dd55a0bc-a323-47fe-a00f-7129f11fce94",
   "metadata": {},
   "outputs": [],
   "source": [
    "from langgraph.graph import StateGraph, END\n",
    "from langgraph.checkpoint.memory import MemorySaver\n",
    "\n",
    "workflow = StateGraph(AgentState)\n",
    "\n",
    "# Add entrypoint node so we can immediately enter conditional edge\n",
    "workflow.add_node(\"human\", human)\n",
    "workflow.add_node(\"agent\", call_model)\n",
    "workflow.add_node(\"action\", call_tool)\n",
    "\n",
    "# Add a node for verifying the tool call\n",
    "workflow.add_node(\"verify\", verify_tool)\n",
    "\n",
    "workflow.set_entry_point(\"human\")\n",
    "\n",
    "# Add conditional edge from entrypoint\n",
    "workflow.add_conditional_edges(\n",
    "    \"human\",\n",
    "    route_message,\n",
    "    {\n",
    "        \"action\": \"action\",\n",
    "        \"agent\": \"agent\",\n",
    "        \"exit\": END,\n",
    "    },\n",
    ")\n",
    "\n",
    "# Add a conditional edge from verification node\n",
    "# to tool execution\n",
    "workflow.add_conditional_edges(\n",
    "    \"agent\",\n",
    "    should_continue,\n",
    "    {\n",
    "        \"tool_calls\": \"verify\",\n",
    "        \"human\": \"human\",\n",
    "    },\n",
    ")\n",
    "\n",
    "workflow.add_edge(\"action\", \"agent\")\n",
    "workflow.add_edge(\"verify\", \"human\")\n",
    "\n",
    "app = workflow.compile(checkpointer=MemorySaver())"
   ]
  },
  {
   "cell_type": "code",
   "execution_count": 11,
   "id": "4adb3227-e1d1-4922-b5ca-f530a8e07faa",
   "metadata": {},
   "outputs": [
    {
     "data": {
      "image/jpeg": "[encoded data removed]",
      "text/plain": [
       "<IPython.core.display.Image object>"
      ]
     },
     "metadata": {},
     "output_type": "display_data"
    }
   ],
   "source": [
    "from IPython.display import Image, display\n",
    "\n",
    "try:\n",
    "    display(Image(app.get_graph(xray=True).draw_mermaid_png()))\n",
    "except:\n",
    "    # This requires some extra dependencies and is optional\n",
    "    pass"
   ]
  },
  {
   "cell_type": "code",
   "execution_count": 15,
   "id": "ab10fd25-6414-4544-8e1b-54206f0a1eff",
   "metadata": {},
   "outputs": [
    {
     "name": "stdin",
     "output_type": "stream",
     "text": [
      " hi\n"
     ]
    },
    {
     "name": "stdout",
     "output_type": "stream",
     "text": [
      "\n",
      "Output from node 'agent':\n",
      "Hello! How can I assist you today?\n",
      "\n"
     ]
    },
    {
     "name": "stdin",
     "output_type": "stream",
     "text": [
      " what is the weather in Boston?\n"
     ]
    },
    {
     "name": "stdout",
     "output_type": "stream",
     "text": [
      "\n",
      "Output from node 'agent':\n",
      "\n",
      "Tool calls: [{'name': 'tavily_search_results_json', 'args': {'query': 'weather in Boston'}, 'id': 'call_hxtSuI3vlIFnqkUAjuCkKbR5'}]\n",
      "\n",
      "\n",
      "Output from node 'verify':\n",
      "I plan to invoke the following tools, do you approve?\n",
      "\n",
      "Type 'y' if you do, anything else to stop.\n",
      "\n",
      "[\n",
      "  {\n",
      "    \"name\": \"tavily_search_results_json\",\n",
      "    \"args\": {\n",
      "      \"query\": \"weather in Boston\"\n",
      "    },\n",
      "    \"id\": \"call_hxtSuI3vlIFnqkUAjuCkKbR5\"\n",
      "  }\n",
      "]\n",
      "\n"
     ]
    },
    {
     "name": "stdin",
     "output_type": "stream",
     "text": [
      " can you specify Boston in the UK?\n"
     ]
    },
    {
     "name": "stdout",
     "output_type": "stream",
     "text": [
      "\n",
      "Output from node 'agent':\n",
      "\n",
      "Tool calls: [{'name': 'tavily_search_results_json', 'args': {'query': 'weather in Boston UK'}, 'id': 'call_8BBiVjpiCipv9RrU94Iu21fI'}]\n",
      "\n",
      "\n",
      "Output from node 'verify':\n",
      "I plan to invoke the following tools, do you approve?\n",
      "\n",
      "Type 'y' if you do, anything else to stop.\n",
      "\n",
      "[\n",
      "  {\n",
      "    \"name\": \"tavily_search_results_json\",\n",
      "    \"args\": {\n",
      "      \"query\": \"weather in Boston UK\"\n",
      "    },\n",
      "    \"id\": \"call_8BBiVjpiCipv9RrU94Iu21fI\"\n",
      "  }\n",
      "]\n",
      "\n"
     ]
    },
    {
     "name": "stdin",
     "output_type": "stream",
     "text": [
      " y\n"
     ]
    },
    {
     "name": "stdout",
     "output_type": "stream",
     "text": [
      "\n",
      "{'messages': [(AIMessage(content='', additional_kwargs={'tool_calls': [{'index': 0, 'id': 'call_8BBiVjpiCipv9RrU94Iu21fI', 'function': {'arguments': '{\"query\":\"weather in Boston UK\"}', 'name': 'tavily_search_results_json'}, 'type': 'function'}]}, response_metadata={'finish_reason': 'tool_calls'}, id='run-8968de36-d897-4600-94ae-f22b2820f0f4-0', tool_calls=[{'name': 'tavily_search_results_json', 'args': {'query': 'weather in Boston UK'}, 'id': 'call_8BBiVjpiCipv9RrU94Iu21fI'}]), False), (ToolMessage(content='[{\\'url\\': \\'https://www.weatherapi.com/\\', \\'content\\': \"{\\'location\\': {\\'name\\': \\'Boston\\', \\'region\\': \\'Lincolnshire\\', \\'country\\': \\'United Kingdom\\', \\'lat\\': 52.98, \\'lon\\': -0.01, \\'tz_id\\': \\'Europe/London\\', \\'localtime_epoch\\': 1716933880, \\'localtime\\': \\'2024-05-28 23:04\\'}, \\'current\\': {\\'last_updated_epoch\\': 1716933600, \\'last_updated\\': \\'2024-05-28 23:00\\', \\'temp_c\\': 15.0, \\'temp_f\\': 59.0, \\'is_day\\': 0, \\'condition\\': {\\'text\\': \\'Partly cloudy\\', \\'icon\\': \\'//cdn.weatherapi.com/weather/64x64/night/116.png\\', \\'code\\': 1003}, \\'wind_mph\\': 11.9, \\'wind_kph\\': 19.1, \\'wind_degree\\': 210, \\'wind_dir\\': \\'SSW\\', \\'pressure_mb\\': 1006.0, \\'pressure_in\\': 29.71, \\'precip_mm\\': 0.0, \\'precip_in\\': 0.0, \\'humidity\\': 88, \\'cloud\\': 50, \\'feelslike_c\\': 13.6, \\'feelslike_f\\': 56.5, \\'windchill_c\\': 10.0, \\'windchill_f\\': 49.9, \\'heatindex_c\\': 12.1, \\'heatindex_f\\': 53.8, \\'dewpoint_c\\': 11.4, \\'dewpoint_f\\': 52.5, \\'vis_km\\': 10.0, \\'vis_miles\\': 6.0, \\'uv\\': 1.0, \\'gust_mph\\': 22.2, \\'gust_kph\\': 35.7}}\"}]', name='tavily_search_results_json', tool_call_id='call_8BBiVjpiCipv9RrU94Iu21fI'), False)]}\n",
      "\n",
      "Output from node 'agent':\n",
      "The current weather in Boston, United Kingdom is as follows:\n",
      "- Temperature: 15.0°C (59.0°F)\n",
      "- Condition: Partly cloudy\n",
      "- Wind: 19.1 km/h SSW\n",
      "- Pressure: 1006.0 mb\n",
      "- Humidity: 88%\n",
      "- Cloud Cover: 50%\n",
      "- Visibility: 10.0 km\n",
      "\n",
      "If you need more detailed information or have any other questions, feel free to ask!\n",
      "\n"
     ]
    },
    {
     "name": "stdin",
     "output_type": "stream",
     "text": [
      " exit\n"
     ]
    }
   ],
   "source": [
    "from langchain_core.messages import HumanMessage\n",
    "\n",
    "\n",
    "config = {\"configurable\": {\"thread_id\": \"thread-2\"}}\n",
    "inputs = {\"messages\": []}\n",
    "\n",
    "for output in app.stream(inputs, config):\n",
    "    for key, value in output.items():\n",
    "        if key in (\"agent\", \"verify\"):\n",
    "            print(f\"\\nOutput from node '{key}':\")\n",
    "            message = value[\"messages\"][0][0]\n",
    "            print(message.content)\n",
    "            if message.tool_calls:\n",
    "                print(f\"Tool calls: {message.tool_calls}\")\n",
    "            print()\n",
    "        elif key == \"action\":\n",
    "            print(f\"\\n{value}\")"
   ]
  }
 ],
 "metadata": {
  "kernelspec": {
   "display_name": "Python 3 (ipykernel)",
   "language": "python",
   "name": "python3"
  },
  "language_info": {
   "codemirror_mode": {
    "name": "ipython",
    "version": 3
   },
   "file_extension": ".py",
   "mimetype": "text/x-python",
   "name": "python",
   "nbconvert_exporter": "python",
   "pygments_lexer": "ipython3",
   "version": "3.10.4"
  }
 },
 "nbformat": 4,
 "nbformat_minor": 5
}
