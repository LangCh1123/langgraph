{
 "cells": [
  {
   "cell_type": "markdown",
   "id": "69ad077f-af4e-49b8-b549-fb3112299aa8",
   "metadata": {},
   "source": [
    "# Can Language Models Solve Olympiad Programming?\n",
    "\n",
    "In this tutorial, you will build a Computing Olympiad agent that leverages two complementary techniques to boost performance: **retrieval** and **reflection**.\n",
    "\n",
    "\n",
    "The code and data are all adapted from the paper \"Can Language Models Solve Olympiad Programming?\" by Quan Shi, Michael Tang, Karthik Narasimhan, and Shunyu Yao.\n",
    "\n",
    "[![arXiv](http://img.shields.io/badge/cs.CL-arXiv%3A2404.10952v1-B31B1B.svg)](https://arxiv.org/abs/2404.10952v1)\n",
    "[![GitHub stars](https://img.shields.io/github/stars/princeton-nlp/USACO.svg?style=social&label=Stars)](https://github.com/princeton-nlp/USACO)\n",
    "\n",
    "The memory overview is as follows:\n",
    "\n",
    "![memory_retrieval](img/usaco-memory.png)\n",
    "\n",
    "\n",
    "TODO: Excalidaraw diagram.\n",
    "\n",
    "## Setup\n",
    "\n",
    "First, install the requirements."
   ]
  },
  {
   "cell_type": "code",
   "execution_count": null,
   "id": "c686827a-8078-4fd4-af7a-638ca1362796",
   "metadata": {},
   "outputs": [],
   "source": [
    "# %pip install -U langgraph langsmith langchain_anthropic datasets"
   ]
  },
  {
   "cell_type": "code",
   "execution_count": 1,
   "id": "e2e542bb-a99e-44d3-8ebb-6a952dcbf2bf",
   "metadata": {},
   "outputs": [
    {
     "name": "stdin",
     "output_type": "stream",
     "text": [
      "LANGCHAIN_API_KEY:  ········\n"
     ]
    }
   ],
   "source": [
    "import getpass\n",
    "import os\n",
    "\n",
    "\n",
    "def _get_env(var: str):\n",
    "    if not os.environ.get(var):\n",
    "        os.environ[var] = getpass.getpass(f\"{var}: \")\n",
    "\n",
    "\n",
    "_get_env(\"ANTHROPIC_API_KEY\")\n",
    "# Recommended\n",
    "_get_env(\"LANGCHAIN_API_KEY\")\n",
    "os.environ[\"LANGCHAIN_TRACING_V2\"] = \"true\""
   ]
  },
  {
   "cell_type": "markdown",
   "id": "c86ebbeb-c070-45d4-99ef-de33b53d447d",
   "metadata": {},
   "source": [
    "## Data\n",
    "\n",
    "Fetch the USACO benchmark data using the util below:"
   ]
  },
  {
   "cell_type": "code",
   "execution_count": 2,
   "id": "f7a0c7bd-512d-4e5b-ab43-1bc3b8c97fd4",
   "metadata": {},
   "outputs": [],
   "source": [
    "import os\n",
    "import zipfile\n",
    "\n",
    "import datasets\n",
    "import requests\n",
    "\n",
    "usaco_url = \"https://storage.googleapis.com/benchmarks-artifacts/usaco/usaco_sampled_with_tests.zip\"\n",
    "zip_path = \"usaco.zip\"\n",
    "extract_path = \"usaco_datasets\"\n",
    "\n",
    "response = requests.get(usaco_url)\n",
    "with open(zip_path, \"wb\") as file:\n",
    "    file.write(response.content)\n",
    "\n",
    "with zipfile.ZipFile(zip_path, \"r\") as zip_ref:\n",
    "    zip_ref.extractall(extract_path)\n",
    "\n",
    "os.remove(zip_path)\n",
    "\n",
    "ds = datasets.load_from_disk(os.path.join(extract_path, \"usaco_v3_sampled_with_tests\"))"
   ]
  },
  {
   "cell_type": "markdown",
   "id": "2e4ad035-2c1a-4e31-93b4-58793d219bc9",
   "metadata": {},
   "source": [
    "#### Test Evaluation Utils\n",
    "\n",
    "We also need a way to evaluate our generated code. We will use this unsafe code execution program to run the generated code against our test cases.\n",
    "**Note:** The code below runs arbitrary code on your local machine! Proceed with caution."
   ]
  },
  {
   "cell_type": "code",
   "execution_count": null,
   "id": "54f9d037-121e-412f-857a-3e0ccc73892e",
   "metadata": {},
   "outputs": [],
   "source": [
    "import multiprocessing\n",
    "import queue\n",
    "import subprocess\n",
    "import sys\n",
    "import time\n",
    "import traceback\n",
    "\n",
    "multiprocessing.set_start_method(\"fork\", force=True)\n",
    "# WARNING\n",
    "# This program exists to execute untrusted model-generated code. Although\n",
    "# it is highly unlikely that model-generated code will do something overtly\n",
    "# malicious in response to this test suite, model-generated code may act\n",
    "# destructively due to a lack of model capability or alignment.\n",
    "# Users are strongly encouraged to sandbox this evaluation suite so that it\n",
    "# does not perform destructive actions on their host or network.\n",
    "# Proceed at your own risk:\n",
    "\n",
    "\n",
    "def exec_program(q, program, input_data, expected_output, timeout):\n",
    "    try:\n",
    "        start_time = time.time()\n",
    "        process = subprocess.Popen(\n",
    "            [sys.executable, \"-c\", program],\n",
    "            stdin=subprocess.PIPE,\n",
    "            stdout=subprocess.PIPE,\n",
    "            stderr=subprocess.PIPE,\n",
    "            text=True,\n",
    "        )\n",
    "        stdout, stderr = process.communicate(input=input_data, timeout=timeout)\n",
    "        if time.time() - start_time > timeout:\n",
    "            raise TimeoutError(\"Execution timed out.\")\n",
    "        if process.returncode != 0:\n",
    "            q.put(f\"failed: {stderr}\")\n",
    "        else:\n",
    "            if stdout.strip() == expected_output.strip():\n",
    "                q.put(\"passed\")\n",
    "            else:\n",
    "                q.put(f\"wrong answer. Expected '{expected_output}', got '{stdout}'\")\n",
    "    except subprocess.TimeoutExpired:\n",
    "        process.kill()\n",
    "        q.put(\"timed out\")\n",
    "    except Exception as e:\n",
    "        q.put(f\"failed: {traceback.format_exc()}\")\n",
    "\n",
    "\n",
    "def check_correctness(\n",
    "    program: str, input_data: str, expected_output: str, timeout: float\n",
    ") -> str:\n",
    "    q = multiprocessing.Queue()\n",
    "    process = multiprocessing.Process(\n",
    "        target=exec_program, args=(q, program, input_data, expected_output, timeout)\n",
    "    )\n",
    "    process.start()\n",
    "    process.join(timeout=timeout + 1)\n",
    "    if process.is_alive():\n",
    "        process.terminate()\n",
    "        process.join()\n",
    "        result = \"timed out\"\n",
    "    else:\n",
    "        try:\n",
    "            result = q.get_nowait()\n",
    "        except queue.Empty:\n",
    "            result = \"no result returned\"\n",
    "    return result"
   ]
  },
  {
   "cell_type": "markdown",
   "id": "1d5da52f-f804-47b9-989a-25a1b2f461f6",
   "metadata": {},
   "source": [
    "## Part 1: Zero-Shot\n",
    "\n",
    "In our first section, we will build a simple zero-shot tool-calling agent to try to solve these problems. While simple, \n",
    "\n",
    "TODO: Add graph here.\n"
   ]
  },
  {
   "cell_type": "markdown",
   "id": "00f91dac-d13b-4221-be1b-9254ca849c8d",
   "metadata": {},
   "source": [
    "### State"
   ]
  },
  {
   "cell_type": "code",
   "execution_count": 5,
   "id": "f43d68d9-10be-4544-879a-88a33db18bea",
   "metadata": {},
   "outputs": [],
   "source": [
    "from typing import Annotated, Optional\n",
    "\n",
    "from typing_extensions import TypedDict\n",
    "\n",
    "from langgraph.graph.message import AnyMessage, add_messages\n",
    "\n",
    "\n",
    "class TestCase(TypedDict):\n",
    "    inputs: str\n",
    "    outputs: str\n",
    "\n",
    "\n",
    "class State(TypedDict):\n",
    "    # Append-only chat memory\n",
    "    messages: Annotated[list[AnyMessage], add_messages]\n",
    "    # From the dataset\n",
    "    test_cases: list[TestCase]\n",
    "    runtime_limit: int\n",
    "    status: str"
   ]
  },
  {
   "cell_type": "markdown",
   "id": "64921a60-411a-4a9b-aaf0-8476d02d8a3a",
   "metadata": {},
   "source": [
    "Now, convert the dataset into inputs our graph will accept."
   ]
  },
  {
   "cell_type": "code",
   "execution_count": 6,
   "id": "6d56776f-993b-4ca7-89ef-21dec01dc9d3",
   "metadata": {},
   "outputs": [],
   "source": [
    "input_states = [\n",
    "    {\n",
    "        \"messages\": [(\"user\", row[\"description\"])],\n",
    "        \"test_cases\": row[\"test_cases\"],\n",
    "        \"runtime_limit\": row[\"runtime_limit\"],\n",
    "        \"status\": \"in_progress\",\n",
    "    }\n",
    "    for row in ds\n",
    "]"
   ]
  },
  {
   "cell_type": "markdown",
   "id": "9e7883ee-b6b3-4d89-b5a5-2e139fe361c9",
   "metadata": {},
   "source": [
    "## Solver"
   ]
  },
  {
   "cell_type": "code",
   "execution_count": 7,
   "id": "7b9e7742-16a3-4ad2-bc63-5f9cd4fd734b",
   "metadata": {},
   "outputs": [],
   "source": [
    "from langchain_core.language_models import BaseChatModel\n",
    "from langchain_core.prompts import ChatPromptTemplate\n",
    "from langchain_core.pydantic_v1 import BaseModel, Field\n",
    "\n",
    "\n",
    "class writePython(BaseModel):\n",
    "    \"\"\"Write python code that resolves the problem.\"\"\"\n",
    "\n",
    "    reasoning: str = Field(..., description=\"Conceptual solution.\")\n",
    "    pseudocode: str = Field(..., description=\"Detailed English pseudocode.\")\n",
    "    code: str = Field(..., description=\"Valid Python 3 solution to the problem\")\n",
    "\n",
    "\n",
    "class Solver:\n",
    "    def __init__(self, llm: BaseChatModel, prompt: ChatPromptTemplate):\n",
    "        self.runnable = prompt | llm.bind_tools([writePython])\n",
    "\n",
    "    def __call__(self, state: State) -> dict:\n",
    "        # Our agent only can see the \"messages\" and will ignore the test info\n",
    "        return {\"messages\": [self.runnable.invoke({\"messages\": state[\"messages\"]})]}"
   ]
  },
  {
   "cell_type": "code",
   "execution_count": 34,
   "id": "6cc472f1-b9b3-4f81-a797-c64704bb07d5",
   "metadata": {},
   "outputs": [
    {
     "name": "stdout",
     "output_type": "stream",
     "text": [
      "***********************************Prompt***********************************\n",
      "================================\u001b[1m System Message \u001b[0m================================\n",
      "\n",
      "You are a world-class competitive programmer.\n",
      "Please reply with a Python 3 solution to the problem below. \n",
      "First, reason through the problem and conceptualize a solution.\n",
      "Then write detailed pseudocode to uncover any potential logical errors or omissions.\n",
      "Finally output the working Python code for your solution, ensuring to fix any errors uncovered while writing pseudocode.\n",
      "\n",
      "No outside libraries are allowed.\n",
      "\n",
      "=============================\u001b[1m Messages Placeholder \u001b[0m=============================\n",
      "\n",
      "\u001b[33;1m\u001b[1;3m{messages}\u001b[0m\n"
     ]
    }
   ],
   "source": [
    "from langchain import hub\n",
    "from langchain_anthropic import ChatAnthropic\n",
    "\n",
    "# For this section, we are testing zero-shot performance and won't have\n",
    "# any examples\n",
    "prompt = hub.pull(\"wfh/usaco-draft-solver\").partial(examples=\"\")\n",
    "print(\"*\" * 35 + \"Prompt\" + \"*\" * 35)\n",
    "prompt.pretty_print()\n",
    "\n",
    "# Use Haiku if you want to save $$\n",
    "# llm = ChatAnthropic(model=\"claude-3-haiku-20240307\")\n",
    "llm = ChatAnthropic(model=\"claude-3-opus-20240229\")\n",
    "\n",
    "solver = Solver(llm, prompt)"
   ]
  },
  {
   "cell_type": "code",
   "execution_count": 9,
   "id": "5d9560ba-900a-43d1-ad38-f132fd660337",
   "metadata": {},
   "outputs": [
    {
     "name": "stdout",
     "output_type": "stream",
     "text": [
      "***********************************Example***********************************\n",
      "==================================\u001b[1m Ai Message \u001b[0m==================================\n",
      "\n",
      "[{'id': 'toolu_01TFKNYCUNE8Kpw8EbxDq4HN', 'input': {'reasoning': 'To get a perfectly random sample from an infinite stream, we can use the \"reservoir sampling\" algorithm. This algorithm allows us to maintain a fixed-size sample of the stream, where each item in the stream has an equal probability of being in the sample.\\n\\nThe key idea is to maintain a reservoir of size k, and as we process each item from the stream, we randomly decide whether to include it in the reservoir or not. This ensures that the reservoir always contains a random sample of the last k items seen.', 'pseudocode': '1. Initialize an empty reservoir of size k.\\n2. For each item in the infinite stream:\\n   a. Generate a random number between 0 and the current index of the stream (inclusive).\\n   b. If the random number is less than k, replace a random item in the reservoir with the current item.\\n3. Return the reservoir as the sample.', 'code': 'import random\\n\\ndef random_sample(k):\\n    \"\"\"\\n    Returns a perfectly random sample of size k from an infinite stream.\\n    \"\"\"\\n    reservoir = []\\n    \\n    # Initialize the reservoir\\n    for i in range(k):\\n        reservoir.append(next(stream))\\n    \\n    # Process the rest of the stream\\n    index = k\\n    while True:\\n        try:\\n            item = next(stream)\\n            rand_index = random.randint(0, index)\\n            if rand_index < k:\\n                reservoir[rand_index] = item\\n            index += 1\\n        except StopIteration:\\n            break\\n    \\n    return reservoir'}, 'name': 'writePython', 'type': 'tool_use'}]\n"
     ]
    }
   ],
   "source": [
    "print(\"*\" * 35 + \"Example\" + \"*\" * 35)\n",
    "result = solver(\n",
    "    {\n",
    "        \"messages\": [\n",
    "            (\n",
    "                \"user\",\n",
    "                \"How do I get a perfectly random sample from an infinite stream\",\n",
    "            )\n",
    "        ]\n",
    "    }\n",
    ")\n",
    "result[\"messages\"][0].pretty_print()\n",
    "# Could expand to include (1)\n",
    "# 1. Restate the problem in plain English\n",
    "# 2. Closely following the explanation, restate and explain the solution in plain English\n",
    "# 3. Write a pseudocode solution\n",
    "# 4. Output the final Python solution with your solution steps in comments."
   ]
  },
  {
   "cell_type": "markdown",
   "id": "58c5fa7a-a2eb-4954-be34-4194a58f00d3",
   "metadata": {},
   "source": [
    "## Run Tests"
   ]
  },
  {
   "cell_type": "code",
   "execution_count": 11,
   "id": "4a8f3ca4-cee7-4de3-895b-33448e221809",
   "metadata": {},
   "outputs": [
    {
     "name": "stdout",
     "output_type": "stream",
     "text": [
      "passed\n"
     ]
    }
   ],
   "source": [
    "program_code = \"print('hello, world!')\"\n",
    "input_data = \"\"\n",
    "expected_output = \"hello, world!\"\n",
    "timeout = 2\n",
    "\n",
    "test_result = check_correctness(program_code, input_data, expected_output, timeout)\n",
    "print(test_result)"
   ]
  },
  {
   "cell_type": "markdown",
   "id": "d89d5d97-b1c5-422c-b2ff-3bfc529a8ab0",
   "metadata": {},
   "source": [
    "Now define the evaluate node."
   ]
  },
  {
   "cell_type": "code",
   "execution_count": 31,
   "id": "1785015b-24f8-415f-b950-e229b5137887",
   "metadata": {},
   "outputs": [],
   "source": [
    "from langchain_core.messages import AIMessage, HumanMessage, ToolMessage\n",
    "\n",
    "\n",
    "# This is the node we will add to the graph\n",
    "def format_tool_message(response: str, ai_message: AIMessage):\n",
    "    return ToolMessage(\n",
    "        content=response + \"\\nMake all fixes using the writePython tool.\",\n",
    "        tool_call_id=ai_message.tool_calls[0][\"id\"],\n",
    "    )\n",
    "\n",
    "\n",
    "def evaluate(state: State):\n",
    "    test_cases = state[\"test_cases\"]\n",
    "    runtime_limit = state[\"runtime_limit\"]\n",
    "    ai_message: AIMessage = state[\"messages\"][-1]\n",
    "    if not ai_message.tool_calls:\n",
    "        return {\n",
    "            \"messages\": [\n",
    "                HumanMessage(\n",
    "                    content=\"No code submitted. Please try again using the correct python code.\"\n",
    "                )\n",
    "            ]\n",
    "        }\n",
    "    try:\n",
    "        code = ai_message.tool_calls[0][\"args\"][\"code\"]\n",
    "    except Exception as e:\n",
    "        return {\"messages\": [format_tool_message(repr(e), ai_message)]}\n",
    "    num_test_cases = len(test_cases)\n",
    "    succeeded = 0\n",
    "    test_results = []\n",
    "    # TODO: Multiprocess\n",
    "    for test_case in test_cases:\n",
    "        input_data = test_case[\"inputs\"]\n",
    "        expected_output = test_case[\"outputs\"]\n",
    "        test_result = check_correctness(code, input_data, expected_output, timeout)\n",
    "        test_results.append(test_result)\n",
    "        if test_result == \"passed\":\n",
    "            succeeded += 1\n",
    "    pass_rate = succeeded / num_test_cases if num_test_cases else \"N/A\"\n",
    "    if pass_rate == 1:\n",
    "        return {\"status\": \"success\"}\n",
    "\n",
    "    responses = \"\\n\".join(\n",
    "        [f\"<test id={i}>\\n{r}\\n</test>\" for i, r in enumerate(test_results)]\n",
    "    )\n",
    "    response = f\"Incorrect submission. Please respond with updated code.\\nPass rate: {succeeded}/{num_test_cases}\\nResults:\\n{responses}\"\n",
    "    formatted_message = format_tool_message(response, ai_message)\n",
    "    return {\"messages\": [formatted_message]}"
   ]
  },
  {
   "cell_type": "code",
   "execution_count": 32,
   "id": "a477d9a9-f413-4144-88ac-84273935bb9b",
   "metadata": {},
   "outputs": [],
   "source": [
    "from langgraph.graph import END, StateGraph\n",
    "\n",
    "builder = StateGraph(State)\n",
    "builder.add_node(\"solver\", solver)\n",
    "builder.set_entry_point(\"solver\")\n",
    "builder.add_node(\"evaluate\", evaluate)\n",
    "builder.add_edge(\"solver\", \"evaluate\")\n",
    "\n",
    "\n",
    "def control_edge(state: State):\n",
    "    if state.get(\"status\") == \"success\":\n",
    "        return END\n",
    "    return \"solver\"\n",
    "\n",
    "\n",
    "builder.add_conditional_edges(\"evaluate\", control_edge, {END: END, \"solver\": \"solver\"})\n",
    "graph = builder.compile()"
   ]
  },
  {
   "cell_type": "code",
   "execution_count": 33,
   "id": "7275a2c3-1818-4d14-a7a5-97bc56243a9b",
   "metadata": {},
   "outputs": [
    {
     "data": {
      "image/jpeg": "[encoded data removed]",
      "text/plain": [
       "<IPython.core.display.Image object>"
      ]
     },
     "metadata": {},
     "output_type": "display_data"
    }
   ],
   "source": [
    "from IPython.display import Image, display\n",
    "\n",
    "try:\n",
    "    display(Image(graph.get_graph().draw_mermaid_png()))\n",
    "except:\n",
    "    # This requires some extra dependencies and is optional\n",
    "    pass"
   ]
  },
  {
   "cell_type": "markdown",
   "id": "fc4b1bb4-262f-41c3-822d-e015daf0744a",
   "metadata": {},
   "source": [
    "Now, run the graph."
   ]
  },
  {
   "cell_type": "code",
   "execution_count": 43,
   "id": "308d6e18-69ad-4e8d-9c5f-06111b0806ee",
   "metadata": {},
   "outputs": [
    {
     "name": "stdout",
     "output_type": "stream",
     "text": [
      "\n",
      "Farmer John has $N$ ($1 \\leq N \\leq 2 \\cdot 10^5$) farms, numbered from $1$ to\n",
      "$N$. It is known that FJ closes farm $i$ at time $c_i$. Bessie wakes up at time\n",
      "$S$, and wants to maximize the productivity of her day by visiting as many farms\n",
      "as possible before they close. She plans to visit farm $i$ on time $t_i + S$.\n",
      "Bessie must arrive at a farm strictly before Farmer John closes it to actually visit it.\n",
      "\n",
      "Bessie has $Q$ $(1 \\leq Q \\leq 2 \\cdot 10^5)$ queries. For each query, she gives\n",
      "you two integers $S$ and $V$. For each query, output whether Bessie can visit at\n",
      "least $V$ farms if she wakes up at time $S$.\n",
      "\n",
      "INPUT FORMAT (input arrives from the terminal / stdin):\n",
      "The first line consists of $N$ and $Q$.\n",
      "\n",
      "The second line consists of $c_1, c_2, c_3 \\dots c_N$ ($1 \\leq c_i \\leq 10^6$).\n",
      "\n",
      "The third line consists of $t_1, t_2, t_3 \\dots t_N$ ($1 \\leq t_i \\leq 10^6$).\n",
      "\n",
      "The next $Q$ lines each consist of two integers $V$ ($1 \\leq V \\leq N$) and $S$\n",
      "($1 \\leq S \\leq 10^6$).\n",
      "\n",
      "OUTPUT FORMAT (print output to the terminal / stdout):\n",
      "For each of the $Q$ queries, output YES or NO on a new line.\n",
      "\n",
      "SAMPLE INPUT:\n",
      "5 5\n",
      "3 5 7 9 12\n",
      "4 2 3 3 8\n",
      "1 5\n",
      "1 6\n",
      "3 3\n",
      "4 2\n",
      "5 1\n",
      "SAMPLE OUTPUT: \n",
      "YES\n",
      "NO\n",
      "YES\n",
      "YES\n",
      "NO\n",
      "\n",
      "For the first query, Bessie will visit the farms at time $t = [9, 7, 8, 8, 13]$,\n",
      "so she will only get to visit farm $4$ on time before FJ closes the farm.\n",
      "\n",
      "For the second query, Bessie will not be able to visit any of the farms on time.\n",
      "\n",
      "For the third query, Bessie will visit farms $3, 4, 5$ on time.\n",
      "\n",
      "For the fourth and fifth queries, Bessie will be able to visit all but the first\n",
      "farm on time.\n",
      "\n",
      "SCORING:\n",
      "Inputs 2-4: $N,Q\\le 10^3$Inputs 5-9: $c_i, t_i \\le 20$Inputs 10-17: No additional constraints.\n",
      "\n",
      "\n",
      "Problem credits: Chongtian Ma\n",
      "\n"
     ]
    }
   ],
   "source": [
    "input_state = input_states[0].copy()\n",
    "# We will reduce the test cases to speed this notebook up\n",
    "input_state[\"test_cases\"] = input_state[\"test_cases\"][:3]\n",
    "print(input_state[\"messages\"][0][1])"
   ]
  },
  {
   "cell_type": "code",
   "execution_count": 44,
   "id": "2ebe0da0-8f27-4805-829c-54bc1dc29ba4",
   "metadata": {},
   "outputs": [
    {
     "name": "stdout",
     "output_type": "stream",
     "text": [
      "Assistant: [{'id': 'toolu_019kK9iknYDZYcjtHamdvpHA', 'input':\n",
      "Assistant: Incorrect submission. Please respond with updated \n",
      "Assistant: [{'id': 'toolu_01RePam9CkQ2AaDcUPGmy3Dy', 'input':\n",
      "Assistant: Incorrect submission. Please respond with updated \n",
      "Assistant: [{'id': 'toolu_012EgNzVV6H358kMSQ8EnSKY', 'input':\n",
      "Assistant: Incorrect submission. Please respond with updated \n",
      "Assistant: [{'text': '<result>\\nHere is the Python 3 solution\n",
      "Assistant: Incorrect submission. Please respond with updated \n",
      "Assistant: [{'id': 'toolu_01GVfnJ1tiuWJh3itwsBop93', 'input':\n",
      "Assistant: Incorrect submission. Please respond with updated \n",
      "Assistant: [{'id': 'toolu_01ReaBtkLyZqSLyvU5tAgs8g', 'input':\n",
      "Assistant: Incorrect submission. Please respond with updated \n",
      "Assistant: [{'text': '<result>\\nHere is the Python 3 solution\n",
      "Assistant: Incorrect submission. Please respond with updated \n",
      "Assistant: [{'id': 'toolu_0134AsW3tnszRT4onJ6wik7H', 'input':\n",
      "Assistant: Incorrect submission. Please respond with updated \n",
      "Assistant: [{'id': 'toolu_01AMK1Zx6RoW5u9QXKELe7Ew', 'input':\n",
      "Assistant: Incorrect submission. Please respond with updated \n",
      "Assistant: [{'text': '<result>\\nHere is the Python 3 solution\n",
      "Assistant: Incorrect submission. Please respond with updated \n",
      "Assistant: [{'id': 'toolu_015NmPqToGcWYknhbeYH6vTa', 'input':\n",
      "Assistant: Incorrect submission. Please respond with updated \n",
      "Assistant: [{'id': 'toolu_017LQg8hWCMQBiYFKRbkzf5X', 'input':\n",
      "Assistant: Incorrect submission. Please respond with updated \n"
     ]
    },
    {
     "ename": "GraphRecursionError",
     "evalue": "Recursion limit of 25 reachedwithout hitting a stop condition. You can increase the limit by setting the `recursion_limit` config key.",
     "output_type": "error",
     "traceback": [
      "\u001b[0;31m---------------------------------------------------------------------------\u001b[0m",
      "\u001b[0;31mGraphRecursionError\u001b[0m                       Traceback (most recent call last)",
      "Cell \u001b[0;32mIn[44], line 19\u001b[0m\n\u001b[1;32m     17\u001b[0m \u001b[38;5;28;01mwith\u001b[39;00m tracing_cm:\n\u001b[1;32m     18\u001b[0m     events \u001b[38;5;241m=\u001b[39m graph\u001b[38;5;241m.\u001b[39mstream(input_state)\n\u001b[0;32m---> 19\u001b[0m \u001b[43m    \u001b[49m\u001b[38;5;28;43;01mfor\u001b[39;49;00m\u001b[43m \u001b[49m\u001b[43mevent\u001b[49m\u001b[43m \u001b[49m\u001b[38;5;129;43;01min\u001b[39;49;00m\u001b[43m \u001b[49m\u001b[43mevents\u001b[49m\u001b[43m:\u001b[49m\n\u001b[1;32m     20\u001b[0m \u001b[43m        \u001b[49m\u001b[38;5;28;43;01mfor\u001b[39;49;00m\u001b[43m \u001b[49m\u001b[43mvalue\u001b[49m\u001b[43m \u001b[49m\u001b[38;5;129;43;01min\u001b[39;49;00m\u001b[43m \u001b[49m\u001b[43mevent\u001b[49m\u001b[38;5;241;43m.\u001b[39;49m\u001b[43mvalues\u001b[49m\u001b[43m(\u001b[49m\u001b[43m)\u001b[49m\u001b[43m:\u001b[49m\n\u001b[1;32m     21\u001b[0m \u001b[43m            \u001b[49m\u001b[38;5;28;43;01mif\u001b[39;49;00m\u001b[43m \u001b[49m\u001b[38;5;28;43misinstance\u001b[39;49m\u001b[43m(\u001b[49m\u001b[43mvalue\u001b[49m\u001b[43m[\u001b[49m\u001b[38;5;124;43m\"\u001b[39;49m\u001b[38;5;124;43mmessages\u001b[39;49m\u001b[38;5;124;43m\"\u001b[39;49m\u001b[43m]\u001b[49m\u001b[43m[\u001b[49m\u001b[38;5;241;43m-\u001b[39;49m\u001b[38;5;241;43m1\u001b[39;49m\u001b[43m]\u001b[49m\u001b[43m,\u001b[49m\u001b[43m \u001b[49m\u001b[43mBaseMessage\u001b[49m\u001b[43m)\u001b[49m\u001b[43m:\u001b[49m\n",
      "File \u001b[0;32m~/code/lc/langgraph/langgraph/pregel/__init__.py:645\u001b[0m, in \u001b[0;36mPregel.stream\u001b[0;34m(self, input, config, stream_mode, output_keys, input_keys, interrupt_before_nodes, interrupt_after_nodes, debug)\u001b[0m\n\u001b[1;32m    643\u001b[0m         \u001b[38;5;28;01mbreak\u001b[39;00m\n\u001b[1;32m    644\u001b[0m \u001b[38;5;28;01melif\u001b[39;00m step \u001b[38;5;241m==\u001b[39m config[\u001b[38;5;124m\"\u001b[39m\u001b[38;5;124mrecursion_limit\u001b[39m\u001b[38;5;124m\"\u001b[39m]:\n\u001b[0;32m--> 645\u001b[0m     \u001b[38;5;28;01mraise\u001b[39;00m GraphRecursionError(\n\u001b[1;32m    646\u001b[0m         \u001b[38;5;124mf\u001b[39m\u001b[38;5;124m\"\u001b[39m\u001b[38;5;124mRecursion limit of \u001b[39m\u001b[38;5;132;01m{\u001b[39;00mconfig[\u001b[38;5;124m'\u001b[39m\u001b[38;5;124mrecursion_limit\u001b[39m\u001b[38;5;124m'\u001b[39m]\u001b[38;5;132;01m}\u001b[39;00m\u001b[38;5;124m reached\u001b[39m\u001b[38;5;124m\"\u001b[39m\n\u001b[1;32m    647\u001b[0m         \u001b[38;5;124m\"\u001b[39m\u001b[38;5;124mwithout hitting a stop condition. You can increase the \u001b[39m\u001b[38;5;124m\"\u001b[39m\n\u001b[1;32m    648\u001b[0m         \u001b[38;5;124m\"\u001b[39m\u001b[38;5;124mlimit by setting the `recursion_limit` config key.\u001b[39m\u001b[38;5;124m\"\u001b[39m\n\u001b[1;32m    649\u001b[0m     )\n\u001b[1;32m    651\u001b[0m \u001b[38;5;66;03m# before execution, check if we should interrupt\u001b[39;00m\n\u001b[1;32m    652\u001b[0m \u001b[38;5;28;01mif\u001b[39;00m _should_interrupt(\n\u001b[1;32m    653\u001b[0m     checkpoint,\n\u001b[1;32m    654\u001b[0m     interrupt_before_nodes,\n\u001b[1;32m    655\u001b[0m     \u001b[38;5;28mself\u001b[39m\u001b[38;5;241m.\u001b[39mstream_channels_list,\n\u001b[1;32m    656\u001b[0m     next_tasks,\n\u001b[1;32m    657\u001b[0m ):\n",
      "\u001b[0;31mGraphRecursionError\u001b[0m: Recursion limit of 25 reachedwithout hitting a stop condition. You can increase the limit by setting the `recursion_limit` config key."
     ]
    }
   ],
   "source": [
    "from langchain_core.messages import BaseMessage\n",
    "from langchain_core.tracers.context import tracing_v2_enabled\n",
    "from langsmith import Client\n",
    "\n",
    "\n",
    "def _hide_test_cases(inputs):\n",
    "    copied = inputs.copy()\n",
    "    # These are tens of MB in size. No need to send them up\n",
    "    copied[\"test_cases\"] = f\"...\"\n",
    "    return copied\n",
    "\n",
    "\n",
    "client = Client(hide_inputs=_hide_test_cases, hide_outputs=_hide_test_cases)\n",
    "\n",
    "with tracing_v2_enabled(client=client):\n",
    "    events = graph.stream(input_state)\n",
    "    for event in events:\n",
    "        for value in event.values():\n",
    "            if isinstance(value[\"messages\"][-1], BaseMessage):\n",
    "                print(\n",
    "                    \"Assistant:\",\n",
    "                    str(value[\"messages\"][-1].content).replace(\"\\n\", \"\\\\n\")[:50],\n",
    "                )"
   ]
  },
  {
   "cell_type": "markdown",
   "id": "2c496d9a-a95b-4cab-86fa-daafc7ddd065",
   "metadata": {},
   "source": [
    "It wasn't able to solve it in time! These problems must be hard! In the next section we will add an improvement: \"episodic memory\"."
   ]
  },
  {
   "cell_type": "markdown",
   "id": "090a1639-09c5-4682-813f-71100f236eb3",
   "metadata": {},
   "source": [
    "## Part 2: Episodic Memory\n",
    "\n",
    "What the authors call episodic memory is really few-shot prompting over similar examples using the correct answers. Lets add this below."
   ]
  },
  {
   "cell_type": "code",
   "execution_count": 46,
   "id": "d612dd8d-31af-426c-944b-203acd55ace0",
   "metadata": {},
   "outputs": [
    {
     "name": "stdout",
     "output_type": "stream",
     "text": [
      "\n",
      "\u001b[1m[\u001b[0m\u001b[34;49mnotice\u001b[0m\u001b[1;39;49m]\u001b[0m\u001b[39;49m A new release of pip is available: \u001b[0m\u001b[31;49m23.3.1\u001b[0m\u001b[39;49m -> \u001b[0m\u001b[32;49m24.0\u001b[0m\n",
      "\u001b[1m[\u001b[0m\u001b[34;49mnotice\u001b[0m\u001b[1;39;49m]\u001b[0m\u001b[39;49m To update, run: \u001b[0m\u001b[32;49mpip install --upgrade pip\u001b[0m\n",
      "Note: you may need to restart the kernel to use updated packages.\n"
     ]
    }
   ],
   "source": [
    "%pip install --upgrade --quiet  rank_bm25\n",
    "from langchain_community.retrievers import BM25Retriever"
   ]
  },
  {
   "cell_type": "markdown",
   "id": "32e0c485-8eba-41e6-ae29-64bcea98d19e",
   "metadata": {},
   "source": [
    "#### State"
   ]
  },
  {
   "cell_type": "code",
   "execution_count": 133,
   "id": "16937fef-58b9-4ab2-bbfc-5237aad235ec",
   "metadata": {},
   "outputs": [],
   "source": [
    "from typing import Annotated, Optional\n",
    "\n",
    "from typing_extensions import TypedDict\n",
    "\n",
    "from langgraph.graph.message import AnyMessage, add_messages\n",
    "\n",
    "\n",
    "class TestCase(TypedDict):\n",
    "    inputs: str\n",
    "    outputs: str\n",
    "\n",
    "\n",
    "class State(TypedDict):\n",
    "    # Append-only chat memory\n",
    "    messages: Annotated[list[AnyMessage], add_messages]\n",
    "    candidate: AIMessage\n",
    "    # From the dataset\n",
    "    test_cases: list[TestCase]\n",
    "    runtime_limit: int\n",
    "    examples: str\n",
    "    status: str"
   ]
  },
  {
   "cell_type": "code",
   "execution_count": 134,
   "id": "25f947a7-15bb-4119-a47e-b5c33ca0a249",
   "metadata": {},
   "outputs": [],
   "source": [
    "from langchain import hub\n",
    "from langchain_anthropic import ChatAnthropic\n",
    "\n",
    "\n",
    "class Solver:\n",
    "    def __init__(self, llm: BaseChatModel, prompt: ChatPromptTemplate):\n",
    "        self.runnable = prompt | llm.bind_tools([writePython])\n",
    "\n",
    "    def __call__(self, state: State) -> dict:\n",
    "        # Our agent only can see the \"messages\" and will ignore the test info\n",
    "        inputs = {\"messages\": state[\"messages\"]}\n",
    "        has_examples = bool(state.get(\"examples\"))\n",
    "        if has_examples:\n",
    "            # Used in the solve node\n",
    "            inputs[\"examples\"] = state[\"examples\"]\n",
    "            return {\"messages\": [self.runnable.invoke(inputs)]}\n",
    "        # Used in the draft node\n",
    "        return {\"candidate\": self.runnable.invoke(inputs)}\n",
    "\n",
    "\n",
    "prompt = hub.pull(\"wfh/usaco-draft-solver\")\n",
    "llm = ChatAnthropic(model=\"claude-3-opus-20240229\")\n",
    "\n",
    "draft_solver = Solver(llm, prompt.partial(examples=\"\"))\n",
    "solver = Solver(llm, prompt)"
   ]
  },
  {
   "cell_type": "markdown",
   "id": "273a526b-3b52-4630-a58e-0317a0034609",
   "metadata": {},
   "source": [
    "#### Retrieve\n",
    "\n",
    "The retrieve node takes a candidate solution (made by the 'solver' node), uses _this_ to search for similar examples, then formats those in the message."
   ]
  },
  {
   "cell_type": "code",
   "execution_count": 135,
   "id": "96a1ff96-7556-4959-9f54-1ade3bd1c01a",
   "metadata": {},
   "outputs": [],
   "source": [
    "def format_example(row):\n",
    "    question = row[\"description\"]\n",
    "    answer = row[\"solution\"]\n",
    "    return f\"\"\"<problem>\n",
    "{question}\n",
    "</problem>\n",
    "<solution>\n",
    "{answer}\n",
    "</solution>\"\"\"\n",
    "\n",
    "\n",
    "# Skip index 1 so we don't include the actual solution in our prompt.\n",
    "# This is \"simulating\" having seen other in-context examples\n",
    "retriever = BM25Retriever.from_texts([format_example(row) for row in list(ds)[1:]])"
   ]
  },
  {
   "cell_type": "markdown",
   "id": "6ad20d3a-291c-41a5-a343-bd14284f76f2",
   "metadata": {},
   "source": [
    "Now build the node."
   ]
  },
  {
   "cell_type": "code",
   "execution_count": 148,
   "id": "af42962d-c06e-4b6e-96df-72ad48f17617",
   "metadata": {},
   "outputs": [],
   "source": [
    "from langchain_core.runnables import RunnableConfig\n",
    "\n",
    "\n",
    "def retrieve_examples(state: State, config: RunnableConfig):\n",
    "    top_k = config[\"configurable\"].get(\"k\") or 2\n",
    "    ai_message: AIMessage = state[\"candidate\"]\n",
    "    if not ai_message.tool_calls:\n",
    "        # We err here. To make more robust, you could loop back\n",
    "        raise ValueError(\"Draft agent did not produce a valid code block\")\n",
    "    code = ai_message.tool_calls[0][\"args\"][\"code\"]\n",
    "    examples_str = \"\\n\".join(\n",
    "        [doc.page_content for doc in retriever.invoke(code)[:top_k]]\n",
    "    )\n",
    "    examples_str = f\"\"\"\n",
    "You previously solved the following problems in this competition:\n",
    "<Examples>\n",
    "{examples_str}\n",
    "<Examples>\n",
    "Approach this new question with similar sophistication.\"\"\"\n",
    "    return {\"examples\": examples_str}"
   ]
  },
  {
   "cell_type": "markdown",
   "id": "df5cbe72-fca0-4974-a769-284267d3df91",
   "metadata": {},
   "source": [
    "#### Graph"
   ]
  },
  {
   "cell_type": "code",
   "execution_count": 144,
   "id": "e6e73e85-1232-4848-beba-3139ac7d0a64",
   "metadata": {},
   "outputs": [],
   "source": [
    "from langgraph.checkpoint.sqlite import SqliteSaver\n",
    "from langgraph.graph import END, StateGraph\n",
    "\n",
    "builder = StateGraph(State)\n",
    "builder.add_node(\"draft\", draft_solver)\n",
    "builder.set_entry_point(\"draft\")\n",
    "builder.add_node(\"retrieve\", retrieve_examples)\n",
    "builder.add_node(\"solve\", solver)\n",
    "builder.add_node(\"evaluate\", evaluate)\n",
    "# Add connectivity\n",
    "builder.add_edge(\"draft\", \"retrieve\")\n",
    "builder.add_edge(\"retrieve\", \"solve\")\n",
    "builder.add_edge(\"solve\", \"evaluate\")\n",
    "\n",
    "\n",
    "def control_edge(state: State):\n",
    "    if state.get(\"status\") == \"success\":\n",
    "        return END\n",
    "    return \"solve\"\n",
    "\n",
    "\n",
    "builder.add_conditional_edges(\"evaluate\", control_edge, {END: END, \"solve\": \"solve\"})\n",
    "\n",
    "\n",
    "checkpointer = SqliteSaver.from_conn_string(\":memory:\")\n",
    "graph = builder.compile(checkpointer=checkpointer)"
   ]
  },
  {
   "cell_type": "code",
   "execution_count": 145,
   "id": "57acf78d-5e68-46dd-adae-2259e5c5d3f1",
   "metadata": {},
   "outputs": [
    {
     "data": {
      "image/jpeg": "[encoded data removed]",
      "text/plain": [
       "<IPython.core.display.Image object>"
      ]
     },
     "metadata": {},
     "output_type": "display_data"
    }
   ],
   "source": [
    "from IPython.display import Image, display\n",
    "\n",
    "try:\n",
    "    display(Image(graph.get_graph().draw_mermaid_png()))\n",
    "except:\n",
    "    # This requires some extra dependencies and is optional\n",
    "    pass"
   ]
  },
  {
   "cell_type": "markdown",
   "id": "3bb633e0-0d02-4050-96a8-18265594385b",
   "metadata": {},
   "source": [
    "Let's try again:"
   ]
  },
  {
   "cell_type": "code",
   "execution_count": null,
   "id": "dc6f0455-a6e9-46a0-8f8b-03de00fb1f8d",
   "metadata": {},
   "outputs": [
    {
     "name": "stdout",
     "output_type": "stream",
     "text": [
      "[{'text': '<thinking>\\nTo solve this problem, we need to implement a function that takes in the parameters N, Q, c_i, t_i, and a list of (V, S) query pairs, and returns a list of YES/NO answers for ea\n",
      "Retrieved examples:\n",
      "\n",
      " \n",
      "You previously solved the following problems in this competition:\n",
      "<Examples>\n",
      "<problem>\n",
      "\n",
      "Farmer John...\n",
      "Assistant: [{'text': '<thinking>\\n\\nTo determine if Bessie ca\n",
      "Assistant: Incorrect submission. Please respond with updated \n",
      "Assistant: [{'id': 'toolu_01DmeWQn8LnVz3ddQPu5F4Rv', 'input':\n",
      "Assistant: Incorrect submission. Please respond with updated \n",
      "Assistant: [{'id': 'toolu_01EvAPK2x2uEt1p2XZ3Bx9Zd', 'input':\n",
      "Assistant: Incorrect submission. Please respond with updated \n",
      "Assistant: [{'id': 'toolu_01EokM4dztN6vAaRTVY2xGRF', 'input':\n",
      "Assistant: Incorrect submission. Please respond with updated \n",
      "Assistant: [{'id': 'toolu_01VrJ8PEvaHFSx8FLmhp7dFw', 'input':\n",
      "Assistant: Incorrect submission. Please respond with updated \n",
      "Assistant: <result>\\nHere is the fixed Python code that solve\n",
      "Assistant: No code submitted. Please try again using the corr\n"
     ]
    }
   ],
   "source": [
    "config = {\"configurable\": {\"thread_id\": \"question-1\", \"k\": 2}}\n",
    "with tracing_v2_enabled(client=client):\n",
    "    events = graph.stream(input_state, config)\n",
    "    for event in events:\n",
    "        for value in event.values():\n",
    "            messages = value.get(\"messages\")\n",
    "            if messages:\n",
    "                print(\n",
    "                    \"Assistant:\",\n",
    "                    str(value[\"messages\"][-1].content).replace(\"\\n\", \"\\\\n\")[:50],\n",
    "                )\n",
    "            elif value.get(\"examples\"):\n",
    "                print(\"Retrieved examples:\\n\\n\", value[\"examples\"][:100] + \"...\")\n",
    "            elif value.get(\"candidate\"):\n",
    "                print(str(value[\"candidate\"].content)[:200])"
   ]
  },
  {
   "cell_type": "markdown",
   "id": "1389ffb0-839e-4646-be68-dbc79279c8ae",
   "metadata": {},
   "source": [
    "No timeout error! Let's check the graph state to confirm."
   ]
  },
  {
   "cell_type": "code",
   "execution_count": null,
   "id": "d55a1d95-9fa4-45b2-9f5e-7ca02fb8415b",
   "metadata": {},
   "outputs": [],
   "source": [
    "checkpoint = graph.get_state(config)\n",
    "checkpoint.values[\"status\"]"
   ]
  },
  {
   "cell_type": "markdown",
   "id": "59177162-3fb8-4307-8e7f-ea67e785d4cf",
   "metadata": {},
   "source": [
    "## Part 3: Reflection\n",
    "\n",
    "TODO."
   ]
  },
  {
   "cell_type": "code",
   "execution_count": null,
   "id": "3c6456ba-363c-4133-8631-6dabb042b6ce",
   "metadata": {},
   "outputs": [],
   "source": []
  }
 ],
 "metadata": {
  "kernelspec": {
   "display_name": "Python 3 (ipykernel)",
   "language": "python",
   "name": "python3"
  },
  "language_info": {
   "codemirror_mode": {
    "name": "ipython",
    "version": 3
   },
   "file_extension": ".py",
   "mimetype": "text/x-python",
   "name": "python",
   "nbconvert_exporter": "python",
   "pygments_lexer": "ipython3",
   "version": "3.11.2"
  }
 },
 "nbformat": 4,
 "nbformat_minor": 5
}
