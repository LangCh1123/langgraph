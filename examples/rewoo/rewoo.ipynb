{
 "cells": [
  {
   "cell_type": "markdown",
   "id": "1c161710-fc66-426f-8c96-28440b9c9626",
   "metadata": {},
   "source": [
    "# Reasoning without Observation\n",
    "\n",
    "In [ReWOO](https://arxiv.org/abs/2305.18323), Xu, et. al, propose an agent that combines a multi-step planner and variable substitution for effective tool use. It was designed to improve on the ReACT-style agent architecture in the following ways:\n",
    "\n",
    "1. Reduce token consumption and execution time by generating the full chain of tools used in a single pass. (_ReACT-style agent architecture requires many LLM calls with redundant prefixes (since the system prompt and previous steps are provided to the LLM for each reasoning step_)\n",
    "2. Simplify the fine-tuning process. Since the planning data doesn't depend on the outputs of the tool, models can be fine-tuned without actually invoking the tools (in theory).\n",
    "\n",
    "\n",
    "The following diagram outlines ReWOO's overall computation graph:\n",
    "\n",
    "![ReWoo Diagram](./img/rewoo.png)\n",
    "\n",
    "ReWOO is made of 3 modules:\n",
    "\n",
    "1. 🧠**Planner**: Generate the plan in the following format:\n",
    "```text\n",
    "Plan: <reasoning>\n",
    "#E1 = Tool[argument for tool]\n",
    "Plan: <reasoning>\n",
    "#E2 = Tool[argument for tool with #E1 variable substitution]\n",
    "...\n",
    "```\n",
    "3. **Worker**: executes the tool with the provided arguments.\n",
    "4. 🧠**Solver**: generates the answer for the initial task based on the tool observations.\n",
    "\n",
    "The modules with a 🧠 emoji depend on an LLM call. Notice that we avoid redundant calls to the planner LLM by using variable substitution.\n",
    "\n",
    "In this example, each module is represented by a LangGraph node. The end result will leave a trace that looks [like this one](https://smith.langchain.com/public/39dbdcf8-fbcc-4479-8e28-15377ca5e653/r). Let's get started!\n",
    "\n",
    "## 0. Prerequisites\n",
    "\n",
    "For this example, we will provide the agent with a Tavily search engine tool. You can get an API key [here](https://app.tavily.com/sign-in) or replace with a free tool option (e.g., [duck duck go search](https://python.langchain.com/docs/integrations/tools/ddg)).\n",
    "\n",
    "To see the full langsmith trace, you can s"
   ]
  },
  {
   "cell_type": "code",
   "execution_count": 1,
   "id": "7f52bded-9d23-4826-8bfc-20b0d3a51182",
   "metadata": {},
   "outputs": [],
   "source": [
    "# %pip install -U langgraph langchain_community langchain_openai tavily-python"
   ]
  },
  {
   "cell_type": "code",
   "execution_count": 1,
   "id": "4215f9fb-71ff-4d88-8484-f73174db5592",
   "metadata": {},
   "outputs": [],
   "source": [
    "import os\n",
    "import getpass\n",
    "\n",
    "\n",
    "def _set_if_undefined(var: str):\n",
    "    if not os.environ.get(var):\n",
    "        os.environ[var] = getpass.getpass(f\"{var}=\")\n",
    "\n",
    "\n",
    "os.environ[\"LANGCHAIN_TRACING_V2\"] = \"false\"\n",
    "os.environ[\"LANGCHAIN_PROJECT\"] = \"ReWOO\"\n",
    "_set_if_undefined(\"TAVILY_API_KEY\")\n",
    "_set_if_undefined(\"LANGCHAIN_API_KEY\")\n",
    "_set_if_undefined(\"OPENAI_API_KEY\")"
   ]
  },
  {
   "cell_type": "markdown",
   "id": "55239a14-a14d-4117-adb5-07199e1e5e16",
   "metadata": {},
   "source": [
    "**Graph State**: In LangGraph, every node updates a shared graph state. The state is the input to any node whenever it is invoked.\n",
    "\n",
    "Below, we will define a state dict to contain the task, plan, steps, and other variables."
   ]
  },
  {
   "cell_type": "code",
   "execution_count": 2,
   "id": "9a92c875-c20b-4b7e-9d88-61c62382f8e2",
   "metadata": {},
   "outputs": [],
   "source": [
    "from typing import TypedDict, List\n",
    "\n",
    "\n",
    "class ReWOO(TypedDict):\n",
    "    task: str\n",
    "    plan_string: str\n",
    "    steps: List\n",
    "    results: dict\n",
    "    result: str"
   ]
  },
  {
   "cell_type": "markdown",
   "id": "997f9181-41c0-4c44-937d-94bd3946a929",
   "metadata": {},
   "source": [
    "## 1. Planner\n",
    "\n",
    "The planner prompts an LLM to generate a plan in the form of a task list. The arguments to each task are strings that may contain special variables (`#E{0-9}+`) that are used for variable substitution from other task results.\n",
    "\n",
    "\n",
    "![ReWOO workflow](./img/rewoo-paper-workflow.png)\n",
    "\n",
    "Our example agent will have two tools: \n",
    "1. Google - a search engine (in this case Tavily)\n",
    "2. LLM - an LLM call to reason about previous outputs.\n",
    "\n",
    "The LLM tool receives less of the prompt context and so can be more token-efficient than the ReACT paradigm."
   ]
  },
  {
   "cell_type": "code",
   "execution_count": 3,
   "id": "c8836921-c89e-42b6-8c71-27aeaeac5368",
   "metadata": {},
   "outputs": [],
   "source": [
    "from langchain_openai import ChatOpenAI\n",
    "\n",
    "model = ChatOpenAI(temperature=0)"
   ]
  },
  {
   "cell_type": "code",
   "execution_count": 4,
   "id": "7e7faa92-30a1-4942-b3c7-acd3a7bfccbc",
   "metadata": {},
   "outputs": [],
   "source": [
    "prompt = \"\"\"For the following task, make plans that can solve the problem step by step. For each plan, indicate \\\n",
    "which external tool together with tool input to retrieve evidence. You can store the evidence into a \\\n",
    "variable #E that can be called by later tools. (Plan, #E1, Plan, #E2, Plan, ...)\n",
    "\n",
    "Tools can be one of the following:\n",
    "(1) Google[input]: Worker that searches results from Google. Useful when you need to find short\n",
    "and succinct answers about a specific topic. The input should be a search query.\n",
    "(2) LLM[input]: A pretrained LLM like yourself. Useful when you need to act with general\n",
    "world knowledge and common sense. Prioritize it when you are confident in solving the problem\n",
    "yourself. Input can be any instruction.\n",
    "\n",
    "For example,\n",
    "Task: Thomas, Toby, and Rebecca worked a total of 157 hours in one week. Thomas worked x\n",
    "hours. Toby worked 10 hours less than twice what Thomas worked, and Rebecca worked 8 hours\n",
    "less than Toby. How many hours did Rebecca work?\n",
    "Plan: Given Thomas worked x hours, translate the problem into algebraic expressions and solve\n",
    "with Wolfram Alpha. #E1 = WolframAlpha[Solve x + (2x − 10) + ((2x − 10) − 8) = 157]\n",
    "Plan: Find out the number of hours Thomas worked. #E2 = LLM[What is x, given #E1]\n",
    "Plan: Calculate the number of hours Rebecca worked. #E3 = Calculator[(2 ∗ #E2 − 10) − 8]\n",
    "\n",
    "Begin! \n",
    "Describe your plans with rich details. Each Plan should be followed by only one #E.\n",
    "\n",
    "Task: {task}\"\"\""
   ]
  },
  {
   "cell_type": "code",
   "execution_count": 5,
   "id": "72b4ab0f-7215-4f4b-9407-0ebad8b13b92",
   "metadata": {},
   "outputs": [],
   "source": [
    "task = \"what is the hometown of the 2024 australian open winner\""
   ]
  },
  {
   "cell_type": "code",
   "execution_count": 6,
   "id": "56ecb45b-ea76-4303-a4f3-51406fe8312a",
   "metadata": {},
   "outputs": [],
   "source": [
    "result = model.invoke(prompt.format(task=task))"
   ]
  },
  {
   "cell_type": "code",
   "execution_count": 7,
   "id": "8a733caa-d75b-422c-93aa-6ad913c995f3",
   "metadata": {},
   "outputs": [
    {
     "name": "stdout",
     "output_type": "stream",
     "text": [
      "Plan: Use Google to search for the winner of the 2024 Australian Open. #E1 = Google[2024 Australian Open winner]\n",
      "Plan: Once the winner is identified, search for their hometown using Google. #E2 = Google[hometown of 2024 Australian Open winner]\n"
     ]
    }
   ],
   "source": [
    "print(result.content)"
   ]
  },
  {
   "cell_type": "markdown",
   "id": "37166985-5bec-4615-bd40-54d16fd7b4ea",
   "metadata": {},
   "source": [
    "#### Planner Node\n",
    "\n",
    "To connect the planner to our graph, we will create a `get_plan` node that accepts the `ReWOO` state and returns with a state update for the\n",
    "`steps` and `plan_string` fields."
   ]
  },
  {
   "cell_type": "code",
   "execution_count": 8,
   "id": "f9f042b6-90d8-430f-abf3-04ad2bb047c7",
   "metadata": {},
   "outputs": [],
   "source": [
    "import re\n",
    "from langchain_core.prompts import ChatPromptTemplate\n",
    "\n",
    "# Regex to match expressions of the form E#... = ...[...]\n",
    "regex_pattern = r\"Plan:\\s*(.+)\\s*(#E\\d+)\\s*=\\s*(\\w+)\\s*\\[([^\\]]+)\\]\"\n",
    "prompt_template = ChatPromptTemplate.from_messages([(\"user\", prompt)])\n",
    "planner = prompt_template | model\n",
    "\n",
    "\n",
    "def get_plan(state: ReWOO):\n",
    "    task = state[\"task\"]\n",
    "    result = planner.invoke({\"task\": task})\n",
    "    # Find all matches in the sample text\n",
    "    matches = re.findall(regex_pattern, result.content)\n",
    "    return {\"steps\": matches, \"plan_string\": result.content}"
   ]
  },
  {
   "cell_type": "markdown",
   "id": "0d97942f-27d3-4761-b6cc-6614dbb90c77",
   "metadata": {},
   "source": [
    "## 2. Executor\n",
    "\n",
    "The executor receives the plan and executes the tools in sequence.\n",
    "\n",
    "Below, instantiate the search engine and define the toole execution node."
   ]
  },
  {
   "cell_type": "code",
   "execution_count": 9,
   "id": "3412cfc4-6796-4295-aea4-7eeb304e10bd",
   "metadata": {},
   "outputs": [],
   "source": [
    "from langchain_community.tools.tavily_search import TavilySearchResults\n",
    "\n",
    "search = TavilySearchResults()"
   ]
  },
  {
   "cell_type": "code",
   "execution_count": 10,
   "id": "aa96fbac-28bc-4afe-ae35-ddb3383d1147",
   "metadata": {},
   "outputs": [],
   "source": [
    "def _get_current_task(state: ReWOO):\n",
    "    if state[\"results\"] is None:\n",
    "        return 1\n",
    "    if len(state[\"results\"]) == len(state[\"steps\"]):\n",
    "        return None\n",
    "    else:\n",
    "        return len(state[\"results\"]) + 1\n",
    "\n",
    "\n",
    "def tool_execution(state: ReWOO):\n",
    "    \"\"\"Worker node that executes the tools of a given plan.\"\"\"\n",
    "    _step = _get_current_task(state)\n",
    "    _, step_name, tool, tool_input = state[\"steps\"][_step - 1]\n",
    "    _results = state[\"results\"] or {}\n",
    "    for k, v in _results.items():\n",
    "        tool_input = tool_input.replace(k, v)\n",
    "    if tool == \"Google\":\n",
    "        result = search.invoke(tool_input)\n",
    "    elif tool == \"LLM\":\n",
    "        result = model.invoke(tool_input)\n",
    "    else:\n",
    "        raise ValueError\n",
    "    _results[step_name] = str(result)\n",
    "    return {\"results\": _results}"
   ]
  },
  {
   "cell_type": "markdown",
   "id": "28e20b31-d721-470d-94d2-db0c177fae75",
   "metadata": {},
   "source": [
    "## 3. Solver\n",
    "\n",
    "The solver receives the full plan and generates the final response based on the responses of the tool calls from the worker."
   ]
  },
  {
   "cell_type": "code",
   "execution_count": 11,
   "id": "0a4d9851-8590-42be-8c53-9969ebff85f4",
   "metadata": {},
   "outputs": [],
   "source": [
    "solve_prompt = \"\"\"Solve the following task or problem. To solve the problem, we have made step-by-step Plan and \\\n",
    "retrieved corresponding Evidence to each Plan. Use them with caution since long evidence might \\\n",
    "contain irrelevant information.\n",
    "\n",
    "{plan}\n",
    "\n",
    "Now solve the question or task according to provided Evidence above. Respond with the answer\n",
    "directly with no extra words.\n",
    "\n",
    "Task: {task}\n",
    "Response:\"\"\"\n",
    "\n",
    "\n",
    "def solve(state: ReWOO):\n",
    "    plan = \"\"\n",
    "    for _plan, step_name, tool, tool_input in state[\"steps\"]:\n",
    "        _results = state[\"results\"] or {}\n",
    "        for k, v in _results.items():\n",
    "            tool_input = tool_input.replace(k, v)\n",
    "            step_name = step_name.replace(k, v)\n",
    "        plan += f\"Plan: {_plan}\\n{step_name} = {tool}[{tool_input}]\"\n",
    "    prompt = solve_prompt.format(plan=plan, task=state[\"task\"])\n",
    "    result = model.invoke(prompt)\n",
    "    return {\"result\": result.content}"
   ]
  },
  {
   "cell_type": "markdown",
   "id": "8ce26c3f-6ced-4a91-a9f2-d0bc235e4010",
   "metadata": {},
   "source": [
    "## 4. Define Graph\n",
    "\n",
    "Our graph defines the workflow. Each of the planner, tool executor, and solver modules are added as nodes."
   ]
  },
  {
   "cell_type": "code",
   "execution_count": 12,
   "id": "73b235d7-fa83-4e84-9f2e-2908f16deb26",
   "metadata": {},
   "outputs": [],
   "source": [
    "def _route(state):\n",
    "    _step = _get_current_task(state)\n",
    "    if _step is None:\n",
    "        # We have executed all tasks\n",
    "        return \"solve\"\n",
    "    else:\n",
    "        # We are still executing tasks, loop back to the \"tool\" node\n",
    "        return \"tool\""
   ]
  },
  {
   "cell_type": "code",
   "execution_count": 13,
   "id": "cf173aa1-ce31-4dca-8111-30c91e209652",
   "metadata": {},
   "outputs": [],
   "source": [
    "from langgraph.graph import StateGraph, END\n",
    "\n",
    "graph = StateGraph(ReWOO)\n",
    "graph.add_node(\"plan\", get_plan)\n",
    "graph.add_node(\"tool\", tool_execution)\n",
    "graph.add_node(\"solve\", solve)\n",
    "graph.add_edge(\"plan\", \"tool\")\n",
    "graph.add_edge(\"solve\", END)\n",
    "graph.add_conditional_edges(\"tool\", _route)\n",
    "graph.set_entry_point(\"plan\")\n",
    "\n",
    "app = graph.compile()"
   ]
  },
  {
   "cell_type": "code",
   "execution_count": 14,
   "id": "badaca52-5d55-433f-8770-1bd50c10bf7f",
   "metadata": {},
   "outputs": [
    {
     "name": "stdout",
     "output_type": "stream",
     "text": [
      "{'plan': {'plan_string': 'Plan: Use Google to search for the winner of the 2024 Australian Open. #E1 = Google[2024 Australian Open winner]\\nPlan: Once the winner is identified, search for their hometown using Google. #E2 = Google[hometown of 2024 Australian Open winner]', 'steps': [('Use Google to search for the winner of the 2024 Australian Open. ', '#E1', 'Google', '2024 Australian Open winner'), ('Once the winner is identified, search for their hometown using Google. ', '#E2', 'Google', 'hometown of 2024 Australian Open winner')]}}\n",
      "---\n",
      "{'tool': {'results': {'#E1': '[{\\'url\\': \\'https://ausopen.com/articles/news/sinner-v-medvedev-how-ao-2024-mens-final-was-decided\\', \\'content\\': \"MORE: All the stats from the AO 2024 men’s final\\\\nDaniil Medvedev could not maintain his scintillating start on Sunday night, while first-time major finalist Jannik Sinner simply grew in strength as the five-set contest progressed.\\\\nSinner, winner: Italian takes first major at AO 2024\\\\nNEWS\\\\nSinner, the morning after: “It\\'s great emotions, slowly realising what I\\'ve done”\\\\nNEWS\\\\n Sinner v Medvedev: How the AO 2024 men\\'s final was decided\\\\nJannik Sinner weathered an early onslaught to reel in Daniil Medvedev, growing in potency to win the Australian Open 2024 final – his first Grand Slam singles title.\\\\n Early in the second set Medvedev was averaging 77 per cent of first serves in for the match, and towards the end of it this figure had dipped to 65. Medvedev had spent more than 20 hours on court in his previous six rounds, the equivalent of almost two more matches than Sinner (who had spent less than 15 hours on court in advancing to the final).\\\\n During the shift, Sinner’s forehand was gathering speed, having increased from an average of 122.3 km/h in the first set to 128.7 km/h by the third.\\\\n\"}, {\\'url\\': \\'https://www.cbssports.com/tennis/news/australian-open-2024-jannik-sinner-claims-first-grand-slam-title-in-epic-comeback-win-over-daniil-medvedev/\\', \\'content\\': \\'\"\\\\nOur Latest Tennis Stories\\\\nSinner makes epic comeback to win Australian Open\\\\nSinner, Sabalenka win Australian Open singles titles\\\\n2024 Australian Open odds, Sinner vs. Medvedev picks\\\\nSabalenka defeats Zheng to win 2024 Australian Open\\\\n2024 Australian Open odds, Sabalenka vs. Zheng picks\\\\n2024 Australian Open odds, Medvedev vs. Zverev picks\\\\nAustralian Open odds: Djokovic vs. Sinner picks, bets\\\\nAustralian Open odds: Gauff vs. Sabalenka picks, bets\\\\nAustralian Open odds: Zheng vs. Yastremska picks, bets\\\\nNick Kyrgios reveals he\\\\\\'s contemplating retirement\\\\n© 2004-2024 CBS Interactive. Jannik Sinner claims first Grand Slam title in epic comeback win over Daniil Medvedev\\\\nSinner, 22, rallied back from a two-set deficit to become the third ever Italian Grand Slam men\\\\\\'s singles champion\\\\nAfter almost four hours, Jannik Sinner climbed back from a two-set deficit to win his first ever Grand Slam title with an epic 3-6, 3-6, 6-4, 6-4, 6-3 comeback victory against Daniil Medvedev. Sinner became the first Italian man to win the Australian Open since 1976, and just the eighth man to successfully come back from two sets down in a major final.\\\\n He did not drop a single set until his meeting with Djokovic, and that win in itself was an accomplishment as Djokovic was riding a 33-match winning streak at the Australian Open and had never lost a semifinal in Melbourne.\\\\n @janniksin • @wwos • @espn • @eurosport • @wowowtennis pic.twitter.com/DTCIqWoUoR\\\\n\"We are trying to get better everyday, and even during the tournament, trying to get stronger and understand the situation a little bit better,\" Sinner said.\\'}, {\\'url\\': \\'https://www.bbc.com/sport/tennis/68120937\\', \\'content\\': \\'Live scores, results and order of play\\\\nAlerts: Get tennis news sent to your phone\\\\nRelated Topics\\\\nTop Stories\\\\nFA Cup: Blackburn Rovers v Wrexham - live text commentary\\\\nRussian skater Valieva given four-year ban for doping\\\\nLinks to Barcelona are \\\\\\'totally untrue\\\\\\' - Arteta\\\\nElsewhere on the BBC\\\\nThe truth behind the fake grooming scandal\\\\nFeaturing unseen police footage and interviews with the officers at the heart of the case\\\\nDid their father and uncle kill Nazi war criminals?\\\\n A real-life murder mystery following three brothers in their quest for the truth\\\\nWhat was it like to travel on the fastest plane?\\\\nTake a behind-the-scenes look at the supersonic story of the Concorde\\\\nToxic love, ruthless ambition and shocking betrayal\\\\nTell Me Lies follows a passionate college relationship with unimaginable consequences...\\\\n \"\\\\nMarathon man Medvedev runs out of steam\\\\nMedvedev is the first player to lose two Grand Slam finals after winning the opening two sets\\\\nSo many players with the experience of a Grand Slam final have talked about how different the occasion can be, particularly if it is the first time, and potentially overwhelming.\\\\n Jannik Sinner beats Daniil Medvedev in Melbourne final\\\\nJannik Sinner is the youngest player to win the Australian Open men\\\\\\'s title since Novak Djokovic in 2008\\\\nJannik Sinner landed the Grand Slam title he has long promised with an extraordinary fightback to beat Daniil Medvedev in the Australian Open final.\\\\n \"\\\\nSinner starts 2024 in inspired form\\\\nSinner won the first Australian Open men\\\\\\'s final since 2005 which did not feature Roger Federer, Rafael Nadal or Novak Djokovic\\\\nSinner was brought to the forefront of conversation when discussing Grand Slam champions in 2024 following a stunning end to last season.\\\\n\\'}, {\\'url\\': \\'https://www.cnn.com/2024/01/28/sport/jannik-sinner-daniil-medvedev-2024-australian-open-spt-intl/index.html\\', \\'content\\': \\'Related article\\\\nMeet the Carota Boys, the carrot-clad fan group rooting for Jannik Sinner, Italy’s rising tennis star\\\\nSuch drama provided a fitting finale for a tournament which has featured an incredible 35 five-set thrillers, equaling the Open Era record for any grand slam, as Medvedev raced to a two-set lead, initially heaping pressure on the young Italian who was left defending from every corner of the court in the wake of the No. 3 seed’s precise, aggressive approach.\\\\n CNN values your feedback\\\\nJannik Sinner rallies from two sets down to win men’s Australian Open final over Daniil Medvedev, his first grand slam title\\\\nFollow:\\\\nJannik Sinner overcame a two-set deficit to defeat Russia’s Daniil Medvedev 3-6 3-6 6-4 6-4 6-3 in a thrilling five-set final and claim the men’s Australian Open title on Sunday, becoming the first Italian man to win a grand slam since 1976.\\\\n While Sinner was appearing in his first ever grand slam final, Medvedev is already a grand slam champion who was playing in his fourth major final and that disparity in experience initally showed as the Russian controlled the pace of the match with 14 winners and five aces in the first set.\\\\n As Medvedev tired, Sinner took control of the match and sealed a crucial break point early in the fifth set with a crosscourt forehand winner before completing his remarkable comeback with a forehand down the line, falling to the floor immediately afterwards to celebrate a stunning maiden grand slam title.\\\\n That momentum carried Sinner through the fourth and fifth sets as he overturned the deficit and became the youngest male player to win the Australian Open since 2008, as well as just the third Italian man to ever win a grand slam.\\\\n\\'}, {\\'url\\': \\'https://ausopen.com/articles/news/sinner-winner-italian-takes-first-major-ao-2024\\', \\'content\\': \\'The agile right-hander, who had claimed victory from a two-set deficit only once previously in his young career, is the second Italian man to achieve singles glory at a major, following Adriano Panatta in1976.With victories over Andrey Rublev, 10-time AO champion Novak Djokovic, and Medvedev, the Italian is the youngest player to defeat top 5 opponents in the final three matches of a major since Michael Stich did it at Wimbledon in 1991 – just weeks before Sinner was born.\\\\n He saved the only break he faced with an ace down the tee, and helped by scoreboard pressure, broke Medvedev by slamming a huge forehand to force an error from his more experienced rival, sealing the fourth set to take the final to a decider.\\\\n Sensing a shift in momentum as Medvedev served to close out the second at 5-3, Sinner set the RLA crowd alight with a pair of brilliant passing shots en route to creating a break point opportunity, which Medvedev snuffed out with trademark patience, drawing a forehand error from his opponent. “We are trying to get better every day, even during the tournament we try to get stronger, trying to understand every situation a little bit better, and I’m so glad to have you there supporting me, understanding me, which sometimes it’s not easy because I am a little bit young sometimes,” he said with a smile.\\\\n Medvedev, who held to love in his first three service games of the second set, piled pressure on the Italian, forcing the right-hander to produce his best tennis to save four break points in a nearly 12-minute second game.\\\\n\\'}]'}}}\n",
      "---\n",
      "{'tool': {'results': {'#E1': '[{\\'url\\': \\'https://ausopen.com/articles/news/sinner-v-medvedev-how-ao-2024-mens-final-was-decided\\', \\'content\\': \"MORE: All the stats from the AO 2024 men’s final\\\\nDaniil Medvedev could not maintain his scintillating start on Sunday night, while first-time major finalist Jannik Sinner simply grew in strength as the five-set contest progressed.\\\\nSinner, winner: Italian takes first major at AO 2024\\\\nNEWS\\\\nSinner, the morning after: “It\\'s great emotions, slowly realising what I\\'ve done”\\\\nNEWS\\\\n Sinner v Medvedev: How the AO 2024 men\\'s final was decided\\\\nJannik Sinner weathered an early onslaught to reel in Daniil Medvedev, growing in potency to win the Australian Open 2024 final – his first Grand Slam singles title.\\\\n Early in the second set Medvedev was averaging 77 per cent of first serves in for the match, and towards the end of it this figure had dipped to 65. Medvedev had spent more than 20 hours on court in his previous six rounds, the equivalent of almost two more matches than Sinner (who had spent less than 15 hours on court in advancing to the final).\\\\n During the shift, Sinner’s forehand was gathering speed, having increased from an average of 122.3 km/h in the first set to 128.7 km/h by the third.\\\\n\"}, {\\'url\\': \\'https://www.cbssports.com/tennis/news/australian-open-2024-jannik-sinner-claims-first-grand-slam-title-in-epic-comeback-win-over-daniil-medvedev/\\', \\'content\\': \\'\"\\\\nOur Latest Tennis Stories\\\\nSinner makes epic comeback to win Australian Open\\\\nSinner, Sabalenka win Australian Open singles titles\\\\n2024 Australian Open odds, Sinner vs. Medvedev picks\\\\nSabalenka defeats Zheng to win 2024 Australian Open\\\\n2024 Australian Open odds, Sabalenka vs. Zheng picks\\\\n2024 Australian Open odds, Medvedev vs. Zverev picks\\\\nAustralian Open odds: Djokovic vs. Sinner picks, bets\\\\nAustralian Open odds: Gauff vs. Sabalenka picks, bets\\\\nAustralian Open odds: Zheng vs. Yastremska picks, bets\\\\nNick Kyrgios reveals he\\\\\\'s contemplating retirement\\\\n© 2004-2024 CBS Interactive. Jannik Sinner claims first Grand Slam title in epic comeback win over Daniil Medvedev\\\\nSinner, 22, rallied back from a two-set deficit to become the third ever Italian Grand Slam men\\\\\\'s singles champion\\\\nAfter almost four hours, Jannik Sinner climbed back from a two-set deficit to win his first ever Grand Slam title with an epic 3-6, 3-6, 6-4, 6-4, 6-3 comeback victory against Daniil Medvedev. Sinner became the first Italian man to win the Australian Open since 1976, and just the eighth man to successfully come back from two sets down in a major final.\\\\n He did not drop a single set until his meeting with Djokovic, and that win in itself was an accomplishment as Djokovic was riding a 33-match winning streak at the Australian Open and had never lost a semifinal in Melbourne.\\\\n @janniksin • @wwos • @espn • @eurosport • @wowowtennis pic.twitter.com/DTCIqWoUoR\\\\n\"We are trying to get better everyday, and even during the tournament, trying to get stronger and understand the situation a little bit better,\" Sinner said.\\'}, {\\'url\\': \\'https://www.bbc.com/sport/tennis/68120937\\', \\'content\\': \\'Live scores, results and order of play\\\\nAlerts: Get tennis news sent to your phone\\\\nRelated Topics\\\\nTop Stories\\\\nFA Cup: Blackburn Rovers v Wrexham - live text commentary\\\\nRussian skater Valieva given four-year ban for doping\\\\nLinks to Barcelona are \\\\\\'totally untrue\\\\\\' - Arteta\\\\nElsewhere on the BBC\\\\nThe truth behind the fake grooming scandal\\\\nFeaturing unseen police footage and interviews with the officers at the heart of the case\\\\nDid their father and uncle kill Nazi war criminals?\\\\n A real-life murder mystery following three brothers in their quest for the truth\\\\nWhat was it like to travel on the fastest plane?\\\\nTake a behind-the-scenes look at the supersonic story of the Concorde\\\\nToxic love, ruthless ambition and shocking betrayal\\\\nTell Me Lies follows a passionate college relationship with unimaginable consequences...\\\\n \"\\\\nMarathon man Medvedev runs out of steam\\\\nMedvedev is the first player to lose two Grand Slam finals after winning the opening two sets\\\\nSo many players with the experience of a Grand Slam final have talked about how different the occasion can be, particularly if it is the first time, and potentially overwhelming.\\\\n Jannik Sinner beats Daniil Medvedev in Melbourne final\\\\nJannik Sinner is the youngest player to win the Australian Open men\\\\\\'s title since Novak Djokovic in 2008\\\\nJannik Sinner landed the Grand Slam title he has long promised with an extraordinary fightback to beat Daniil Medvedev in the Australian Open final.\\\\n \"\\\\nSinner starts 2024 in inspired form\\\\nSinner won the first Australian Open men\\\\\\'s final since 2005 which did not feature Roger Federer, Rafael Nadal or Novak Djokovic\\\\nSinner was brought to the forefront of conversation when discussing Grand Slam champions in 2024 following a stunning end to last season.\\\\n\\'}, {\\'url\\': \\'https://www.cnn.com/2024/01/28/sport/jannik-sinner-daniil-medvedev-2024-australian-open-spt-intl/index.html\\', \\'content\\': \\'Related article\\\\nMeet the Carota Boys, the carrot-clad fan group rooting for Jannik Sinner, Italy’s rising tennis star\\\\nSuch drama provided a fitting finale for a tournament which has featured an incredible 35 five-set thrillers, equaling the Open Era record for any grand slam, as Medvedev raced to a two-set lead, initially heaping pressure on the young Italian who was left defending from every corner of the court in the wake of the No. 3 seed’s precise, aggressive approach.\\\\n CNN values your feedback\\\\nJannik Sinner rallies from two sets down to win men’s Australian Open final over Daniil Medvedev, his first grand slam title\\\\nFollow:\\\\nJannik Sinner overcame a two-set deficit to defeat Russia’s Daniil Medvedev 3-6 3-6 6-4 6-4 6-3 in a thrilling five-set final and claim the men’s Australian Open title on Sunday, becoming the first Italian man to win a grand slam since 1976.\\\\n While Sinner was appearing in his first ever grand slam final, Medvedev is already a grand slam champion who was playing in his fourth major final and that disparity in experience initally showed as the Russian controlled the pace of the match with 14 winners and five aces in the first set.\\\\n As Medvedev tired, Sinner took control of the match and sealed a crucial break point early in the fifth set with a crosscourt forehand winner before completing his remarkable comeback with a forehand down the line, falling to the floor immediately afterwards to celebrate a stunning maiden grand slam title.\\\\n That momentum carried Sinner through the fourth and fifth sets as he overturned the deficit and became the youngest male player to win the Australian Open since 2008, as well as just the third Italian man to ever win a grand slam.\\\\n\\'}, {\\'url\\': \\'https://ausopen.com/articles/news/sinner-winner-italian-takes-first-major-ao-2024\\', \\'content\\': \\'The agile right-hander, who had claimed victory from a two-set deficit only once previously in his young career, is the second Italian man to achieve singles glory at a major, following Adriano Panatta in1976.With victories over Andrey Rublev, 10-time AO champion Novak Djokovic, and Medvedev, the Italian is the youngest player to defeat top 5 opponents in the final three matches of a major since Michael Stich did it at Wimbledon in 1991 – just weeks before Sinner was born.\\\\n He saved the only break he faced with an ace down the tee, and helped by scoreboard pressure, broke Medvedev by slamming a huge forehand to force an error from his more experienced rival, sealing the fourth set to take the final to a decider.\\\\n Sensing a shift in momentum as Medvedev served to close out the second at 5-3, Sinner set the RLA crowd alight with a pair of brilliant passing shots en route to creating a break point opportunity, which Medvedev snuffed out with trademark patience, drawing a forehand error from his opponent. “We are trying to get better every day, even during the tournament we try to get stronger, trying to understand every situation a little bit better, and I’m so glad to have you there supporting me, understanding me, which sometimes it’s not easy because I am a little bit young sometimes,” he said with a smile.\\\\n Medvedev, who held to love in his first three service games of the second set, piled pressure on the Italian, forcing the right-hander to produce his best tennis to save four break points in a nearly 12-minute second game.\\\\n\\'}]', '#E2': '[{\\'url\\': \"https://en.wikipedia.org/wiki/2024_Australian_Open_–_Men\\'s_singles_final\", \\'content\\': \"This was the first Australian Open final since 2005 not to feature any of the Big Three members.[5]\\\\nMedvedev set an Open Era record for the most time spent playing at a singles major, at 24 hours and 17 minutes.[6] Medvedev also became the first player in the Open Era to lose two major finals after having a two-set lead.[7]\\\\nBackground[edit]\\\\nEntering the final, Medvedev lead the career head-to-head 6–3. He became the second Italian man in the Open Era to win a singles major, after Adriano Panatta at the 1976 French Open,[2] and the first new Australian Open champion in ten years, since Stan Wawrinka in 2014.[3] At 22, Sinner was the youngest Australian Open men\\'s singles champion and finalist since Novak Djokovic in 2008.[4] Contents\\\\n2024 Australian Open – Men\\'s singles final\\\\nThe 2024 Australian Open Men\\'s Singles final was the championship tennis match of the men\\'s singles tournament at the 2024 Australian Open, contested by fourth-seed Jannik Sinner and third-seed Daniil Medvedev. Also in the semifinals, Medvedev came back from two-sets-to-love down against Alexander Zverev to reach a third Australian Open final.[9] Medvedev had already played two other five-set matches, against Emil Ruusuvuori in the second round (when he came back from two-sets-to-love down as well) and against Hubert Hurkacz in the quarterfinals.\\\\n Novak Djokovic, ending his 33-match winning streak at the Australian Open (dating back from the 2019 tournament), as well as marking the Serbian\\'s first-ever defeat in an Australian Open semifinal and his first defeat in any major semifinal since the 2019 French Open.\"}, {\\'url\\': \\'https://en.wikipedia.org/wiki/2024_Australian_Open\\', \\'content\\': \"The tournament featured the following changes from previous tournaments:[9]\\\\nSingles players[edit]\\\\nEvents[edit]\\\\nMen\\'s singles[edit]\\\\nWomen\\'s singles[edit]\\\\nMen\\'s doubles[edit]\\\\nWomen\\'s doubles[edit]\\\\nMixed doubles[edit]\\\\nWheelchair men\\'s singles[edit]\\\\nWheelchair women\\'s singles[edit]\\\\nWheelchair quad singles[edit]\\\\nWheelchair men\\'s doubles[edit]\\\\nWheelchair women\\'s doubles[edit]\\\\nWheelchair quad doubles[edit]\\\\nBoys\\' singles[edit]\\\\nGirls\\' singles[edit]\\\\nBoys\\' doubles[edit]\\\\nGirls\\' doubles[edit]\\\\nPoints and prize money[edit]\\\\nPoint distribution[edit]\\\\nBelow is a series of tables for each competition showing the ranking points offered for each event.[12][13][14]\\\\nPrize money[edit]\\\\nThe Australian Open total prize money for 2024 increased by 13.07% year on year to a tournament record A$86,500,000. Aryna Sabalenka successfully defended the women\\'s singles title as she claimed her second major singles title, defeating Zheng Qinwen without losing a set during the tournament.[6][7]\\\\nIn the tournament\\'s 119-year history, this was the first Australian Open Tennis Championships to be held on an opening Sunday.[8]\\\\n It was the 112th edition of the Australian Open, the 56th in the Open Era, and the first major of the year. The total represented a 162% increase in prize money over the last ten years, from the A$33 million on offer in 2014.\\\\n Contents\\\\n2024 Australian Open\\\\nThe 2024 Australian Open was a Grand Slam level tennis tournament held at Melbourne Park, from 14–28 January 2024.[1]\"}, {\\'url\\': \\'https://www.bbc.com/sport/tennis/68120937\\', \\'content\\': \\'Live scores, results and order of play\\\\nAlerts: Get tennis news sent to your phone\\\\nRelated Topics\\\\nTop Stories\\\\nFA Cup: Blackburn Rovers v Wrexham - live text commentary\\\\nRussian skater Valieva given four-year ban for doping\\\\nLinks to Barcelona are \\\\\\'totally untrue\\\\\\' - Arteta\\\\nElsewhere on the BBC\\\\nThe truth behind the fake grooming scandal\\\\nFeaturing unseen police footage and interviews with the officers at the heart of the case\\\\nDid their father and uncle kill Nazi war criminals?\\\\n A real-life murder mystery following three brothers in their quest for the truth\\\\nWhat was it like to travel on the fastest plane?\\\\nTake a behind-the-scenes look at the supersonic story of the Concorde\\\\nToxic love, ruthless ambition and shocking betrayal\\\\nTell Me Lies follows a passionate college relationship with unimaginable consequences...\\\\n \"\\\\nMarathon man Medvedev runs out of steam\\\\nMedvedev is the first player to lose two Grand Slam finals after winning the opening two sets\\\\nSo many players with the experience of a Grand Slam final have talked about how different the occasion can be, particularly if it is the first time, and potentially overwhelming.\\\\n Jannik Sinner beats Daniil Medvedev in Melbourne final\\\\nJannik Sinner is the youngest player to win the Australian Open men\\\\\\'s title since Novak Djokovic in 2008\\\\nJannik Sinner landed the Grand Slam title he has long promised with an extraordinary fightback to beat Daniil Medvedev in the Australian Open final.\\\\n \"\\\\nSinner starts 2024 in inspired form\\\\nSinner won the first Australian Open men\\\\\\'s final since 2005 which did not feature Roger Federer, Rafael Nadal or Novak Djokovic\\\\nSinner was brought to the forefront of conversation when discussing Grand Slam champions in 2024 following a stunning end to last season.\\\\n\\'}, {\\'url\\': \\'https://ausopen.com/articles/news/sinner-v-medvedev-how-ao-2024-mens-final-was-decided\\', \\'content\\': \"MORE: All the stats from the AO 2024 men’s final\\\\nDaniil Medvedev could not maintain his scintillating start on Sunday night, while first-time major finalist Jannik Sinner simply grew in strength as the five-set contest progressed.\\\\nSinner, winner: Italian takes first major at AO 2024\\\\nNEWS\\\\nSinner, the morning after: “It\\'s great emotions, slowly realising what I\\'ve done”\\\\nNEWS\\\\n Sinner v Medvedev: How the AO 2024 men\\'s final was decided\\\\nJannik Sinner weathered an early onslaught to reel in Daniil Medvedev, growing in potency to win the Australian Open 2024 final – his first Grand Slam singles title.\\\\n Early in the second set Medvedev was averaging 77 per cent of first serves in for the match, and towards the end of it this figure had dipped to 65. Medvedev had spent more than 20 hours on court in his previous six rounds, the equivalent of almost two more matches than Sinner (who had spent less than 15 hours on court in advancing to the final).\\\\n During the shift, Sinner’s forehand was gathering speed, having increased from an average of 122.3 km/h in the first set to 128.7 km/h by the third.\\\\n\"}, {\\'url\\': \\'https://www.vogue.com/article/jannik-sinner-wins-first-grand-slam-2024-australian-open\\', \\'content\\': \\'Jannik Sinner Steals His First Grand Slam at the 2024 Australian Open\\\\nBy Vogue\\\\nJannik Sinner of Italy clinched the 2024 Australian Open men’s singles title on Sunday in a five-set upset over Daniil Medvedev of Russia, 3-6, 3-6, 6-4, 6-4, 6-3 to close out a rollicking two weeks of tennis that saw some 1.1 million fans fill the stands in Melbourne. Yet 22-year-old Sinner—the tournament’s fourth seed, who forced a shocking exit from Djokovic during the semis on Thursday in a decisive four sets—came roaring onto the board in the third, moving in as Medvedev’s game became more passive and fending off even a single break point.\\\\n Third-seeded Medvedev, 28—who faced down grueling five-set matches in both the quarterfinals (opposite Hubert Hurkacz) and semifinals (opposite Alexander Zverev) on his way to today’s final—was all but unstoppable in the first two sets, covering the Rod Laver Arena’s hardcourt with speed and aggression. After a fourth set filled with lengthy rallies—and a few thrilling aces from Sinner—a break from the Italian sent the match to a fifth. He then thanked his colorful fans in Australia and beyond—a group that includes, mostly visibly, the Carota Boys—for keeping him going over the last two weeks.\\'}]'}}}\n",
      "---\n",
      "{'solve': {'result': 'Italy'}}\n",
      "---\n"
     ]
    }
   ],
   "source": [
    "for s in app.stream({\"task\": task}):\n",
    "    print(s)\n",
    "    print(\"---\")"
   ]
  },
  {
   "cell_type": "code",
   "execution_count": 16,
   "id": "70e5aa0f-4d8b-4f65-817a-1c4ebf07d07a",
   "metadata": {},
   "outputs": [
    {
     "name": "stdout",
     "output_type": "stream",
     "text": [
      "Italy\n"
     ]
    }
   ],
   "source": [
    "# Print out the final result\n",
    "print(s[\"solve\"][\"result\"])"
   ]
  },
  {
   "cell_type": "markdown",
   "id": "d80baf47",
   "metadata": {},
   "source": [
    "## 5. Adding Memory"
   ]
  },
  {
   "cell_type": "markdown",
   "id": "5a809cfb",
   "metadata": {},
   "source": [
    "Our ReWoo can now use tools to answer user questions, but it doesn't remember the context of previous interactions. This limits its ability to have coherent multi-turn conversations, for example.\n",
    "\n",
    "LangGraph solves this problem through persistent checkpointing. If you provide a checkpointer when compiling the graph and a thread_id when calling your graph, LangGraph automatically saves the state after each step. When you invoke the graph again using the same thread_id, the graph loads its saved state, allowing it to pick up where it left off."
   ]
  },
  {
   "cell_type": "code",
   "execution_count": 17,
   "id": "5cfc70af",
   "metadata": {},
   "outputs": [],
   "source": [
    "from typing import List, Annotated\n",
    "from langchain.schema.messages import BaseMessage, merge_content\n",
    "\n",
    "class ReWOO(TypedDict):\n",
    "    task:  str\n",
    "    plan_string: str\n",
    "    steps: List\n",
    "    results: dict\n",
    "    # The list of previous messages in the conversation\n",
    "    # chat_history have the type \"list\". The `merge_content` function\n",
    "    # in the annotation defines how this state key should be updated\n",
    "    # (in this case, it appends messages to the list, rather than overwriting them)\n",
    "    chat_history: Annotated[List[BaseMessage], merge_content]\n"
   ]
  },
  {
   "cell_type": "code",
   "execution_count": 18,
   "id": "724606fe",
   "metadata": {},
   "outputs": [],
   "source": [
    "\n",
    "prompt = \"\"\"For the following task, make plans that can solve the problem step by step. For each plan, indicate \\\n",
    "which external tool together with tool input to retrieve evidence. You can store the evidence into a \\\n",
    "variable #E that can be called by later tools. (Plan, #E1, Plan, #E2, Plan, ...)\n",
    "\n",
    "Tools can be one of the following:\n",
    "(1) Google[input]: Worker that searches results from Google. Useful when you need to find short\n",
    "and succinct answers about a specific topic. The input should be a search query.\n",
    "(2) LLM[input]: A pretrained LLM like yourself. Useful when you need to act with general\n",
    "world knowledge and common sense. Prioritize it when you are confident in solving the problem\n",
    "yourself. Input can be any instruction.\n",
    "\n",
    "For example,\n",
    "Task: Thomas, Toby, and Rebecca worked a total of 157 hours in one week. Thomas worked x\n",
    "hours. Toby worked 10 hours less than twice what Thomas worked, and Rebecca worked 8 hours\n",
    "less than Toby. How many hours did Rebecca work?\n",
    "Plan: Given Thomas worked x hours, translate the problem into algebraic expressions and solve\n",
    "with Wolfram Alpha. #E1 = WolframAlpha[Solve x + (2x − 10) + ((2x − 10) − 8) = 157]\n",
    "Plan: Find out the number of hours Thomas worked. #E2 = LLM[What is x, given #E1]\n",
    "Plan: Calculate the number of hours Rebecca worked. #E3 = Calculator[(2 ∗ #E2 − 10) − 8]\n",
    "\n",
    "Begin! \n",
    "Describe your plans with rich details. Each Plan should be followed by only one #E.\n",
    "\n",
    "Previous conversation history: {history}\n",
    "\n",
    "Task: {task}\n",
    "\"\"\""
   ]
  },
  {
   "cell_type": "code",
   "execution_count": 19,
   "id": "689de921",
   "metadata": {},
   "outputs": [],
   "source": [
    "def get_plan(state: ReWOO):\n",
    "\n",
    "    result = model.invoke(prompt.format(history=state[\"chat_history\"], task=state[\"task\"]))\n",
    "    # Find all matches in the sample text\n",
    "    matches = re.findall(regex_pattern, result.content)\n",
    "\n",
    "    return {\n",
    "        \"steps\": matches, \n",
    "        \"plan_string\": result.content,\n",
    "    }"
   ]
  },
  {
   "cell_type": "code",
   "execution_count": 20,
   "id": "73a90699",
   "metadata": {},
   "outputs": [],
   "source": [
    "solve_prompt = \"\"\"Solve the following task or problem. To solve the problem, we have made step-by-step Plan and \\\n",
    "retrieved corresponding Evidence to each Plan. Use them with caution since long evidence might \\\n",
    "contain irrelevant information.\n",
    "\n",
    "{plan}\n",
    "\n",
    "Now solve the question or task according to provided Evidence above. Respond with the answer\n",
    "directly with no extra words.\n",
    "\n",
    "Previous conversation history: {history}\n",
    "Task: {task}\n",
    "Response:\"\"\""
   ]
  },
  {
   "cell_type": "code",
   "execution_count": 21,
   "id": "c7b6aa01",
   "metadata": {},
   "outputs": [],
   "source": [
    "from langchain_core.messages import AIMessage, HumanMessage\n",
    "\n",
    "def solve(state: ReWOO):\n",
    "    plan = \"\"\n",
    "    for _plan, step_name, tool, tool_input in state[\"steps\"]:\n",
    "        _results = state[\"results\"] or {}\n",
    "        for k, v in _results.items():\n",
    "            tool_input = tool_input.replace(k, v)\n",
    "            step_name = step_name.replace(k, v)\n",
    "        plan += f\"Plan: {_plan}\\n{step_name} = {tool}[{tool_input}]\"\n",
    "    prompt = solve_prompt.format(\n",
    "        plan=plan, history=state[\"chat_history\"], task=state[\"task\"]\n",
    "    )\n",
    "    result = model.invoke(prompt)\n",
    "\n",
    "    # We only save the values we want in the last snapshot\n",
    "    return {\n",
    "        \"task\": None,\n",
    "        \"plan_string\": None,\n",
    "        \"steps\": None,\n",
    "        \"results\": None,\n",
    "        \"chat_history\": [\n",
    "            HumanMessage(content=state[\"task\"]),\n",
    "            AIMessage(content=result.content),\n",
    "        ],\n",
    "    }\n"
   ]
  },
  {
   "cell_type": "code",
   "execution_count": 22,
   "id": "006df626",
   "metadata": {},
   "outputs": [],
   "source": [
    "from langgraph.checkpoint import BaseCheckpointSaver\n",
    "from langgraph.checkpoint.sqlite import SqliteSaver\n",
    "\n",
    "# Memory used to save and load graph state. \n",
    "memory:BaseCheckpointSaver = SqliteSaver.from_conn_string(\":memory:\")"
   ]
  },
  {
   "cell_type": "code",
   "execution_count": 23,
   "id": "0e4befd8",
   "metadata": {},
   "outputs": [],
   "source": [
    "graph = StateGraph(ReWOO)\n",
    "graph.add_node(\"plan\", get_plan)\n",
    "graph.add_node(\"tool\", tool_execution)\n",
    "graph.add_node(\"solve\", solve)\n",
    "graph.add_edge(\"plan\", \"tool\")\n",
    "graph.add_edge(\"solve\", END)\n",
    "graph.add_conditional_edges(\"tool\", _route)\n",
    "graph.set_entry_point(\"plan\")\n",
    "\n",
    "app = graph.compile(checkpointer=memory)"
   ]
  },
  {
   "cell_type": "code",
   "execution_count": 24,
   "id": "bcd4277e",
   "metadata": {},
   "outputs": [
    {
     "name": "stdout",
     "output_type": "stream",
     "text": [
      "{'plan': {'plan_string': 'Plan: Use Google to search for the hometown of the 2024 Australian Open winner. #E1 = Google[2024 Australian Open winner hometown]\\n\\nPlan: Find the name of the 2024 Australian Open winner. #E2 = LLM[Who won the 2024 Australian Open]\\n\\nPlan: Search for information about the player to determine their hometown. #E3 = Google[#E2 player hometown]', 'steps': [('Use Google to search for the hometown of the 2024 Australian Open winner. ', '#E1', 'Google', '2024 Australian Open winner hometown'), ('Find the name of the 2024 Australian Open winner. ', '#E2', 'LLM', 'Who won the 2024 Australian Open'), ('Search for information about the player to determine their hometown. ', '#E3', 'Google', '#E2 player hometown')]}}\n",
      "---\n",
      "{'tool': {'results': {'#E1': '[{\\'url\\': \"https://en.wikipedia.org/wiki/2024_Australian_Open_–_Men\\'s_singles_final\", \\'content\\': \"This was the first Australian Open final since 2005 not to feature any of the Big Three members.[5]\\\\nMedvedev set an Open Era record for the most time spent playing at a singles major, at 24 hours and 17 minutes.[6] Medvedev also became the first player in the Open Era to lose two major finals after having a two-set lead.[7]\\\\nBackground[edit]\\\\nEntering the final, Medvedev lead the career head-to-head 6–3. He became the second Italian man in the Open Era to win a singles major, after Adriano Panatta at the 1976 French Open,[2] and the first new Australian Open champion in ten years, since Stan Wawrinka in 2014.[3] At 22, Sinner was the youngest Australian Open men\\'s singles champion and finalist since Novak Djokovic in 2008.[4] Contents\\\\n2024 Australian Open – Men\\'s singles final\\\\nThe 2024 Australian Open Men\\'s Singles final was the championship tennis match of the men\\'s singles tournament at the 2024 Australian Open, contested by fourth-seed Jannik Sinner and third-seed Daniil Medvedev. Also in the semifinals, Medvedev came back from two-sets-to-love down against Alexander Zverev to reach a third Australian Open final.[9] Medvedev had already played two other five-set matches, against Emil Ruusuvuori in the second round (when he came back from two-sets-to-love down as well) and against Hubert Hurkacz in the quarterfinals.\\\\n Novak Djokovic, ending his 33-match winning streak at the Australian Open (dating back from the 2019 tournament), as well as marking the Serbian\\'s first-ever defeat in an Australian Open semifinal and his first defeat in any major semifinal since the 2019 French Open.\"}, {\\'url\\': \\'https://ausopen.com/articles/news/sinner-v-medvedev-how-ao-2024-mens-final-was-decided\\', \\'content\\': \"MORE: All the stats from the AO 2024 men’s final\\\\nDaniil Medvedev could not maintain his scintillating start on Sunday night, while first-time major finalist Jannik Sinner simply grew in strength as the five-set contest progressed.\\\\nSinner, winner: Italian takes first major at AO 2024\\\\nNEWS\\\\nSinner, the morning after: “It\\'s great emotions, slowly realising what I\\'ve done”\\\\nNEWS\\\\n Sinner v Medvedev: How the AO 2024 men\\'s final was decided\\\\nJannik Sinner weathered an early onslaught to reel in Daniil Medvedev, growing in potency to win the Australian Open 2024 final – his first Grand Slam singles title.\\\\n Early in the second set Medvedev was averaging 77 per cent of first serves in for the match, and towards the end of it this figure had dipped to 65. Medvedev had spent more than 20 hours on court in his previous six rounds, the equivalent of almost two more matches than Sinner (who had spent less than 15 hours on court in advancing to the final).\\\\n During the shift, Sinner’s forehand was gathering speed, having increased from an average of 122.3 km/h in the first set to 128.7 km/h by the third.\\\\n\"}, {\\'url\\': \\'https://www.bbc.com/sport/tennis/68120937\\', \\'content\\': \\'Live scores, results and order of play\\\\nAlerts: Get tennis news sent to your phone\\\\nRelated Topics\\\\nTop Stories\\\\nFA Cup: Blackburn Rovers v Wrexham - live text commentary\\\\nRussian skater Valieva given four-year ban for doping\\\\nLinks to Barcelona are \\\\\\'totally untrue\\\\\\' - Arteta\\\\nElsewhere on the BBC\\\\nThe truth behind the fake grooming scandal\\\\nFeaturing unseen police footage and interviews with the officers at the heart of the case\\\\nDid their father and uncle kill Nazi war criminals?\\\\n A real-life murder mystery following three brothers in their quest for the truth\\\\nWhat was it like to travel on the fastest plane?\\\\nTake a behind-the-scenes look at the supersonic story of the Concorde\\\\nToxic love, ruthless ambition and shocking betrayal\\\\nTell Me Lies follows a passionate college relationship with unimaginable consequences...\\\\n \"\\\\nMarathon man Medvedev runs out of steam\\\\nMedvedev is the first player to lose two Grand Slam finals after winning the opening two sets\\\\nSo many players with the experience of a Grand Slam final have talked about how different the occasion can be, particularly if it is the first time, and potentially overwhelming.\\\\n Jannik Sinner beats Daniil Medvedev in Melbourne final\\\\nJannik Sinner is the youngest player to win the Australian Open men\\\\\\'s title since Novak Djokovic in 2008\\\\nJannik Sinner landed the Grand Slam title he has long promised with an extraordinary fightback to beat Daniil Medvedev in the Australian Open final.\\\\n \"\\\\nSinner starts 2024 in inspired form\\\\nSinner won the first Australian Open men\\\\\\'s final since 2005 which did not feature Roger Federer, Rafael Nadal or Novak Djokovic\\\\nSinner was brought to the forefront of conversation when discussing Grand Slam champions in 2024 following a stunning end to last season.\\\\n\\'}, {\\'url\\': \\'https://ausopen.com/articles/news/sinner-winner-italian-takes-first-major-ao-2024\\', \\'content\\': \\'The agile right-hander, who had claimed victory from a two-set deficit only once previously in his young career, is the second Italian man to achieve singles glory at a major, following Adriano Panatta in1976.With victories over Andrey Rublev, 10-time AO champion Novak Djokovic, and Medvedev, the Italian is the youngest player to defeat top 5 opponents in the final three matches of a major since Michael Stich did it at Wimbledon in 1991 – just weeks before Sinner was born.\\\\n He saved the only break he faced with an ace down the tee, and helped by scoreboard pressure, broke Medvedev by slamming a huge forehand to force an error from his more experienced rival, sealing the fourth set to take the final to a decider.\\\\n Sensing a shift in momentum as Medvedev served to close out the second at 5-3, Sinner set the RLA crowd alight with a pair of brilliant passing shots en route to creating a break point opportunity, which Medvedev snuffed out with trademark patience, drawing a forehand error from his opponent. “We are trying to get better every day, even during the tournament we try to get stronger, trying to understand every situation a little bit better, and I’m so glad to have you there supporting me, understanding me, which sometimes it’s not easy because I am a little bit young sometimes,” he said with a smile.\\\\n Medvedev, who held to love in his first three service games of the second set, piled pressure on the Italian, forcing the right-hander to produce his best tennis to save four break points in a nearly 12-minute second game.\\\\n\\'}, {\\'url\\': \\'https://www.foxsports.com.au/tennis/australian-open/australian-open-2024-jannik-sinner-wins-final-as-tennis-next-generation-finally-arrives-analysis-how-he-beat-daniil-medvedev/news-story/7ac44719304bbc91d52a16ed35fb13c9\\', \\'content\\': \\'And the next two points stamped his clear authority in a famous final he claimed 3-6 3-6 6-4 6-4 6-3 in 3hr 44min. The forehand he fired on the next point was fashioned with ferocity.\\'}]'}}}\n",
      "---\n",
      "{'tool': {'results': {'#E1': '[{\\'url\\': \"https://en.wikipedia.org/wiki/2024_Australian_Open_–_Men\\'s_singles_final\", \\'content\\': \"This was the first Australian Open final since 2005 not to feature any of the Big Three members.[5]\\\\nMedvedev set an Open Era record for the most time spent playing at a singles major, at 24 hours and 17 minutes.[6] Medvedev also became the first player in the Open Era to lose two major finals after having a two-set lead.[7]\\\\nBackground[edit]\\\\nEntering the final, Medvedev lead the career head-to-head 6–3. He became the second Italian man in the Open Era to win a singles major, after Adriano Panatta at the 1976 French Open,[2] and the first new Australian Open champion in ten years, since Stan Wawrinka in 2014.[3] At 22, Sinner was the youngest Australian Open men\\'s singles champion and finalist since Novak Djokovic in 2008.[4] Contents\\\\n2024 Australian Open – Men\\'s singles final\\\\nThe 2024 Australian Open Men\\'s Singles final was the championship tennis match of the men\\'s singles tournament at the 2024 Australian Open, contested by fourth-seed Jannik Sinner and third-seed Daniil Medvedev. Also in the semifinals, Medvedev came back from two-sets-to-love down against Alexander Zverev to reach a third Australian Open final.[9] Medvedev had already played two other five-set matches, against Emil Ruusuvuori in the second round (when he came back from two-sets-to-love down as well) and against Hubert Hurkacz in the quarterfinals.\\\\n Novak Djokovic, ending his 33-match winning streak at the Australian Open (dating back from the 2019 tournament), as well as marking the Serbian\\'s first-ever defeat in an Australian Open semifinal and his first defeat in any major semifinal since the 2019 French Open.\"}, {\\'url\\': \\'https://ausopen.com/articles/news/sinner-v-medvedev-how-ao-2024-mens-final-was-decided\\', \\'content\\': \"MORE: All the stats from the AO 2024 men’s final\\\\nDaniil Medvedev could not maintain his scintillating start on Sunday night, while first-time major finalist Jannik Sinner simply grew in strength as the five-set contest progressed.\\\\nSinner, winner: Italian takes first major at AO 2024\\\\nNEWS\\\\nSinner, the morning after: “It\\'s great emotions, slowly realising what I\\'ve done”\\\\nNEWS\\\\n Sinner v Medvedev: How the AO 2024 men\\'s final was decided\\\\nJannik Sinner weathered an early onslaught to reel in Daniil Medvedev, growing in potency to win the Australian Open 2024 final – his first Grand Slam singles title.\\\\n Early in the second set Medvedev was averaging 77 per cent of first serves in for the match, and towards the end of it this figure had dipped to 65. Medvedev had spent more than 20 hours on court in his previous six rounds, the equivalent of almost two more matches than Sinner (who had spent less than 15 hours on court in advancing to the final).\\\\n During the shift, Sinner’s forehand was gathering speed, having increased from an average of 122.3 km/h in the first set to 128.7 km/h by the third.\\\\n\"}, {\\'url\\': \\'https://www.bbc.com/sport/tennis/68120937\\', \\'content\\': \\'Live scores, results and order of play\\\\nAlerts: Get tennis news sent to your phone\\\\nRelated Topics\\\\nTop Stories\\\\nFA Cup: Blackburn Rovers v Wrexham - live text commentary\\\\nRussian skater Valieva given four-year ban for doping\\\\nLinks to Barcelona are \\\\\\'totally untrue\\\\\\' - Arteta\\\\nElsewhere on the BBC\\\\nThe truth behind the fake grooming scandal\\\\nFeaturing unseen police footage and interviews with the officers at the heart of the case\\\\nDid their father and uncle kill Nazi war criminals?\\\\n A real-life murder mystery following three brothers in their quest for the truth\\\\nWhat was it like to travel on the fastest plane?\\\\nTake a behind-the-scenes look at the supersonic story of the Concorde\\\\nToxic love, ruthless ambition and shocking betrayal\\\\nTell Me Lies follows a passionate college relationship with unimaginable consequences...\\\\n \"\\\\nMarathon man Medvedev runs out of steam\\\\nMedvedev is the first player to lose two Grand Slam finals after winning the opening two sets\\\\nSo many players with the experience of a Grand Slam final have talked about how different the occasion can be, particularly if it is the first time, and potentially overwhelming.\\\\n Jannik Sinner beats Daniil Medvedev in Melbourne final\\\\nJannik Sinner is the youngest player to win the Australian Open men\\\\\\'s title since Novak Djokovic in 2008\\\\nJannik Sinner landed the Grand Slam title he has long promised with an extraordinary fightback to beat Daniil Medvedev in the Australian Open final.\\\\n \"\\\\nSinner starts 2024 in inspired form\\\\nSinner won the first Australian Open men\\\\\\'s final since 2005 which did not feature Roger Federer, Rafael Nadal or Novak Djokovic\\\\nSinner was brought to the forefront of conversation when discussing Grand Slam champions in 2024 following a stunning end to last season.\\\\n\\'}, {\\'url\\': \\'https://ausopen.com/articles/news/sinner-winner-italian-takes-first-major-ao-2024\\', \\'content\\': \\'The agile right-hander, who had claimed victory from a two-set deficit only once previously in his young career, is the second Italian man to achieve singles glory at a major, following Adriano Panatta in1976.With victories over Andrey Rublev, 10-time AO champion Novak Djokovic, and Medvedev, the Italian is the youngest player to defeat top 5 opponents in the final three matches of a major since Michael Stich did it at Wimbledon in 1991 – just weeks before Sinner was born.\\\\n He saved the only break he faced with an ace down the tee, and helped by scoreboard pressure, broke Medvedev by slamming a huge forehand to force an error from his more experienced rival, sealing the fourth set to take the final to a decider.\\\\n Sensing a shift in momentum as Medvedev served to close out the second at 5-3, Sinner set the RLA crowd alight with a pair of brilliant passing shots en route to creating a break point opportunity, which Medvedev snuffed out with trademark patience, drawing a forehand error from his opponent. “We are trying to get better every day, even during the tournament we try to get stronger, trying to understand every situation a little bit better, and I’m so glad to have you there supporting me, understanding me, which sometimes it’s not easy because I am a little bit young sometimes,” he said with a smile.\\\\n Medvedev, who held to love in his first three service games of the second set, piled pressure on the Italian, forcing the right-hander to produce his best tennis to save four break points in a nearly 12-minute second game.\\\\n\\'}, {\\'url\\': \\'https://www.foxsports.com.au/tennis/australian-open/australian-open-2024-jannik-sinner-wins-final-as-tennis-next-generation-finally-arrives-analysis-how-he-beat-daniil-medvedev/news-story/7ac44719304bbc91d52a16ed35fb13c9\\', \\'content\\': \\'And the next two points stamped his clear authority in a famous final he claimed 3-6 3-6 6-4 6-4 6-3 in 3hr 44min. The forehand he fired on the next point was fashioned with ferocity.\\'}]', '#E2': \"content='I am unable to provide real-time information as I am an AI assistant and do not have access to current data. Please check the latest news or sports websites for the most up-to-date information on the winner of the 2024 Australian Open.' response_metadata={'token_usage': {'completion_tokens': 49, 'prompt_tokens': 15, 'total_tokens': 64}, 'model_name': 'gpt-3.5-turbo', 'system_fingerprint': None, 'finish_reason': 'stop', 'logprobs': None} id='run-9b53cac2-f86e-434d-82f1-0132534e2f20-0'\"}}}\n",
      "---\n",
      "{'tool': {'results': {'#E1': '[{\\'url\\': \"https://en.wikipedia.org/wiki/2024_Australian_Open_–_Men\\'s_singles_final\", \\'content\\': \"This was the first Australian Open final since 2005 not to feature any of the Big Three members.[5]\\\\nMedvedev set an Open Era record for the most time spent playing at a singles major, at 24 hours and 17 minutes.[6] Medvedev also became the first player in the Open Era to lose two major finals after having a two-set lead.[7]\\\\nBackground[edit]\\\\nEntering the final, Medvedev lead the career head-to-head 6–3. He became the second Italian man in the Open Era to win a singles major, after Adriano Panatta at the 1976 French Open,[2] and the first new Australian Open champion in ten years, since Stan Wawrinka in 2014.[3] At 22, Sinner was the youngest Australian Open men\\'s singles champion and finalist since Novak Djokovic in 2008.[4] Contents\\\\n2024 Australian Open – Men\\'s singles final\\\\nThe 2024 Australian Open Men\\'s Singles final was the championship tennis match of the men\\'s singles tournament at the 2024 Australian Open, contested by fourth-seed Jannik Sinner and third-seed Daniil Medvedev. Also in the semifinals, Medvedev came back from two-sets-to-love down against Alexander Zverev to reach a third Australian Open final.[9] Medvedev had already played two other five-set matches, against Emil Ruusuvuori in the second round (when he came back from two-sets-to-love down as well) and against Hubert Hurkacz in the quarterfinals.\\\\n Novak Djokovic, ending his 33-match winning streak at the Australian Open (dating back from the 2019 tournament), as well as marking the Serbian\\'s first-ever defeat in an Australian Open semifinal and his first defeat in any major semifinal since the 2019 French Open.\"}, {\\'url\\': \\'https://ausopen.com/articles/news/sinner-v-medvedev-how-ao-2024-mens-final-was-decided\\', \\'content\\': \"MORE: All the stats from the AO 2024 men’s final\\\\nDaniil Medvedev could not maintain his scintillating start on Sunday night, while first-time major finalist Jannik Sinner simply grew in strength as the five-set contest progressed.\\\\nSinner, winner: Italian takes first major at AO 2024\\\\nNEWS\\\\nSinner, the morning after: “It\\'s great emotions, slowly realising what I\\'ve done”\\\\nNEWS\\\\n Sinner v Medvedev: How the AO 2024 men\\'s final was decided\\\\nJannik Sinner weathered an early onslaught to reel in Daniil Medvedev, growing in potency to win the Australian Open 2024 final – his first Grand Slam singles title.\\\\n Early in the second set Medvedev was averaging 77 per cent of first serves in for the match, and towards the end of it this figure had dipped to 65. Medvedev had spent more than 20 hours on court in his previous six rounds, the equivalent of almost two more matches than Sinner (who had spent less than 15 hours on court in advancing to the final).\\\\n During the shift, Sinner’s forehand was gathering speed, having increased from an average of 122.3 km/h in the first set to 128.7 km/h by the third.\\\\n\"}, {\\'url\\': \\'https://www.bbc.com/sport/tennis/68120937\\', \\'content\\': \\'Live scores, results and order of play\\\\nAlerts: Get tennis news sent to your phone\\\\nRelated Topics\\\\nTop Stories\\\\nFA Cup: Blackburn Rovers v Wrexham - live text commentary\\\\nRussian skater Valieva given four-year ban for doping\\\\nLinks to Barcelona are \\\\\\'totally untrue\\\\\\' - Arteta\\\\nElsewhere on the BBC\\\\nThe truth behind the fake grooming scandal\\\\nFeaturing unseen police footage and interviews with the officers at the heart of the case\\\\nDid their father and uncle kill Nazi war criminals?\\\\n A real-life murder mystery following three brothers in their quest for the truth\\\\nWhat was it like to travel on the fastest plane?\\\\nTake a behind-the-scenes look at the supersonic story of the Concorde\\\\nToxic love, ruthless ambition and shocking betrayal\\\\nTell Me Lies follows a passionate college relationship with unimaginable consequences...\\\\n \"\\\\nMarathon man Medvedev runs out of steam\\\\nMedvedev is the first player to lose two Grand Slam finals after winning the opening two sets\\\\nSo many players with the experience of a Grand Slam final have talked about how different the occasion can be, particularly if it is the first time, and potentially overwhelming.\\\\n Jannik Sinner beats Daniil Medvedev in Melbourne final\\\\nJannik Sinner is the youngest player to win the Australian Open men\\\\\\'s title since Novak Djokovic in 2008\\\\nJannik Sinner landed the Grand Slam title he has long promised with an extraordinary fightback to beat Daniil Medvedev in the Australian Open final.\\\\n \"\\\\nSinner starts 2024 in inspired form\\\\nSinner won the first Australian Open men\\\\\\'s final since 2005 which did not feature Roger Federer, Rafael Nadal or Novak Djokovic\\\\nSinner was brought to the forefront of conversation when discussing Grand Slam champions in 2024 following a stunning end to last season.\\\\n\\'}, {\\'url\\': \\'https://ausopen.com/articles/news/sinner-winner-italian-takes-first-major-ao-2024\\', \\'content\\': \\'The agile right-hander, who had claimed victory from a two-set deficit only once previously in his young career, is the second Italian man to achieve singles glory at a major, following Adriano Panatta in1976.With victories over Andrey Rublev, 10-time AO champion Novak Djokovic, and Medvedev, the Italian is the youngest player to defeat top 5 opponents in the final three matches of a major since Michael Stich did it at Wimbledon in 1991 – just weeks before Sinner was born.\\\\n He saved the only break he faced with an ace down the tee, and helped by scoreboard pressure, broke Medvedev by slamming a huge forehand to force an error from his more experienced rival, sealing the fourth set to take the final to a decider.\\\\n Sensing a shift in momentum as Medvedev served to close out the second at 5-3, Sinner set the RLA crowd alight with a pair of brilliant passing shots en route to creating a break point opportunity, which Medvedev snuffed out with trademark patience, drawing a forehand error from his opponent. “We are trying to get better every day, even during the tournament we try to get stronger, trying to understand every situation a little bit better, and I’m so glad to have you there supporting me, understanding me, which sometimes it’s not easy because I am a little bit young sometimes,” he said with a smile.\\\\n Medvedev, who held to love in his first three service games of the second set, piled pressure on the Italian, forcing the right-hander to produce his best tennis to save four break points in a nearly 12-minute second game.\\\\n\\'}, {\\'url\\': \\'https://www.foxsports.com.au/tennis/australian-open/australian-open-2024-jannik-sinner-wins-final-as-tennis-next-generation-finally-arrives-analysis-how-he-beat-daniil-medvedev/news-story/7ac44719304bbc91d52a16ed35fb13c9\\', \\'content\\': \\'And the next two points stamped his clear authority in a famous final he claimed 3-6 3-6 6-4 6-4 6-3 in 3hr 44min. The forehand he fired on the next point was fashioned with ferocity.\\'}]', '#E2': \"content='I am unable to provide real-time information as I am an AI assistant and do not have access to current data. Please check the latest news or sports websites for the most up-to-date information on the winner of the 2024 Australian Open.' response_metadata={'token_usage': {'completion_tokens': 49, 'prompt_tokens': 15, 'total_tokens': 64}, 'model_name': 'gpt-3.5-turbo', 'system_fingerprint': None, 'finish_reason': 'stop', 'logprobs': None} id='run-9b53cac2-f86e-434d-82f1-0132534e2f20-0'\", '#E3': \"HTTPError('400 Client Error: Bad Request for url: https://api.tavily.com/search')\"}}}\n",
      "---\n",
      "{'solve': {'task': None, 'plan_string': None, 'steps': None, 'results': None, 'chat_history': [HumanMessage(content='what is the hometown of the 2024 australian open winner'), AIMessage(content='The hometown of the 2024 Australian Open winner is Italy.')]}}\n",
      "---\n"
     ]
    }
   ],
   "source": [
    "config = {\"configurable\": {\"thread_id\": \"1\"}}\n",
    "\n",
    "for s in app.stream(\n",
    "    {\n",
    "        \"task\": \"what is the hometown of the 2024 australian open winner\",\n",
    "        \"chat_history\": []\n",
    "    },\n",
    "    config,\n",
    "):\n",
    "    print(s)\n",
    "    print(\"---\")\n"
   ]
  },
  {
   "cell_type": "code",
   "execution_count": 25,
   "id": "659a4ac4",
   "metadata": {},
   "outputs": [
    {
     "name": "stdout",
     "output_type": "stream",
     "text": [
      "The hometown of the 2024 Australian Open winner is Italy.\n"
     ]
    }
   ],
   "source": [
    "# Print out the final result\n",
    "print(s[\"solve\"][\"chat_history\"][-1].content)"
   ]
  },
  {
   "cell_type": "markdown",
   "id": "df35d448",
   "metadata": {},
   "source": [
    "We can review the full state history to see everything that occurred. Let's check all the snapshots."
   ]
  },
  {
   "cell_type": "code",
   "execution_count": 26,
   "id": "9324687d",
   "metadata": {},
   "outputs": [
    {
     "name": "stdout",
     "output_type": "stream",
     "text": [
      "StateSnapshot(values={'chat_history': [HumanMessage(content='what is the hometown of the 2024 australian open winner'), AIMessage(content='The hometown of the 2024 Australian Open winner is Italy.')]}, next=(), config={'configurable': {'thread_id': '1', 'thread_ts': '2024-05-22T19:03:26.919649+00:00'}}, metadata={'source': 'loop', 'step': 5, 'writes': {'solve': {'chat_history': [HumanMessage(content='what is the hometown of the 2024 australian open winner'), AIMessage(content='The hometown of the 2024 Australian Open winner is Italy.')], 'plan_string': None, 'results': None, 'steps': None, 'task': None}}}, parent_config={'configurable': {'thread_id': '1', 'thread_ts': '2024-05-22T19:03:25.886785+00:00'}})\n",
      "StateSnapshot(values={'task': 'what is the hometown of the 2024 australian open winner', 'plan_string': 'Plan: Use Google to search for the hometown of the 2024 Australian Open winner. #E1 = Google[2024 Australian Open winner hometown]\\n\\nPlan: Find the name of the 2024 Australian Open winner. #E2 = LLM[Who won the 2024 Australian Open]\\n\\nPlan: Search for information about the player to determine their hometown. #E3 = Google[#E2 player hometown]', 'steps': [['Use Google to search for the hometown of the 2024 Australian Open winner. ', '#E1', 'Google', '2024 Australian Open winner hometown'], ['Find the name of the 2024 Australian Open winner. ', '#E2', 'LLM', 'Who won the 2024 Australian Open'], ['Search for information about the player to determine their hometown. ', '#E3', 'Google', '#E2 player hometown']], 'results': {'#E1': '[{\\'url\\': \"https://en.wikipedia.org/wiki/2024_Australian_Open_–_Men\\'s_singles_final\", \\'content\\': \"This was the first Australian Open final since 2005 not to feature any of the Big Three members.[5]\\\\nMedvedev set an Open Era record for the most time spent playing at a singles major, at 24 hours and 17 minutes.[6] Medvedev also became the first player in the Open Era to lose two major finals after having a two-set lead.[7]\\\\nBackground[edit]\\\\nEntering the final, Medvedev lead the career head-to-head 6–3. He became the second Italian man in the Open Era to win a singles major, after Adriano Panatta at the 1976 French Open,[2] and the first new Australian Open champion in ten years, since Stan Wawrinka in 2014.[3] At 22, Sinner was the youngest Australian Open men\\'s singles champion and finalist since Novak Djokovic in 2008.[4] Contents\\\\n2024 Australian Open – Men\\'s singles final\\\\nThe 2024 Australian Open Men\\'s Singles final was the championship tennis match of the men\\'s singles tournament at the 2024 Australian Open, contested by fourth-seed Jannik Sinner and third-seed Daniil Medvedev. Also in the semifinals, Medvedev came back from two-sets-to-love down against Alexander Zverev to reach a third Australian Open final.[9] Medvedev had already played two other five-set matches, against Emil Ruusuvuori in the second round (when he came back from two-sets-to-love down as well) and against Hubert Hurkacz in the quarterfinals.\\\\n Novak Djokovic, ending his 33-match winning streak at the Australian Open (dating back from the 2019 tournament), as well as marking the Serbian\\'s first-ever defeat in an Australian Open semifinal and his first defeat in any major semifinal since the 2019 French Open.\"}, {\\'url\\': \\'https://ausopen.com/articles/news/sinner-v-medvedev-how-ao-2024-mens-final-was-decided\\', \\'content\\': \"MORE: All the stats from the AO 2024 men’s final\\\\nDaniil Medvedev could not maintain his scintillating start on Sunday night, while first-time major finalist Jannik Sinner simply grew in strength as the five-set contest progressed.\\\\nSinner, winner: Italian takes first major at AO 2024\\\\nNEWS\\\\nSinner, the morning after: “It\\'s great emotions, slowly realising what I\\'ve done”\\\\nNEWS\\\\n Sinner v Medvedev: How the AO 2024 men\\'s final was decided\\\\nJannik Sinner weathered an early onslaught to reel in Daniil Medvedev, growing in potency to win the Australian Open 2024 final – his first Grand Slam singles title.\\\\n Early in the second set Medvedev was averaging 77 per cent of first serves in for the match, and towards the end of it this figure had dipped to 65. Medvedev had spent more than 20 hours on court in his previous six rounds, the equivalent of almost two more matches than Sinner (who had spent less than 15 hours on court in advancing to the final).\\\\n During the shift, Sinner’s forehand was gathering speed, having increased from an average of 122.3 km/h in the first set to 128.7 km/h by the third.\\\\n\"}, {\\'url\\': \\'https://www.bbc.com/sport/tennis/68120937\\', \\'content\\': \\'Live scores, results and order of play\\\\nAlerts: Get tennis news sent to your phone\\\\nRelated Topics\\\\nTop Stories\\\\nFA Cup: Blackburn Rovers v Wrexham - live text commentary\\\\nRussian skater Valieva given four-year ban for doping\\\\nLinks to Barcelona are \\\\\\'totally untrue\\\\\\' - Arteta\\\\nElsewhere on the BBC\\\\nThe truth behind the fake grooming scandal\\\\nFeaturing unseen police footage and interviews with the officers at the heart of the case\\\\nDid their father and uncle kill Nazi war criminals?\\\\n A real-life murder mystery following three brothers in their quest for the truth\\\\nWhat was it like to travel on the fastest plane?\\\\nTake a behind-the-scenes look at the supersonic story of the Concorde\\\\nToxic love, ruthless ambition and shocking betrayal\\\\nTell Me Lies follows a passionate college relationship with unimaginable consequences...\\\\n \"\\\\nMarathon man Medvedev runs out of steam\\\\nMedvedev is the first player to lose two Grand Slam finals after winning the opening two sets\\\\nSo many players with the experience of a Grand Slam final have talked about how different the occasion can be, particularly if it is the first time, and potentially overwhelming.\\\\n Jannik Sinner beats Daniil Medvedev in Melbourne final\\\\nJannik Sinner is the youngest player to win the Australian Open men\\\\\\'s title since Novak Djokovic in 2008\\\\nJannik Sinner landed the Grand Slam title he has long promised with an extraordinary fightback to beat Daniil Medvedev in the Australian Open final.\\\\n \"\\\\nSinner starts 2024 in inspired form\\\\nSinner won the first Australian Open men\\\\\\'s final since 2005 which did not feature Roger Federer, Rafael Nadal or Novak Djokovic\\\\nSinner was brought to the forefront of conversation when discussing Grand Slam champions in 2024 following a stunning end to last season.\\\\n\\'}, {\\'url\\': \\'https://ausopen.com/articles/news/sinner-winner-italian-takes-first-major-ao-2024\\', \\'content\\': \\'The agile right-hander, who had claimed victory from a two-set deficit only once previously in his young career, is the second Italian man to achieve singles glory at a major, following Adriano Panatta in1976.With victories over Andrey Rublev, 10-time AO champion Novak Djokovic, and Medvedev, the Italian is the youngest player to defeat top 5 opponents in the final three matches of a major since Michael Stich did it at Wimbledon in 1991 – just weeks before Sinner was born.\\\\n He saved the only break he faced with an ace down the tee, and helped by scoreboard pressure, broke Medvedev by slamming a huge forehand to force an error from his more experienced rival, sealing the fourth set to take the final to a decider.\\\\n Sensing a shift in momentum as Medvedev served to close out the second at 5-3, Sinner set the RLA crowd alight with a pair of brilliant passing shots en route to creating a break point opportunity, which Medvedev snuffed out with trademark patience, drawing a forehand error from his opponent. “We are trying to get better every day, even during the tournament we try to get stronger, trying to understand every situation a little bit better, and I’m so glad to have you there supporting me, understanding me, which sometimes it’s not easy because I am a little bit young sometimes,” he said with a smile.\\\\n Medvedev, who held to love in his first three service games of the second set, piled pressure on the Italian, forcing the right-hander to produce his best tennis to save four break points in a nearly 12-minute second game.\\\\n\\'}, {\\'url\\': \\'https://www.foxsports.com.au/tennis/australian-open/australian-open-2024-jannik-sinner-wins-final-as-tennis-next-generation-finally-arrives-analysis-how-he-beat-daniil-medvedev/news-story/7ac44719304bbc91d52a16ed35fb13c9\\', \\'content\\': \\'And the next two points stamped his clear authority in a famous final he claimed 3-6 3-6 6-4 6-4 6-3 in 3hr 44min. The forehand he fired on the next point was fashioned with ferocity.\\'}]', '#E2': \"content='I am unable to provide real-time information as I am an AI assistant and do not have access to current data. Please check the latest news or sports websites for the most up-to-date information on the winner of the 2024 Australian Open.' response_metadata={'token_usage': {'completion_tokens': 49, 'prompt_tokens': 15, 'total_tokens': 64}, 'model_name': 'gpt-3.5-turbo', 'system_fingerprint': None, 'finish_reason': 'stop', 'logprobs': None} id='run-9b53cac2-f86e-434d-82f1-0132534e2f20-0'\", '#E3': \"HTTPError('400 Client Error: Bad Request for url: https://api.tavily.com/search')\"}, 'chat_history': []}, next=('solve',), config={'configurable': {'thread_id': '1', 'thread_ts': '2024-05-22T19:03:25.886785+00:00'}}, metadata={'source': 'loop', 'step': 4, 'writes': {'tool': {'results': {'#E1': '[{\\'url\\': \"https://en.wikipedia.org/wiki/2024_Australian_Open_–_Men\\'s_singles_final\", \\'content\\': \"This was the first Australian Open final since 2005 not to feature any of the Big Three members.[5]\\\\nMedvedev set an Open Era record for the most time spent playing at a singles major, at 24 hours and 17 minutes.[6] Medvedev also became the first player in the Open Era to lose two major finals after having a two-set lead.[7]\\\\nBackground[edit]\\\\nEntering the final, Medvedev lead the career head-to-head 6–3. He became the second Italian man in the Open Era to win a singles major, after Adriano Panatta at the 1976 French Open,[2] and the first new Australian Open champion in ten years, since Stan Wawrinka in 2014.[3] At 22, Sinner was the youngest Australian Open men\\'s singles champion and finalist since Novak Djokovic in 2008.[4] Contents\\\\n2024 Australian Open – Men\\'s singles final\\\\nThe 2024 Australian Open Men\\'s Singles final was the championship tennis match of the men\\'s singles tournament at the 2024 Australian Open, contested by fourth-seed Jannik Sinner and third-seed Daniil Medvedev. Also in the semifinals, Medvedev came back from two-sets-to-love down against Alexander Zverev to reach a third Australian Open final.[9] Medvedev had already played two other five-set matches, against Emil Ruusuvuori in the second round (when he came back from two-sets-to-love down as well) and against Hubert Hurkacz in the quarterfinals.\\\\n Novak Djokovic, ending his 33-match winning streak at the Australian Open (dating back from the 2019 tournament), as well as marking the Serbian\\'s first-ever defeat in an Australian Open semifinal and his first defeat in any major semifinal since the 2019 French Open.\"}, {\\'url\\': \\'https://ausopen.com/articles/news/sinner-v-medvedev-how-ao-2024-mens-final-was-decided\\', \\'content\\': \"MORE: All the stats from the AO 2024 men’s final\\\\nDaniil Medvedev could not maintain his scintillating start on Sunday night, while first-time major finalist Jannik Sinner simply grew in strength as the five-set contest progressed.\\\\nSinner, winner: Italian takes first major at AO 2024\\\\nNEWS\\\\nSinner, the morning after: “It\\'s great emotions, slowly realising what I\\'ve done”\\\\nNEWS\\\\n Sinner v Medvedev: How the AO 2024 men\\'s final was decided\\\\nJannik Sinner weathered an early onslaught to reel in Daniil Medvedev, growing in potency to win the Australian Open 2024 final – his first Grand Slam singles title.\\\\n Early in the second set Medvedev was averaging 77 per cent of first serves in for the match, and towards the end of it this figure had dipped to 65. Medvedev had spent more than 20 hours on court in his previous six rounds, the equivalent of almost two more matches than Sinner (who had spent less than 15 hours on court in advancing to the final).\\\\n During the shift, Sinner’s forehand was gathering speed, having increased from an average of 122.3 km/h in the first set to 128.7 km/h by the third.\\\\n\"}, {\\'url\\': \\'https://www.bbc.com/sport/tennis/68120937\\', \\'content\\': \\'Live scores, results and order of play\\\\nAlerts: Get tennis news sent to your phone\\\\nRelated Topics\\\\nTop Stories\\\\nFA Cup: Blackburn Rovers v Wrexham - live text commentary\\\\nRussian skater Valieva given four-year ban for doping\\\\nLinks to Barcelona are \\\\\\'totally untrue\\\\\\' - Arteta\\\\nElsewhere on the BBC\\\\nThe truth behind the fake grooming scandal\\\\nFeaturing unseen police footage and interviews with the officers at the heart of the case\\\\nDid their father and uncle kill Nazi war criminals?\\\\n A real-life murder mystery following three brothers in their quest for the truth\\\\nWhat was it like to travel on the fastest plane?\\\\nTake a behind-the-scenes look at the supersonic story of the Concorde\\\\nToxic love, ruthless ambition and shocking betrayal\\\\nTell Me Lies follows a passionate college relationship with unimaginable consequences...\\\\n \"\\\\nMarathon man Medvedev runs out of steam\\\\nMedvedev is the first player to lose two Grand Slam finals after winning the opening two sets\\\\nSo many players with the experience of a Grand Slam final have talked about how different the occasion can be, particularly if it is the first time, and potentially overwhelming.\\\\n Jannik Sinner beats Daniil Medvedev in Melbourne final\\\\nJannik Sinner is the youngest player to win the Australian Open men\\\\\\'s title since Novak Djokovic in 2008\\\\nJannik Sinner landed the Grand Slam title he has long promised with an extraordinary fightback to beat Daniil Medvedev in the Australian Open final.\\\\n \"\\\\nSinner starts 2024 in inspired form\\\\nSinner won the first Australian Open men\\\\\\'s final since 2005 which did not feature Roger Federer, Rafael Nadal or Novak Djokovic\\\\nSinner was brought to the forefront of conversation when discussing Grand Slam champions in 2024 following a stunning end to last season.\\\\n\\'}, {\\'url\\': \\'https://ausopen.com/articles/news/sinner-winner-italian-takes-first-major-ao-2024\\', \\'content\\': \\'The agile right-hander, who had claimed victory from a two-set deficit only once previously in his young career, is the second Italian man to achieve singles glory at a major, following Adriano Panatta in1976.With victories over Andrey Rublev, 10-time AO champion Novak Djokovic, and Medvedev, the Italian is the youngest player to defeat top 5 opponents in the final three matches of a major since Michael Stich did it at Wimbledon in 1991 – just weeks before Sinner was born.\\\\n He saved the only break he faced with an ace down the tee, and helped by scoreboard pressure, broke Medvedev by slamming a huge forehand to force an error from his more experienced rival, sealing the fourth set to take the final to a decider.\\\\n Sensing a shift in momentum as Medvedev served to close out the second at 5-3, Sinner set the RLA crowd alight with a pair of brilliant passing shots en route to creating a break point opportunity, which Medvedev snuffed out with trademark patience, drawing a forehand error from his opponent. “We are trying to get better every day, even during the tournament we try to get stronger, trying to understand every situation a little bit better, and I’m so glad to have you there supporting me, understanding me, which sometimes it’s not easy because I am a little bit young sometimes,” he said with a smile.\\\\n Medvedev, who held to love in his first three service games of the second set, piled pressure on the Italian, forcing the right-hander to produce his best tennis to save four break points in a nearly 12-minute second game.\\\\n\\'}, {\\'url\\': \\'https://www.foxsports.com.au/tennis/australian-open/australian-open-2024-jannik-sinner-wins-final-as-tennis-next-generation-finally-arrives-analysis-how-he-beat-daniil-medvedev/news-story/7ac44719304bbc91d52a16ed35fb13c9\\', \\'content\\': \\'And the next two points stamped his clear authority in a famous final he claimed 3-6 3-6 6-4 6-4 6-3 in 3hr 44min. The forehand he fired on the next point was fashioned with ferocity.\\'}]', '#E2': \"content='I am unable to provide real-time information as I am an AI assistant and do not have access to current data. Please check the latest news or sports websites for the most up-to-date information on the winner of the 2024 Australian Open.' response_metadata={'token_usage': {'completion_tokens': 49, 'prompt_tokens': 15, 'total_tokens': 64}, 'model_name': 'gpt-3.5-turbo', 'system_fingerprint': None, 'finish_reason': 'stop', 'logprobs': None} id='run-9b53cac2-f86e-434d-82f1-0132534e2f20-0'\", '#E3': \"HTTPError('400 Client Error: Bad Request for url: https://api.tavily.com/search')\"}}}}, parent_config={'configurable': {'thread_id': '1', 'thread_ts': '2024-05-22T19:03:25.242088+00:00'}})\n",
      "StateSnapshot(values={'task': 'what is the hometown of the 2024 australian open winner', 'plan_string': 'Plan: Use Google to search for the hometown of the 2024 Australian Open winner. #E1 = Google[2024 Australian Open winner hometown]\\n\\nPlan: Find the name of the 2024 Australian Open winner. #E2 = LLM[Who won the 2024 Australian Open]\\n\\nPlan: Search for information about the player to determine their hometown. #E3 = Google[#E2 player hometown]', 'steps': [['Use Google to search for the hometown of the 2024 Australian Open winner. ', '#E1', 'Google', '2024 Australian Open winner hometown'], ['Find the name of the 2024 Australian Open winner. ', '#E2', 'LLM', 'Who won the 2024 Australian Open'], ['Search for information about the player to determine their hometown. ', '#E3', 'Google', '#E2 player hometown']], 'results': {'#E1': '[{\\'url\\': \"https://en.wikipedia.org/wiki/2024_Australian_Open_–_Men\\'s_singles_final\", \\'content\\': \"This was the first Australian Open final since 2005 not to feature any of the Big Three members.[5]\\\\nMedvedev set an Open Era record for the most time spent playing at a singles major, at 24 hours and 17 minutes.[6] Medvedev also became the first player in the Open Era to lose two major finals after having a two-set lead.[7]\\\\nBackground[edit]\\\\nEntering the final, Medvedev lead the career head-to-head 6–3. He became the second Italian man in the Open Era to win a singles major, after Adriano Panatta at the 1976 French Open,[2] and the first new Australian Open champion in ten years, since Stan Wawrinka in 2014.[3] At 22, Sinner was the youngest Australian Open men\\'s singles champion and finalist since Novak Djokovic in 2008.[4] Contents\\\\n2024 Australian Open – Men\\'s singles final\\\\nThe 2024 Australian Open Men\\'s Singles final was the championship tennis match of the men\\'s singles tournament at the 2024 Australian Open, contested by fourth-seed Jannik Sinner and third-seed Daniil Medvedev. Also in the semifinals, Medvedev came back from two-sets-to-love down against Alexander Zverev to reach a third Australian Open final.[9] Medvedev had already played two other five-set matches, against Emil Ruusuvuori in the second round (when he came back from two-sets-to-love down as well) and against Hubert Hurkacz in the quarterfinals.\\\\n Novak Djokovic, ending his 33-match winning streak at the Australian Open (dating back from the 2019 tournament), as well as marking the Serbian\\'s first-ever defeat in an Australian Open semifinal and his first defeat in any major semifinal since the 2019 French Open.\"}, {\\'url\\': \\'https://ausopen.com/articles/news/sinner-v-medvedev-how-ao-2024-mens-final-was-decided\\', \\'content\\': \"MORE: All the stats from the AO 2024 men’s final\\\\nDaniil Medvedev could not maintain his scintillating start on Sunday night, while first-time major finalist Jannik Sinner simply grew in strength as the five-set contest progressed.\\\\nSinner, winner: Italian takes first major at AO 2024\\\\nNEWS\\\\nSinner, the morning after: “It\\'s great emotions, slowly realising what I\\'ve done”\\\\nNEWS\\\\n Sinner v Medvedev: How the AO 2024 men\\'s final was decided\\\\nJannik Sinner weathered an early onslaught to reel in Daniil Medvedev, growing in potency to win the Australian Open 2024 final – his first Grand Slam singles title.\\\\n Early in the second set Medvedev was averaging 77 per cent of first serves in for the match, and towards the end of it this figure had dipped to 65. Medvedev had spent more than 20 hours on court in his previous six rounds, the equivalent of almost two more matches than Sinner (who had spent less than 15 hours on court in advancing to the final).\\\\n During the shift, Sinner’s forehand was gathering speed, having increased from an average of 122.3 km/h in the first set to 128.7 km/h by the third.\\\\n\"}, {\\'url\\': \\'https://www.bbc.com/sport/tennis/68120937\\', \\'content\\': \\'Live scores, results and order of play\\\\nAlerts: Get tennis news sent to your phone\\\\nRelated Topics\\\\nTop Stories\\\\nFA Cup: Blackburn Rovers v Wrexham - live text commentary\\\\nRussian skater Valieva given four-year ban for doping\\\\nLinks to Barcelona are \\\\\\'totally untrue\\\\\\' - Arteta\\\\nElsewhere on the BBC\\\\nThe truth behind the fake grooming scandal\\\\nFeaturing unseen police footage and interviews with the officers at the heart of the case\\\\nDid their father and uncle kill Nazi war criminals?\\\\n A real-life murder mystery following three brothers in their quest for the truth\\\\nWhat was it like to travel on the fastest plane?\\\\nTake a behind-the-scenes look at the supersonic story of the Concorde\\\\nToxic love, ruthless ambition and shocking betrayal\\\\nTell Me Lies follows a passionate college relationship with unimaginable consequences...\\\\n \"\\\\nMarathon man Medvedev runs out of steam\\\\nMedvedev is the first player to lose two Grand Slam finals after winning the opening two sets\\\\nSo many players with the experience of a Grand Slam final have talked about how different the occasion can be, particularly if it is the first time, and potentially overwhelming.\\\\n Jannik Sinner beats Daniil Medvedev in Melbourne final\\\\nJannik Sinner is the youngest player to win the Australian Open men\\\\\\'s title since Novak Djokovic in 2008\\\\nJannik Sinner landed the Grand Slam title he has long promised with an extraordinary fightback to beat Daniil Medvedev in the Australian Open final.\\\\n \"\\\\nSinner starts 2024 in inspired form\\\\nSinner won the first Australian Open men\\\\\\'s final since 2005 which did not feature Roger Federer, Rafael Nadal or Novak Djokovic\\\\nSinner was brought to the forefront of conversation when discussing Grand Slam champions in 2024 following a stunning end to last season.\\\\n\\'}, {\\'url\\': \\'https://ausopen.com/articles/news/sinner-winner-italian-takes-first-major-ao-2024\\', \\'content\\': \\'The agile right-hander, who had claimed victory from a two-set deficit only once previously in his young career, is the second Italian man to achieve singles glory at a major, following Adriano Panatta in1976.With victories over Andrey Rublev, 10-time AO champion Novak Djokovic, and Medvedev, the Italian is the youngest player to defeat top 5 opponents in the final three matches of a major since Michael Stich did it at Wimbledon in 1991 – just weeks before Sinner was born.\\\\n He saved the only break he faced with an ace down the tee, and helped by scoreboard pressure, broke Medvedev by slamming a huge forehand to force an error from his more experienced rival, sealing the fourth set to take the final to a decider.\\\\n Sensing a shift in momentum as Medvedev served to close out the second at 5-3, Sinner set the RLA crowd alight with a pair of brilliant passing shots en route to creating a break point opportunity, which Medvedev snuffed out with trademark patience, drawing a forehand error from his opponent. “We are trying to get better every day, even during the tournament we try to get stronger, trying to understand every situation a little bit better, and I’m so glad to have you there supporting me, understanding me, which sometimes it’s not easy because I am a little bit young sometimes,” he said with a smile.\\\\n Medvedev, who held to love in his first three service games of the second set, piled pressure on the Italian, forcing the right-hander to produce his best tennis to save four break points in a nearly 12-minute second game.\\\\n\\'}, {\\'url\\': \\'https://www.foxsports.com.au/tennis/australian-open/australian-open-2024-jannik-sinner-wins-final-as-tennis-next-generation-finally-arrives-analysis-how-he-beat-daniil-medvedev/news-story/7ac44719304bbc91d52a16ed35fb13c9\\', \\'content\\': \\'And the next two points stamped his clear authority in a famous final he claimed 3-6 3-6 6-4 6-4 6-3 in 3hr 44min. The forehand he fired on the next point was fashioned with ferocity.\\'}]', '#E2': \"content='I am unable to provide real-time information as I am an AI assistant and do not have access to current data. Please check the latest news or sports websites for the most up-to-date information on the winner of the 2024 Australian Open.' response_metadata={'token_usage': {'completion_tokens': 49, 'prompt_tokens': 15, 'total_tokens': 64}, 'model_name': 'gpt-3.5-turbo', 'system_fingerprint': None, 'finish_reason': 'stop', 'logprobs': None} id='run-9b53cac2-f86e-434d-82f1-0132534e2f20-0'\"}, 'chat_history': []}, next=('tool',), config={'configurable': {'thread_id': '1', 'thread_ts': '2024-05-22T19:03:25.242088+00:00'}}, metadata={'source': 'loop', 'step': 3, 'writes': {'tool': {'results': {'#E1': '[{\\'url\\': \"https://en.wikipedia.org/wiki/2024_Australian_Open_–_Men\\'s_singles_final\", \\'content\\': \"This was the first Australian Open final since 2005 not to feature any of the Big Three members.[5]\\\\nMedvedev set an Open Era record for the most time spent playing at a singles major, at 24 hours and 17 minutes.[6] Medvedev also became the first player in the Open Era to lose two major finals after having a two-set lead.[7]\\\\nBackground[edit]\\\\nEntering the final, Medvedev lead the career head-to-head 6–3. He became the second Italian man in the Open Era to win a singles major, after Adriano Panatta at the 1976 French Open,[2] and the first new Australian Open champion in ten years, since Stan Wawrinka in 2014.[3] At 22, Sinner was the youngest Australian Open men\\'s singles champion and finalist since Novak Djokovic in 2008.[4] Contents\\\\n2024 Australian Open – Men\\'s singles final\\\\nThe 2024 Australian Open Men\\'s Singles final was the championship tennis match of the men\\'s singles tournament at the 2024 Australian Open, contested by fourth-seed Jannik Sinner and third-seed Daniil Medvedev. Also in the semifinals, Medvedev came back from two-sets-to-love down against Alexander Zverev to reach a third Australian Open final.[9] Medvedev had already played two other five-set matches, against Emil Ruusuvuori in the second round (when he came back from two-sets-to-love down as well) and against Hubert Hurkacz in the quarterfinals.\\\\n Novak Djokovic, ending his 33-match winning streak at the Australian Open (dating back from the 2019 tournament), as well as marking the Serbian\\'s first-ever defeat in an Australian Open semifinal and his first defeat in any major semifinal since the 2019 French Open.\"}, {\\'url\\': \\'https://ausopen.com/articles/news/sinner-v-medvedev-how-ao-2024-mens-final-was-decided\\', \\'content\\': \"MORE: All the stats from the AO 2024 men’s final\\\\nDaniil Medvedev could not maintain his scintillating start on Sunday night, while first-time major finalist Jannik Sinner simply grew in strength as the five-set contest progressed.\\\\nSinner, winner: Italian takes first major at AO 2024\\\\nNEWS\\\\nSinner, the morning after: “It\\'s great emotions, slowly realising what I\\'ve done”\\\\nNEWS\\\\n Sinner v Medvedev: How the AO 2024 men\\'s final was decided\\\\nJannik Sinner weathered an early onslaught to reel in Daniil Medvedev, growing in potency to win the Australian Open 2024 final – his first Grand Slam singles title.\\\\n Early in the second set Medvedev was averaging 77 per cent of first serves in for the match, and towards the end of it this figure had dipped to 65. Medvedev had spent more than 20 hours on court in his previous six rounds, the equivalent of almost two more matches than Sinner (who had spent less than 15 hours on court in advancing to the final).\\\\n During the shift, Sinner’s forehand was gathering speed, having increased from an average of 122.3 km/h in the first set to 128.7 km/h by the third.\\\\n\"}, {\\'url\\': \\'https://www.bbc.com/sport/tennis/68120937\\', \\'content\\': \\'Live scores, results and order of play\\\\nAlerts: Get tennis news sent to your phone\\\\nRelated Topics\\\\nTop Stories\\\\nFA Cup: Blackburn Rovers v Wrexham - live text commentary\\\\nRussian skater Valieva given four-year ban for doping\\\\nLinks to Barcelona are \\\\\\'totally untrue\\\\\\' - Arteta\\\\nElsewhere on the BBC\\\\nThe truth behind the fake grooming scandal\\\\nFeaturing unseen police footage and interviews with the officers at the heart of the case\\\\nDid their father and uncle kill Nazi war criminals?\\\\n A real-life murder mystery following three brothers in their quest for the truth\\\\nWhat was it like to travel on the fastest plane?\\\\nTake a behind-the-scenes look at the supersonic story of the Concorde\\\\nToxic love, ruthless ambition and shocking betrayal\\\\nTell Me Lies follows a passionate college relationship with unimaginable consequences...\\\\n \"\\\\nMarathon man Medvedev runs out of steam\\\\nMedvedev is the first player to lose two Grand Slam finals after winning the opening two sets\\\\nSo many players with the experience of a Grand Slam final have talked about how different the occasion can be, particularly if it is the first time, and potentially overwhelming.\\\\n Jannik Sinner beats Daniil Medvedev in Melbourne final\\\\nJannik Sinner is the youngest player to win the Australian Open men\\\\\\'s title since Novak Djokovic in 2008\\\\nJannik Sinner landed the Grand Slam title he has long promised with an extraordinary fightback to beat Daniil Medvedev in the Australian Open final.\\\\n \"\\\\nSinner starts 2024 in inspired form\\\\nSinner won the first Australian Open men\\\\\\'s final since 2005 which did not feature Roger Federer, Rafael Nadal or Novak Djokovic\\\\nSinner was brought to the forefront of conversation when discussing Grand Slam champions in 2024 following a stunning end to last season.\\\\n\\'}, {\\'url\\': \\'https://ausopen.com/articles/news/sinner-winner-italian-takes-first-major-ao-2024\\', \\'content\\': \\'The agile right-hander, who had claimed victory from a two-set deficit only once previously in his young career, is the second Italian man to achieve singles glory at a major, following Adriano Panatta in1976.With victories over Andrey Rublev, 10-time AO champion Novak Djokovic, and Medvedev, the Italian is the youngest player to defeat top 5 opponents in the final three matches of a major since Michael Stich did it at Wimbledon in 1991 – just weeks before Sinner was born.\\\\n He saved the only break he faced with an ace down the tee, and helped by scoreboard pressure, broke Medvedev by slamming a huge forehand to force an error from his more experienced rival, sealing the fourth set to take the final to a decider.\\\\n Sensing a shift in momentum as Medvedev served to close out the second at 5-3, Sinner set the RLA crowd alight with a pair of brilliant passing shots en route to creating a break point opportunity, which Medvedev snuffed out with trademark patience, drawing a forehand error from his opponent. “We are trying to get better every day, even during the tournament we try to get stronger, trying to understand every situation a little bit better, and I’m so glad to have you there supporting me, understanding me, which sometimes it’s not easy because I am a little bit young sometimes,” he said with a smile.\\\\n Medvedev, who held to love in his first three service games of the second set, piled pressure on the Italian, forcing the right-hander to produce his best tennis to save four break points in a nearly 12-minute second game.\\\\n\\'}, {\\'url\\': \\'https://www.foxsports.com.au/tennis/australian-open/australian-open-2024-jannik-sinner-wins-final-as-tennis-next-generation-finally-arrives-analysis-how-he-beat-daniil-medvedev/news-story/7ac44719304bbc91d52a16ed35fb13c9\\', \\'content\\': \\'And the next two points stamped his clear authority in a famous final he claimed 3-6 3-6 6-4 6-4 6-3 in 3hr 44min. The forehand he fired on the next point was fashioned with ferocity.\\'}]', '#E2': \"content='I am unable to provide real-time information as I am an AI assistant and do not have access to current data. Please check the latest news or sports websites for the most up-to-date information on the winner of the 2024 Australian Open.' response_metadata={'token_usage': {'completion_tokens': 49, 'prompt_tokens': 15, 'total_tokens': 64}, 'model_name': 'gpt-3.5-turbo', 'system_fingerprint': None, 'finish_reason': 'stop', 'logprobs': None} id='run-9b53cac2-f86e-434d-82f1-0132534e2f20-0'\"}}}}, parent_config={'configurable': {'thread_id': '1', 'thread_ts': '2024-05-22T19:03:23.643964+00:00'}})\n",
      "StateSnapshot(values={'task': 'what is the hometown of the 2024 australian open winner', 'plan_string': 'Plan: Use Google to search for the hometown of the 2024 Australian Open winner. #E1 = Google[2024 Australian Open winner hometown]\\n\\nPlan: Find the name of the 2024 Australian Open winner. #E2 = LLM[Who won the 2024 Australian Open]\\n\\nPlan: Search for information about the player to determine their hometown. #E3 = Google[#E2 player hometown]', 'steps': [['Use Google to search for the hometown of the 2024 Australian Open winner. ', '#E1', 'Google', '2024 Australian Open winner hometown'], ['Find the name of the 2024 Australian Open winner. ', '#E2', 'LLM', 'Who won the 2024 Australian Open'], ['Search for information about the player to determine their hometown. ', '#E3', 'Google', '#E2 player hometown']], 'results': {'#E1': '[{\\'url\\': \"https://en.wikipedia.org/wiki/2024_Australian_Open_–_Men\\'s_singles_final\", \\'content\\': \"This was the first Australian Open final since 2005 not to feature any of the Big Three members.[5]\\\\nMedvedev set an Open Era record for the most time spent playing at a singles major, at 24 hours and 17 minutes.[6] Medvedev also became the first player in the Open Era to lose two major finals after having a two-set lead.[7]\\\\nBackground[edit]\\\\nEntering the final, Medvedev lead the career head-to-head 6–3. He became the second Italian man in the Open Era to win a singles major, after Adriano Panatta at the 1976 French Open,[2] and the first new Australian Open champion in ten years, since Stan Wawrinka in 2014.[3] At 22, Sinner was the youngest Australian Open men\\'s singles champion and finalist since Novak Djokovic in 2008.[4] Contents\\\\n2024 Australian Open – Men\\'s singles final\\\\nThe 2024 Australian Open Men\\'s Singles final was the championship tennis match of the men\\'s singles tournament at the 2024 Australian Open, contested by fourth-seed Jannik Sinner and third-seed Daniil Medvedev. Also in the semifinals, Medvedev came back from two-sets-to-love down against Alexander Zverev to reach a third Australian Open final.[9] Medvedev had already played two other five-set matches, against Emil Ruusuvuori in the second round (when he came back from two-sets-to-love down as well) and against Hubert Hurkacz in the quarterfinals.\\\\n Novak Djokovic, ending his 33-match winning streak at the Australian Open (dating back from the 2019 tournament), as well as marking the Serbian\\'s first-ever defeat in an Australian Open semifinal and his first defeat in any major semifinal since the 2019 French Open.\"}, {\\'url\\': \\'https://ausopen.com/articles/news/sinner-v-medvedev-how-ao-2024-mens-final-was-decided\\', \\'content\\': \"MORE: All the stats from the AO 2024 men’s final\\\\nDaniil Medvedev could not maintain his scintillating start on Sunday night, while first-time major finalist Jannik Sinner simply grew in strength as the five-set contest progressed.\\\\nSinner, winner: Italian takes first major at AO 2024\\\\nNEWS\\\\nSinner, the morning after: “It\\'s great emotions, slowly realising what I\\'ve done”\\\\nNEWS\\\\n Sinner v Medvedev: How the AO 2024 men\\'s final was decided\\\\nJannik Sinner weathered an early onslaught to reel in Daniil Medvedev, growing in potency to win the Australian Open 2024 final – his first Grand Slam singles title.\\\\n Early in the second set Medvedev was averaging 77 per cent of first serves in for the match, and towards the end of it this figure had dipped to 65. Medvedev had spent more than 20 hours on court in his previous six rounds, the equivalent of almost two more matches than Sinner (who had spent less than 15 hours on court in advancing to the final).\\\\n During the shift, Sinner’s forehand was gathering speed, having increased from an average of 122.3 km/h in the first set to 128.7 km/h by the third.\\\\n\"}, {\\'url\\': \\'https://www.bbc.com/sport/tennis/68120937\\', \\'content\\': \\'Live scores, results and order of play\\\\nAlerts: Get tennis news sent to your phone\\\\nRelated Topics\\\\nTop Stories\\\\nFA Cup: Blackburn Rovers v Wrexham - live text commentary\\\\nRussian skater Valieva given four-year ban for doping\\\\nLinks to Barcelona are \\\\\\'totally untrue\\\\\\' - Arteta\\\\nElsewhere on the BBC\\\\nThe truth behind the fake grooming scandal\\\\nFeaturing unseen police footage and interviews with the officers at the heart of the case\\\\nDid their father and uncle kill Nazi war criminals?\\\\n A real-life murder mystery following three brothers in their quest for the truth\\\\nWhat was it like to travel on the fastest plane?\\\\nTake a behind-the-scenes look at the supersonic story of the Concorde\\\\nToxic love, ruthless ambition and shocking betrayal\\\\nTell Me Lies follows a passionate college relationship with unimaginable consequences...\\\\n \"\\\\nMarathon man Medvedev runs out of steam\\\\nMedvedev is the first player to lose two Grand Slam finals after winning the opening two sets\\\\nSo many players with the experience of a Grand Slam final have talked about how different the occasion can be, particularly if it is the first time, and potentially overwhelming.\\\\n Jannik Sinner beats Daniil Medvedev in Melbourne final\\\\nJannik Sinner is the youngest player to win the Australian Open men\\\\\\'s title since Novak Djokovic in 2008\\\\nJannik Sinner landed the Grand Slam title he has long promised with an extraordinary fightback to beat Daniil Medvedev in the Australian Open final.\\\\n \"\\\\nSinner starts 2024 in inspired form\\\\nSinner won the first Australian Open men\\\\\\'s final since 2005 which did not feature Roger Federer, Rafael Nadal or Novak Djokovic\\\\nSinner was brought to the forefront of conversation when discussing Grand Slam champions in 2024 following a stunning end to last season.\\\\n\\'}, {\\'url\\': \\'https://ausopen.com/articles/news/sinner-winner-italian-takes-first-major-ao-2024\\', \\'content\\': \\'The agile right-hander, who had claimed victory from a two-set deficit only once previously in his young career, is the second Italian man to achieve singles glory at a major, following Adriano Panatta in1976.With victories over Andrey Rublev, 10-time AO champion Novak Djokovic, and Medvedev, the Italian is the youngest player to defeat top 5 opponents in the final three matches of a major since Michael Stich did it at Wimbledon in 1991 – just weeks before Sinner was born.\\\\n He saved the only break he faced with an ace down the tee, and helped by scoreboard pressure, broke Medvedev by slamming a huge forehand to force an error from his more experienced rival, sealing the fourth set to take the final to a decider.\\\\n Sensing a shift in momentum as Medvedev served to close out the second at 5-3, Sinner set the RLA crowd alight with a pair of brilliant passing shots en route to creating a break point opportunity, which Medvedev snuffed out with trademark patience, drawing a forehand error from his opponent. “We are trying to get better every day, even during the tournament we try to get stronger, trying to understand every situation a little bit better, and I’m so glad to have you there supporting me, understanding me, which sometimes it’s not easy because I am a little bit young sometimes,” he said with a smile.\\\\n Medvedev, who held to love in his first three service games of the second set, piled pressure on the Italian, forcing the right-hander to produce his best tennis to save four break points in a nearly 12-minute second game.\\\\n\\'}, {\\'url\\': \\'https://www.foxsports.com.au/tennis/australian-open/australian-open-2024-jannik-sinner-wins-final-as-tennis-next-generation-finally-arrives-analysis-how-he-beat-daniil-medvedev/news-story/7ac44719304bbc91d52a16ed35fb13c9\\', \\'content\\': \\'And the next two points stamped his clear authority in a famous final he claimed 3-6 3-6 6-4 6-4 6-3 in 3hr 44min. The forehand he fired on the next point was fashioned with ferocity.\\'}]'}, 'chat_history': []}, next=('tool',), config={'configurable': {'thread_id': '1', 'thread_ts': '2024-05-22T19:03:23.643964+00:00'}}, metadata={'source': 'loop', 'step': 2, 'writes': {'tool': {'results': {'#E1': '[{\\'url\\': \"https://en.wikipedia.org/wiki/2024_Australian_Open_–_Men\\'s_singles_final\", \\'content\\': \"This was the first Australian Open final since 2005 not to feature any of the Big Three members.[5]\\\\nMedvedev set an Open Era record for the most time spent playing at a singles major, at 24 hours and 17 minutes.[6] Medvedev also became the first player in the Open Era to lose two major finals after having a two-set lead.[7]\\\\nBackground[edit]\\\\nEntering the final, Medvedev lead the career head-to-head 6–3. He became the second Italian man in the Open Era to win a singles major, after Adriano Panatta at the 1976 French Open,[2] and the first new Australian Open champion in ten years, since Stan Wawrinka in 2014.[3] At 22, Sinner was the youngest Australian Open men\\'s singles champion and finalist since Novak Djokovic in 2008.[4] Contents\\\\n2024 Australian Open – Men\\'s singles final\\\\nThe 2024 Australian Open Men\\'s Singles final was the championship tennis match of the men\\'s singles tournament at the 2024 Australian Open, contested by fourth-seed Jannik Sinner and third-seed Daniil Medvedev. Also in the semifinals, Medvedev came back from two-sets-to-love down against Alexander Zverev to reach a third Australian Open final.[9] Medvedev had already played two other five-set matches, against Emil Ruusuvuori in the second round (when he came back from two-sets-to-love down as well) and against Hubert Hurkacz in the quarterfinals.\\\\n Novak Djokovic, ending his 33-match winning streak at the Australian Open (dating back from the 2019 tournament), as well as marking the Serbian\\'s first-ever defeat in an Australian Open semifinal and his first defeat in any major semifinal since the 2019 French Open.\"}, {\\'url\\': \\'https://ausopen.com/articles/news/sinner-v-medvedev-how-ao-2024-mens-final-was-decided\\', \\'content\\': \"MORE: All the stats from the AO 2024 men’s final\\\\nDaniil Medvedev could not maintain his scintillating start on Sunday night, while first-time major finalist Jannik Sinner simply grew in strength as the five-set contest progressed.\\\\nSinner, winner: Italian takes first major at AO 2024\\\\nNEWS\\\\nSinner, the morning after: “It\\'s great emotions, slowly realising what I\\'ve done”\\\\nNEWS\\\\n Sinner v Medvedev: How the AO 2024 men\\'s final was decided\\\\nJannik Sinner weathered an early onslaught to reel in Daniil Medvedev, growing in potency to win the Australian Open 2024 final – his first Grand Slam singles title.\\\\n Early in the second set Medvedev was averaging 77 per cent of first serves in for the match, and towards the end of it this figure had dipped to 65. Medvedev had spent more than 20 hours on court in his previous six rounds, the equivalent of almost two more matches than Sinner (who had spent less than 15 hours on court in advancing to the final).\\\\n During the shift, Sinner’s forehand was gathering speed, having increased from an average of 122.3 km/h in the first set to 128.7 km/h by the third.\\\\n\"}, {\\'url\\': \\'https://www.bbc.com/sport/tennis/68120937\\', \\'content\\': \\'Live scores, results and order of play\\\\nAlerts: Get tennis news sent to your phone\\\\nRelated Topics\\\\nTop Stories\\\\nFA Cup: Blackburn Rovers v Wrexham - live text commentary\\\\nRussian skater Valieva given four-year ban for doping\\\\nLinks to Barcelona are \\\\\\'totally untrue\\\\\\' - Arteta\\\\nElsewhere on the BBC\\\\nThe truth behind the fake grooming scandal\\\\nFeaturing unseen police footage and interviews with the officers at the heart of the case\\\\nDid their father and uncle kill Nazi war criminals?\\\\n A real-life murder mystery following three brothers in their quest for the truth\\\\nWhat was it like to travel on the fastest plane?\\\\nTake a behind-the-scenes look at the supersonic story of the Concorde\\\\nToxic love, ruthless ambition and shocking betrayal\\\\nTell Me Lies follows a passionate college relationship with unimaginable consequences...\\\\n \"\\\\nMarathon man Medvedev runs out of steam\\\\nMedvedev is the first player to lose two Grand Slam finals after winning the opening two sets\\\\nSo many players with the experience of a Grand Slam final have talked about how different the occasion can be, particularly if it is the first time, and potentially overwhelming.\\\\n Jannik Sinner beats Daniil Medvedev in Melbourne final\\\\nJannik Sinner is the youngest player to win the Australian Open men\\\\\\'s title since Novak Djokovic in 2008\\\\nJannik Sinner landed the Grand Slam title he has long promised with an extraordinary fightback to beat Daniil Medvedev in the Australian Open final.\\\\n \"\\\\nSinner starts 2024 in inspired form\\\\nSinner won the first Australian Open men\\\\\\'s final since 2005 which did not feature Roger Federer, Rafael Nadal or Novak Djokovic\\\\nSinner was brought to the forefront of conversation when discussing Grand Slam champions in 2024 following a stunning end to last season.\\\\n\\'}, {\\'url\\': \\'https://ausopen.com/articles/news/sinner-winner-italian-takes-first-major-ao-2024\\', \\'content\\': \\'The agile right-hander, who had claimed victory from a two-set deficit only once previously in his young career, is the second Italian man to achieve singles glory at a major, following Adriano Panatta in1976.With victories over Andrey Rublev, 10-time AO champion Novak Djokovic, and Medvedev, the Italian is the youngest player to defeat top 5 opponents in the final three matches of a major since Michael Stich did it at Wimbledon in 1991 – just weeks before Sinner was born.\\\\n He saved the only break he faced with an ace down the tee, and helped by scoreboard pressure, broke Medvedev by slamming a huge forehand to force an error from his more experienced rival, sealing the fourth set to take the final to a decider.\\\\n Sensing a shift in momentum as Medvedev served to close out the second at 5-3, Sinner set the RLA crowd alight with a pair of brilliant passing shots en route to creating a break point opportunity, which Medvedev snuffed out with trademark patience, drawing a forehand error from his opponent. “We are trying to get better every day, even during the tournament we try to get stronger, trying to understand every situation a little bit better, and I’m so glad to have you there supporting me, understanding me, which sometimes it’s not easy because I am a little bit young sometimes,” he said with a smile.\\\\n Medvedev, who held to love in his first three service games of the second set, piled pressure on the Italian, forcing the right-hander to produce his best tennis to save four break points in a nearly 12-minute second game.\\\\n\\'}, {\\'url\\': \\'https://www.foxsports.com.au/tennis/australian-open/australian-open-2024-jannik-sinner-wins-final-as-tennis-next-generation-finally-arrives-analysis-how-he-beat-daniil-medvedev/news-story/7ac44719304bbc91d52a16ed35fb13c9\\', \\'content\\': \\'And the next two points stamped his clear authority in a famous final he claimed 3-6 3-6 6-4 6-4 6-3 in 3hr 44min. The forehand he fired on the next point was fashioned with ferocity.\\'}]'}}}}, parent_config={'configurable': {'thread_id': '1', 'thread_ts': '2024-05-22T19:03:21.510380+00:00'}})\n",
      "StateSnapshot(values={'task': 'what is the hometown of the 2024 australian open winner', 'plan_string': 'Plan: Use Google to search for the hometown of the 2024 Australian Open winner. #E1 = Google[2024 Australian Open winner hometown]\\n\\nPlan: Find the name of the 2024 Australian Open winner. #E2 = LLM[Who won the 2024 Australian Open]\\n\\nPlan: Search for information about the player to determine their hometown. #E3 = Google[#E2 player hometown]', 'steps': [['Use Google to search for the hometown of the 2024 Australian Open winner. ', '#E1', 'Google', '2024 Australian Open winner hometown'], ['Find the name of the 2024 Australian Open winner. ', '#E2', 'LLM', 'Who won the 2024 Australian Open'], ['Search for information about the player to determine their hometown. ', '#E3', 'Google', '#E2 player hometown']], 'chat_history': []}, next=('tool',), config={'configurable': {'thread_id': '1', 'thread_ts': '2024-05-22T19:03:21.510380+00:00'}}, metadata={'source': 'loop', 'step': 1, 'writes': {'plan': {'plan_string': 'Plan: Use Google to search for the hometown of the 2024 Australian Open winner. #E1 = Google[2024 Australian Open winner hometown]\\n\\nPlan: Find the name of the 2024 Australian Open winner. #E2 = LLM[Who won the 2024 Australian Open]\\n\\nPlan: Search for information about the player to determine their hometown. #E3 = Google[#E2 player hometown]', 'steps': [['Use Google to search for the hometown of the 2024 Australian Open winner. ', '#E1', 'Google', '2024 Australian Open winner hometown'], ['Find the name of the 2024 Australian Open winner. ', '#E2', 'LLM', 'Who won the 2024 Australian Open'], ['Search for information about the player to determine their hometown. ', '#E3', 'Google', '#E2 player hometown']]}}}, parent_config={'configurable': {'thread_id': '1', 'thread_ts': '2024-05-22T19:03:19.563342+00:00'}})\n",
      "StateSnapshot(values={'task': 'what is the hometown of the 2024 australian open winner', 'chat_history': []}, next=('plan',), config={'configurable': {'thread_id': '1', 'thread_ts': '2024-05-22T19:03:19.563342+00:00'}}, metadata={'source': 'loop', 'step': 0, 'writes': None}, parent_config={'configurable': {'thread_id': '1', 'thread_ts': '2024-05-22T19:03:19.561353+00:00'}})\n",
      "StateSnapshot(values={}, next=('__start__',), config={'configurable': {'thread_id': '1', 'thread_ts': '2024-05-22T19:03:19.561353+00:00'}}, metadata={'source': 'input', 'step': -1, 'writes': {'chat_history': [], 'task': 'what is the hometown of the 2024 australian open winner'}}, parent_config=None)\n"
     ]
    }
   ],
   "source": [
    "for snapshot in app.get_state_history(config):\n",
    "    print(snapshot)"
   ]
  },
  {
   "cell_type": "markdown",
   "id": "166c7cd1",
   "metadata": {},
   "source": [
    "Let's inspect the last graph state to confirm it worked:"
   ]
  },
  {
   "cell_type": "code",
   "execution_count": 27,
   "id": "82584679",
   "metadata": {},
   "outputs": [
    {
     "data": {
      "text/plain": [
       "StateSnapshot(values={'chat_history': [HumanMessage(content='what is the hometown of the 2024 australian open winner'), AIMessage(content='The hometown of the 2024 Australian Open winner is Italy.')]}, next=(), config={'configurable': {'thread_id': '1', 'thread_ts': '2024-05-22T19:03:26.919649+00:00'}}, metadata={'source': 'loop', 'step': 5, 'writes': {'solve': {'chat_history': [HumanMessage(content='what is the hometown of the 2024 australian open winner'), AIMessage(content='The hometown of the 2024 Australian Open winner is Italy.')], 'plan_string': None, 'results': None, 'steps': None, 'task': None}}}, parent_config={'configurable': {'thread_id': '1', 'thread_ts': '2024-05-22T19:03:25.886785+00:00'}})"
      ]
     },
     "execution_count": 27,
     "metadata": {},
     "output_type": "execute_result"
    }
   ],
   "source": [
    "last_snapshot = app.get_state(config)\n",
    "last_snapshot"
   ]
  },
  {
   "cell_type": "markdown",
   "id": "609b800e",
   "metadata": {},
   "source": [
    "When you invoke it again with the same thread, it will automatically load the latest checkpoint for that thread ID, if one exists, allowing it to pick up the state where it left off."
   ]
  },
  {
   "cell_type": "code",
   "execution_count": 28,
   "id": "6274f073",
   "metadata": {},
   "outputs": [],
   "source": [
    "s = app.invoke({\"task\": \"What is the national sport of it?\"}, config)"
   ]
  },
  {
   "cell_type": "code",
   "execution_count": 29,
   "id": "57171cdd",
   "metadata": {},
   "outputs": [
    {
     "data": {
      "text/plain": [
       "'Football or soccer (calcio)'"
      ]
     },
     "execution_count": 29,
     "metadata": {},
     "output_type": "execute_result"
    }
   ],
   "source": [
    "s[\"chat_history\"][-1].content"
   ]
  },
  {
   "cell_type": "code",
   "execution_count": 30,
   "id": "b306fdbe",
   "metadata": {},
   "outputs": [
    {
     "data": {
      "text/plain": [
       "[HumanMessage(content='what is the hometown of the 2024 australian open winner'),\n",
       " AIMessage(content='The hometown of the 2024 Australian Open winner is Italy.'),\n",
       " HumanMessage(content='What is the national sport of it?'),\n",
       " AIMessage(content='Football or soccer (calcio)')]"
      ]
     },
     "execution_count": 30,
     "metadata": {},
     "output_type": "execute_result"
    }
   ],
   "source": [
    "s[\"chat_history\"]"
   ]
  },
  {
   "cell_type": "markdown",
   "id": "842954d7-0de0-4876-be63-46b4e14157b0",
   "metadata": {},
   "source": [
    "## Conclusion\n",
    "\n",
    "Congratulations on implementing ReWOO! Before you leave, I'll leave you with a couple limitations of the current implementation from the paper:\n",
    "\n",
    "1. If little context of the environment is available, the planner will be ineffective in its tool use. This can typically be ameliorated through few-shot prompting and/or fine-tuning.\n",
    "2. The tasks are still executed in sequence, meaning the total execution time is impacted by _every_ tool call, not just he longest-running in a given step."
   ]
  }
 ],
 "metadata": {
  "kernelspec": {
   "display_name": "Python 3 (ipykernel)",
   "language": "python",
   "name": "python3"
  },
  "language_info": {
   "codemirror_mode": {
    "name": "ipython",
    "version": 3
   },
   "file_extension": ".py",
   "mimetype": "text/x-python",
   "name": "python",
   "nbconvert_exporter": "python",
   "pygments_lexer": "ipython3",
   "version": "3.9.5"
  }
 },
 "nbformat": 4,
 "nbformat_minor": 5
}
