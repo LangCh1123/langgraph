{
 "cells": [
  {
   "cell_type": "markdown",
   "id": "1c161710-fc66-426f-8c96-28440b9c9626",
   "metadata": {},
   "source": [
    "# Reasoning without Observation\n",
    "\n",
    "In [ReWOO](https://arxiv.org/abs/2305.18323), Xu, et. al, propose an agent that combines a multi-step planner and variable substitution for effective tool use. It was designed to improve on the ReACT-style agent architecture in the following ways:\n",
    "\n",
    "1. Reduce token consumption and execution time by generating the full chain of tools used in a single pass. (_ReACT-style agent architecture requires many LLM calls with redundant prefixes (since the system prompt and previous steps are provided to the LLM for each reasoning step_)\n",
    "2. Simplify the fine-tuning process. Since the planning data doesn't depend on the outputs of the tool, models can be fine-tuned without actually invoking the tools (in theory).\n",
    "\n",
    "\n",
    "The following diagram outlines ReWOO's overall computation graph:\n",
    "\n",
    "![ReWoo Diagram](./img/rewoo.png)\n",
    "\n",
    "ReWOO is made of 3 modules:\n",
    "\n",
    "1. 🧠**Planner**: Generate the plan in the following format:\n",
    "```text\n",
    "Plan: <reasoning>\n",
    "#E1 = Tool[argument for tool]\n",
    "Plan: <reasoning>\n",
    "#E2 = Tool[argument for tool with #E1 variable substitution]\n",
    "...\n",
    "```\n",
    "3. **Worker**: executes the tool with the provided arguments.\n",
    "4. 🧠**Solver**: generates the answer for the initial task based on the tool observations.\n",
    "\n",
    "The modules with a 🧠 emoji depend on an LLM call. Notice that we avoid redundant calls to the planner LLM by using variable substitution.\n",
    "\n",
    "In this example, each module is represented by a LangGraph node. The end result will leave a trace that looks [like this one](https://smith.langchain.com/public/39dbdcf8-fbcc-4479-8e28-15377ca5e653/r). Let's get started!\n",
    "\n",
    "## 0. Prerequisites\n",
    "\n",
    "For this example, we will provide the agent with a Tavily search engine tool. You can get an API key [here](https://app.tavily.com/sign-in) or replace with a free tool option (e.g., [duck duck go search](https://python.langchain.com/docs/integrations/tools/ddg)).\n",
    "\n",
    "To see the full langsmith trace, you can s"
   ]
  },
  {
   "cell_type": "code",
   "execution_count": 1,
   "id": "7f52bded-9d23-4826-8bfc-20b0d3a51182",
   "metadata": {},
   "outputs": [],
   "source": [
    "# %pip install -U langgraph langchain_community langchain_openai tavily-python"
   ]
  },
  {
   "cell_type": "code",
   "execution_count": 2,
   "id": "4215f9fb-71ff-4d88-8484-f73174db5592",
   "metadata": {},
   "outputs": [],
   "source": [
    "import os\n",
    "import getpass\n",
    "\n",
    "\n",
    "def _set_if_undefined(var: str):\n",
    "    if not os.environ.get(var):\n",
    "        os.environ[var] = getpass.getpass(f\"{var}=\")\n",
    "\n",
    "\n",
    "os.environ[\"LANGCHAIN_TRACING_V2\"] = \"true\"\n",
    "os.environ[\"LANGCHAIN_PROJECT\"] = \"ReWOO\"\n",
    "_set_if_undefined(\"TAVILY_API_KEY\")\n",
    "_set_if_undefined(\"LANGCHAIN_API_KEY\")\n",
    "_set_if_undefined(\"OPENAI_API_KEY\")"
   ]
  },
  {
   "cell_type": "markdown",
   "id": "55239a14-a14d-4117-adb5-07199e1e5e16",
   "metadata": {},
   "source": [
    "**Graph State**: In LangGraph, every node updates a shared graph state. The state is the input to any node whenever it is invoked.\n",
    "\n",
    "Below, we will define a state dict to contain the task, plan, steps, and other variables."
   ]
  },
  {
   "cell_type": "code",
   "execution_count": 3,
   "id": "9a92c875-c20b-4b7e-9d88-61c62382f8e2",
   "metadata": {},
   "outputs": [],
   "source": [
    "from typing import TypedDict, List\n",
    "\n",
    "\n",
    "class ReWOO(TypedDict):\n",
    "    task: str\n",
    "    plan_string: str\n",
    "    steps: List\n",
    "    results: dict\n",
    "    result: str"
   ]
  },
  {
   "cell_type": "markdown",
   "id": "997f9181-41c0-4c44-937d-94bd3946a929",
   "metadata": {},
   "source": [
    "## 1. Planner\n",
    "\n",
    "The planner prompts an LLM to generate a plan in the form of a task list. The arguments to each task are strings that may contain special variables (`#E{0-9}+`) that are used for variable substitution from other task results.\n",
    "\n",
    "\n",
    "![ReWOO workflow](./img/rewoo-paper-workflow.png)\n",
    "\n",
    "Our example agent will have two tools: \n",
    "1. Google - a search engine (in this case Tavily)\n",
    "2. LLM - an LLM call to reason about previous outputs.\n",
    "\n",
    "The LLM tool receives less of the prompt context and so can be more token-efficient than the ReACT paradigm."
   ]
  },
  {
   "cell_type": "code",
   "execution_count": 4,
   "id": "c8836921-c89e-42b6-8c71-27aeaeac5368",
   "metadata": {},
   "outputs": [],
   "source": [
    "from langchain_openai import ChatOpenAI\n",
    "\n",
    "model = ChatOpenAI(temperature=0)"
   ]
  },
  {
   "cell_type": "code",
   "execution_count": 5,
   "id": "7e7faa92-30a1-4942-b3c7-acd3a7bfccbc",
   "metadata": {},
   "outputs": [],
   "source": [
    "prompt = \"\"\"For the following task, make plans that can solve the problem step by step. For each plan, indicate \\\n",
    "which external tool together with tool input to retrieve evidence. You can store the evidence into a \\\n",
    "variable #E that can be called by later tools. (Plan, #E1, Plan, #E2, Plan, ...)\n",
    "\n",
    "Tools can be one of the following:\n",
    "(1) Google[input]: Worker that searches results from Google. Useful when you need to find short\n",
    "and succinct answers about a specific topic. The input should be a search query.\n",
    "(2) LLM[input]: A pretrained LLM like yourself. Useful when you need to act with general\n",
    "world knowledge and common sense. Prioritize it when you are confident in solving the problem\n",
    "yourself. Input can be any instruction.\n",
    "\n",
    "For example,\n",
    "Task: Thomas, Toby, and Rebecca worked a total of 157 hours in one week. Thomas worked x\n",
    "hours. Toby worked 10 hours less than twice what Thomas worked, and Rebecca worked 8 hours\n",
    "less than Toby. How many hours did Rebecca work?\n",
    "Plan: Given Thomas worked x hours, translate the problem into algebraic expressions and solve\n",
    "with Wolfram Alpha. #E1 = WolframAlpha[Solve x + (2x − 10) + ((2x − 10) − 8) = 157]\n",
    "Plan: Find out the number of hours Thomas worked. #E2 = LLM[What is x, given #E1]\n",
    "Plan: Calculate the number of hours Rebecca worked. #E3 = Calculator[(2 ∗ #E2 − 10) − 8]\n",
    "\n",
    "Begin! \n",
    "Describe your plans with rich details. Each Plan should be followed by only one #E.\n",
    "\n",
    "Task: {task}\"\"\""
   ]
  },
  {
   "cell_type": "code",
   "execution_count": 6,
   "id": "72b4ab0f-7215-4f4b-9407-0ebad8b13b92",
   "metadata": {},
   "outputs": [],
   "source": [
    "task = \"what is the hometown of the 2024 australian open winner\""
   ]
  },
  {
   "cell_type": "code",
   "execution_count": 7,
   "id": "56ecb45b-ea76-4303-a4f3-51406fe8312a",
   "metadata": {},
   "outputs": [],
   "source": [
    "result = model.invoke(prompt.format(task=task))"
   ]
  },
  {
   "cell_type": "code",
   "execution_count": 8,
   "id": "8a733caa-d75b-422c-93aa-6ad913c995f3",
   "metadata": {},
   "outputs": [
    {
     "name": "stdout",
     "output_type": "stream",
     "text": [
      "Plan: Use Google to search for the 2024 Australian Open winner.\n",
      "#E1 = Google[2024 Australian Open winner]\n",
      "\n",
      "Plan: Retrieve the name of the 2024 Australian Open winner from the search results.\n",
      "#E2 = LLM[What is the name of the 2024 Australian Open winner, given #E1]\n",
      "\n",
      "Plan: Use Google to search for the hometown of the 2024 Australian Open winner.\n",
      "#E3 = Google[hometown of 2024 Australian Open winner, given #E2]\n",
      "\n",
      "Plan: Retrieve the hometown of the 2024 Australian Open winner from the search results.\n",
      "#E4 = LLM[What is the hometown of the 2024 Australian Open winner, given #E3]\n"
     ]
    }
   ],
   "source": [
    "print(result.content)"
   ]
  },
  {
   "cell_type": "markdown",
   "id": "37166985-5bec-4615-bd40-54d16fd7b4ea",
   "metadata": {},
   "source": [
    "#### Planner Node\n",
    "\n",
    "To connect the planner to our graph, we will create a `get_plan` node that accepts the `ReWOO` state and returns with a state update for the\n",
    "`steps` and `plan_string` fields."
   ]
  },
  {
   "cell_type": "code",
   "execution_count": 11,
   "id": "f9f042b6-90d8-430f-abf3-04ad2bb047c7",
   "metadata": {},
   "outputs": [],
   "source": [
    "import re\n",
    "from langchain_core.prompts import ChatPromptTemplate\n",
    "\n",
    "# Regex to match expressions of the form E#... = ...[...]\n",
    "regex_pattern = r\"Plan:\\s*(.+)\\s*(#E\\d+)\\s*=\\s*(\\w+)\\s*\\[([^\\]]+)\\]\"\n",
    "prompt_template = ChatPromptTemplate.from_messages([(\"user\", prompt)])\n",
    "planner = prompt_template | model\n",
    "\n",
    "\n",
    "def get_plan(state: ReWOO):\n",
    "    task = state[\"task\"]\n",
    "    result = planner.invoke({\"task\": task})\n",
    "    # Find all matches in the sample text\n",
    "    matches = re.findall(regex_pattern, result.content)\n",
    "    return {\"steps\": matches, \"plan_string\": result.content}"
   ]
  },
  {
   "cell_type": "markdown",
   "id": "0d97942f-27d3-4761-b6cc-6614dbb90c77",
   "metadata": {},
   "source": [
    "## 2. Executor\n",
    "\n",
    "The executor receives the plan and executes the tools in sequence.\n",
    "\n",
    "Below, instantiate the search engine and define the toole execution node."
   ]
  },
  {
   "cell_type": "code",
   "execution_count": 12,
   "id": "3412cfc4-6796-4295-aea4-7eeb304e10bd",
   "metadata": {},
   "outputs": [],
   "source": [
    "from langchain_community.tools.tavily_search import TavilySearchResults\n",
    "\n",
    "search = TavilySearchResults()"
   ]
  },
  {
   "cell_type": "code",
   "execution_count": 13,
   "id": "aa96fbac-28bc-4afe-ae35-ddb3383d1147",
   "metadata": {},
   "outputs": [],
   "source": [
    "def _get_current_task(state: ReWOO):\n",
    "    if state[\"results\"] is None:\n",
    "        return 1\n",
    "    if len(state[\"results\"]) == len(state[\"steps\"]):\n",
    "        return None\n",
    "    else:\n",
    "        return len(state[\"results\"]) + 1\n",
    "\n",
    "\n",
    "def tool_execution(state: ReWOO):\n",
    "    \"\"\"Worker node that executes the tools of a given plan.\"\"\"\n",
    "    _step = _get_current_task(state)\n",
    "    _, step_name, tool, tool_input = state[\"steps\"][_step - 1]\n",
    "    _results = state[\"results\"] or {}\n",
    "    for k, v in _results.items():\n",
    "        tool_input = tool_input.replace(k, v)\n",
    "    if tool == \"Google\":\n",
    "        result = search.invoke(tool_input)\n",
    "    elif tool == \"LLM\":\n",
    "        result = model.invoke(tool_input)\n",
    "    else:\n",
    "        raise ValueError\n",
    "    _results[step_name] = str(result)\n",
    "    return {\"results\": _results}"
   ]
  },
  {
   "cell_type": "markdown",
   "id": "28e20b31-d721-470d-94d2-db0c177fae75",
   "metadata": {},
   "source": [
    "## 3. Solver\n",
    "\n",
    "The solver receives the full plan and generates the final response based on the responses of the tool calls from the worker."
   ]
  },
  {
   "cell_type": "code",
   "execution_count": 14,
   "id": "0a4d9851-8590-42be-8c53-9969ebff85f4",
   "metadata": {},
   "outputs": [],
   "source": [
    "solve_prompt = \"\"\"Solve the following task or problem. To solve the problem, we have made step-by-step Plan and \\\n",
    "retrieved corresponding Evidence to each Plan. Use them with caution since long evidence might \\\n",
    "contain irrelevant information.\n",
    "\n",
    "{plan}\n",
    "\n",
    "Now solve the question or task according to provided Evidence above. Respond with the answer\n",
    "directly with no extra words.\n",
    "\n",
    "Task: {task}\n",
    "Response:\"\"\"\n",
    "\n",
    "\n",
    "def solve(state: ReWOO):\n",
    "    plan = \"\"\n",
    "    for _plan, step_name, tool, tool_input in state[\"steps\"]:\n",
    "        _results = state[\"results\"] or {}\n",
    "        for k, v in _results.items():\n",
    "            tool_input = tool_input.replace(k, v)\n",
    "            step_name = step_name.replace(k, v)\n",
    "        plan += f\"Plan: {_plan}\\n{step_name} = {tool}[{tool_input}]\"\n",
    "    prompt = solve_prompt.format(plan=plan, task=state[\"task\"])\n",
    "    result = model.invoke(prompt)\n",
    "    return {\"result\": result.content}"
   ]
  },
  {
   "cell_type": "markdown",
   "id": "8ce26c3f-6ced-4a91-a9f2-d0bc235e4010",
   "metadata": {},
   "source": [
    "## 4. Define Graph\n",
    "\n",
    "Our graph defines the workflow. Each of the planner, tool executor, and solver modules are added as nodes."
   ]
  },
  {
   "cell_type": "code",
   "execution_count": 15,
   "id": "73b235d7-fa83-4e84-9f2e-2908f16deb26",
   "metadata": {},
   "outputs": [],
   "source": [
    "def _route(state):\n",
    "    _step = _get_current_task(state)\n",
    "    if _step is None:\n",
    "        # We have executed all tasks\n",
    "        return \"solve\"\n",
    "    else:\n",
    "        # We are still executing tasks, loop back to the \"tool\" node\n",
    "        return \"tool\""
   ]
  },
  {
   "cell_type": "code",
   "execution_count": 16,
   "id": "cf173aa1-ce31-4dca-8111-30c91e209652",
   "metadata": {},
   "outputs": [],
   "source": [
    "from langgraph.graph import StateGraph, END\n",
    "\n",
    "graph = StateGraph(ReWOO)\n",
    "graph.add_node(\"plan\", get_plan)\n",
    "graph.add_node(\"tool\", tool_execution)\n",
    "graph.add_node(\"solve\", solve)\n",
    "graph.add_edge(\"plan\", \"tool\")\n",
    "graph.add_edge(\"solve\", END)\n",
    "graph.add_conditional_edges(\"tool\", _route)\n",
    "graph.set_entry_point(\"plan\")\n",
    "\n",
    "app = graph.compile()"
   ]
  },
  {
   "cell_type": "code",
   "execution_count": 18,
   "id": "badaca52-5d55-433f-8770-1bd50c10bf7f",
   "metadata": {},
   "outputs": [
    {
     "name": "stdout",
     "output_type": "stream",
     "text": [
      "{'plan': {'steps': [('Use Google to search for the 2024 Australian Open winner.', '#E1', 'Google', '2024 Australian Open winner'), ('Retrieve the name of the 2024 Australian Open winner from the search results.', '#E2', 'LLM', 'What is the name of the 2024 Australian Open winner, given #E1'), ('Use Google to search for the hometown of the 2024 Australian Open winner.', '#E3', 'Google', 'hometown of 2024 Australian Open winner, given #E2'), ('Retrieve the hometown of the 2024 Australian Open winner from the search results.', '#E4', 'LLM', 'What is the hometown of the 2024 Australian Open winner, given #E3')], 'plan_string': 'Plan: Use Google to search for the 2024 Australian Open winner.\\n#E1 = Google[2024 Australian Open winner]\\n\\nPlan: Retrieve the name of the 2024 Australian Open winner from the search results.\\n#E2 = LLM[What is the name of the 2024 Australian Open winner, given #E1]\\n\\nPlan: Use Google to search for the hometown of the 2024 Australian Open winner.\\n#E3 = Google[hometown of 2024 Australian Open winner, given #E2]\\n\\nPlan: Retrieve the hometown of the 2024 Australian Open winner from the search results.\\n#E4 = LLM[What is the hometown of the 2024 Australian Open winner, given #E3]'}}\n",
      "---\n",
      "{'tool': {'results': {'#E1': '[{\\'url\\': \\'https://www.cbssports.com/tennis/news/australian-open-2024-jannik-sinner-aryna-sabalenka-crowned-as-grand-slam-singles-champions-at-melbourne-park/\\', \\'content\\': \\'2024 Australian Open odds, Sinner vs. Medvedev picks Sabalenka defeats Zheng to win 2024 Australian Open  Australian Open 2024: Jannik Sinner, Aryna Sabalenka crowned as Grand Slam singles champions at Melbourne Park  2024 Australian Open odds, Sabalenka vs. Zheng picks 2024 Australian Open odds, Medvedev vs. Zverev picks  Sinner, Sabalenka win Australian Open singles titles Sinner makes epic comeback to win Australian OpenJan 28, 2024 — Jan 28, 2024Australian Open 2024: Jannik Sinner, Aryna Sabalenka crowned as Grand Slam singles champions at Melbourne Park ... Watch Now: Jannik Sinner came\\\\xa0...\\'}, {\\'url\\': \\'https://en.wikipedia.org/wiki/2024_Australian_Open\\', \\'content\\': \"Contents 2024 Australian Open  The 2024 Australian Open was a Grand Slam level tennis tournament held at Melbourne Park, from 14–28 January 2024.[1]  The Australian Open total prize money for 2024 increased by 13.07% year on year to a tournament record A$86,500,000.  In the tournament\\'s 119-year history, this was the first Australian Open Tennis Championships to be held on an openingNovak Djokovic was the defending men\\'s singles champion. ... He was defeated in the semifinals by Jannik Sinner, who went on to beat Daniil Medvedev in a five-set\\\\xa0...\"}, {\\'url\\': \\'https://en.wikipedia.org/wiki/2024_Australian_Open_%E2%80%93_Men%27s_singles\\', \\'content\\': \"Contents 2024 Australian Open – Men\\'s singles  The entry list was released by Tennis Australia based on the ATP rankings for the week of 4 December 2023.[15]  matches, tying the Open Era record set at the 1983 US Open.[14]  feature any of the Big Three members.[4] It was the second time Medvedev lost the Australian Open final after winningJannik Sinner defeated Daniil Medvedev in the final, 3–6, 3–6, 6–4, 6–4, 6–3, to win the men\\'s singles tennis title at the 2024 Australian Open.\"}]'}}}\n",
      "---\n",
      "{'tool': {'results': {'#E1': '[{\\'url\\': \\'https://www.cbssports.com/tennis/news/australian-open-2024-jannik-sinner-aryna-sabalenka-crowned-as-grand-slam-singles-champions-at-melbourne-park/\\', \\'content\\': \\'2024 Australian Open odds, Sinner vs. Medvedev picks Sabalenka defeats Zheng to win 2024 Australian Open  Australian Open 2024: Jannik Sinner, Aryna Sabalenka crowned as Grand Slam singles champions at Melbourne Park  2024 Australian Open odds, Sabalenka vs. Zheng picks 2024 Australian Open odds, Medvedev vs. Zverev picks  Sinner, Sabalenka win Australian Open singles titles Sinner makes epic comeback to win Australian OpenJan 28, 2024 — Jan 28, 2024Australian Open 2024: Jannik Sinner, Aryna Sabalenka crowned as Grand Slam singles champions at Melbourne Park ... Watch Now: Jannik Sinner came\\\\xa0...\\'}, {\\'url\\': \\'https://en.wikipedia.org/wiki/2024_Australian_Open\\', \\'content\\': \"Contents 2024 Australian Open  The 2024 Australian Open was a Grand Slam level tennis tournament held at Melbourne Park, from 14–28 January 2024.[1]  The Australian Open total prize money for 2024 increased by 13.07% year on year to a tournament record A$86,500,000.  In the tournament\\'s 119-year history, this was the first Australian Open Tennis Championships to be held on an openingNovak Djokovic was the defending men\\'s singles champion. ... He was defeated in the semifinals by Jannik Sinner, who went on to beat Daniil Medvedev in a five-set\\\\xa0...\"}, {\\'url\\': \\'https://en.wikipedia.org/wiki/2024_Australian_Open_%E2%80%93_Men%27s_singles\\', \\'content\\': \"Contents 2024 Australian Open – Men\\'s singles  The entry list was released by Tennis Australia based on the ATP rankings for the week of 4 December 2023.[15]  matches, tying the Open Era record set at the 1983 US Open.[14]  feature any of the Big Three members.[4] It was the second time Medvedev lost the Australian Open final after winningJannik Sinner defeated Daniil Medvedev in the final, 3–6, 3–6, 6–4, 6–4, 6–3, to win the men\\'s singles tennis title at the 2024 Australian Open.\"}]', '#E2': \"content='The name of the 2024 Australian Open winner is Jannik Sinner.'\"}}}\n",
      "---\n",
      "{'tool': {'results': {'#E1': '[{\\'url\\': \\'https://www.cbssports.com/tennis/news/australian-open-2024-jannik-sinner-aryna-sabalenka-crowned-as-grand-slam-singles-champions-at-melbourne-park/\\', \\'content\\': \\'2024 Australian Open odds, Sinner vs. Medvedev picks Sabalenka defeats Zheng to win 2024 Australian Open  Australian Open 2024: Jannik Sinner, Aryna Sabalenka crowned as Grand Slam singles champions at Melbourne Park  2024 Australian Open odds, Sabalenka vs. Zheng picks 2024 Australian Open odds, Medvedev vs. Zverev picks  Sinner, Sabalenka win Australian Open singles titles Sinner makes epic comeback to win Australian OpenJan 28, 2024 — Jan 28, 2024Australian Open 2024: Jannik Sinner, Aryna Sabalenka crowned as Grand Slam singles champions at Melbourne Park ... Watch Now: Jannik Sinner came\\\\xa0...\\'}, {\\'url\\': \\'https://en.wikipedia.org/wiki/2024_Australian_Open\\', \\'content\\': \"Contents 2024 Australian Open  The 2024 Australian Open was a Grand Slam level tennis tournament held at Melbourne Park, from 14–28 January 2024.[1]  The Australian Open total prize money for 2024 increased by 13.07% year on year to a tournament record A$86,500,000.  In the tournament\\'s 119-year history, this was the first Australian Open Tennis Championships to be held on an openingNovak Djokovic was the defending men\\'s singles champion. ... He was defeated in the semifinals by Jannik Sinner, who went on to beat Daniil Medvedev in a five-set\\\\xa0...\"}, {\\'url\\': \\'https://en.wikipedia.org/wiki/2024_Australian_Open_%E2%80%93_Men%27s_singles\\', \\'content\\': \"Contents 2024 Australian Open – Men\\'s singles  The entry list was released by Tennis Australia based on the ATP rankings for the week of 4 December 2023.[15]  matches, tying the Open Era record set at the 1983 US Open.[14]  feature any of the Big Three members.[4] It was the second time Medvedev lost the Australian Open final after winningJannik Sinner defeated Daniil Medvedev in the final, 3–6, 3–6, 6–4, 6–4, 6–3, to win the men\\'s singles tennis title at the 2024 Australian Open.\"}]', '#E2': \"content='The name of the 2024 Australian Open winner is Jannik Sinner.'\", '#E3': '[{\\'url\\': \\'https://www.tennis.com/news/articles/soccer-mad-italy-is-now-obsessed-with-tennis-player-jannik-sinner-after-his-australian-open-title\\', \\'content\\': \"Soccer-mad Italy is now obsessed with tennis player Jannik Sinner after his Australian Open title  Play & Win Advertising Soccer-mad Italy is now obsessed with tennis player Jannik Sinner after his Australian Open title  \\'Grandissimo\\': Italian Premier Giorgia Meloni welcomes home Australian Open champion Jannik Sinner  First of many? Jannik Sinner\\'s five-set comeback sinks Daniil Medvedev in Australian Open finalJan 28, 2024 — Jan 28, 2024In Sinner\\'s tiny hometown of Sesto (population 1,860) near the Austrian border, about 70 people gathered inside the two-court indoor tennis\\\\xa0...\"}, {\\'url\\': \\'https://apnews.com/article/jannik-sinner-italy-australian-open-03573689c4c58c2851d1006e26546ac9\\', \\'content\\': \"Soccer-mad Italy is now obsessed with tennis player Jannik Sinner after his Australian Open title  Jannik Sinner, left, of Italy gestures as he holds the Norman Brookes Challenge Cup after defeating Daniil Medvedev,  Jannik Sinner, left, of Italy gestures as he holds the Norman Brookes Challenge Cup after defeating Daniil Medvedev,  Jannik Sinner, left, of Italy gestures as he holds the Norman Brookes Challenge Cup after defeating Daniil Medvedev,Jan 28, 2024 — Jan 28, 2024Soccer-mad Italy has a new obsession. Jannik Sinner\\'s Australian Open performance on the tennis court has captured the country\\'s attention.\"}, {\\'url\\': \\'https://en.wikipedia.org/wiki/Jannik_Sinner\\', \\'content\\': \\'Sinner is a major champion, having won the 2024 Australian Open.[3] He has won a further ten ATP Tour singles titles,  At the 2024 Australian Open, Sinner defeated world No. 1 Novak Djokovic in the semifinals to reach his first major  Early in the year Sinner made the second round of the 2020 Australian Open, recording his first Grand Slam main draw  a match since Janko Tipsarević in London in 2011.[59][60] Sinner played Daniil Medvedev next in the round robin stage,Since making his professional debut in 2018, Sinner has won 11 ATP Tour singles titles, including a Grand Slam at the 2024 Australian Open and a Masters 1000 at\\\\xa0...\\'}, {\\'url\\': \\'https://ausopen.com/players/italy/jannik-sinner\\', \\'content\\': \"Jannik Sinner weathered an early onslaught to reel in Daniil Medvedev, growing in potency to win the Australian Open  the Australian Open 2024 final – his first Grand Slam singles title.  Jannik Sinner will contest his first Grand Slam final after scuttling Novak Djokovic’s bid for a record-extending 11th  Jannick Sinner has form and fitness on his side ahead of his meeting with Andrey Rublev.Jannik Sinner Press Conference | Australian Open 2024 Final. 15:02 · Player & Career Overview. Career Wins 73% · Men\\'s Singles. Final • Rod Laver Arena · Comeback\\\\xa0...\"}]'}}}\n",
      "---\n",
      "{'tool': {'results': {'#E1': '[{\\'url\\': \\'https://www.cbssports.com/tennis/news/australian-open-2024-jannik-sinner-aryna-sabalenka-crowned-as-grand-slam-singles-champions-at-melbourne-park/\\', \\'content\\': \\'2024 Australian Open odds, Sinner vs. Medvedev picks Sabalenka defeats Zheng to win 2024 Australian Open  Australian Open 2024: Jannik Sinner, Aryna Sabalenka crowned as Grand Slam singles champions at Melbourne Park  2024 Australian Open odds, Sabalenka vs. Zheng picks 2024 Australian Open odds, Medvedev vs. Zverev picks  Sinner, Sabalenka win Australian Open singles titles Sinner makes epic comeback to win Australian OpenJan 28, 2024 — Jan 28, 2024Australian Open 2024: Jannik Sinner, Aryna Sabalenka crowned as Grand Slam singles champions at Melbourne Park ... Watch Now: Jannik Sinner came\\\\xa0...\\'}, {\\'url\\': \\'https://en.wikipedia.org/wiki/2024_Australian_Open\\', \\'content\\': \"Contents 2024 Australian Open  The 2024 Australian Open was a Grand Slam level tennis tournament held at Melbourne Park, from 14–28 January 2024.[1]  The Australian Open total prize money for 2024 increased by 13.07% year on year to a tournament record A$86,500,000.  In the tournament\\'s 119-year history, this was the first Australian Open Tennis Championships to be held on an openingNovak Djokovic was the defending men\\'s singles champion. ... He was defeated in the semifinals by Jannik Sinner, who went on to beat Daniil Medvedev in a five-set\\\\xa0...\"}, {\\'url\\': \\'https://en.wikipedia.org/wiki/2024_Australian_Open_%E2%80%93_Men%27s_singles\\', \\'content\\': \"Contents 2024 Australian Open – Men\\'s singles  The entry list was released by Tennis Australia based on the ATP rankings for the week of 4 December 2023.[15]  matches, tying the Open Era record set at the 1983 US Open.[14]  feature any of the Big Three members.[4] It was the second time Medvedev lost the Australian Open final after winningJannik Sinner defeated Daniil Medvedev in the final, 3–6, 3–6, 6–4, 6–4, 6–3, to win the men\\'s singles tennis title at the 2024 Australian Open.\"}]', '#E2': \"content='The name of the 2024 Australian Open winner is Jannik Sinner.'\", '#E3': '[{\\'url\\': \\'https://www.tennis.com/news/articles/soccer-mad-italy-is-now-obsessed-with-tennis-player-jannik-sinner-after-his-australian-open-title\\', \\'content\\': \"Soccer-mad Italy is now obsessed with tennis player Jannik Sinner after his Australian Open title  Play & Win Advertising Soccer-mad Italy is now obsessed with tennis player Jannik Sinner after his Australian Open title  \\'Grandissimo\\': Italian Premier Giorgia Meloni welcomes home Australian Open champion Jannik Sinner  First of many? Jannik Sinner\\'s five-set comeback sinks Daniil Medvedev in Australian Open finalJan 28, 2024 — Jan 28, 2024In Sinner\\'s tiny hometown of Sesto (population 1,860) near the Austrian border, about 70 people gathered inside the two-court indoor tennis\\\\xa0...\"}, {\\'url\\': \\'https://apnews.com/article/jannik-sinner-italy-australian-open-03573689c4c58c2851d1006e26546ac9\\', \\'content\\': \"Soccer-mad Italy is now obsessed with tennis player Jannik Sinner after his Australian Open title  Jannik Sinner, left, of Italy gestures as he holds the Norman Brookes Challenge Cup after defeating Daniil Medvedev,  Jannik Sinner, left, of Italy gestures as he holds the Norman Brookes Challenge Cup after defeating Daniil Medvedev,  Jannik Sinner, left, of Italy gestures as he holds the Norman Brookes Challenge Cup after defeating Daniil Medvedev,Jan 28, 2024 — Jan 28, 2024Soccer-mad Italy has a new obsession. Jannik Sinner\\'s Australian Open performance on the tennis court has captured the country\\'s attention.\"}, {\\'url\\': \\'https://en.wikipedia.org/wiki/Jannik_Sinner\\', \\'content\\': \\'Sinner is a major champion, having won the 2024 Australian Open.[3] He has won a further ten ATP Tour singles titles,  At the 2024 Australian Open, Sinner defeated world No. 1 Novak Djokovic in the semifinals to reach his first major  Early in the year Sinner made the second round of the 2020 Australian Open, recording his first Grand Slam main draw  a match since Janko Tipsarević in London in 2011.[59][60] Sinner played Daniil Medvedev next in the round robin stage,Since making his professional debut in 2018, Sinner has won 11 ATP Tour singles titles, including a Grand Slam at the 2024 Australian Open and a Masters 1000 at\\\\xa0...\\'}, {\\'url\\': \\'https://ausopen.com/players/italy/jannik-sinner\\', \\'content\\': \"Jannik Sinner weathered an early onslaught to reel in Daniil Medvedev, growing in potency to win the Australian Open  the Australian Open 2024 final – his first Grand Slam singles title.  Jannik Sinner will contest his first Grand Slam final after scuttling Novak Djokovic’s bid for a record-extending 11th  Jannick Sinner has form and fitness on his side ahead of his meeting with Andrey Rublev.Jannik Sinner Press Conference | Australian Open 2024 Final. 15:02 · Player & Career Overview. Career Wins 73% · Men\\'s Singles. Final • Rod Laver Arena · Comeback\\\\xa0...\"}]', '#E4': \"content='The hometown of the 2024 Australian Open winner, Jannik Sinner, is Sesto, a small town near the Austrian border in Italy.'\"}}}\n",
      "---\n",
      "{'solve': {'result': 'The hometown of the 2024 Australian Open winner, Jannik Sinner, is Sesto, Italy.'}}\n",
      "---\n",
      "{'__end__': {'task': 'what is the hometown of the 2024 australian open winner', 'plan_string': 'Plan: Use Google to search for the 2024 Australian Open winner.\\n#E1 = Google[2024 Australian Open winner]\\n\\nPlan: Retrieve the name of the 2024 Australian Open winner from the search results.\\n#E2 = LLM[What is the name of the 2024 Australian Open winner, given #E1]\\n\\nPlan: Use Google to search for the hometown of the 2024 Australian Open winner.\\n#E3 = Google[hometown of 2024 Australian Open winner, given #E2]\\n\\nPlan: Retrieve the hometown of the 2024 Australian Open winner from the search results.\\n#E4 = LLM[What is the hometown of the 2024 Australian Open winner, given #E3]', 'steps': [('Use Google to search for the 2024 Australian Open winner.', '#E1', 'Google', '2024 Australian Open winner'), ('Retrieve the name of the 2024 Australian Open winner from the search results.', '#E2', 'LLM', 'What is the name of the 2024 Australian Open winner, given #E1'), ('Use Google to search for the hometown of the 2024 Australian Open winner.', '#E3', 'Google', 'hometown of 2024 Australian Open winner, given #E2'), ('Retrieve the hometown of the 2024 Australian Open winner from the search results.', '#E4', 'LLM', 'What is the hometown of the 2024 Australian Open winner, given #E3')], 'results': {'#E1': '[{\\'url\\': \\'https://www.cbssports.com/tennis/news/australian-open-2024-jannik-sinner-aryna-sabalenka-crowned-as-grand-slam-singles-champions-at-melbourne-park/\\', \\'content\\': \\'2024 Australian Open odds, Sinner vs. Medvedev picks Sabalenka defeats Zheng to win 2024 Australian Open  Australian Open 2024: Jannik Sinner, Aryna Sabalenka crowned as Grand Slam singles champions at Melbourne Park  2024 Australian Open odds, Sabalenka vs. Zheng picks 2024 Australian Open odds, Medvedev vs. Zverev picks  Sinner, Sabalenka win Australian Open singles titles Sinner makes epic comeback to win Australian OpenJan 28, 2024 — Jan 28, 2024Australian Open 2024: Jannik Sinner, Aryna Sabalenka crowned as Grand Slam singles champions at Melbourne Park ... Watch Now: Jannik Sinner came\\\\xa0...\\'}, {\\'url\\': \\'https://en.wikipedia.org/wiki/2024_Australian_Open\\', \\'content\\': \"Contents 2024 Australian Open  The 2024 Australian Open was a Grand Slam level tennis tournament held at Melbourne Park, from 14–28 January 2024.[1]  The Australian Open total prize money for 2024 increased by 13.07% year on year to a tournament record A$86,500,000.  In the tournament\\'s 119-year history, this was the first Australian Open Tennis Championships to be held on an openingNovak Djokovic was the defending men\\'s singles champion. ... He was defeated in the semifinals by Jannik Sinner, who went on to beat Daniil Medvedev in a five-set\\\\xa0...\"}, {\\'url\\': \\'https://en.wikipedia.org/wiki/2024_Australian_Open_%E2%80%93_Men%27s_singles\\', \\'content\\': \"Contents 2024 Australian Open – Men\\'s singles  The entry list was released by Tennis Australia based on the ATP rankings for the week of 4 December 2023.[15]  matches, tying the Open Era record set at the 1983 US Open.[14]  feature any of the Big Three members.[4] It was the second time Medvedev lost the Australian Open final after winningJannik Sinner defeated Daniil Medvedev in the final, 3–6, 3–6, 6–4, 6–4, 6–3, to win the men\\'s singles tennis title at the 2024 Australian Open.\"}]', '#E2': \"content='The name of the 2024 Australian Open winner is Jannik Sinner.'\", '#E3': '[{\\'url\\': \\'https://www.tennis.com/news/articles/soccer-mad-italy-is-now-obsessed-with-tennis-player-jannik-sinner-after-his-australian-open-title\\', \\'content\\': \"Soccer-mad Italy is now obsessed with tennis player Jannik Sinner after his Australian Open title  Play & Win Advertising Soccer-mad Italy is now obsessed with tennis player Jannik Sinner after his Australian Open title  \\'Grandissimo\\': Italian Premier Giorgia Meloni welcomes home Australian Open champion Jannik Sinner  First of many? Jannik Sinner\\'s five-set comeback sinks Daniil Medvedev in Australian Open finalJan 28, 2024 — Jan 28, 2024In Sinner\\'s tiny hometown of Sesto (population 1,860) near the Austrian border, about 70 people gathered inside the two-court indoor tennis\\\\xa0...\"}, {\\'url\\': \\'https://apnews.com/article/jannik-sinner-italy-australian-open-03573689c4c58c2851d1006e26546ac9\\', \\'content\\': \"Soccer-mad Italy is now obsessed with tennis player Jannik Sinner after his Australian Open title  Jannik Sinner, left, of Italy gestures as he holds the Norman Brookes Challenge Cup after defeating Daniil Medvedev,  Jannik Sinner, left, of Italy gestures as he holds the Norman Brookes Challenge Cup after defeating Daniil Medvedev,  Jannik Sinner, left, of Italy gestures as he holds the Norman Brookes Challenge Cup after defeating Daniil Medvedev,Jan 28, 2024 — Jan 28, 2024Soccer-mad Italy has a new obsession. Jannik Sinner\\'s Australian Open performance on the tennis court has captured the country\\'s attention.\"}, {\\'url\\': \\'https://en.wikipedia.org/wiki/Jannik_Sinner\\', \\'content\\': \\'Sinner is a major champion, having won the 2024 Australian Open.[3] He has won a further ten ATP Tour singles titles,  At the 2024 Australian Open, Sinner defeated world No. 1 Novak Djokovic in the semifinals to reach his first major  Early in the year Sinner made the second round of the 2020 Australian Open, recording his first Grand Slam main draw  a match since Janko Tipsarević in London in 2011.[59][60] Sinner played Daniil Medvedev next in the round robin stage,Since making his professional debut in 2018, Sinner has won 11 ATP Tour singles titles, including a Grand Slam at the 2024 Australian Open and a Masters 1000 at\\\\xa0...\\'}, {\\'url\\': \\'https://ausopen.com/players/italy/jannik-sinner\\', \\'content\\': \"Jannik Sinner weathered an early onslaught to reel in Daniil Medvedev, growing in potency to win the Australian Open  the Australian Open 2024 final – his first Grand Slam singles title.  Jannik Sinner will contest his first Grand Slam final after scuttling Novak Djokovic’s bid for a record-extending 11th  Jannick Sinner has form and fitness on his side ahead of his meeting with Andrey Rublev.Jannik Sinner Press Conference | Australian Open 2024 Final. 15:02 · Player & Career Overview. Career Wins 73% · Men\\'s Singles. Final • Rod Laver Arena · Comeback\\\\xa0...\"}]', '#E4': \"content='The hometown of the 2024 Australian Open winner, Jannik Sinner, is Sesto, a small town near the Austrian border in Italy.'\"}, 'result': 'The hometown of the 2024 Australian Open winner, Jannik Sinner, is Sesto, Italy.'}}\n",
      "---\n"
     ]
    }
   ],
   "source": [
    "for s in app.stream({\"task\": task}):\n",
    "    print(s)\n",
    "    print(\"---\")"
   ]
  },
  {
   "cell_type": "code",
   "execution_count": 20,
   "id": "70e5aa0f-4d8b-4f65-817a-1c4ebf07d07a",
   "metadata": {},
   "outputs": [
    {
     "name": "stdout",
     "output_type": "stream",
     "text": [
      "The hometown of the 2024 Australian Open winner, Jannik Sinner, is Sesto, Italy.\n"
     ]
    }
   ],
   "source": [
    "# Print out the final result\n",
    "print(s[END][\"result\"])"
   ]
  },
  {
   "cell_type": "markdown",
   "id": "d80baf47",
   "metadata": {},
   "source": [
    "## 5. Adding Memory"
   ]
  },
  {
   "cell_type": "markdown",
   "id": "5a809cfb",
   "metadata": {},
   "source": [
    "Our ReWoo can now use tools to answer user questions, but it doesn't remember the context of previous interactions. This limits its ability to have coherent multi-turn conversations, for example.\n",
    "\n",
    "LangGraph solves this problem through persistent checkpointing. If you provide a checkpointer when compiling the graph and a thread_id when calling your graph, LangGraph automatically saves the state after each step. When you invoke the graph again using the same thread_id, the graph loads its saved state, allowing it to pick up where it left off."
   ]
  },
  {
   "cell_type": "code",
   "execution_count": null,
   "id": "5cfc70af",
   "metadata": {},
   "outputs": [],
   "source": [
    "from typing import List, Annotated\n",
    "from langchain.schema.messages import BaseMessage, merge_content\n",
    "\n",
    "class ReWOO(TypedDict):\n",
    "    task:  str\n",
    "    plan_string: str\n",
    "    steps: List\n",
    "    results: dict\n",
    "    # The list of previous messages in the conversation\n",
    "    # chat_history have the type \"list\". The `merge_content` function\n",
    "    # in the annotation defines how this state key should be updated\n",
    "    # (in this case, it appends messages to the list, rather than overwriting them)\n",
    "    chat_history: Annotated[List[BaseMessage], merge_content]\n"
   ]
  },
  {
   "cell_type": "code",
   "execution_count": null,
   "id": "724606fe",
   "metadata": {},
   "outputs": [],
   "source": [
    "\n",
    "prompt = \"\"\"For the following task, make plans that can solve the problem step by step. For each plan, indicate \\\n",
    "which external tool together with tool input to retrieve evidence. You can store the evidence into a \\\n",
    "variable #E that can be called by later tools. (Plan, #E1, Plan, #E2, Plan, ...)\n",
    "\n",
    "Tools can be one of the following:\n",
    "(1) Google[input]: Worker that searches results from Google. Useful when you need to find short\n",
    "and succinct answers about a specific topic. The input should be a search query.\n",
    "(2) LLM[input]: A pretrained LLM like yourself. Useful when you need to act with general\n",
    "world knowledge and common sense. Prioritize it when you are confident in solving the problem\n",
    "yourself. Input can be any instruction.\n",
    "\n",
    "For example,\n",
    "Task: Thomas, Toby, and Rebecca worked a total of 157 hours in one week. Thomas worked x\n",
    "hours. Toby worked 10 hours less than twice what Thomas worked, and Rebecca worked 8 hours\n",
    "less than Toby. How many hours did Rebecca work?\n",
    "Plan: Given Thomas worked x hours, translate the problem into algebraic expressions and solve\n",
    "with Wolfram Alpha. #E1 = WolframAlpha[Solve x + (2x − 10) + ((2x − 10) − 8) = 157]\n",
    "Plan: Find out the number of hours Thomas worked. #E2 = LLM[What is x, given #E1]\n",
    "Plan: Calculate the number of hours Rebecca worked. #E3 = Calculator[(2 ∗ #E2 − 10) − 8]\n",
    "\n",
    "Begin! \n",
    "Describe your plans with rich details. Each Plan should be followed by only one #E.\n",
    "\n",
    "Previous conversation history: {history}\n",
    "\n",
    "Task: {task}\n",
    "\"\"\""
   ]
  },
  {
   "cell_type": "code",
   "execution_count": null,
   "id": "689de921",
   "metadata": {},
   "outputs": [],
   "source": [
    "def get_plan(state: ReWOO):\n",
    "\n",
    "    result = model.invoke(prompt.format(history=state[\"chat_history\"], task=state[\"task\"]))\n",
    "    # Find all matches in the sample text\n",
    "    matches = re.findall(regex_pattern, result.content)\n",
    "\n",
    "    return {\n",
    "        \"steps\": matches, \n",
    "        \"plan_string\": result.content,\n",
    "    }"
   ]
  },
  {
   "cell_type": "code",
   "execution_count": null,
   "id": "73a90699",
   "metadata": {},
   "outputs": [],
   "source": [
    "solve_prompt = \"\"\"Solve the following task or problem. To solve the problem, we have made step-by-step Plan and \\\n",
    "retrieved corresponding Evidence to each Plan. Use them with caution since long evidence might \\\n",
    "contain irrelevant information.\n",
    "\n",
    "{plan}\n",
    "\n",
    "Now solve the question or task according to provided Evidence above. Respond with the answer\n",
    "directly with no extra words.\n",
    "\n",
    "Previous conversation history: {history}\n",
    "Task: {task}\n",
    "Response:\"\"\""
   ]
  },
  {
   "cell_type": "code",
   "execution_count": null,
   "id": "c7b6aa01",
   "metadata": {},
   "outputs": [],
   "source": [
    "from langchain_core.messages import AIMessage, HumanMessage\n",
    "\n",
    "def solve(state: ReWOO):\n",
    "    plan = \"\"\n",
    "    for _plan, step_name, tool, tool_input in state[\"steps\"]:\n",
    "        _results = state[\"results\"] or {}\n",
    "        for k, v in _results.items():\n",
    "            tool_input = tool_input.replace(k, v)\n",
    "            step_name = step_name.replace(k, v)\n",
    "        plan += f\"Plan: {_plan}\\n{step_name} = {tool}[{tool_input}]\"\n",
    "    prompt = solve_prompt.format(\n",
    "        plan=plan, history=state[\"chat_history\"], task=state[\"task\"]\n",
    "    )\n",
    "    result = model.invoke(prompt)\n",
    "\n",
    "    # We only save the values we want in the last snapshot\n",
    "    return {\n",
    "        \"task\": None,\n",
    "        \"plan_string\": None,\n",
    "        \"steps\": None,\n",
    "        \"results\": None,\n",
    "        \"chat_history\": [\n",
    "            HumanMessage(content=state[\"task\"]),\n",
    "            AIMessage(content=result.content),\n",
    "        ],\n",
    "    }\n"
   ]
  },
  {
   "cell_type": "code",
   "execution_count": null,
   "id": "006df626",
   "metadata": {},
   "outputs": [],
   "source": [
    "from langgraph.checkpoint import BaseCheckpointSaver\n",
    "from langgraph.checkpoint.sqlite import SqliteSaver\n",
    "\n",
    "# Memory used to save and load graph state. \n",
    "memory:BaseCheckpointSaver = SqliteSaver.from_conn_string(\":memory:\")"
   ]
  },
  {
   "cell_type": "code",
   "execution_count": null,
   "id": "0e4befd8",
   "metadata": {},
   "outputs": [],
   "source": [
    "graph = StateGraph(ReWOO)\n",
    "graph.add_node(\"plan\", get_plan)\n",
    "graph.add_node(\"tool\", tool_execution)\n",
    "graph.add_node(\"solve\", solve)\n",
    "graph.add_edge(\"plan\", \"tool\")\n",
    "graph.add_edge(\"solve\", END)\n",
    "graph.add_conditional_edges(\"tool\", _route)\n",
    "graph.set_entry_point(\"plan\")\n",
    "\n",
    "app = graph.compile(checkpointer=memory)"
   ]
  },
  {
   "cell_type": "code",
   "execution_count": null,
   "id": "bcd4277e",
   "metadata": {},
   "outputs": [],
   "source": [
    "config = {\"configurable\": {\"thread_id\": \"1\"}}\n",
    "\n",
    "for s in app.stream(\n",
    "    {\n",
    "        \"task\": \"what is the hometown of the 2024 australian open winner\",\n",
    "        \"chat_history\": []\n",
    "    },\n",
    "    config,\n",
    "):\n",
    "    print(s)\n",
    "    print(\"---\")\n"
   ]
  },
  {
   "cell_type": "code",
   "execution_count": null,
   "id": "659a4ac4",
   "metadata": {},
   "outputs": [
    {
     "name": "stdout",
     "output_type": "stream",
     "text": [
      "content='Italy'\n"
     ]
    }
   ],
   "source": [
    "# Print out the final result\n",
    "print(s[\"solve\"][\"chat_history\"][-1])"
   ]
  },
  {
   "cell_type": "markdown",
   "id": "df35d448",
   "metadata": {},
   "source": [
    "We can review the full state history to see everything that occurred. Let's check all the snapshots."
   ]
  },
  {
   "cell_type": "code",
   "execution_count": null,
   "id": "9324687d",
   "metadata": {},
   "outputs": [
    {
     "name": "stdout",
     "output_type": "stream",
     "text": [
      "StateSnapshot(values={}, next=('__start__',), config={'configurable': {'thread_id': '1', 'thread_ts': '2024-05-21T21:13:07.517655+00:00'}}, metadata={'source': 'input', 'step': -1, 'writes': {'chat_history': [], 'task': 'what is the hometown of the 2024 australian open winner'}}, parent_config=None)\n",
      "StateSnapshot(values={'task': 'what is the hometown of the 2024 australian open winner', 'chat_history': []}, next=('plan',), config={'configurable': {'thread_id': '1', 'thread_ts': '2024-05-21T21:13:07.519751+00:00'}}, metadata={'source': 'loop', 'step': 0, 'writes': None}, parent_config=None)\n",
      "StateSnapshot(values={'task': 'what is the hometown of the 2024 australian open winner', 'plan_string': 'Plan: Use Google to search for the hometown of the 2024 Australian Open winner. #E1 = Google[2024 Australian Open winner hometown]\\n\\nPlan: Find the name of the 2024 Australian Open winner. #E2 = LLM[Who won the 2024 Australian Open]\\n\\nPlan: Search for information on the 2024 Australian Open winner to confirm their hometown. #E3 = Google[2024 Australian Open winner information]', 'steps': [['Use Google to search for the hometown of the 2024 Australian Open winner. ', '#E1', 'Google', '2024 Australian Open winner hometown'], ['Find the name of the 2024 Australian Open winner. ', '#E2', 'LLM', 'Who won the 2024 Australian Open'], ['Search for information on the 2024 Australian Open winner to confirm their hometown. ', '#E3', 'Google', '2024 Australian Open winner information']], 'chat_history': []}, next=('tool',), config={'configurable': {'thread_id': '1', 'thread_ts': '2024-05-21T21:13:09.858633+00:00'}}, metadata={'source': 'loop', 'step': 1, 'writes': {'plan': {'plan_string': 'Plan: Use Google to search for the hometown of the 2024 Australian Open winner. #E1 = Google[2024 Australian Open winner hometown]\\n\\nPlan: Find the name of the 2024 Australian Open winner. #E2 = LLM[Who won the 2024 Australian Open]\\n\\nPlan: Search for information on the 2024 Australian Open winner to confirm their hometown. #E3 = Google[2024 Australian Open winner information]', 'steps': [['Use Google to search for the hometown of the 2024 Australian Open winner. ', '#E1', 'Google', '2024 Australian Open winner hometown'], ['Find the name of the 2024 Australian Open winner. ', '#E2', 'LLM', 'Who won the 2024 Australian Open'], ['Search for information on the 2024 Australian Open winner to confirm their hometown. ', '#E3', 'Google', '2024 Australian Open winner information']]}}}, parent_config=None)\n",
      "StateSnapshot(values={'task': 'what is the hometown of the 2024 australian open winner', 'plan_string': 'Plan: Use Google to search for the hometown of the 2024 Australian Open winner. #E1 = Google[2024 Australian Open winner hometown]\\n\\nPlan: Find the name of the 2024 Australian Open winner. #E2 = LLM[Who won the 2024 Australian Open]\\n\\nPlan: Search for information on the 2024 Australian Open winner to confirm their hometown. #E3 = Google[2024 Australian Open winner information]', 'steps': [['Use Google to search for the hometown of the 2024 Australian Open winner. ', '#E1', 'Google', '2024 Australian Open winner hometown'], ['Find the name of the 2024 Australian Open winner. ', '#E2', 'LLM', 'Who won the 2024 Australian Open'], ['Search for information on the 2024 Australian Open winner to confirm their hometown. ', '#E3', 'Google', '2024 Australian Open winner information']], 'results': {'#E1': '[{\\'url\\': \\'https://en.wikipedia.org/wiki/2024_Australian_Open\\', \\'content\\': \"The tournament featured the following changes from previous tournaments:[9]\\\\nSingles players[edit]\\\\nEvents[edit]\\\\nMen\\'s singles[edit]\\\\nWomen\\'s singles[edit]\\\\nMen\\'s doubles[edit]\\\\nWomen\\'s doubles[edit]\\\\nMixed doubles[edit]\\\\nWheelchair men\\'s singles[edit]\\\\nWheelchair women\\'s singles[edit]\\\\nWheelchair quad singles[edit]\\\\nWheelchair men\\'s doubles[edit]\\\\nWheelchair women\\'s doubles[edit]\\\\nWheelchair quad doubles[edit]\\\\nBoys\\' singles[edit]\\\\nGirls\\' singles[edit]\\\\nBoys\\' doubles[edit]\\\\nGirls\\' doubles[edit]\\\\nPoints and prize money[edit]\\\\nPoint distribution[edit]\\\\nBelow is a series of tables for each competition showing the ranking points offered for each event.[12][13][14]\\\\nPrize money[edit]\\\\nThe Australian Open total prize money for 2024 increased by 13.07% year on year to a tournament record A$86,500,000. Aryna Sabalenka successfully defended the women\\'s singles title as she claimed her second major singles title, defeating Zheng Qinwen without losing a set during the tournament.[6][7]\\\\nIn the tournament\\'s 119-year history, this was the first Australian Open Tennis Championships to be held on an opening Sunday.[8]\\\\n It was the 112th edition of the Australian Open, the 56th in the Open Era, and the first major of the year. The total represented a 162% increase in prize money over the last ten years, from the A$33 million on offer in 2014.\\\\n Contents\\\\n2024 Australian Open\\\\nThe 2024 Australian Open was a Grand Slam level tennis tournament held at Melbourne Park, from 14–28 January 2024.[1]\"}, {\\'url\\': \\'https://www.theguardian.com/sport/live/2024/jan/28/jannik-sinner-v-daniil-medvedev-australian-open-mens-singles-final-live?page=with:block-65b649558f08978231b984de\\', \\'content\\': \\'Jannik Sinner has won his first grand slam title after battling back to beat Daniil Medvedev 3-6, 3-6, 6-4, 6-4, 6-3\\'}, {\\'url\\': \\'https://www.theguardian.com/sport/live/2024/jan/28/jannik-sinner-v-daniil-medvedev-australian-open-mens-singles-final-live?page=with:block-65b3e6ca8f08978231b97423\\', \\'content\\': \\'Caught at the net after a poor volley to a decent forehand, he’s passed, meaning Sinner has two points to retrieve a break, and though he cedes the first, a good backhand down the line towards the toes elicits the error, and has Sinner turned the corner? He gets a second serve at which to go, goes to Sinner’s forehand – that’s the second time he’s done that, and he’s trying to play aggressively – a long rally ensures … and again, a little imprecision, Sinner going long, means three break points. He wins a rally from the back when Medvedev nets, but is then directed about the court, a surprise forehand to the corner altering the flow of the next point with a backhand cleaning up for 15-all, then two service winners in a row making 40-15. Again, he misses a first serve on deuce, Medvedev able to dominate the point, and this time offered a volley for a break, he snaps it away, and frankly I’m in awe of what we’re seeing here from one of the great competitors and strategists in all sport. He’ll be desperate to get Sinner back under pressure with as quick a hold as possible and does, to love; Sinner needs to find a different way, perhaps using more slice and coming to the net more, because currently, he’s getting a going-over.\\\\n\\'}, {\\'url\\': \\'https://tennisuptodate.com/atp/match-report-2024-australian-open-jannik-sinner-wins-maiden-grand-slam-title-in-scintillating-comeback-win-over-daniil-medvedev\\', \\'content\\': \\'Neither could penetrate each others serve in the third as Medvedev looked for a sneaky opportunity to head towards claiming the title that wasn’t forthcoming as despite chipping away at the Sinner serve in the back end of the set, he went 5-4 up and the impossible was on if he could break the Russian’s serve to seal the set.\\\\n It is sheer joy and elation for Jannik Sinner, but heartbreak for Daniil Medvedev as the Italian ace has sealed a maiden Grand Slam claiming the 2024 Australian Open in stunning style winning it 3-6, 3-6, 6-4, 6-4, 6-3.\\\\nAnointed as the king of tennis after beating Djokovic at the ATP Finals by Italian media, they will be beside themselves this time around as Sinner who many quipped about his potential to win Grand Slams over the fellow Next Gen in Carlos Alcaraz and Holger Rune continues his epic run as of late to win a maiden crown.\\\\n But for Medvedev, it is shades of the 2019 US Open final as he went two sets up in this case against Sinner, but the all or nothing mentality seemed to be the decisive nail in the coffin as he looked more and more exhausted and Sinner on the other hand revived himself to terrific effect to take each of the next three sets on decisive breaks when it mattered most. But he was forced to play a fourth with Sinner having the serve to send it towards a decider at 2-1.\\\\nTo begin the fourth, Medvedev started brightly but Sinner held serve at 2-1 and Medvedev had the trainer come out to look at his right foot. He broke again at 5-1 to go to the brink of a two set lead, but Sinner grew into the match and prolonged the set as it looked suddenly like it could’ve gone back on serve but vitally, Medvedev saved break points and took his set point finally to go two up.\\'}, {\\'url\\': \\'https://www.bbc.com/sport/tennis/68120937\\', \\'content\\': \\'Live scores, results and order of play\\\\nAlerts: Get tennis news sent to your phone\\\\nRelated Topics\\\\nTop Stories\\\\nFA Cup: Blackburn Rovers v Wrexham - live text commentary\\\\nRussian skater Valieva given four-year ban for doping\\\\nLinks to Barcelona are \\\\\\'totally untrue\\\\\\' - Arteta\\\\nElsewhere on the BBC\\\\nThe truth behind the fake grooming scandal\\\\nFeaturing unseen police footage and interviews with the officers at the heart of the case\\\\nDid their father and uncle kill Nazi war criminals?\\\\n A real-life murder mystery following three brothers in their quest for the truth\\\\nWhat was it like to travel on the fastest plane?\\\\nTake a behind-the-scenes look at the supersonic story of the Concorde\\\\nToxic love, ruthless ambition and shocking betrayal\\\\nTell Me Lies follows a passionate college relationship with unimaginable consequences...\\\\n \"\\\\nMarathon man Medvedev runs out of steam\\\\nMedvedev is the first player to lose two Grand Slam finals after winning the opening two sets\\\\nSo many players with the experience of a Grand Slam final have talked about how different the occasion can be, particularly if it is the first time, and potentially overwhelming.\\\\n Jannik Sinner beats Daniil Medvedev in Melbourne final\\\\nJannik Sinner is the youngest player to win the Australian Open men\\\\\\'s title since Novak Djokovic in 2008\\\\nJannik Sinner landed the Grand Slam title he has long promised with an extraordinary fightback to beat Daniil Medvedev in the Australian Open final.\\\\n \"\\\\nSinner starts 2024 in inspired form\\\\nSinner won the first Australian Open men\\\\\\'s final since 2005 which did not feature Roger Federer, Rafael Nadal or Novak Djokovic\\\\nSinner was brought to the forefront of conversation when discussing Grand Slam champions in 2024 following a stunning end to last season.\\\\n\\'}]'}, 'chat_history': []}, next=('tool',), config={'configurable': {'thread_id': '1', 'thread_ts': '2024-05-21T21:13:11.922095+00:00'}}, metadata={'source': 'loop', 'step': 2, 'writes': {'tool': {'results': {'#E1': '[{\\'url\\': \\'https://en.wikipedia.org/wiki/2024_Australian_Open\\', \\'content\\': \"The tournament featured the following changes from previous tournaments:[9]\\\\nSingles players[edit]\\\\nEvents[edit]\\\\nMen\\'s singles[edit]\\\\nWomen\\'s singles[edit]\\\\nMen\\'s doubles[edit]\\\\nWomen\\'s doubles[edit]\\\\nMixed doubles[edit]\\\\nWheelchair men\\'s singles[edit]\\\\nWheelchair women\\'s singles[edit]\\\\nWheelchair quad singles[edit]\\\\nWheelchair men\\'s doubles[edit]\\\\nWheelchair women\\'s doubles[edit]\\\\nWheelchair quad doubles[edit]\\\\nBoys\\' singles[edit]\\\\nGirls\\' singles[edit]\\\\nBoys\\' doubles[edit]\\\\nGirls\\' doubles[edit]\\\\nPoints and prize money[edit]\\\\nPoint distribution[edit]\\\\nBelow is a series of tables for each competition showing the ranking points offered for each event.[12][13][14]\\\\nPrize money[edit]\\\\nThe Australian Open total prize money for 2024 increased by 13.07% year on year to a tournament record A$86,500,000. Aryna Sabalenka successfully defended the women\\'s singles title as she claimed her second major singles title, defeating Zheng Qinwen without losing a set during the tournament.[6][7]\\\\nIn the tournament\\'s 119-year history, this was the first Australian Open Tennis Championships to be held on an opening Sunday.[8]\\\\n It was the 112th edition of the Australian Open, the 56th in the Open Era, and the first major of the year. The total represented a 162% increase in prize money over the last ten years, from the A$33 million on offer in 2014.\\\\n Contents\\\\n2024 Australian Open\\\\nThe 2024 Australian Open was a Grand Slam level tennis tournament held at Melbourne Park, from 14–28 January 2024.[1]\"}, {\\'url\\': \\'https://www.theguardian.com/sport/live/2024/jan/28/jannik-sinner-v-daniil-medvedev-australian-open-mens-singles-final-live?page=with:block-65b649558f08978231b984de\\', \\'content\\': \\'Jannik Sinner has won his first grand slam title after battling back to beat Daniil Medvedev 3-6, 3-6, 6-4, 6-4, 6-3\\'}, {\\'url\\': \\'https://www.theguardian.com/sport/live/2024/jan/28/jannik-sinner-v-daniil-medvedev-australian-open-mens-singles-final-live?page=with:block-65b3e6ca8f08978231b97423\\', \\'content\\': \\'Caught at the net after a poor volley to a decent forehand, he’s passed, meaning Sinner has two points to retrieve a break, and though he cedes the first, a good backhand down the line towards the toes elicits the error, and has Sinner turned the corner? He gets a second serve at which to go, goes to Sinner’s forehand – that’s the second time he’s done that, and he’s trying to play aggressively – a long rally ensures … and again, a little imprecision, Sinner going long, means three break points. He wins a rally from the back when Medvedev nets, but is then directed about the court, a surprise forehand to the corner altering the flow of the next point with a backhand cleaning up for 15-all, then two service winners in a row making 40-15. Again, he misses a first serve on deuce, Medvedev able to dominate the point, and this time offered a volley for a break, he snaps it away, and frankly I’m in awe of what we’re seeing here from one of the great competitors and strategists in all sport. He’ll be desperate to get Sinner back under pressure with as quick a hold as possible and does, to love; Sinner needs to find a different way, perhaps using more slice and coming to the net more, because currently, he’s getting a going-over.\\\\n\\'}, {\\'url\\': \\'https://tennisuptodate.com/atp/match-report-2024-australian-open-jannik-sinner-wins-maiden-grand-slam-title-in-scintillating-comeback-win-over-daniil-medvedev\\', \\'content\\': \\'Neither could penetrate each others serve in the third as Medvedev looked for a sneaky opportunity to head towards claiming the title that wasn’t forthcoming as despite chipping away at the Sinner serve in the back end of the set, he went 5-4 up and the impossible was on if he could break the Russian’s serve to seal the set.\\\\n It is sheer joy and elation for Jannik Sinner, but heartbreak for Daniil Medvedev as the Italian ace has sealed a maiden Grand Slam claiming the 2024 Australian Open in stunning style winning it 3-6, 3-6, 6-4, 6-4, 6-3.\\\\nAnointed as the king of tennis after beating Djokovic at the ATP Finals by Italian media, they will be beside themselves this time around as Sinner who many quipped about his potential to win Grand Slams over the fellow Next Gen in Carlos Alcaraz and Holger Rune continues his epic run as of late to win a maiden crown.\\\\n But for Medvedev, it is shades of the 2019 US Open final as he went two sets up in this case against Sinner, but the all or nothing mentality seemed to be the decisive nail in the coffin as he looked more and more exhausted and Sinner on the other hand revived himself to terrific effect to take each of the next three sets on decisive breaks when it mattered most. But he was forced to play a fourth with Sinner having the serve to send it towards a decider at 2-1.\\\\nTo begin the fourth, Medvedev started brightly but Sinner held serve at 2-1 and Medvedev had the trainer come out to look at his right foot. He broke again at 5-1 to go to the brink of a two set lead, but Sinner grew into the match and prolonged the set as it looked suddenly like it could’ve gone back on serve but vitally, Medvedev saved break points and took his set point finally to go two up.\\'}, {\\'url\\': \\'https://www.bbc.com/sport/tennis/68120937\\', \\'content\\': \\'Live scores, results and order of play\\\\nAlerts: Get tennis news sent to your phone\\\\nRelated Topics\\\\nTop Stories\\\\nFA Cup: Blackburn Rovers v Wrexham - live text commentary\\\\nRussian skater Valieva given four-year ban for doping\\\\nLinks to Barcelona are \\\\\\'totally untrue\\\\\\' - Arteta\\\\nElsewhere on the BBC\\\\nThe truth behind the fake grooming scandal\\\\nFeaturing unseen police footage and interviews with the officers at the heart of the case\\\\nDid their father and uncle kill Nazi war criminals?\\\\n A real-life murder mystery following three brothers in their quest for the truth\\\\nWhat was it like to travel on the fastest plane?\\\\nTake a behind-the-scenes look at the supersonic story of the Concorde\\\\nToxic love, ruthless ambition and shocking betrayal\\\\nTell Me Lies follows a passionate college relationship with unimaginable consequences...\\\\n \"\\\\nMarathon man Medvedev runs out of steam\\\\nMedvedev is the first player to lose two Grand Slam finals after winning the opening two sets\\\\nSo many players with the experience of a Grand Slam final have talked about how different the occasion can be, particularly if it is the first time, and potentially overwhelming.\\\\n Jannik Sinner beats Daniil Medvedev in Melbourne final\\\\nJannik Sinner is the youngest player to win the Australian Open men\\\\\\'s title since Novak Djokovic in 2008\\\\nJannik Sinner landed the Grand Slam title he has long promised with an extraordinary fightback to beat Daniil Medvedev in the Australian Open final.\\\\n \"\\\\nSinner starts 2024 in inspired form\\\\nSinner won the first Australian Open men\\\\\\'s final since 2005 which did not feature Roger Federer, Rafael Nadal or Novak Djokovic\\\\nSinner was brought to the forefront of conversation when discussing Grand Slam champions in 2024 following a stunning end to last season.\\\\n\\'}]'}}}}, parent_config=None)\n",
      "StateSnapshot(values={'task': 'what is the hometown of the 2024 australian open winner', 'plan_string': 'Plan: Use Google to search for the hometown of the 2024 Australian Open winner. #E1 = Google[2024 Australian Open winner hometown]\\n\\nPlan: Find the name of the 2024 Australian Open winner. #E2 = LLM[Who won the 2024 Australian Open]\\n\\nPlan: Search for information on the 2024 Australian Open winner to confirm their hometown. #E3 = Google[2024 Australian Open winner information]', 'steps': [['Use Google to search for the hometown of the 2024 Australian Open winner. ', '#E1', 'Google', '2024 Australian Open winner hometown'], ['Find the name of the 2024 Australian Open winner. ', '#E2', 'LLM', 'Who won the 2024 Australian Open'], ['Search for information on the 2024 Australian Open winner to confirm their hometown. ', '#E3', 'Google', '2024 Australian Open winner information']], 'results': {'#E1': '[{\\'url\\': \\'https://en.wikipedia.org/wiki/2024_Australian_Open\\', \\'content\\': \"The tournament featured the following changes from previous tournaments:[9]\\\\nSingles players[edit]\\\\nEvents[edit]\\\\nMen\\'s singles[edit]\\\\nWomen\\'s singles[edit]\\\\nMen\\'s doubles[edit]\\\\nWomen\\'s doubles[edit]\\\\nMixed doubles[edit]\\\\nWheelchair men\\'s singles[edit]\\\\nWheelchair women\\'s singles[edit]\\\\nWheelchair quad singles[edit]\\\\nWheelchair men\\'s doubles[edit]\\\\nWheelchair women\\'s doubles[edit]\\\\nWheelchair quad doubles[edit]\\\\nBoys\\' singles[edit]\\\\nGirls\\' singles[edit]\\\\nBoys\\' doubles[edit]\\\\nGirls\\' doubles[edit]\\\\nPoints and prize money[edit]\\\\nPoint distribution[edit]\\\\nBelow is a series of tables for each competition showing the ranking points offered for each event.[12][13][14]\\\\nPrize money[edit]\\\\nThe Australian Open total prize money for 2024 increased by 13.07% year on year to a tournament record A$86,500,000. Aryna Sabalenka successfully defended the women\\'s singles title as she claimed her second major singles title, defeating Zheng Qinwen without losing a set during the tournament.[6][7]\\\\nIn the tournament\\'s 119-year history, this was the first Australian Open Tennis Championships to be held on an opening Sunday.[8]\\\\n It was the 112th edition of the Australian Open, the 56th in the Open Era, and the first major of the year. The total represented a 162% increase in prize money over the last ten years, from the A$33 million on offer in 2014.\\\\n Contents\\\\n2024 Australian Open\\\\nThe 2024 Australian Open was a Grand Slam level tennis tournament held at Melbourne Park, from 14–28 January 2024.[1]\"}, {\\'url\\': \\'https://www.theguardian.com/sport/live/2024/jan/28/jannik-sinner-v-daniil-medvedev-australian-open-mens-singles-final-live?page=with:block-65b649558f08978231b984de\\', \\'content\\': \\'Jannik Sinner has won his first grand slam title after battling back to beat Daniil Medvedev 3-6, 3-6, 6-4, 6-4, 6-3\\'}, {\\'url\\': \\'https://www.theguardian.com/sport/live/2024/jan/28/jannik-sinner-v-daniil-medvedev-australian-open-mens-singles-final-live?page=with:block-65b3e6ca8f08978231b97423\\', \\'content\\': \\'Caught at the net after a poor volley to a decent forehand, he’s passed, meaning Sinner has two points to retrieve a break, and though he cedes the first, a good backhand down the line towards the toes elicits the error, and has Sinner turned the corner? He gets a second serve at which to go, goes to Sinner’s forehand – that’s the second time he’s done that, and he’s trying to play aggressively – a long rally ensures … and again, a little imprecision, Sinner going long, means three break points. He wins a rally from the back when Medvedev nets, but is then directed about the court, a surprise forehand to the corner altering the flow of the next point with a backhand cleaning up for 15-all, then two service winners in a row making 40-15. Again, he misses a first serve on deuce, Medvedev able to dominate the point, and this time offered a volley for a break, he snaps it away, and frankly I’m in awe of what we’re seeing here from one of the great competitors and strategists in all sport. He’ll be desperate to get Sinner back under pressure with as quick a hold as possible and does, to love; Sinner needs to find a different way, perhaps using more slice and coming to the net more, because currently, he’s getting a going-over.\\\\n\\'}, {\\'url\\': \\'https://tennisuptodate.com/atp/match-report-2024-australian-open-jannik-sinner-wins-maiden-grand-slam-title-in-scintillating-comeback-win-over-daniil-medvedev\\', \\'content\\': \\'Neither could penetrate each others serve in the third as Medvedev looked for a sneaky opportunity to head towards claiming the title that wasn’t forthcoming as despite chipping away at the Sinner serve in the back end of the set, he went 5-4 up and the impossible was on if he could break the Russian’s serve to seal the set.\\\\n It is sheer joy and elation for Jannik Sinner, but heartbreak for Daniil Medvedev as the Italian ace has sealed a maiden Grand Slam claiming the 2024 Australian Open in stunning style winning it 3-6, 3-6, 6-4, 6-4, 6-3.\\\\nAnointed as the king of tennis after beating Djokovic at the ATP Finals by Italian media, they will be beside themselves this time around as Sinner who many quipped about his potential to win Grand Slams over the fellow Next Gen in Carlos Alcaraz and Holger Rune continues his epic run as of late to win a maiden crown.\\\\n But for Medvedev, it is shades of the 2019 US Open final as he went two sets up in this case against Sinner, but the all or nothing mentality seemed to be the decisive nail in the coffin as he looked more and more exhausted and Sinner on the other hand revived himself to terrific effect to take each of the next three sets on decisive breaks when it mattered most. But he was forced to play a fourth with Sinner having the serve to send it towards a decider at 2-1.\\\\nTo begin the fourth, Medvedev started brightly but Sinner held serve at 2-1 and Medvedev had the trainer come out to look at his right foot. He broke again at 5-1 to go to the brink of a two set lead, but Sinner grew into the match and prolonged the set as it looked suddenly like it could’ve gone back on serve but vitally, Medvedev saved break points and took his set point finally to go two up.\\'}, {\\'url\\': \\'https://www.bbc.com/sport/tennis/68120937\\', \\'content\\': \\'Live scores, results and order of play\\\\nAlerts: Get tennis news sent to your phone\\\\nRelated Topics\\\\nTop Stories\\\\nFA Cup: Blackburn Rovers v Wrexham - live text commentary\\\\nRussian skater Valieva given four-year ban for doping\\\\nLinks to Barcelona are \\\\\\'totally untrue\\\\\\' - Arteta\\\\nElsewhere on the BBC\\\\nThe truth behind the fake grooming scandal\\\\nFeaturing unseen police footage and interviews with the officers at the heart of the case\\\\nDid their father and uncle kill Nazi war criminals?\\\\n A real-life murder mystery following three brothers in their quest for the truth\\\\nWhat was it like to travel on the fastest plane?\\\\nTake a behind-the-scenes look at the supersonic story of the Concorde\\\\nToxic love, ruthless ambition and shocking betrayal\\\\nTell Me Lies follows a passionate college relationship with unimaginable consequences...\\\\n \"\\\\nMarathon man Medvedev runs out of steam\\\\nMedvedev is the first player to lose two Grand Slam finals after winning the opening two sets\\\\nSo many players with the experience of a Grand Slam final have talked about how different the occasion can be, particularly if it is the first time, and potentially overwhelming.\\\\n Jannik Sinner beats Daniil Medvedev in Melbourne final\\\\nJannik Sinner is the youngest player to win the Australian Open men\\\\\\'s title since Novak Djokovic in 2008\\\\nJannik Sinner landed the Grand Slam title he has long promised with an extraordinary fightback to beat Daniil Medvedev in the Australian Open final.\\\\n \"\\\\nSinner starts 2024 in inspired form\\\\nSinner won the first Australian Open men\\\\\\'s final since 2005 which did not feature Roger Federer, Rafael Nadal or Novak Djokovic\\\\nSinner was brought to the forefront of conversation when discussing Grand Slam champions in 2024 following a stunning end to last season.\\\\n\\'}]', '#E2': \"content='I am sorry, but I cannot provide real-time information as I am an AI and do not have access to the internet. Please check the latest news or the official Australian Open website for the most up-to-date information on the winner of the 2024 Australian Open.' response_metadata={'token_usage': {'completion_tokens': 54, 'prompt_tokens': 15, 'total_tokens': 69}, 'model_name': 'gpt-3.5-turbo', 'system_fingerprint': None, 'finish_reason': 'stop', 'logprobs': None} id='run-ae384ae3-ecf1-4259-8fc4-f81a49df7e26-0'\"}, 'chat_history': []}, next=('tool',), config={'configurable': {'thread_id': '1', 'thread_ts': '2024-05-21T21:13:13.014205+00:00'}}, metadata={'source': 'loop', 'step': 3, 'writes': {'tool': {'results': {'#E1': '[{\\'url\\': \\'https://en.wikipedia.org/wiki/2024_Australian_Open\\', \\'content\\': \"The tournament featured the following changes from previous tournaments:[9]\\\\nSingles players[edit]\\\\nEvents[edit]\\\\nMen\\'s singles[edit]\\\\nWomen\\'s singles[edit]\\\\nMen\\'s doubles[edit]\\\\nWomen\\'s doubles[edit]\\\\nMixed doubles[edit]\\\\nWheelchair men\\'s singles[edit]\\\\nWheelchair women\\'s singles[edit]\\\\nWheelchair quad singles[edit]\\\\nWheelchair men\\'s doubles[edit]\\\\nWheelchair women\\'s doubles[edit]\\\\nWheelchair quad doubles[edit]\\\\nBoys\\' singles[edit]\\\\nGirls\\' singles[edit]\\\\nBoys\\' doubles[edit]\\\\nGirls\\' doubles[edit]\\\\nPoints and prize money[edit]\\\\nPoint distribution[edit]\\\\nBelow is a series of tables for each competition showing the ranking points offered for each event.[12][13][14]\\\\nPrize money[edit]\\\\nThe Australian Open total prize money for 2024 increased by 13.07% year on year to a tournament record A$86,500,000. Aryna Sabalenka successfully defended the women\\'s singles title as she claimed her second major singles title, defeating Zheng Qinwen without losing a set during the tournament.[6][7]\\\\nIn the tournament\\'s 119-year history, this was the first Australian Open Tennis Championships to be held on an opening Sunday.[8]\\\\n It was the 112th edition of the Australian Open, the 56th in the Open Era, and the first major of the year. The total represented a 162% increase in prize money over the last ten years, from the A$33 million on offer in 2014.\\\\n Contents\\\\n2024 Australian Open\\\\nThe 2024 Australian Open was a Grand Slam level tennis tournament held at Melbourne Park, from 14–28 January 2024.[1]\"}, {\\'url\\': \\'https://www.theguardian.com/sport/live/2024/jan/28/jannik-sinner-v-daniil-medvedev-australian-open-mens-singles-final-live?page=with:block-65b649558f08978231b984de\\', \\'content\\': \\'Jannik Sinner has won his first grand slam title after battling back to beat Daniil Medvedev 3-6, 3-6, 6-4, 6-4, 6-3\\'}, {\\'url\\': \\'https://www.theguardian.com/sport/live/2024/jan/28/jannik-sinner-v-daniil-medvedev-australian-open-mens-singles-final-live?page=with:block-65b3e6ca8f08978231b97423\\', \\'content\\': \\'Caught at the net after a poor volley to a decent forehand, he’s passed, meaning Sinner has two points to retrieve a break, and though he cedes the first, a good backhand down the line towards the toes elicits the error, and has Sinner turned the corner? He gets a second serve at which to go, goes to Sinner’s forehand – that’s the second time he’s done that, and he’s trying to play aggressively – a long rally ensures … and again, a little imprecision, Sinner going long, means three break points. He wins a rally from the back when Medvedev nets, but is then directed about the court, a surprise forehand to the corner altering the flow of the next point with a backhand cleaning up for 15-all, then two service winners in a row making 40-15. Again, he misses a first serve on deuce, Medvedev able to dominate the point, and this time offered a volley for a break, he snaps it away, and frankly I’m in awe of what we’re seeing here from one of the great competitors and strategists in all sport. He’ll be desperate to get Sinner back under pressure with as quick a hold as possible and does, to love; Sinner needs to find a different way, perhaps using more slice and coming to the net more, because currently, he’s getting a going-over.\\\\n\\'}, {\\'url\\': \\'https://tennisuptodate.com/atp/match-report-2024-australian-open-jannik-sinner-wins-maiden-grand-slam-title-in-scintillating-comeback-win-over-daniil-medvedev\\', \\'content\\': \\'Neither could penetrate each others serve in the third as Medvedev looked for a sneaky opportunity to head towards claiming the title that wasn’t forthcoming as despite chipping away at the Sinner serve in the back end of the set, he went 5-4 up and the impossible was on if he could break the Russian’s serve to seal the set.\\\\n It is sheer joy and elation for Jannik Sinner, but heartbreak for Daniil Medvedev as the Italian ace has sealed a maiden Grand Slam claiming the 2024 Australian Open in stunning style winning it 3-6, 3-6, 6-4, 6-4, 6-3.\\\\nAnointed as the king of tennis after beating Djokovic at the ATP Finals by Italian media, they will be beside themselves this time around as Sinner who many quipped about his potential to win Grand Slams over the fellow Next Gen in Carlos Alcaraz and Holger Rune continues his epic run as of late to win a maiden crown.\\\\n But for Medvedev, it is shades of the 2019 US Open final as he went two sets up in this case against Sinner, but the all or nothing mentality seemed to be the decisive nail in the coffin as he looked more and more exhausted and Sinner on the other hand revived himself to terrific effect to take each of the next three sets on decisive breaks when it mattered most. But he was forced to play a fourth with Sinner having the serve to send it towards a decider at 2-1.\\\\nTo begin the fourth, Medvedev started brightly but Sinner held serve at 2-1 and Medvedev had the trainer come out to look at his right foot. He broke again at 5-1 to go to the brink of a two set lead, but Sinner grew into the match and prolonged the set as it looked suddenly like it could’ve gone back on serve but vitally, Medvedev saved break points and took his set point finally to go two up.\\'}, {\\'url\\': \\'https://www.bbc.com/sport/tennis/68120937\\', \\'content\\': \\'Live scores, results and order of play\\\\nAlerts: Get tennis news sent to your phone\\\\nRelated Topics\\\\nTop Stories\\\\nFA Cup: Blackburn Rovers v Wrexham - live text commentary\\\\nRussian skater Valieva given four-year ban for doping\\\\nLinks to Barcelona are \\\\\\'totally untrue\\\\\\' - Arteta\\\\nElsewhere on the BBC\\\\nThe truth behind the fake grooming scandal\\\\nFeaturing unseen police footage and interviews with the officers at the heart of the case\\\\nDid their father and uncle kill Nazi war criminals?\\\\n A real-life murder mystery following three brothers in their quest for the truth\\\\nWhat was it like to travel on the fastest plane?\\\\nTake a behind-the-scenes look at the supersonic story of the Concorde\\\\nToxic love, ruthless ambition and shocking betrayal\\\\nTell Me Lies follows a passionate college relationship with unimaginable consequences...\\\\n \"\\\\nMarathon man Medvedev runs out of steam\\\\nMedvedev is the first player to lose two Grand Slam finals after winning the opening two sets\\\\nSo many players with the experience of a Grand Slam final have talked about how different the occasion can be, particularly if it is the first time, and potentially overwhelming.\\\\n Jannik Sinner beats Daniil Medvedev in Melbourne final\\\\nJannik Sinner is the youngest player to win the Australian Open men\\\\\\'s title since Novak Djokovic in 2008\\\\nJannik Sinner landed the Grand Slam title he has long promised with an extraordinary fightback to beat Daniil Medvedev in the Australian Open final.\\\\n \"\\\\nSinner starts 2024 in inspired form\\\\nSinner won the first Australian Open men\\\\\\'s final since 2005 which did not feature Roger Federer, Rafael Nadal or Novak Djokovic\\\\nSinner was brought to the forefront of conversation when discussing Grand Slam champions in 2024 following a stunning end to last season.\\\\n\\'}]', '#E2': \"content='I am sorry, but I cannot provide real-time information as I am an AI and do not have access to the internet. Please check the latest news or the official Australian Open website for the most up-to-date information on the winner of the 2024 Australian Open.' response_metadata={'token_usage': {'completion_tokens': 54, 'prompt_tokens': 15, 'total_tokens': 69}, 'model_name': 'gpt-3.5-turbo', 'system_fingerprint': None, 'finish_reason': 'stop', 'logprobs': None} id='run-ae384ae3-ecf1-4259-8fc4-f81a49df7e26-0'\"}}}}, parent_config=None)\n",
      "StateSnapshot(values={'task': 'what is the hometown of the 2024 australian open winner', 'plan_string': 'Plan: Use Google to search for the hometown of the 2024 Australian Open winner. #E1 = Google[2024 Australian Open winner hometown]\\n\\nPlan: Find the name of the 2024 Australian Open winner. #E2 = LLM[Who won the 2024 Australian Open]\\n\\nPlan: Search for information on the 2024 Australian Open winner to confirm their hometown. #E3 = Google[2024 Australian Open winner information]', 'steps': [['Use Google to search for the hometown of the 2024 Australian Open winner. ', '#E1', 'Google', '2024 Australian Open winner hometown'], ['Find the name of the 2024 Australian Open winner. ', '#E2', 'LLM', 'Who won the 2024 Australian Open'], ['Search for information on the 2024 Australian Open winner to confirm their hometown. ', '#E3', 'Google', '2024 Australian Open winner information']], 'results': {'#E1': '[{\\'url\\': \\'https://en.wikipedia.org/wiki/2024_Australian_Open\\', \\'content\\': \"The tournament featured the following changes from previous tournaments:[9]\\\\nSingles players[edit]\\\\nEvents[edit]\\\\nMen\\'s singles[edit]\\\\nWomen\\'s singles[edit]\\\\nMen\\'s doubles[edit]\\\\nWomen\\'s doubles[edit]\\\\nMixed doubles[edit]\\\\nWheelchair men\\'s singles[edit]\\\\nWheelchair women\\'s singles[edit]\\\\nWheelchair quad singles[edit]\\\\nWheelchair men\\'s doubles[edit]\\\\nWheelchair women\\'s doubles[edit]\\\\nWheelchair quad doubles[edit]\\\\nBoys\\' singles[edit]\\\\nGirls\\' singles[edit]\\\\nBoys\\' doubles[edit]\\\\nGirls\\' doubles[edit]\\\\nPoints and prize money[edit]\\\\nPoint distribution[edit]\\\\nBelow is a series of tables for each competition showing the ranking points offered for each event.[12][13][14]\\\\nPrize money[edit]\\\\nThe Australian Open total prize money for 2024 increased by 13.07% year on year to a tournament record A$86,500,000. Aryna Sabalenka successfully defended the women\\'s singles title as she claimed her second major singles title, defeating Zheng Qinwen without losing a set during the tournament.[6][7]\\\\nIn the tournament\\'s 119-year history, this was the first Australian Open Tennis Championships to be held on an opening Sunday.[8]\\\\n It was the 112th edition of the Australian Open, the 56th in the Open Era, and the first major of the year. The total represented a 162% increase in prize money over the last ten years, from the A$33 million on offer in 2014.\\\\n Contents\\\\n2024 Australian Open\\\\nThe 2024 Australian Open was a Grand Slam level tennis tournament held at Melbourne Park, from 14–28 January 2024.[1]\"}, {\\'url\\': \\'https://www.theguardian.com/sport/live/2024/jan/28/jannik-sinner-v-daniil-medvedev-australian-open-mens-singles-final-live?page=with:block-65b649558f08978231b984de\\', \\'content\\': \\'Jannik Sinner has won his first grand slam title after battling back to beat Daniil Medvedev 3-6, 3-6, 6-4, 6-4, 6-3\\'}, {\\'url\\': \\'https://www.theguardian.com/sport/live/2024/jan/28/jannik-sinner-v-daniil-medvedev-australian-open-mens-singles-final-live?page=with:block-65b3e6ca8f08978231b97423\\', \\'content\\': \\'Caught at the net after a poor volley to a decent forehand, he’s passed, meaning Sinner has two points to retrieve a break, and though he cedes the first, a good backhand down the line towards the toes elicits the error, and has Sinner turned the corner? He gets a second serve at which to go, goes to Sinner’s forehand – that’s the second time he’s done that, and he’s trying to play aggressively – a long rally ensures … and again, a little imprecision, Sinner going long, means three break points. He wins a rally from the back when Medvedev nets, but is then directed about the court, a surprise forehand to the corner altering the flow of the next point with a backhand cleaning up for 15-all, then two service winners in a row making 40-15. Again, he misses a first serve on deuce, Medvedev able to dominate the point, and this time offered a volley for a break, he snaps it away, and frankly I’m in awe of what we’re seeing here from one of the great competitors and strategists in all sport. He’ll be desperate to get Sinner back under pressure with as quick a hold as possible and does, to love; Sinner needs to find a different way, perhaps using more slice and coming to the net more, because currently, he’s getting a going-over.\\\\n\\'}, {\\'url\\': \\'https://tennisuptodate.com/atp/match-report-2024-australian-open-jannik-sinner-wins-maiden-grand-slam-title-in-scintillating-comeback-win-over-daniil-medvedev\\', \\'content\\': \\'Neither could penetrate each others serve in the third as Medvedev looked for a sneaky opportunity to head towards claiming the title that wasn’t forthcoming as despite chipping away at the Sinner serve in the back end of the set, he went 5-4 up and the impossible was on if he could break the Russian’s serve to seal the set.\\\\n It is sheer joy and elation for Jannik Sinner, but heartbreak for Daniil Medvedev as the Italian ace has sealed a maiden Grand Slam claiming the 2024 Australian Open in stunning style winning it 3-6, 3-6, 6-4, 6-4, 6-3.\\\\nAnointed as the king of tennis after beating Djokovic at the ATP Finals by Italian media, they will be beside themselves this time around as Sinner who many quipped about his potential to win Grand Slams over the fellow Next Gen in Carlos Alcaraz and Holger Rune continues his epic run as of late to win a maiden crown.\\\\n But for Medvedev, it is shades of the 2019 US Open final as he went two sets up in this case against Sinner, but the all or nothing mentality seemed to be the decisive nail in the coffin as he looked more and more exhausted and Sinner on the other hand revived himself to terrific effect to take each of the next three sets on decisive breaks when it mattered most. But he was forced to play a fourth with Sinner having the serve to send it towards a decider at 2-1.\\\\nTo begin the fourth, Medvedev started brightly but Sinner held serve at 2-1 and Medvedev had the trainer come out to look at his right foot. He broke again at 5-1 to go to the brink of a two set lead, but Sinner grew into the match and prolonged the set as it looked suddenly like it could’ve gone back on serve but vitally, Medvedev saved break points and took his set point finally to go two up.\\'}, {\\'url\\': \\'https://www.bbc.com/sport/tennis/68120937\\', \\'content\\': \\'Live scores, results and order of play\\\\nAlerts: Get tennis news sent to your phone\\\\nRelated Topics\\\\nTop Stories\\\\nFA Cup: Blackburn Rovers v Wrexham - live text commentary\\\\nRussian skater Valieva given four-year ban for doping\\\\nLinks to Barcelona are \\\\\\'totally untrue\\\\\\' - Arteta\\\\nElsewhere on the BBC\\\\nThe truth behind the fake grooming scandal\\\\nFeaturing unseen police footage and interviews with the officers at the heart of the case\\\\nDid their father and uncle kill Nazi war criminals?\\\\n A real-life murder mystery following three brothers in their quest for the truth\\\\nWhat was it like to travel on the fastest plane?\\\\nTake a behind-the-scenes look at the supersonic story of the Concorde\\\\nToxic love, ruthless ambition and shocking betrayal\\\\nTell Me Lies follows a passionate college relationship with unimaginable consequences...\\\\n \"\\\\nMarathon man Medvedev runs out of steam\\\\nMedvedev is the first player to lose two Grand Slam finals after winning the opening two sets\\\\nSo many players with the experience of a Grand Slam final have talked about how different the occasion can be, particularly if it is the first time, and potentially overwhelming.\\\\n Jannik Sinner beats Daniil Medvedev in Melbourne final\\\\nJannik Sinner is the youngest player to win the Australian Open men\\\\\\'s title since Novak Djokovic in 2008\\\\nJannik Sinner landed the Grand Slam title he has long promised with an extraordinary fightback to beat Daniil Medvedev in the Australian Open final.\\\\n \"\\\\nSinner starts 2024 in inspired form\\\\nSinner won the first Australian Open men\\\\\\'s final since 2005 which did not feature Roger Federer, Rafael Nadal or Novak Djokovic\\\\nSinner was brought to the forefront of conversation when discussing Grand Slam champions in 2024 following a stunning end to last season.\\\\n\\'}]', '#E2': \"content='I am sorry, but I cannot provide real-time information as I am an AI and do not have access to the internet. Please check the latest news or the official Australian Open website for the most up-to-date information on the winner of the 2024 Australian Open.' response_metadata={'token_usage': {'completion_tokens': 54, 'prompt_tokens': 15, 'total_tokens': 69}, 'model_name': 'gpt-3.5-turbo', 'system_fingerprint': None, 'finish_reason': 'stop', 'logprobs': None} id='run-ae384ae3-ecf1-4259-8fc4-f81a49df7e26-0'\", '#E3': '[{\\'url\\': \\'https://www.rolandgarros.com/en-us/article/australian-open-2024-men-final-preview-sinner-medvedev-evolution\\', \\'content\\': \"Medvedev has managed to be disrupt the established order with US Open 2021 silverware, has topped the rankings, the world No.3 is accustomed to these settings. Over to Sinner, \\'The Fox\\' has been biding his time for major success and now has the chance to be the youngest men\\'s champion in Melbourne since Djokovic in 2008.\"}, {\\'url\\': \\'https://www.usatoday.com/story/sports/tennis/aus/2024/01/27/australian-open-mens-final-medvedev-sinner/72352313007/\\', \\'content\\': \"Daniil Medvedev\\'s path to Australian Open men\\'s final\\\\nJannik Sinner\\'s path to Australian Open men\\'s final\\\\nMedvedev-Sinner head to head\\\\nMedvedev has a 6-3 record against Sinner, although Sinner has won their last three matchups.\\\\n Australian Open men\\'s singles final: How to watch Daniil Medvedev vs. Jannik Sinner\\\\nThe first major championship of the 2024 men\\'s tennis season will be awarded early Sunday (U.S. time) at the Australian Open in Melbourne.\\\\n Neither finalist has ever won the Australian Open.\\\\nSinner, a 22-year-old from Italy, defeated top-seeded Djokovic to reach his first Grand Slam final, breaking the 10-time champion\\'s unbeaten streak in the Australia Open semifinals. How to watch Australian Open men\\'s final\\\\nAll Australian Open matches will be available on ESPN television and will be streamed online on Watch ESPN and ESPN+.\\\\n The winners of the men\\'s and women\\'s singles will each receive $3.15 million in Australian dollars, while the runner up will net $1.725 million.\"}, {\\'url\\': \\'https://www.thetimes.co.uk/sport/tennis/article/australian-open-2024-results-final-jannik-sinner-wins-j9jbmsgv3\\', \\'content\\': \\'australian open J Sinner (It, No 4) beat D Medvedev (Russ, No 3) 3-6, 3-6, 6-4, 6-4, 6-3; first grand-slam title for 22-year-old after recovering from two sets down in Melbourne Stuart Fraser\\'}, {\\'url\\': \\'https://en.wikipedia.org/wiki/2024_Australian_Open\\', \\'content\\': \"The tournament featured the following changes from previous tournaments:[9]\\\\nSingles players[edit]\\\\nEvents[edit]\\\\nMen\\'s singles[edit]\\\\nWomen\\'s singles[edit]\\\\nMen\\'s doubles[edit]\\\\nWomen\\'s doubles[edit]\\\\nMixed doubles[edit]\\\\nWheelchair men\\'s singles[edit]\\\\nWheelchair women\\'s singles[edit]\\\\nWheelchair quad singles[edit]\\\\nWheelchair men\\'s doubles[edit]\\\\nWheelchair women\\'s doubles[edit]\\\\nWheelchair quad doubles[edit]\\\\nBoys\\' singles[edit]\\\\nGirls\\' singles[edit]\\\\nBoys\\' doubles[edit]\\\\nGirls\\' doubles[edit]\\\\nPoints and prize money[edit]\\\\nPoint distribution[edit]\\\\nBelow is a series of tables for each competition showing the ranking points offered for each event.[12][13][14]\\\\nPrize money[edit]\\\\nThe Australian Open total prize money for 2024 increased by 13.07% year on year to a tournament record A$86,500,000. Aryna Sabalenka successfully defended the women\\'s singles title as she claimed her second major singles title, defeating Zheng Qinwen without losing a set during the tournament.[6][7]\\\\nIn the tournament\\'s 119-year history, this was the first Australian Open Tennis Championships to be held on an opening Sunday.[8]\\\\n It was the 112th edition of the Australian Open, the 56th in the Open Era, and the first major of the year. The total represented a 162% increase in prize money over the last ten years, from the A$33 million on offer in 2014.\\\\n Contents\\\\n2024 Australian Open\\\\nThe 2024 Australian Open was a Grand Slam level tennis tournament held at Melbourne Park, from 14–28 January 2024.[1]\"}, {\\'url\\': \\'https://www.bbc.com/sport/live/tennis/67779985\\', \\'content\\': \"Quad wheelchair singles: Sam Schroder (Netherlands)\\\\nQuad wheelchair doubles: Andy Lapthorne (Great Britain) and David Wagner (USA)\\\\nSinner wins first major with epic fightback - read the report\\\\nSinner 3-6 3-6 6-4 6-4 6-3 Medvedev\\\\nJonathan Jurejko\\\\nBBC Sport in Melbourne\\\\nJannik Sinner landed the Grand Slam title he has long promised with an extraordinary fightback to beat Daniil Medvedev in the Australian Open final.\\\\n \\'Tonight he realised his potential\\'\\\\nSinner 3-6 3-6 6-4 6-4 6-3 Medvedev\\\\nRussell Fuller\\\\nTennis correspondent on BBC Radio 5 Live and BBC Sounds\\\\nJannik Sinner has been the coming-man of tennis for a long\\\\ntime, and tonight he has realised his potential.\\\\n \\'Sinner found a way, that\\'s what champions do\\'\\\\nSinner 3-6 3-6 6-4 6-4 6-3 Medvedev\\\\nPat Cash\\\\nFormer Wimbledon champion on BBC Radio 5 Live and BBC Sounds\\\\nGreat performance and anyone who has seen Sinner play knew\\\\nhe had the abilities but he still had to improve his game,. Young gun\\\\nSinner 3-6 3-6 6-4 6-4 6-3 Medvedev\\\\nJannik Sinner, 22, is the third youngest player to win the men\\'s singles title at the Australian Open since 1988 (when the tournament moved to Melbourne Park), older only than Novak Djokovic in 2008 and Jim Courier in 1992.\\\\n Summary\\\\nLive Reporting\\\\nMichael Emons, Emily Salley and Ros Satar\\\\nAll times stated are UK\\\\nThanks and goodbye\\\\nSinner 3-6 3-6 6-4 6-4 6-3 Medvedev\\\\nAnd that brings to an end an incredible Australian Open.\"}]'}, 'chat_history': []}, next=('solve',), config={'configurable': {'thread_id': '1', 'thread_ts': '2024-05-21T21:13:15.282990+00:00'}}, metadata={'source': 'loop', 'step': 4, 'writes': {'tool': {'results': {'#E1': '[{\\'url\\': \\'https://en.wikipedia.org/wiki/2024_Australian_Open\\', \\'content\\': \"The tournament featured the following changes from previous tournaments:[9]\\\\nSingles players[edit]\\\\nEvents[edit]\\\\nMen\\'s singles[edit]\\\\nWomen\\'s singles[edit]\\\\nMen\\'s doubles[edit]\\\\nWomen\\'s doubles[edit]\\\\nMixed doubles[edit]\\\\nWheelchair men\\'s singles[edit]\\\\nWheelchair women\\'s singles[edit]\\\\nWheelchair quad singles[edit]\\\\nWheelchair men\\'s doubles[edit]\\\\nWheelchair women\\'s doubles[edit]\\\\nWheelchair quad doubles[edit]\\\\nBoys\\' singles[edit]\\\\nGirls\\' singles[edit]\\\\nBoys\\' doubles[edit]\\\\nGirls\\' doubles[edit]\\\\nPoints and prize money[edit]\\\\nPoint distribution[edit]\\\\nBelow is a series of tables for each competition showing the ranking points offered for each event.[12][13][14]\\\\nPrize money[edit]\\\\nThe Australian Open total prize money for 2024 increased by 13.07% year on year to a tournament record A$86,500,000. Aryna Sabalenka successfully defended the women\\'s singles title as she claimed her second major singles title, defeating Zheng Qinwen without losing a set during the tournament.[6][7]\\\\nIn the tournament\\'s 119-year history, this was the first Australian Open Tennis Championships to be held on an opening Sunday.[8]\\\\n It was the 112th edition of the Australian Open, the 56th in the Open Era, and the first major of the year. The total represented a 162% increase in prize money over the last ten years, from the A$33 million on offer in 2014.\\\\n Contents\\\\n2024 Australian Open\\\\nThe 2024 Australian Open was a Grand Slam level tennis tournament held at Melbourne Park, from 14–28 January 2024.[1]\"}, {\\'url\\': \\'https://www.theguardian.com/sport/live/2024/jan/28/jannik-sinner-v-daniil-medvedev-australian-open-mens-singles-final-live?page=with:block-65b649558f08978231b984de\\', \\'content\\': \\'Jannik Sinner has won his first grand slam title after battling back to beat Daniil Medvedev 3-6, 3-6, 6-4, 6-4, 6-3\\'}, {\\'url\\': \\'https://www.theguardian.com/sport/live/2024/jan/28/jannik-sinner-v-daniil-medvedev-australian-open-mens-singles-final-live?page=with:block-65b3e6ca8f08978231b97423\\', \\'content\\': \\'Caught at the net after a poor volley to a decent forehand, he’s passed, meaning Sinner has two points to retrieve a break, and though he cedes the first, a good backhand down the line towards the toes elicits the error, and has Sinner turned the corner? He gets a second serve at which to go, goes to Sinner’s forehand – that’s the second time he’s done that, and he’s trying to play aggressively – a long rally ensures … and again, a little imprecision, Sinner going long, means three break points. He wins a rally from the back when Medvedev nets, but is then directed about the court, a surprise forehand to the corner altering the flow of the next point with a backhand cleaning up for 15-all, then two service winners in a row making 40-15. Again, he misses a first serve on deuce, Medvedev able to dominate the point, and this time offered a volley for a break, he snaps it away, and frankly I’m in awe of what we’re seeing here from one of the great competitors and strategists in all sport. He’ll be desperate to get Sinner back under pressure with as quick a hold as possible and does, to love; Sinner needs to find a different way, perhaps using more slice and coming to the net more, because currently, he’s getting a going-over.\\\\n\\'}, {\\'url\\': \\'https://tennisuptodate.com/atp/match-report-2024-australian-open-jannik-sinner-wins-maiden-grand-slam-title-in-scintillating-comeback-win-over-daniil-medvedev\\', \\'content\\': \\'Neither could penetrate each others serve in the third as Medvedev looked for a sneaky opportunity to head towards claiming the title that wasn’t forthcoming as despite chipping away at the Sinner serve in the back end of the set, he went 5-4 up and the impossible was on if he could break the Russian’s serve to seal the set.\\\\n It is sheer joy and elation for Jannik Sinner, but heartbreak for Daniil Medvedev as the Italian ace has sealed a maiden Grand Slam claiming the 2024 Australian Open in stunning style winning it 3-6, 3-6, 6-4, 6-4, 6-3.\\\\nAnointed as the king of tennis after beating Djokovic at the ATP Finals by Italian media, they will be beside themselves this time around as Sinner who many quipped about his potential to win Grand Slams over the fellow Next Gen in Carlos Alcaraz and Holger Rune continues his epic run as of late to win a maiden crown.\\\\n But for Medvedev, it is shades of the 2019 US Open final as he went two sets up in this case against Sinner, but the all or nothing mentality seemed to be the decisive nail in the coffin as he looked more and more exhausted and Sinner on the other hand revived himself to terrific effect to take each of the next three sets on decisive breaks when it mattered most. But he was forced to play a fourth with Sinner having the serve to send it towards a decider at 2-1.\\\\nTo begin the fourth, Medvedev started brightly but Sinner held serve at 2-1 and Medvedev had the trainer come out to look at his right foot. He broke again at 5-1 to go to the brink of a two set lead, but Sinner grew into the match and prolonged the set as it looked suddenly like it could’ve gone back on serve but vitally, Medvedev saved break points and took his set point finally to go two up.\\'}, {\\'url\\': \\'https://www.bbc.com/sport/tennis/68120937\\', \\'content\\': \\'Live scores, results and order of play\\\\nAlerts: Get tennis news sent to your phone\\\\nRelated Topics\\\\nTop Stories\\\\nFA Cup: Blackburn Rovers v Wrexham - live text commentary\\\\nRussian skater Valieva given four-year ban for doping\\\\nLinks to Barcelona are \\\\\\'totally untrue\\\\\\' - Arteta\\\\nElsewhere on the BBC\\\\nThe truth behind the fake grooming scandal\\\\nFeaturing unseen police footage and interviews with the officers at the heart of the case\\\\nDid their father and uncle kill Nazi war criminals?\\\\n A real-life murder mystery following three brothers in their quest for the truth\\\\nWhat was it like to travel on the fastest plane?\\\\nTake a behind-the-scenes look at the supersonic story of the Concorde\\\\nToxic love, ruthless ambition and shocking betrayal\\\\nTell Me Lies follows a passionate college relationship with unimaginable consequences...\\\\n \"\\\\nMarathon man Medvedev runs out of steam\\\\nMedvedev is the first player to lose two Grand Slam finals after winning the opening two sets\\\\nSo many players with the experience of a Grand Slam final have talked about how different the occasion can be, particularly if it is the first time, and potentially overwhelming.\\\\n Jannik Sinner beats Daniil Medvedev in Melbourne final\\\\nJannik Sinner is the youngest player to win the Australian Open men\\\\\\'s title since Novak Djokovic in 2008\\\\nJannik Sinner landed the Grand Slam title he has long promised with an extraordinary fightback to beat Daniil Medvedev in the Australian Open final.\\\\n \"\\\\nSinner starts 2024 in inspired form\\\\nSinner won the first Australian Open men\\\\\\'s final since 2005 which did not feature Roger Federer, Rafael Nadal or Novak Djokovic\\\\nSinner was brought to the forefront of conversation when discussing Grand Slam champions in 2024 following a stunning end to last season.\\\\n\\'}]', '#E2': \"content='I am sorry, but I cannot provide real-time information as I am an AI and do not have access to the internet. Please check the latest news or the official Australian Open website for the most up-to-date information on the winner of the 2024 Australian Open.' response_metadata={'token_usage': {'completion_tokens': 54, 'prompt_tokens': 15, 'total_tokens': 69}, 'model_name': 'gpt-3.5-turbo', 'system_fingerprint': None, 'finish_reason': 'stop', 'logprobs': None} id='run-ae384ae3-ecf1-4259-8fc4-f81a49df7e26-0'\", '#E3': '[{\\'url\\': \\'https://www.rolandgarros.com/en-us/article/australian-open-2024-men-final-preview-sinner-medvedev-evolution\\', \\'content\\': \"Medvedev has managed to be disrupt the established order with US Open 2021 silverware, has topped the rankings, the world No.3 is accustomed to these settings. Over to Sinner, \\'The Fox\\' has been biding his time for major success and now has the chance to be the youngest men\\'s champion in Melbourne since Djokovic in 2008.\"}, {\\'url\\': \\'https://www.usatoday.com/story/sports/tennis/aus/2024/01/27/australian-open-mens-final-medvedev-sinner/72352313007/\\', \\'content\\': \"Daniil Medvedev\\'s path to Australian Open men\\'s final\\\\nJannik Sinner\\'s path to Australian Open men\\'s final\\\\nMedvedev-Sinner head to head\\\\nMedvedev has a 6-3 record against Sinner, although Sinner has won their last three matchups.\\\\n Australian Open men\\'s singles final: How to watch Daniil Medvedev vs. Jannik Sinner\\\\nThe first major championship of the 2024 men\\'s tennis season will be awarded early Sunday (U.S. time) at the Australian Open in Melbourne.\\\\n Neither finalist has ever won the Australian Open.\\\\nSinner, a 22-year-old from Italy, defeated top-seeded Djokovic to reach his first Grand Slam final, breaking the 10-time champion\\'s unbeaten streak in the Australia Open semifinals. How to watch Australian Open men\\'s final\\\\nAll Australian Open matches will be available on ESPN television and will be streamed online on Watch ESPN and ESPN+.\\\\n The winners of the men\\'s and women\\'s singles will each receive $3.15 million in Australian dollars, while the runner up will net $1.725 million.\"}, {\\'url\\': \\'https://www.thetimes.co.uk/sport/tennis/article/australian-open-2024-results-final-jannik-sinner-wins-j9jbmsgv3\\', \\'content\\': \\'australian open J Sinner (It, No 4) beat D Medvedev (Russ, No 3) 3-6, 3-6, 6-4, 6-4, 6-3; first grand-slam title for 22-year-old after recovering from two sets down in Melbourne Stuart Fraser\\'}, {\\'url\\': \\'https://en.wikipedia.org/wiki/2024_Australian_Open\\', \\'content\\': \"The tournament featured the following changes from previous tournaments:[9]\\\\nSingles players[edit]\\\\nEvents[edit]\\\\nMen\\'s singles[edit]\\\\nWomen\\'s singles[edit]\\\\nMen\\'s doubles[edit]\\\\nWomen\\'s doubles[edit]\\\\nMixed doubles[edit]\\\\nWheelchair men\\'s singles[edit]\\\\nWheelchair women\\'s singles[edit]\\\\nWheelchair quad singles[edit]\\\\nWheelchair men\\'s doubles[edit]\\\\nWheelchair women\\'s doubles[edit]\\\\nWheelchair quad doubles[edit]\\\\nBoys\\' singles[edit]\\\\nGirls\\' singles[edit]\\\\nBoys\\' doubles[edit]\\\\nGirls\\' doubles[edit]\\\\nPoints and prize money[edit]\\\\nPoint distribution[edit]\\\\nBelow is a series of tables for each competition showing the ranking points offered for each event.[12][13][14]\\\\nPrize money[edit]\\\\nThe Australian Open total prize money for 2024 increased by 13.07% year on year to a tournament record A$86,500,000. Aryna Sabalenka successfully defended the women\\'s singles title as she claimed her second major singles title, defeating Zheng Qinwen without losing a set during the tournament.[6][7]\\\\nIn the tournament\\'s 119-year history, this was the first Australian Open Tennis Championships to be held on an opening Sunday.[8]\\\\n It was the 112th edition of the Australian Open, the 56th in the Open Era, and the first major of the year. The total represented a 162% increase in prize money over the last ten years, from the A$33 million on offer in 2014.\\\\n Contents\\\\n2024 Australian Open\\\\nThe 2024 Australian Open was a Grand Slam level tennis tournament held at Melbourne Park, from 14–28 January 2024.[1]\"}, {\\'url\\': \\'https://www.bbc.com/sport/live/tennis/67779985\\', \\'content\\': \"Quad wheelchair singles: Sam Schroder (Netherlands)\\\\nQuad wheelchair doubles: Andy Lapthorne (Great Britain) and David Wagner (USA)\\\\nSinner wins first major with epic fightback - read the report\\\\nSinner 3-6 3-6 6-4 6-4 6-3 Medvedev\\\\nJonathan Jurejko\\\\nBBC Sport in Melbourne\\\\nJannik Sinner landed the Grand Slam title he has long promised with an extraordinary fightback to beat Daniil Medvedev in the Australian Open final.\\\\n \\'Tonight he realised his potential\\'\\\\nSinner 3-6 3-6 6-4 6-4 6-3 Medvedev\\\\nRussell Fuller\\\\nTennis correspondent on BBC Radio 5 Live and BBC Sounds\\\\nJannik Sinner has been the coming-man of tennis for a long\\\\ntime, and tonight he has realised his potential.\\\\n \\'Sinner found a way, that\\'s what champions do\\'\\\\nSinner 3-6 3-6 6-4 6-4 6-3 Medvedev\\\\nPat Cash\\\\nFormer Wimbledon champion on BBC Radio 5 Live and BBC Sounds\\\\nGreat performance and anyone who has seen Sinner play knew\\\\nhe had the abilities but he still had to improve his game,. Young gun\\\\nSinner 3-6 3-6 6-4 6-4 6-3 Medvedev\\\\nJannik Sinner, 22, is the third youngest player to win the men\\'s singles title at the Australian Open since 1988 (when the tournament moved to Melbourne Park), older only than Novak Djokovic in 2008 and Jim Courier in 1992.\\\\n Summary\\\\nLive Reporting\\\\nMichael Emons, Emily Salley and Ros Satar\\\\nAll times stated are UK\\\\nThanks and goodbye\\\\nSinner 3-6 3-6 6-4 6-4 6-3 Medvedev\\\\nAnd that brings to an end an incredible Australian Open.\"}]'}}}}, parent_config=None)\n",
      "StateSnapshot(values={'chat_history': [HumanMessage(content='what is the hometown of the 2024 australian open winner'), AIMessage(content='Italy')]}, next=(), config={'configurable': {'thread_id': '1', 'thread_ts': '2024-05-21T21:13:15.912216+00:00'}}, metadata={'source': 'loop', 'step': 5, 'writes': {'solve': {'chat_history': [HumanMessage(content='what is the hometown of the 2024 australian open winner'), AIMessage(content='Italy')], 'plan_string': None, 'results': None, 'steps': None, 'task': None}}}, parent_config=None)\n"
     ]
    }
   ],
   "source": [
    "for snapshot in app.get_state_history(config):\n",
    "    print(snapshot)"
   ]
  },
  {
   "cell_type": "markdown",
   "id": "166c7cd1",
   "metadata": {},
   "source": [
    "Let's inspect the last graph state to confirm it worked:"
   ]
  },
  {
   "cell_type": "code",
   "execution_count": null,
   "id": "82584679",
   "metadata": {},
   "outputs": [
    {
     "data": {
      "text/plain": [
       "StateSnapshot(values={'chat_history': [HumanMessage(content='what is the hometown of the 2024 australian open winner'), AIMessage(content='Italy')]}, next=(), config={'configurable': {'thread_id': '1', 'thread_ts': '2024-05-21T21:13:15.912216+00:00'}}, metadata={'source': 'loop', 'step': 5, 'writes': {'solve': {'chat_history': [HumanMessage(content='what is the hometown of the 2024 australian open winner'), AIMessage(content='Italy')], 'plan_string': None, 'results': None, 'steps': None, 'task': None}}}, parent_config=None)"
      ]
     },
     "metadata": {},
     "output_type": "display_data"
    }
   ],
   "source": [
    "last_snapshot = app.get_state(config)\n",
    "last_snapshot"
   ]
  },
  {
   "cell_type": "markdown",
   "id": "609b800e",
   "metadata": {},
   "source": [
    "When you invoke it again with the same thread, it will automatically load the latest checkpoint for that thread ID, if one exists, allowing it to pick up the state where it left off."
   ]
  },
  {
   "cell_type": "code",
   "execution_count": null,
   "id": "6274f073",
   "metadata": {},
   "outputs": [],
   "source": [
    "s = app.invoke({\"task\": \"What is the national sport of it?\"}, config)"
   ]
  },
  {
   "cell_type": "code",
   "execution_count": null,
   "id": "57171cdd",
   "metadata": {},
   "outputs": [
    {
     "data": {
      "text/plain": [
       "[HumanMessage(content='what is the hometown of the 2024 australian open winner'),\n",
       " AIMessage(content='Italy'),\n",
       " HumanMessage(content='What is the national sport of it?'),\n",
       " AIMessage(content='Soccer')]"
      ]
     },
     "metadata": {},
     "output_type": "display_data"
    }
   ],
   "source": [
    "s[\"chat_history\"]"
   ]
  },
  {
   "cell_type": "markdown",
   "id": "842954d7-0de0-4876-be63-46b4e14157b0",
   "metadata": {},
   "source": [
    "## Conclusion\n",
    "\n",
    "Congratulations on implementing ReWOO! Before you leave, I'll leave you with a couple limitations of the current implementation from the paper:\n",
    "\n",
    "1. If little context of the environment is available, the planner will be ineffective in its tool use. This can typically be ameliorated through few-shot prompting and/or fine-tuning.\n",
    "2. The tasks are still executed in sequence, meaning the total execution time is impacted by _every_ tool call, not just he longest-running in a given step."
   ]
  }
 ],
 "metadata": {
  "kernelspec": {
   "display_name": "Python 3 (ipykernel)",
   "language": "python",
   "name": "python3"
  },
  "language_info": {
   "codemirror_mode": {
    "name": "ipython",
    "version": 3
   },
   "file_extension": ".py",
   "mimetype": "text/x-python",
   "name": "python",
   "nbconvert_exporter": "python",
   "pygments_lexer": "ipython3",
   "version": "3.11.2"
  }
 },
 "nbformat": 4,
 "nbformat_minor": 5
}
