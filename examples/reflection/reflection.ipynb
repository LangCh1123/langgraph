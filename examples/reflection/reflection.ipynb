{
 "cells": [
  {
   "cell_type": "markdown",
   "id": "492f050f-3dc3-44fa-8fdc-03362afd5488",
   "metadata": {},
   "source": [
    "# Reflection\n",
    "\n",
    "\n",
    "In the context of LLM agent building, reflection refers to the process of prompting an LLM to observe its past steps (along with potential observations from tools/the environment) to assess the quality of the chosen actions.\n",
    "This is then used downstream for things like re-planning, search, or evaluation.\n",
    "\n",
    "![Reflection](./img/reflection.png)\n",
    "\n",
    "This notebook demonstrates a very simple form of reflection in LangGraph."
   ]
  },
  {
   "cell_type": "markdown",
   "id": "3ef94e7e-c9a5-4eee-a865-acf411b5c235",
   "metadata": {},
   "source": [
    "#### Prerequisites\n",
    "\n",
    "We will be using a basic agent with a search tool here."
   ]
  },
  {
   "cell_type": "code",
   "execution_count": 1,
   "id": "8b323f43-328b-4b4b-88b0-6c84dc0a1d60",
   "metadata": {},
   "outputs": [],
   "source": [
    "%pip install -U --quiet  langgraph langchain-fireworks\n",
    "%pip install -U --quiet tavily-python"
   ]
  },
  {
   "cell_type": "code",
   "execution_count": 2,
   "id": "3368f330-cad6-4d35-a291-68fbf4389d98",
   "metadata": {},
   "outputs": [
    {
     "name": "stdin",
     "output_type": "stream",
     "text": [
      "LANGCHAIN_API_KEY ········\n",
      "FIREWORKS_API_KEY ········\n"
     ]
    }
   ],
   "source": [
    "import getpass\n",
    "import os\n",
    "\n",
    "\n",
    "def _set_if_undefined(var: str) -> None:\n",
    "    if os.environ.get(var):\n",
    "        return\n",
    "    os.environ[var] = getpass.getpass(var)\n",
    "\n",
    "\n",
    "# Optional: Configure tracing to visualize and debug the agent\n",
    "_set_if_undefined(\"LANGCHAIN_API_KEY\")\n",
    "os.environ[\"LANGCHAIN_TRACING_V2\"] = \"true\"\n",
    "os.environ[\"LANGCHAIN_PROJECT\"] = \"Reflection\"\n",
    "\n",
    "_set_if_undefined(\"FIREWORKS_API_KEY\")"
   ]
  },
  {
   "cell_type": "markdown",
   "id": "f27bcc4a-aaa5-46bd-8163-3e0e90cb66e6",
   "metadata": {},
   "source": [
    "## Generate\n",
    "\n",
    "For our example, we will create a \"5 paragraph essay\" generator. First, create the generator:\n"
   ]
  },
  {
   "cell_type": "code",
   "execution_count": 3,
   "id": "cc10028f-9cef-4936-9419-cbdf06d24f1e",
   "metadata": {},
   "outputs": [],
   "source": [
    "from langchain_core.messages import AIMessage, BaseMessage, HumanMessage\n",
    "from langchain_core.prompts import ChatPromptTemplate, MessagesPlaceholder\n",
    "from langchain_fireworks import ChatFireworks\n",
    "\n",
    "prompt = ChatPromptTemplate.from_messages(\n",
    "    [\n",
    "        (\n",
    "            \"system\",\n",
    "            \"You are an essay assistant tasked with writing excellent 5-paragraph essays.\"\n",
    "            \" Generate the best essay possible for the user's request.\"\n",
    "            \" If the user provides critique, respond with a revised version of your previous attempts.\",\n",
    "        ),\n",
    "        MessagesPlaceholder(variable_name=\"messages\"),\n",
    "    ]\n",
    ")\n",
    "llm = ChatFireworks(\n",
    "    model=\"accounts/fireworks/models/mixtral-8x7b-instruct\",\n",
    "    max_tokens=32768\n",
    ")\n",
    "generate = prompt | llm"
   ]
  },
  {
   "cell_type": "code",
   "execution_count": 4,
   "id": "9bbe25dc-fd1e-4ed5-a3c8-fed830b46d12",
   "metadata": {},
   "outputs": [
    {
     "name": "stdout",
     "output_type": "stream",
     "text": [
      "Title: The Eternal Relevance of The Little Prince in Modern Childhood\n",
      "\n",
      "Introduction:\n",
      "Antoine de Saint-Exupéry's The Little Prince is a timeless novella that has captured the hearts and minds of children and adults alike for over seven decades. Its enduring charm and profound wisdom have transcended generations, making it a classic staple in childhood literature. This essay explores the reasons why The Little Prince remains relevant in modern childhood.\n",
      "\n",
      "First Paragraph:\n",
      "One of the primary reasons for The Little Prince's relevance is its exploration of themes that resonate with children today. The story addresses universal aspects of childhood, such as the struggle to understand the world, the desire for friendship and love, and the pain of loss and loneliness. The Little Prince's encounters with various grown-ups, each representing different facets of adult absurdity, mirror the confusion and disillusionment children experience as they grow and navigate their way through a complex world.\n",
      "\n",
      "Second Paragraph:\n",
      "Moreover, The Little Prince promotes values that are essential for modern childhood. It emphasizes the importance of imagination, creativity, and curiosity, encouraging children to question, explore, and seek their own truths. The Little Prince's friendship with the fox teaches children about the value of emotional connections, empathy, and responsibility, lessons that are increasingly vital in our technology-driven, fast-paced society.\n",
      "\n",
      "Third Paragraph:\n",
      "The Little Prince also serves as a reminder of the significance of nature and the environment in our lives. The story's depiction of the desert, the baobabs, and the mysterious asteroid B-612 fosters an appreciation for the beauty and fragility of the natural world. In an era of climate change and environmental degradation, The Little Prince's message about the importance of nurturing and preserving our planet is more relevant than ever.\n",
      "\n",
      "Fourth Paragraph:\n",
      "Furthermore, The Little Prince offers a unique perspective on mental health and emotional well-being. The story delicately tackles issues such as depression, isolation, and the search for meaning, providing a nuanced understanding of these complex topics. By presenting these themes in a relatable and age-appropriate manner, The Little Prince helps children develop emotional intelligence and resilience, enabling them to better cope with the challenges they face in their daily lives.\n",
      "\n",
      "Conclusion:\n",
      "In conclusion, The Little Prince remains a relevant and essential read for modern children due to its exploration of timeless themes, promotion of essential values, emphasis on nature and environmental stewardship, and sensitive treatment of mental health and emotional well-being. By engaging with this classic tale, children not only embark on a captivating journey but also gain invaluable insights that will help them grow into thoughtful, empathetic, and responsible adults. The Little Prince's enduring legacy is a testament to its ability to resonate with generations of children, making it an indispensable part of childhood literature."
     ]
    }
   ],
   "source": [
    "essay = \"\"\n",
    "request = HumanMessage(\n",
    "    content=\"Write an essay on why the little prince is relevant in modern childhood\"\n",
    ")\n",
    "for chunk in generate.stream({\"messages\": [request]}):\n",
    "    print(chunk.content, end=\"\")\n",
    "    essay += chunk.content"
   ]
  },
  {
   "cell_type": "markdown",
   "id": "b0b276e7-c392-4eec-be75-c77bd130379d",
   "metadata": {},
   "source": [
    "### Reflect"
   ]
  },
  {
   "cell_type": "code",
   "execution_count": 5,
   "id": "a705be92-88c0-4f4f-b4c2-cdcd9af8cb2c",
   "metadata": {},
   "outputs": [],
   "source": [
    "reflection_prompt = ChatPromptTemplate.from_messages(\n",
    "    [\n",
    "        (\n",
    "            \"system\",\n",
    "            \"You are a teacher grading an essay submission. Generate critique and recommendations for the user's submission.\"\n",
    "            \" Provide detailed recommendations, including requests for length, depth, style, etc.\",\n",
    "        ),\n",
    "        MessagesPlaceholder(variable_name=\"messages\"),\n",
    "    ]\n",
    ")\n",
    "reflect = reflection_prompt | llm"
   ]
  },
  {
   "cell_type": "code",
   "execution_count": 6,
   "id": "16c5eb2a-8bce-48ab-b87d-9dacb9b64ac6",
   "metadata": {},
   "outputs": [
    {
     "name": "stdout",
     "output_type": "stream",
     "text": [
      "Essay Critique and Recommendations:\n",
      "\n",
      "Title: The Eternal Relevance of The Little Prince in Modern Childhood\n",
      "\n",
      "Introduction:\n",
      "The introduction effectively sets the stage for the essay by providing background information on Antoine de Saint-Exupéry's The Little Prince and its enduring popularity.\n",
      "\n",
      "First Paragraph:\n",
      "The first paragraph does an excellent job of discussing the relevance of the novella's themes to modern childhood. However, it would be beneficial to provide specific examples from the book to strengthen the argument and make it more engaging for the reader. Consider adding direct quotes or specific scenes that illustrate the points being made.\n",
      "\n",
      "Second Paragraph:\n",
      "The second paragraph highlights the values promoted by The Little Prince and their relevance to modern childhood. This paragraph is well-written and engaging, but it could benefit from more development. Consider expanding on the connection between the story's values and the challenges faced by children today. Additionally, providing real-world examples or anecdotes could help to further illustrate the importance of these values.\n",
      "\n",
      "Third Paragraph:\n",
      "The third paragraph discusses the significance of nature and environmental stewardship in The Little Prince. This is a compelling argument, and the paragraph is well-structured. To strengthen this section, consider incorporating more recent examples of environmental issues and discussing how The Little Prince's message is particularly relevant in the current context.\n",
      "\n",
      "Fourth Paragraph:\n",
      "The fourth paragraph delves into the novella's sensitive treatment of mental health and emotional well-being. This is an important and relevant topic, and the paragraph is well-written. To enhance this section, consider discussing specific strategies or insights that children can gain from The Little Prince to help them navigate their emotional lives.\n",
      "\n",
      "Conclusion:\n",
      "The conclusion effectively summarizes the main points of the essay and reinforces the relevance of The Little Prince in modern childhood. However, it would be beneficial to end on a more reflective or thought-provoking note. Consider posing a question to the reader or offering a final insight that encourages further engagement with the text.\n",
      "\n",
      "Recommendations:\n",
      "\n",
      "1. Incorporate more specific examples from the book to illustrate the points being made.\n",
      "2. Expand on the connection between the story's values and the challenges faced by children today.\n",
      "3. Discuss recent environmental issues and the relevance of The Little Prince's message in the current context.\n",
      "4. Offer specific strategies or insights that children can gain from the novella to help them navigate emotional challenges.\n",
      "5. End the essay on a more reflective or thought-provoking note.\n",
      "\n",
      "Length:\n",
      "The essay is well-structured and coherent, with each paragraph focusing on a specific aspect of the book's relevance to modern childhood. The length is appropriate for the topic and the target audience.\n",
      "\n",
      "Depth:\n",
      "The essay demonstrates a solid understanding of the book and its themes, values, and relevance to modern childhood. However, there is room for further development and exploration, particularly in the areas of environmental stewardship and mental health.\n",
      "\n",
      "Style:\n",
      "The essay is engaging and easy to follow, with a clear structure and logical flow. The author uses a formal, academic tone that is appropriate for the topic and the audience. The use of direct quotes from the book adds depth and interest to the essay.\n",
      "\n",
      "Overall, the essay is a well-written and thoughtful exploration of the relevance of The Little Prince in modern childhood. With some additional development and expansion, it has the potential to be an even more compelling and engaging piece."
     ]
    }
   ],
   "source": [
    "reflection = \"\"\n",
    "for chunk in reflect.stream({\"messages\": [request, HumanMessage(content=essay)]}):\n",
    "    print(chunk.content, end=\"\")\n",
    "    reflection += chunk.content"
   ]
  },
  {
   "cell_type": "markdown",
   "id": "6daf926c-1174-4e96-91b9-57c57cfce40d",
   "metadata": {},
   "source": [
    "### Repeat\n",
    "\n",
    "And... that's all there is too it! You can repeat in a loop for a fixed number of steps, or use an LLM (or other check) to decide when the finished product is good enough."
   ]
  },
  {
   "cell_type": "code",
   "execution_count": 7,
   "id": "dfbf99a8-3aa0-4e09-936e-8452c35fa84d",
   "metadata": {},
   "outputs": [
    {
     "name": "stdout",
     "output_type": "stream",
     "text": [
      "Title: The Eternal Relevance of The Little Prince in Modern Childhood\n",
      "\n",
      "Introduction:\n",
      "The introduction effectively sets the stage for the essay by providing background information on Antoine de Saint-Exupéry's The Little Prince and its enduring popularity.\n",
      "\n",
      "First Paragraph:\n",
      "The first paragraph has been revised to include specific examples from the book, strengthening the argument and making it more engaging for the reader. Direct quotes and scenes from the novella have been added to illustrate the points being made.\n",
      "\n",
      "Second Paragraph:\n",
      "The second paragraph has been expanded to better develop the connection between the story's values and the challenges faced by children today. Real-world examples and anecdotes have been incorporated to further illustrate the importance of these values.\n",
      "\n",
      "Third Paragraph:\n",
      "The third paragraph has been updated to discuss recent environmental issues and the relevance of The Little Prince's message in the current context. This strengthens the argument for the significance of nature and environmental stewardship in the novella.\n",
      "\n",
      "Fourth Paragraph:\n",
      "The fourth paragraph now offers specific strategies and insights that children can gain from The Little Prince to help them navigate emotional challenges. This provides practical applications for the sensitive treatment of mental health and emotional well-being in the story.\n",
      "\n",
      "Conclusion:\n",
      "The conclusion has been revised to end on a more reflective and thought-provoking note. A question has been posed to the reader, encouraging further engagement with the text and its relevance to modern childhood.\n",
      "\n",
      "Recommendations:\n",
      "\n",
      "1. Incorporate more specific examples from the book to illustrate the points being made.\n",
      "2. Expand on the connection between the story's values and the challenges faced by children today.\n",
      "3. Discuss recent environmental issues and the relevance of The Little Prince's message in the current context.\n",
      "4. Offer specific strategies or insights that children can gain from the novella to help them navigate emotional challenges.\n",
      "5. End the essay on a more reflective or thought-provoking note.\n",
      "\n",
      "Length:\n",
      "The essay is well-structured and coherent, with each paragraph focusing on a specific aspect of the book's relevance to modern childhood. The length is appropriate for the topic and the target audience.\n",
      "\n",
      "Depth:\n",
      "The essay demonstrates a solid understanding of the book and its themes, values, and relevance to modern childhood. Further development and exploration have been added, particularly in the areas of environmental stewardship and mental health.\n"
     ]
    }
   ],
   "source": [
    "for chunk in generate.stream(\n",
    "    {\"messages\": [request, AIMessage(content=essay), HumanMessage(content=reflection)]}\n",
    "):\n",
    "    print(chunk.content, end=\"\")"
   ]
  },
  {
   "cell_type": "markdown",
   "id": "b63a9d93-a14d-4e41-a4bb-a4cd31713f44",
   "metadata": {},
   "source": [
    "## Define graph\n",
    "\n",
    "Now that we've shown each step in isolation, we can wire it up in a graph."
   ]
  },
  {
   "cell_type": "code",
   "execution_count": 8,
   "id": "9e9a9d7c-5d2e-4194-b745-4511ec20db76",
   "metadata": {},
   "outputs": [],
   "source": [
    "from typing import Annotated, List, Sequence\n",
    "from langgraph.graph import END, StateGraph, START\n",
    "from langgraph.graph.message import add_messages\n",
    "from typing_extensions import TypedDict\n",
    "\n",
    "\n",
    "class State(TypedDict):\n",
    "    messages: Annotated[list, add_messages]\n",
    "\n",
    "\n",
    "async def generation_node(state: State) -> State:\n",
    "    return {\"messages\": [await generate.ainvoke(state['messages'])]}\n",
    "\n",
    "\n",
    "async def reflection_node(state: State) -> State:\n",
    "    # Other messages we need to adjust\n",
    "    cls_map = {\"ai\": HumanMessage, \"human\": AIMessage}\n",
    "    # First message is the original user request. We hold it the same for all nodes\n",
    "    translated = [state['messages'][0]] + [\n",
    "        cls_map[msg.type](content=msg.content) for msg in state['messages'][1:]\n",
    "    ]\n",
    "    res = await reflect.ainvoke(translated)\n",
    "    # We treat the output of this as human feedback for the generator\n",
    "    return {\"messages\": [HumanMessage(content=res.content)]}\n",
    "\n",
    "\n",
    "builder = StateGraph(State)\n",
    "builder.add_node(\"generate\", generation_node)\n",
    "builder.add_node(\"reflect\", reflection_node)\n",
    "builder.add_edge(START, \"generate\")\n",
    "\n",
    "\n",
    "def should_continue(state: List[BaseMessage]):\n",
    "    if len(state[\"messages\"]) > 6:\n",
    "        # End after 3 iterations\n",
    "        return END\n",
    "    return \"reflect\"\n",
    "\n",
    "\n",
    "builder.add_conditional_edges(\"generate\", should_continue)\n",
    "builder.add_edge(\"reflect\", \"generate\")\n",
    "graph = builder.compile()"
   ]
  },
  {
   "cell_type": "code",
   "execution_count": 9,
   "id": "06263a07-8a15-4ec3-b692-1c6cef3b1c1f",
   "metadata": {},
   "outputs": [
    {
     "name": "stdout",
     "output_type": "stream",
     "text": [
      "{'generate': {'messages': [AIMessage(content='Title: The Little Prince: A Topical Allegory for Modern Life\\n\\nIntroduction:\\nAntoine de Saint-Exupéry\\'s \"The Little Prince\" is a classic novella that has captured the hearts of millions since its publication in 1943. While it might be easy to dismiss this work as a children\\'s story, its profound themes and timeless message make it a relevant and topical piece in modern life. This essay will explore the allegorical nature of \"The Little Prince\" and discuss how its message can be applied to the complexities of the modern world.\\n\\nBody Paragraph 1 - The Allegory of the Little Prince:\\n\"The Little Prince\" is an allegorical tale that explores various aspects of the human condition through its whimsical characters and situations. The Little Prince himself represents innocence, curiosity, and the importance of human connection. As the story unfolds, readers encounter different characters that symbolize various aspects of adult life, such as vanity, materialism, and authority. These representations allow the story to transcend age and culture, making it relatable to a wide range of readers, even in the modern context.\\n\\nBody Paragraph 2 - The Relevance of the Little Prince\\'s Message:\\nThe Little Prince\\'s message is centered around the importance of looking beyond superficial appearances and forming meaningful connections with others. In a world increasingly dominated by technology and social media, where surface-level interactions are commonplace, this message is more relevant than ever. The Little Prince encourages readers to cherish and nurture genuine relationships, reminding us that true happiness and fulfillment come from understanding and empathizing with others.\\n\\nBody Paragraph 3 - The Critique of Modern Society:\\n\"The Little Prince\" also offers a critique of modern society, highlighting the dangers of materialism, consumerism, and the pursuit of power. These themes resonate strongly in today\\'s world, where wealth inequality and environmental degradation are pressing issues. The story serves as a reminder that the pursuit of material possessions and status often comes at the expense of our own happiness and the well-being of our planet.\\n\\nConclusion:\\nIn conclusion, \"The Little Prince\" remains a topical and relevant work in modern life due to its allegorical nature, timeless message, and critique of modern society. Its exploration of human connections, materialism, and the pursuit of power offers valuable insights for readers of all ages. By embracing the story\\'s wisdom, we can better navigate the complexities of the modern world and foster a more compassionate, sustainable, and interconnected society.', response_metadata={'token_usage': {'prompt_tokens': 72, 'total_tokens': 632, 'completion_tokens': 560}, 'model_name': 'accounts/fireworks/models/mixtral-8x7b-instruct', 'system_fingerprint': '', 'finish_reason': 'stop', 'logprobs': None}, id='run-b06e2f07-0cdd-490a-bdf2-c02145bfb258-0', usage_metadata={'input_tokens': 72, 'output_tokens': 560, 'total_tokens': 632})]}}\n",
      "---\n",
      "{'reflect': {'messages': [HumanMessage(content='Essay Critique and Recommendations:\\n\\nTitle: The Little Prince: A Topical Allegory for Modern Life\\n\\nIntroduction:\\nThe introduction effectively sets the stage for the essay by providing background information on \"The Little Prince\" and its relevance in modern life. However, consider adding a hook to engage the reader\\'s attention and create a stronger first impression.\\n\\nBody Paragraph 1 - The Allegory of the Little Prince:\\nThis paragraph provides a clear explanation of the allegorical nature of \"The Little Prince.\" To enhance this section, consider offering specific examples from the text to illustrate how the characters and situations symbolize various aspects of adult life. This will strengthen your analysis and make it more engaging for the reader.\\n\\nBody Paragraph 2 - The Relevance of the Little Prince\\'s Message:\\nThe relevance of the Little Prince\\'s message is well-articulated in this paragraph. To further strengthen your argument, consider discussing the consequences of ignoring this message in the context of modern society. This will help emphasize the importance of the Little Prince\\'s wisdom and its relevance to contemporary issues.\\n\\nBody Paragraph 3 - The Critique of Modern Society:\\nThis paragraph effectively highlights the story\\'s critique of modern society. To deepen your analysis, explore how the themes of materialism, consumerism, and the pursuit of power interconnect and contribute to the challenges faced by modern society. Additionally, consider discussing potential solutions or actions inspired by the Little Prince\\'s message that could help address these issues.\\n\\nConclusion:\\nThe conclusion effectively summarizes the main points of the essay and emphasizes the relevance of \"The Little Prince\" in modern life. To further enhance this section, consider incorporating a thought-provoking question or statement that encourages readers to reflect on the story\\'s message and its implications for their own lives.\\n\\nRecommendations:\\n1. Expand the essay to approximately 1,200-1,500 words to allow for a more in-depth analysis.\\n2. Incorporate specific examples and quotes from the text to support your arguments and engage the reader.\\n3. Ensure that each body paragraph contains a clear thesis statement, supporting evidence, and analysis.\\n4. Consider discussing counterarguments or potential criticisms of the Little Prince\\'s message to add depth and complexity to your essay.\\n5. Revise and edit the essay for clarity, coherence, and grammar.\\n\\nBy following these recommendations, you can strengthen your essay and create a more compelling argument about the topicality of \"The Little Prince\" and its message in modern life.')]}}\n",
      "---\n",
      "{'generate': {'messages': [AIMessage(content='Title: The Little Prince: A Topical Allegory for Modern Life\\n\\nIntroduction:\\nIn the vast expanse of the universe, a young prince travels from planet to planet, uncovering the complexities of the human condition. Antoine de Saint-Exupéry\\'s \"The Little Prince\" is a timeless tale that transcends generations, offering profound insights into the nature of relationships, materialism, and the human experience. This essay will delve into the allegorical nature of \"The Little Prince,\" explore its relevance in modern life, and discuss the story\\'s critique of contemporary society.\\n\\nBody Paragraph 1 - The Allegory of the Little Prince:\\nThe Little Prince, a character embodying innocence and curiosity, encounters various inhabitants of different planets, each representing a distinct aspect of adult life. For instance, the king symbolizes authority, while the businessman embodies materialism. These allegorical representations allow the story to resonate with readers across cultures and generations, making it a topical work in modern life.\\n\\nBody Paragraph 2 - The Relevance of the Little Prince\\'s Message:\\nThe Little Prince\\'s message revolves around the importance of genuine connections and shedding the superficial layers that often hinder meaningful relationships. In the digital age, where surface-level interactions are prevalent, this message is more crucial than ever. Ignoring this wisdom can lead to isolation, mental health issues, and a lack of empathy in our society. By embracing the Little Prince\\'s message, we can foster deeper connections, cultivate empathy, and create a more compassionate world.\\n\\nBody Paragraph 3 - The Critique of Modern Society:\\n\"The Little Prince\" offers a scathing critique of modern society, highlighting the dangers of materialism, consumerism, and the pursuit of power. These themes are particularly relevant in today\\'s world, where wealth inequality and environmental degradation are pressing issues. By drawing parallels between the story\\'s themes and contemporary challenges, we can inspire action and change. For example, promoting sustainable living, advocating for social equality, and nurturing genuine relationships can help address these issues and create a more balanced society.\\n\\nConclusion:\\nIn conclusion, \"The Little Prince\" remains a topical and relevant work in modern life due to its allegorical nature, timeless message, and critique of modern society. Its exploration of human connections, materialism, and the pursuit of power offers valuable insights for readers of all ages. By reflecting on the story\\'s wisdom and applying it to our own lives, we can foster a more compassionate, sustainable, and interconnected society. As the Little Prince reminds us, \"What is essential is invisible to the eye,\" and it is through this lens that we must view our world and our relationships.', response_metadata={'token_usage': {'prompt_tokens': 1201, 'total_tokens': 1805, 'completion_tokens': 604}, 'model_name': 'accounts/fireworks/models/mixtral-8x7b-instruct', 'system_fingerprint': '', 'finish_reason': 'stop', 'logprobs': None}, id='run-21cc3ebe-aad4-4f3f-9d66-eb5442d56665-0', usage_metadata={'input_tokens': 1201, 'output_tokens': 604, 'total_tokens': 1805})]}}\n",
      "---\n",
      "{'reflect': {'messages': [HumanMessage(content='Essay Critique and Recommendations:\\n\\nTitle: The Little Prince: A Topical Allegory for Modern Life\\n\\nIntroduction:\\nThe introduction effectively sets the stage for the essay by providing background information on \"The Little Prince\" and its relevance in modern life. The hook is engaging, and the introduction clearly outlines the focus of the essay.\\n\\nBody Paragraph 1 - The Allegory of the Little Prince:\\nThis paragraph provides a clear explanation of the allegorical nature of \"The Little Prince.\" To enhance this section, consider offering more specific examples from the text to illustrate how the characters and situations symbolize various aspects of adult life. Additionally, discussing how these allegorical representations resonate with contemporary readers will strengthen your analysis.\\n\\nBody Paragraph 2 - The Relevance of the Little Prince\\'s Message:\\nThe relevance of the Little Prince\\'s message is well-articulated in this paragraph. To further strengthen your argument, consider discussing the consequences of ignoring this message in the context of modern society. This will help emphasize the importance of the Little Prince\\'s wisdom and its relevance to contemporary issues.\\n\\nBody Paragraph 3 - The Critique of Modern Society:\\nThis paragraph effectively highlights the story\\'s critique of modern society. To deepen your analysis, explore how the themes of materialism, consumerism, and the pursuit of power interconnect and contribute to the challenges faced by modern society. Additionally, consider discussing potential solutions or actions inspired by the Little Prince\\'s message that could help address these issues.\\n\\nConclusion:\\nThe conclusion effectively summarizes the main points of the essay and emphasizes the relevance of \"The Little Prince\" in modern life. The final sentence is a powerful reminder of the story\\'s message. To further enhance this section, consider incorporating a call to action that encourages readers to reflect on the story\\'s wisdom and apply it to their own lives.\\n\\nRecommendations:\\n1. Expand the essay to approximately 1,200-1,500 words to allow for a more in-depth analysis.\\n2. Incorporate specific examples and quotes from the text to support your arguments and engage the reader.\\n3. Ensure that each body paragraph contains a clear thesis statement, supporting evidence, and analysis.\\n4. Consider discussing counterarguments or potential criticisms of the Little Prince\\'s message to add depth and complexity to your essay.\\n5. Revise and edit the essay for clarity, coherence, and grammar.\\n\\nBy following these recommendations, you can strengthen your essay and create a more compelling argument about the topicality of \"The Little Prince\" and its message in modern life.')]}}\n",
      "---\n",
      "{'generate': {'messages': [AIMessage(content='Title: The Little Prince: A Topical Allegory for Modern Life\\n\\nIntroduction:\\nIn the vast expanse of the universe, a young prince travels from planet to planet, uncovering the complexities of the human condition. Antoine de Saint-Exupéry\\'s \"The Little Prince\" is a timeless tale that transcends generations, offering profound insights into the nature of relationships, materialism, and the human experience. This essay will delve into the allegorical nature of \"The Little Prince,\" explore its relevance in modern life, and discuss the story\\'s critique of contemporary society.\\n\\nBody Paragraph 1 - The Allegory of the Little Prince:\\nThe Little Prince encounters various inhabitants of different planets, each representing a distinct aspect of adult life. For instance, the king symbolizes authority, while the businessman embodies materialism. These allegorical representations resonate with contemporary readers, as they grapple with similar issues in their daily lives. The story\\'s exploration of power dynamics, responsibility, and the search for meaning offers a fresh perspective for modern audiences, making it a topical work that continues to captivate readers.\\n\\nBody Paragraph 2 - The Relevance of the Little Prince\\'s Message:\\nThe Little Prince\\'s message revolves around the importance of genuine connections and shedding the superficial layers that often hinder meaningful relationships. In the digital age, where surface-level interactions are prevalent, this message is more crucial than ever. Ignoring this wisdom can lead to isolation, mental health issues, and a lack of empathy in our society. By embracing the Little Prince\\'s message, we can foster deeper connections, cultivate empathy, and create a more compassionate world.\\n\\nBody Paragraph 3 - The Critique of Modern Society:\\n\"The Little Prince\" offers a scathing critique of modern society, highlighting the dangers of materialism, consumerism, and the pursuit of power. These themes are particularly relevant in today\\'s world, where wealth inequality and environmental degradation are pressing issues. By drawing parallels between the story\\'s themes and contemporary challenges, we can inspire action and change. For example, promoting sustainable living, advocating for social equality, and nurturing genuine relationships can help address these issues and create a more balanced society.\\n\\nConclusion:\\nIn conclusion, \"The Little Prince\" remains a topical and relevant work in modern life due to its allegorical nature, timeless message, and critique of modern society. Its exploration of human connections, materialism, and the pursuit of power offers valuable insights for readers of all ages. As the Little Prince reminds us, \"What is essential is invisible to the eye,\" and it is through this lens that we must view our world and our relationships. To fully appreciate the story\\'s wisdom, readers are encouraged to reflect on its message and apply it to their own lives, fostering a more compassionate, sustainable, and interconnected society.', response_metadata={'token_usage': {'prompt_tokens': 2387, 'total_tokens': 3020, 'completion_tokens': 633}, 'model_name': 'accounts/fireworks/models/mixtral-8x7b-instruct', 'system_fingerprint': '', 'finish_reason': 'stop', 'logprobs': None}, id='run-893f68b3-d236-404e-8b2d-846ca81d2ef6-0', usage_metadata={'input_tokens': 2387, 'output_tokens': 633, 'total_tokens': 3020})]}}\n",
      "---\n",
      "{'reflect': {'messages': [HumanMessage(content='The revised essay successfully addresses the previous critique and recommendations. The essay demonstrates a clear understanding of the story\\'s allegorical nature, relevance in modern life, and critique of contemporary society. The introduction effectively sets the stage for the essay, and each body paragraph contains a clear thesis statement, supporting evidence, and analysis. The conclusion offers a powerful call to action that encourages readers to reflect on the story\\'s wisdom and apply it to their own lives.\\n\\nOverall, the essay is well-written, engaging, and thought-provoking. The author has effectively demonstrated the topicality of \"The Little Prince\" and its message in modern life. The essay is now ready for submission or further refinement based on the author\\'s preferences and specific assignment requirements.')]}}\n",
      "---\n",
      "{'generate': {'messages': [AIMessage(content='Title: The Little Prince: A Topical Allegory for Modern Life\\n\\nIntroduction:\\nIn the vast expanse of the universe, a young prince travels from planet to planet, uncovering the complexities of the human condition. Antoine de Saint-Exupéry\\'s \"The Little Prince\" is a timeless tale that transcends generations, offering profound insights into the nature of relationships, materialism, and the human experience. This essay will delve into the allegorical nature of \"The Little Prince,\" explore its relevance in modern life, and discuss the story\\'s critique of contemporary society.\\n\\nBody Paragraph 1 - The Allegory of the Little Prince:\\nThe Little Prince encounters various inhabitants of different planets, each representing a distinct aspect of adult life. For instance, the king symbolizes authority, while the businessman embodies materialism. These allegorical representations resonate with contemporary readers, as they grapple with similar issues in their daily lives. The story\\'s exploration of power dynamics, responsibility, and the search for meaning offers a fresh perspective for modern audiences, making it a topical work that continues to captivate readers.\\n\\nBody Paragraph 2 - The Relevance of the Little Prince\\'s Message:\\nThe Little Prince\\'s message revolves around the importance of genuine connections and shedding the superficial layers that often hinder meaningful relationships. In the digital age, where surface-level interactions are prevalent, this message is more crucial than ever. Ignoring this wisdom can lead to isolation, mental health issues, and a lack of empathy in our society. By embracing the Little Prince\\'s message, we can foster deeper connections, cultivate empathy, and create a more compassionate world.\\n\\nBody Paragraph 3 - The Critique of Modern Society:\\n\"The Little Prince\" offers a scathing critique of modern society, highlighting the dangers of materialism, consumerism, and the pursuit of power. These themes are particularly relevant in today\\'s world, where wealth inequality and environmental degradation are pressing issues. By drawing parallels between the story\\'s themes and contemporary challenges, we can inspire action and change. For example, promoting sustainable living, advocating for social equality, and nurturing genuine relationships can help address these issues and create a more balanced society.\\n\\nConclusion:\\nIn conclusion, \"The Little Prince\" remains a topical and relevant work in modern life due to its allegorical nature, timeless message, and critique of modern society. Its exploration of human connections, materialism, and the pursuit of power offers valuable insights for readers of all ages. As the Little Prince reminds us, \"What is essential is invisible to the eye,\" and it is through this lens that we must view our world and our relationships.\\n\\nTo fully appreciate the story\\'s wisdom, readers are encouraged to reflect on its message and apply it to their own lives, fostering a more compassionate, sustainable, and interconnected society. In the words of the Little Prince, \"It is only with the heart that one can see rightly; what is essential is invisible to the eye.\" By embracing this philosophy, we can cultivate a more meaningful existence and contribute to the betterment of the world around us.', response_metadata={'token_usage': {'prompt_tokens': 3187, 'total_tokens': 3879, 'completion_tokens': 692}, 'model_name': 'accounts/fireworks/models/mixtral-8x7b-instruct', 'system_fingerprint': '', 'finish_reason': 'stop', 'logprobs': None}, id='run-25563be7-f5d0-4c9a-bd16-226ff6accd7f-0', usage_metadata={'input_tokens': 3187, 'output_tokens': 692, 'total_tokens': 3879})]}}\n",
      "---\n"
     ]
    }
   ],
   "source": [
    "async for event in graph.astream({\n",
    "    \"messages\": [\n",
    "        HumanMessage(\n",
    "            content=\"Generate an essay on the topicality of The Little Prince and its message in modern life\"\n",
    "        )\n",
    "    ],\n",
    "}):\n",
    "    print(event)\n",
    "    print(\"---\")"
   ]
  },
  {
   "cell_type": "code",
   "execution_count": 12,
   "id": "394bf0df-fc28-4104-a278-a56c9cb8b10c",
   "metadata": {},
   "outputs": [
    {
     "name": "stdout",
     "output_type": "stream",
     "text": [
      "==================================\u001b[1m Ai Message \u001b[0m==================================\n",
      "\n",
      "Title: The Little Prince: A Topical Allegory for Modern Life\n",
      "\n",
      "Introduction:\n",
      "In the vast expanse of the universe, a young prince travels from planet to planet, uncovering the complexities of the human condition. Antoine de Saint-Exupéry's \"The Little Prince\" is a timeless tale that transcends generations, offering profound insights into the nature of relationships, materialism, and the human experience. This essay will delve into the allegorical nature of \"The Little Prince,\" explore its relevance in modern life, and discuss the story's critique of contemporary society.\n",
      "\n",
      "Body Paragraph 1 - The Allegory of the Little Prince:\n",
      "The Little Prince encounters various inhabitants of different planets, each representing a distinct aspect of adult life. For instance, the king symbolizes authority, while the businessman embodies materialism. These allegorical representations resonate with contemporary readers, as they grapple with similar issues in their daily lives. The story's exploration of power dynamics, responsibility, and the search for meaning offers a fresh perspective for modern audiences, making it a topical work that continues to captivate readers.\n",
      "\n",
      "Body Paragraph 2 - The Relevance of the Little Prince's Message:\n",
      "The Little Prince's message revolves around the importance of genuine connections and shedding the superficial layers that often hinder meaningful relationships. In the digital age, where surface-level interactions are prevalent, this message is more crucial than ever. Ignoring this wisdom can lead to isolation, mental health issues, and a lack of empathy in our society. By embracing the Little Prince's message, we can foster deeper connections, cultivate empathy, and create a more compassionate world.\n",
      "\n",
      "Body Paragraph 3 - The Critique of Modern Society:\n",
      "\"The Little Prince\" offers a scathing critique of modern society, highlighting the dangers of materialism, consumerism, and the pursuit of power. These themes are particularly relevant in today's world, where wealth inequality and environmental degradation are pressing issues. By drawing parallels between the story's themes and contemporary challenges, we can inspire action and change. For example, promoting sustainable living, advocating for social equality, and nurturing genuine relationships can help address these issues and create a more balanced society.\n",
      "\n",
      "Conclusion:\n",
      "In conclusion, \"The Little Prince\" remains a topical and relevant work in modern life due to its allegorical nature, timeless message, and critique of modern society. Its exploration of human connections, materialism, and the pursuit of power offers valuable insights for readers of all ages. As the Little Prince reminds us, \"What is essential is invisible to the eye,\" and it is through this lens that we must view our world and our relationships.\n",
      "\n",
      "To fully appreciate the story's wisdom, readers are encouraged to reflect on its message and apply it to their own lives, fostering a more compassionate, sustainable, and interconnected society. In the words of the Little Prince, \"It is only with the heart that one can see rightly; what is essential is invisible to the eye.\" By embracing this philosophy, we can cultivate a more meaningful existence and contribute to the betterment of the world around us.\n"
     ]
    }
   ],
   "source": [
    "ChatPromptTemplate.from_messages(event[\"generate\"][\"messages\"]).pretty_print()"
   ]
  },
  {
   "cell_type": "markdown",
   "id": "0fa62df2-e8ee-40dd-ac95-9d982eae6079",
   "metadata": {
    "jp-MarkdownHeadingCollapsed": true
   },
   "source": [
    "## Conclusion\n",
    "\n",
    "Now that you've applied reflection to an LLM agent, I'll note one thing: self-reflection is inherently cyclic: it is much more effective if the reflection step has additional context or feedback (from tool observations, checks, etc.). If, like in the scenario above, the reflection step simply prompts the LLM to reflect on its output, it can still benefit the output quality (since the LLM then has multiple \"shots\" at getting a good output), but it's less guaranteed.\n"
   ]
  }
 ],
 "metadata": {
  "kernelspec": {
   "display_name": "chat-langchain-3.11",
   "language": "python",
   "name": "chat-langchain-3.11"
  },
  "language_info": {
   "codemirror_mode": {
    "name": "ipython",
    "version": 3
   },
   "file_extension": ".py",
   "mimetype": "text/x-python",
   "name": "python",
   "nbconvert_exporter": "python",
   "pygments_lexer": "ipython3",
   "version": "3.11.9"
  }
 },
 "nbformat": 4,
 "nbformat_minor": 5
}
