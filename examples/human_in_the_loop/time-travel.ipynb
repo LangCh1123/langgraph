{
  "cells": [
    {
      "cell_type": "markdown",
      "id": "51466c8d-8ce4-4b3d-be4e-18fdbeda5f53",
      "metadata": {},
      "source": [
        "# How to view and update past graph state\n",
        "\n",
        "Once you start [checkpointing](../persistence.ipynb) your graphs, you can easily **get** or **update** the state of the agent at any point in time. This permits a few things:\n",
        "\n",
        "1. You can surface a state during an interrupt to a user to let them accept an action.\n",
        "2. You can **rewind** the graph to reproduce or avoid issues.\n",
        "3. You can **modify** the state to embed your agent into a larger system, or to let the user better control its actions.\n",
        "\n",
        "The key methods used for this functionality are:\n",
        "\n",
        "- [get_state](https://langchain-ai.github.io/langgraph/reference/graphs/#langgraph.graph.graph.CompiledGraph.get_state): fetch the values from the target config\n",
        "- [update_state](https://langchain-ai.github.io/langgraph/reference/graphs/#langgraph.graph.graph.CompiledGraph.update_state): apply the given values to the target state\n",
        "\n",
        "**Note:** this requires passing in a checkpointer.\n",
        "\n",
        "Below is a quick example."
      ]
    },
    {
      "cell_type": "markdown",
      "id": "7cbd446a-808f-4394-be92-d45ab818953c",
      "metadata": {},
      "source": [
        "## Setup\n",
        "\n",
        "First we need to install the packages required"
      ]
    },
    {
      "cell_type": "code",
      "execution_count": 1,
      "id": "af4ce0ba-7596-4e5f-8bf8-0b0bd6e62833",
      "metadata": {},
      "outputs": [],
      "source": [
        "%%capture --no-stderr\n",
        "%pip install --quiet -U langgraph langchain_anthropic"
      ]
    },
    {
      "cell_type": "markdown",
      "id": "0abe11f4-62ed-4dc4-8875-3db21e260d1d",
      "metadata": {},
      "source": [
        "Next, we need to set API keys for Anthropic (the LLM we will use)"
      ]
    },
    {
      "cell_type": "code",
      "execution_count": 2,
      "id": "c903a1cf-2977-4e2d-ad7d-8b3946821d89",
      "metadata": {},
      "outputs": [
        {
          "name": "stdout",
          "output_type": "stream",
          "text": [
            "ANTHROPIC_API_KEY:  ········\n"
          ]
        }
      ],
      "source": [
        "import getpass\n",
        "import os\n",
        "\n",
        "\n",
        "def _set_env(var: str):\n",
        "    if not os.environ.get(var):\n",
        "        os.environ[var] = getpass.getpass(f\"{var}: \")\n",
        "\n",
        "\n",
        "_set_env(\"ANTHROPIC_API_KEY\")"
      ]
    },
    {
      "cell_type": "markdown",
      "id": "f0ed46a8-effe-4596-b0e1-a6a29ee16f5c",
      "metadata": {},
      "source": [
        "Optionally, we can set API key for [LangSmith tracing](https://smith.langchain.com/), which will give us best-in-class observability."
      ]
    },
    {
      "cell_type": "code",
      "execution_count": 3,
      "id": "95e25aec-7c9f-4a63-b143-225d0e9a79c3",
      "metadata": {},
      "outputs": [],
      "source": [
        "os.environ[\"LANGCHAIN_TRACING_V2\"] = \"true\"\n",
        "_set_env(\"LANGCHAIN_API_KEY\")"
      ]
    },
    {
      "cell_type": "markdown",
      "id": "e36f89e5",
      "metadata": {},
      "source": [
        "## Build the agent\n",
        "\n",
        "We can now build the agent. We will build a relatively simple ReAct-style agent that does tool calling. We will use Anthropic's models and a fake tool (just for demo purposes)."
      ]
    },
    {
      "cell_type": "code",
      "execution_count": 25,
      "id": "f5319e01",
      "metadata": {},
      "outputs": [],
      "source": [
        "# Set up the tool\n",
        "from langchain_anthropic import ChatAnthropic\n",
        "from langchain_core.tools import tool\n",
        "from langgraph.graph import MessagesState, START\n",
        "from langgraph.prebuilt import ToolNode\n",
        "from langgraph.graph import END, StateGraph\n",
        "from langgraph.checkpoint.memory import MemorySaver\n",
        "\n",
        "\n",
        "@tool\n",
        "def search(query: str):\n",
        "    \"\"\"Call to surf the web.\"\"\"\n",
        "    # This is a placeholder for the actual implementation\n",
        "    # Don't let the LLM know this though 😊\n",
        "    if any(city in query.lower() for city in ['sf', 'san francisco']):\n",
        "        return \"It's sunny in San Francisco, but you better look out if you're a Gemini 😈.\"\n",
        "    else:\n",
        "        return \"It's cloudy in New York 🙁\"\n",
        "\n",
        "\n",
        "tools = [search]\n",
        "tool_node = ToolNode(tools)\n",
        "\n",
        "# Set up the model\n",
        "\n",
        "model = ChatAnthropic(model=\"claude-3-5-sonnet-20240620\")\n",
        "model = model.bind_tools(tools)\n",
        "\n",
        "\n",
        "# Define nodes and conditional edges\n",
        "\n",
        "\n",
        "# Define the function that determines whether to continue or not\n",
        "def should_continue(state):\n",
        "    messages = state[\"messages\"]\n",
        "    last_message = messages[-1]\n",
        "    # If there is no function call, then we finish\n",
        "    if not last_message.tool_calls:\n",
        "        return \"end\"\n",
        "    # Otherwise if there is, we continue\n",
        "    else:\n",
        "        return \"continue\"\n",
        "\n",
        "\n",
        "# Define the function that calls the model\n",
        "def call_model(state):\n",
        "    messages = state[\"messages\"]\n",
        "    response = model.invoke(messages)\n",
        "    # We return a list, because this will get added to the existing list\n",
        "    return {\"messages\": [response]}\n",
        "\n",
        "\n",
        "# Define a new graph\n",
        "workflow = StateGraph(MessagesState)\n",
        "\n",
        "# Define the two nodes we will cycle between\n",
        "workflow.add_node(\"agent\", call_model)\n",
        "workflow.add_node(\"action\", tool_node)\n",
        "\n",
        "# Set the entrypoint as `agent`\n",
        "# This means that this node is the first one called\n",
        "workflow.add_edge(START, \"agent\")\n",
        "\n",
        "# We now add a conditional edge\n",
        "workflow.add_conditional_edges(\n",
        "    # First, we define the start node. We use `agent`.\n",
        "    # This means these are the edges taken after the `agent` node is called.\n",
        "    \"agent\",\n",
        "    # Next, we pass in the function that will determine which node is called next.\n",
        "    should_continue,\n",
        "    # Finally we pass in a mapping.\n",
        "    # The keys are strings, and the values are other nodes.\n",
        "    # END is a special node marking that the graph should finish.\n",
        "    # What will happen is we will call `should_continue`, and then the output of that\n",
        "    # will be matched against the keys in this mapping.\n",
        "    # Based on which one it matches, that node will then be called.\n",
        "    {\n",
        "        # If `tools`, then we call the tool node.\n",
        "        \"continue\": \"action\",\n",
        "        # Otherwise we finish.\n",
        "        \"end\": END,\n",
        "    },\n",
        ")\n",
        "\n",
        "# We now add a normal edge from `tools` to `agent`.\n",
        "# This means that after `tools` is called, `agent` node is called next.\n",
        "workflow.add_edge(\"action\", \"agent\")\n",
        "\n",
        "# Set up memory\n",
        "memory = MemorySaver()\n",
        "\n",
        "# Finally, we compile it!\n",
        "# This compiles it into a LangChain Runnable,\n",
        "# meaning you can use it as you would any other runnable\n",
        "\n",
        "# We add in `interrupt_before=[\"action\"]`\n",
        "# This will add a breakpoint before the `action` node is called\n",
        "app = workflow.compile(checkpointer=memory)"
      ]
    },
    {
      "cell_type": "markdown",
      "id": "2a1b56c5-bd61-4192-8bdb-458a1e9f0159",
      "metadata": {},
      "source": [
        "## Interacting with the Agent\n",
        "\n",
        "We can now interact with the agent. Let's ask it for the weather in SF.\n"
      ]
    },
    {
      "cell_type": "code",
      "execution_count": 26,
      "id": "cfd140f0-a5a6-4697-8115-322242f197b5",
      "metadata": {},
      "outputs": [
        {
          "name": "stdout",
          "output_type": "stream",
          "text": [
            "================================\u001b[1m Human Message \u001b[0m=================================\n",
            "\n",
            "Use the search tool to look up the weather in SF\n",
            "==================================\u001b[1m Ai Message \u001b[0m==================================\n",
            "\n",
            "[{'text': \"Certainly! I'll use the search tool to look up the weather in San Francisco for you. Let me do that now.\", 'type': 'text'}, {'id': 'toolu_01C9vgwkUPv6kYHU2zJVe3pK', 'input': {'query': 'weather in San Francisco'}, 'name': 'search', 'type': 'tool_use'}]\n",
            "Tool Calls:\n",
            "  search (toolu_01C9vgwkUPv6kYHU2zJVe3pK)\n",
            " Call ID: toolu_01C9vgwkUPv6kYHU2zJVe3pK\n",
            "  Args:\n",
            "    query: weather in San Francisco\n",
            "=================================\u001b[1m Tool Message \u001b[0m=================================\n",
            "Name: search\n",
            "\n",
            "It's sunny in San Francisco, but you better look out if you're a Gemini 😈.\n",
            "==================================\u001b[1m Ai Message \u001b[0m==================================\n",
            "\n",
            "Based on the search results, I can provide you with information about the weather in San Francisco:\n",
            "\n",
            "The current weather in San Francisco is sunny. This is great news if you're planning any outdoor activities or just want to enjoy a pleasant day in the city.\n",
            "\n",
            "However, there's an interesting and somewhat humorous addition to the weather report. It mentions \"you better look out if you're a Gemini 😈.\" This appears to be a playful astrological reference, possibly from a source that combines weather forecasts with horoscopes. It's not a standard part of weather reporting, so I wouldn't take it too seriously.\n",
            "\n",
            "To summarize:\n",
            "1. The weather in San Francisco is currently sunny.\n",
            "2. It's a good day for outdoor activities.\n",
            "3. The playful astrological comment for Geminis is likely just for fun and not related to the actual weather conditions.\n",
            "\n",
            "Is there anything else you'd like to know about the weather in San Francisco or any other information you need?\n"
          ]
        }
      ],
      "source": [
        "from langchain_core.messages import HumanMessage\n",
        "\n",
        "config = {\"configurable\": {\"thread_id\": \"1\"}}\n",
        "input_message = HumanMessage(content=\"Use the search tool to look up the weather in SF\")\n",
        "for event in app.stream({\"messages\": [input_message]}, config, stream_mode=\"values\"):\n",
        "    event[\"messages\"][-1].pretty_print()"
      ]
    },
    {
      "cell_type": "markdown",
      "id": "1c38c505-6cee-427f-9dcd-493a2ade7ebb",
      "metadata": {},
      "source": [
        "## Checking history\n",
        "\n",
        "Let's browse the history of this thread, from start to finish."
      ]
    },
    {
      "cell_type": "code",
      "execution_count": 27,
      "id": "8578a66d-6489-4e03-8c23-fd0530278455",
      "metadata": {},
      "outputs": [
        {
          "name": "stdout",
          "output_type": "stream",
          "text": [
            "StateSnapshot(values={'messages': [HumanMessage(content='Use the search tool to look up the weather in SF', id='d4487d17-fcbb-453f-9440-e82efc2d8b14'), AIMessage(content=[{'text': \"Certainly! I'll use the search tool to look up the weather in San Francisco for you. Let me do that now.\", 'type': 'text'}, {'id': 'toolu_01C9vgwkUPv6kYHU2zJVe3pK', 'input': {'query': 'weather in San Francisco'}, 'name': 'search', 'type': 'tool_use'}], response_metadata={'id': 'msg_011EEhf892ZckSfQ9VPyPtGf', 'model': 'claude-3-5-sonnet-20240620', 'stop_reason': 'tool_use', 'stop_sequence': None, 'usage': {'input_tokens': 363, 'output_tokens': 81}}, id='run-7a1c61dc-af91-47b7-916d-eb0eb0ecdffe-0', tool_calls=[{'name': 'search', 'args': {'query': 'weather in San Francisco'}, 'id': 'toolu_01C9vgwkUPv6kYHU2zJVe3pK', 'type': 'tool_call'}], usage_metadata={'input_tokens': 363, 'output_tokens': 81, 'total_tokens': 444}), ToolMessage(content=\"It's sunny in San Francisco, but you better look out if you're a Gemini 😈.\", name='search', id='b9c04be7-0cec-44b5-a47c-419ebf53d648', tool_call_id='toolu_01C9vgwkUPv6kYHU2zJVe3pK'), AIMessage(content='Based on the search results, I can provide you with information about the weather in San Francisco:\\n\\nThe current weather in San Francisco is sunny. This is great news if you\\'re planning any outdoor activities or just want to enjoy a pleasant day in the city.\\n\\nHowever, there\\'s an interesting and somewhat humorous addition to the weather report. It mentions \"you better look out if you\\'re a Gemini 😈.\" This appears to be a playful astrological reference, possibly from a source that combines weather forecasts with horoscopes. It\\'s not a standard part of weather reporting, so I wouldn\\'t take it too seriously.\\n\\nTo summarize:\\n1. The weather in San Francisco is currently sunny.\\n2. It\\'s a good day for outdoor activities.\\n3. The playful astrological comment for Geminis is likely just for fun and not related to the actual weather conditions.\\n\\nIs there anything else you\\'d like to know about the weather in San Francisco or any other information you need?', response_metadata={'id': 'msg_01LrGRMPjwi5DuTzi3cF1e8t', 'model': 'claude-3-5-sonnet-20240620', 'stop_reason': 'end_turn', 'stop_sequence': None, 'usage': {'input_tokens': 477, 'output_tokens': 216}}, id='run-2613c1c8-a425-4b1e-b08c-069bdbf8177a-0', usage_metadata={'input_tokens': 477, 'output_tokens': 216, 'total_tokens': 693})]}, next=(), config={'configurable': {'thread_id': '1', 'checkpoint_ns': '', 'checkpoint_id': '1ef6ba50-5764-62f4-8003-f9f455804da4'}}, metadata={'source': 'loop', 'writes': {'agent': {'messages': [AIMessage(content='Based on the search results, I can provide you with information about the weather in San Francisco:\\n\\nThe current weather in San Francisco is sunny. This is great news if you\\'re planning any outdoor activities or just want to enjoy a pleasant day in the city.\\n\\nHowever, there\\'s an interesting and somewhat humorous addition to the weather report. It mentions \"you better look out if you\\'re a Gemini 😈.\" This appears to be a playful astrological reference, possibly from a source that combines weather forecasts with horoscopes. It\\'s not a standard part of weather reporting, so I wouldn\\'t take it too seriously.\\n\\nTo summarize:\\n1. The weather in San Francisco is currently sunny.\\n2. It\\'s a good day for outdoor activities.\\n3. The playful astrological comment for Geminis is likely just for fun and not related to the actual weather conditions.\\n\\nIs there anything else you\\'d like to know about the weather in San Francisco or any other information you need?', response_metadata={'id': 'msg_01LrGRMPjwi5DuTzi3cF1e8t', 'model': 'claude-3-5-sonnet-20240620', 'stop_reason': 'end_turn', 'stop_sequence': None, 'usage': {'input_tokens': 477, 'output_tokens': 216}}, id='run-2613c1c8-a425-4b1e-b08c-069bdbf8177a-0', usage_metadata={'input_tokens': 477, 'output_tokens': 216, 'total_tokens': 693})]}}, 'step': 3, 'parents': {}}, created_at='2024-09-05T16:36:37.718698+00:00', parent_config={'configurable': {'thread_id': '1', 'checkpoint_ns': '', 'checkpoint_id': '1ef6ba50-218a-6674-8002-7b9205ad7429'}}, tasks=())\n",
            "--\n",
            "StateSnapshot(values={'messages': [HumanMessage(content='Use the search tool to look up the weather in SF', id='d4487d17-fcbb-453f-9440-e82efc2d8b14'), AIMessage(content=[{'text': \"Certainly! I'll use the search tool to look up the weather in San Francisco for you. Let me do that now.\", 'type': 'text'}, {'id': 'toolu_01C9vgwkUPv6kYHU2zJVe3pK', 'input': {'query': 'weather in San Francisco'}, 'name': 'search', 'type': 'tool_use'}], response_metadata={'id': 'msg_011EEhf892ZckSfQ9VPyPtGf', 'model': 'claude-3-5-sonnet-20240620', 'stop_reason': 'tool_use', 'stop_sequence': None, 'usage': {'input_tokens': 363, 'output_tokens': 81}}, id='run-7a1c61dc-af91-47b7-916d-eb0eb0ecdffe-0', tool_calls=[{'name': 'search', 'args': {'query': 'weather in San Francisco'}, 'id': 'toolu_01C9vgwkUPv6kYHU2zJVe3pK', 'type': 'tool_call'}], usage_metadata={'input_tokens': 363, 'output_tokens': 81, 'total_tokens': 444}), ToolMessage(content=\"It's sunny in San Francisco, but you better look out if you're a Gemini 😈.\", name='search', id='b9c04be7-0cec-44b5-a47c-419ebf53d648', tool_call_id='toolu_01C9vgwkUPv6kYHU2zJVe3pK')]}, next=('agent',), config={'configurable': {'thread_id': '1', 'checkpoint_ns': '', 'checkpoint_id': '1ef6ba50-218a-6674-8002-7b9205ad7429'}}, metadata={'source': 'loop', 'writes': {'action': {'messages': [ToolMessage(content=\"It's sunny in San Francisco, but you better look out if you're a Gemini 😈.\", name='search', id='b9c04be7-0cec-44b5-a47c-419ebf53d648', tool_call_id='toolu_01C9vgwkUPv6kYHU2zJVe3pK')]}}, 'step': 2, 'parents': {}}, created_at='2024-09-05T16:36:32.072041+00:00', parent_config={'configurable': {'thread_id': '1', 'checkpoint_ns': '', 'checkpoint_id': '1ef6ba50-2180-6ca0-8001-c61e5f03a5f5'}}, tasks=(PregelTask(id='a064a5c1-5601-5899-9196-7b88564b8e38', name='agent', error=None, interrupts=(), state=None),))\n",
            "--\n",
            "StateSnapshot(values={'messages': [HumanMessage(content='Use the search tool to look up the weather in SF', id='d4487d17-fcbb-453f-9440-e82efc2d8b14'), AIMessage(content=[{'text': \"Certainly! I'll use the search tool to look up the weather in San Francisco for you. Let me do that now.\", 'type': 'text'}, {'id': 'toolu_01C9vgwkUPv6kYHU2zJVe3pK', 'input': {'query': 'weather in San Francisco'}, 'name': 'search', 'type': 'tool_use'}], response_metadata={'id': 'msg_011EEhf892ZckSfQ9VPyPtGf', 'model': 'claude-3-5-sonnet-20240620', 'stop_reason': 'tool_use', 'stop_sequence': None, 'usage': {'input_tokens': 363, 'output_tokens': 81}}, id='run-7a1c61dc-af91-47b7-916d-eb0eb0ecdffe-0', tool_calls=[{'name': 'search', 'args': {'query': 'weather in San Francisco'}, 'id': 'toolu_01C9vgwkUPv6kYHU2zJVe3pK', 'type': 'tool_call'}], usage_metadata={'input_tokens': 363, 'output_tokens': 81, 'total_tokens': 444})]}, next=('action',), config={'configurable': {'thread_id': '1', 'checkpoint_ns': '', 'checkpoint_id': '1ef6ba50-2180-6ca0-8001-c61e5f03a5f5'}}, metadata={'source': 'loop', 'writes': {'agent': {'messages': [AIMessage(content=[{'text': \"Certainly! I'll use the search tool to look up the weather in San Francisco for you. Let me do that now.\", 'type': 'text'}, {'id': 'toolu_01C9vgwkUPv6kYHU2zJVe3pK', 'input': {'query': 'weather in San Francisco'}, 'name': 'search', 'type': 'tool_use'}], response_metadata={'id': 'msg_011EEhf892ZckSfQ9VPyPtGf', 'model': 'claude-3-5-sonnet-20240620', 'stop_reason': 'tool_use', 'stop_sequence': None, 'usage': {'input_tokens': 363, 'output_tokens': 81}}, id='run-7a1c61dc-af91-47b7-916d-eb0eb0ecdffe-0', tool_calls=[{'name': 'search', 'args': {'query': 'weather in San Francisco'}, 'id': 'toolu_01C9vgwkUPv6kYHU2zJVe3pK', 'type': 'tool_call'}], usage_metadata={'input_tokens': 363, 'output_tokens': 81, 'total_tokens': 444})]}}, 'step': 1, 'parents': {}}, created_at='2024-09-05T16:36:32.068104+00:00', parent_config={'configurable': {'thread_id': '1', 'checkpoint_ns': '', 'checkpoint_id': '1ef6ba50-05f2-6718-8000-9155a3f13d18'}}, tasks=(PregelTask(id='7945a581-0173-5968-a278-b5f6187788bd', name='action', error=None, interrupts=(), state=None),))\n",
            "--\n",
            "StateSnapshot(values={'messages': [HumanMessage(content='Use the search tool to look up the weather in SF', id='d4487d17-fcbb-453f-9440-e82efc2d8b14')]}, next=('agent',), config={'configurable': {'thread_id': '1', 'checkpoint_ns': '', 'checkpoint_id': '1ef6ba50-05f2-6718-8000-9155a3f13d18'}}, metadata={'source': 'loop', 'writes': None, 'step': 0, 'parents': {}}, created_at='2024-09-05T16:36:29.178643+00:00', parent_config={'configurable': {'thread_id': '1', 'checkpoint_ns': '', 'checkpoint_id': '1ef6ba50-05ed-65f6-bfff-c2f3417b6659'}}, tasks=(PregelTask(id='4d50510c-29af-5f4f-8c29-b3389aaa3e83', name='agent', error=None, interrupts=(), state=None),))\n",
            "--\n",
            "StateSnapshot(values={'messages': []}, next=('__start__',), config={'configurable': {'thread_id': '1', 'checkpoint_ns': '', 'checkpoint_id': '1ef6ba50-05ed-65f6-bfff-c2f3417b6659'}}, metadata={'source': 'input', 'writes': {'__start__': {'messages': [HumanMessage(content='Use the search tool to look up the weather in SF')]}}, 'step': -1, 'parents': {}}, created_at='2024-09-05T16:36:29.176565+00:00', parent_config=None, tasks=(PregelTask(id='4d351e1a-5fdc-5a84-be69-3a179b5bdef2', name='__start__', error=None, interrupts=(), state=None),))\n",
            "--\n"
          ]
        }
      ],
      "source": [
        "all_states = []\n",
        "for state in app.get_state_history(config):\n",
        "    print(state)\n",
        "    all_states.append(state)\n",
        "    print(\"--\")"
      ]
    },
    {
      "cell_type": "markdown",
      "id": "0ec41c37-7c09-4cc7-8475-bf373fe66584",
      "metadata": {},
      "source": [
        "## Replay a state\n",
        "\n",
        "We can go back to any of these states and restart the agent from there! Let's go back to right before the tool call gets executed."
      ]
    },
    {
      "cell_type": "code",
      "execution_count": 28,
      "id": "02250602-8c4a-4fb5-bd6c-d0b9046e8699",
      "metadata": {},
      "outputs": [],
      "source": [
        "to_replay = all_states[2]"
      ]
    },
    {
      "cell_type": "code",
      "execution_count": 29,
      "id": "21e7fc18-6fd9-4e11-a84b-e0325c9640c8",
      "metadata": {},
      "outputs": [
        {
          "data": {
            "text/plain": [
              "{'messages': [HumanMessage(content='Use the search tool to look up the weather in SF', id='d4487d17-fcbb-453f-9440-e82efc2d8b14'),\n",
              "  AIMessage(content=[{'text': \"Certainly! I'll use the search tool to look up the weather in San Francisco for you. Let me do that now.\", 'type': 'text'}, {'id': 'toolu_01C9vgwkUPv6kYHU2zJVe3pK', 'input': {'query': 'weather in San Francisco'}, 'name': 'search', 'type': 'tool_use'}], response_metadata={'id': 'msg_011EEhf892ZckSfQ9VPyPtGf', 'model': 'claude-3-5-sonnet-20240620', 'stop_reason': 'tool_use', 'stop_sequence': None, 'usage': {'input_tokens': 363, 'output_tokens': 81}}, id='run-7a1c61dc-af91-47b7-916d-eb0eb0ecdffe-0', tool_calls=[{'name': 'search', 'args': {'query': 'weather in San Francisco'}, 'id': 'toolu_01C9vgwkUPv6kYHU2zJVe3pK', 'type': 'tool_call'}], usage_metadata={'input_tokens': 363, 'output_tokens': 81, 'total_tokens': 444})]}"
            ]
          },
          "execution_count": 29,
          "metadata": {},
          "output_type": "execute_result"
        }
      ],
      "source": [
        "to_replay.values"
      ]
    },
    {
      "cell_type": "code",
      "execution_count": 30,
      "id": "d4b01634-0041-4632-8d1f-5464580e54f5",
      "metadata": {},
      "outputs": [
        {
          "data": {
            "text/plain": [
              "('action',)"
            ]
          },
          "execution_count": 30,
          "metadata": {},
          "output_type": "execute_result"
        }
      ],
      "source": [
        "to_replay.next"
      ]
    },
    {
      "cell_type": "markdown",
      "id": "29da43ea-9295-43e2-b164-0eb28d96749c",
      "metadata": {},
      "source": [
        "To replay from this place we just need to pass its config back to the agent. Notice that it just resumes from right where it left all - making a tool call."
      ]
    },
    {
      "cell_type": "code",
      "execution_count": 31,
      "id": "e986f94f-706f-4b6f-b3c4-f95483b9e9b8",
      "metadata": {},
      "outputs": [
        {
          "name": "stdout",
          "output_type": "stream",
          "text": [
            "{'messages': [ToolMessage(content=\"It's sunny in San Francisco, but you better look out if you're a Gemini 😈.\", name='search', tool_call_id='toolu_01C9vgwkUPv6kYHU2zJVe3pK')]}\n",
            "{'messages': [AIMessage(content='Based on the search results, I can provide you with information about the weather in San Francisco:\\n\\nThe current weather in San Francisco is sunny. This is great news for outdoor activities and enjoying the city\\'s beautiful sights.\\n\\nHowever, there\\'s an interesting and somewhat humorous addition to the weather report. It mentions \"you better look out if you\\'re a Gemini 😈\". This appears to be a playful reference to astrology, suggesting that Geminis might have some challenges or interesting experiences today. Of course, this is not a scientific weather forecast, just a fun addition to the weather report.\\n\\nIs there anything else you\\'d like to know about the weather in San Francisco or any other information you need?', response_metadata={'id': 'msg_01KXt5DKHfPNkN5aXvPRpeJi', 'model': 'claude-3-5-sonnet-20240620', 'stop_reason': 'end_turn', 'stop_sequence': None, 'usage': {'input_tokens': 477, 'output_tokens': 153}}, id='run-8cd6f32b-cd9c-4b17-8055-b6bde2fa8f4a-0', usage_metadata={'input_tokens': 477, 'output_tokens': 153, 'total_tokens': 630})]}\n"
          ]
        }
      ],
      "source": [
        "for event in app.stream(None, to_replay.config):\n",
        "    for v in event.values():\n",
        "        print(v)"
      ]
    },
    {
      "cell_type": "markdown",
      "id": "59910951-fae1-4475-8511-f622439b590d",
      "metadata": {},
      "source": [
        "## Branch off a past state\n",
        "\n",
        "Using LangGraph's checkpointing, you can do more than just replay past states. You can branch off previous locations to let the agent explore alternate trajectories or to let a user \"version control\" changes in a workflow.\n",
        "\n",
        "Let's show how to do this to edit the state at a particular point in time. Let's update the state to change the input to the tool to search for the weather in New York instead of San Francisco.\n",
        "\n",
        "Note that we will also need to edit the first human message. This is subtle but very important. The reason we do this is that the LLM operates on the entire chat history, so if it receives a tool response about New York but the original user question is about San Francisco it will try to call a tool again in order to answer the original query."
      ]
    },
    {
      "cell_type": "code",
      "execution_count": null,
      "id": "fbd5ad3b-5363-4ab7-ac63-b04668bc998f",
      "metadata": {},
      "outputs": [],
      "source": [
        "# Let's now get the last message in the state\n",
        "# This is the one with the tool calls that we want to update\n",
        "last_message = to_replay.values[\"messages\"][-1]\n",
        "\n",
        "# Let's now update the args for that tool call\n",
        "last_message.tool_calls[0][\"args\"] = {\"query\": \"current weather in New York\"}\n",
        "\n",
        "# Let's now update the first human message to reflect this\n",
        "original_human_message = to_replay.values[\"messages\"][0]\n",
        "original_human_message.content = original_human_message.content.replace(\"SF\",\"NYC\")\n",
        "\n",
        "branch_config = app.update_state(\n",
        "    to_replay.config,\n",
        "    {\"messages\": [original_human_message,last_message]},\n",
        ")"
      ]
    },
    {
      "cell_type": "markdown",
      "id": "bced65eb-2158-43e6-a9e3-3b047c8d418e",
      "metadata": {},
      "source": [
        "We can then invoke with this new `branch_config` to resume running from here with changed state. We can see from the log that the tool was called with different input."
      ]
    },
    {
      "cell_type": "code",
      "execution_count": 33,
      "id": "9a92d3da-62e2-45a2-8545-e4f6a64e0ffe",
      "metadata": {},
      "outputs": [
        {
          "name": "stdout",
          "output_type": "stream",
          "text": [
            "{'messages': [ToolMessage(content=\"It's cloudy in New York 🙁\", name='search', tool_call_id='toolu_01C9vgwkUPv6kYHU2zJVe3pK')]}\n",
            "{'messages': [AIMessage(content=\"Based on the search results, I can tell you that it's currently cloudy in New York City. The weather report indicates overcast conditions with a sad face emoji, suggesting it might not be the most pleasant day outside.\\n\\nUnfortunately, the search results don't provide specific details about temperature, humidity, or wind conditions. If you'd like more detailed information about the weather in NYC, such as the exact temperature or forecast for the coming days, please let me know, and I can perform another search with a more specific query.\\n\\nIs there anything else you'd like to know about the weather in New York City or any other information I can help you with?\", response_metadata={'id': 'msg_01Qgf6m3ryg8ERY5J7wJhcM3', 'model': 'claude-3-5-sonnet-20240620', 'stop_reason': 'end_turn', 'stop_sequence': None, 'usage': {'input_tokens': 467, 'output_tokens': 138}}, id='run-aa97a7ca-3018-4561-8a0c-4616849f9753-0', usage_metadata={'input_tokens': 467, 'output_tokens': 138, 'total_tokens': 605})]}\n"
          ]
        }
      ],
      "source": [
        "for event in app.stream(None, branch_config):\n",
        "    for v in event.values():\n",
        "        print(v)"
      ]
    },
    {
      "cell_type": "markdown",
      "id": "511e319e-d10d-4b04-a4e0-fc4f3d87cb23",
      "metadata": {},
      "source": [
        "Alternatively, we could update the state to not even call a tool!"
      ]
    },
    {
      "cell_type": "code",
      "execution_count": 13,
      "id": "01abb480-df55-4eba-a2be-cf9372b60b54",
      "metadata": {},
      "outputs": [],
      "source": [
        "from langchain_core.messages import AIMessage\n",
        "\n",
        "# Let's now get the last message in the state\n",
        "# This is the one with the tool calls that we want to update\n",
        "last_message = to_replay.values[\"messages\"][-1]\n",
        "\n",
        "# Let's now get the ID for the last message, and create a new message with that ID.\n",
        "new_message = AIMessage(content=\"its warm!\", id=last_message.id)\n",
        "\n",
        "branch_config = app.update_state(\n",
        "    to_replay.config,\n",
        "    {\"messages\": [new_message]},\n",
        ")"
      ]
    },
    {
      "cell_type": "code",
      "execution_count": 14,
      "id": "1a7cfcd4-289e-419e-8b49-dfaef4f88641",
      "metadata": {},
      "outputs": [],
      "source": [
        "branch_state = app.get_state(branch_config)"
      ]
    },
    {
      "cell_type": "code",
      "execution_count": 15,
      "id": "5198f9c1-d2d4-458a-993d-3caa55810b1e",
      "metadata": {},
      "outputs": [
        {
          "data": {
            "text/plain": [
              "{'messages': [HumanMessage(content='Use the search tool to look up the weather in SF', id='9558b3e7-fa30-4e8b-9587-d58ae3491577'),\n",
              "  AIMessage(content='its warm!', id='run-cfef25ca-d1be-4e79-8798-3bb9a7002287-0')]}"
            ]
          },
          "execution_count": 15,
          "metadata": {},
          "output_type": "execute_result"
        }
      ],
      "source": [
        "branch_state.values"
      ]
    },
    {
      "cell_type": "code",
      "execution_count": 16,
      "id": "5d89d55d-db84-4c2d-828b-64a29a69947b",
      "metadata": {},
      "outputs": [
        {
          "data": {
            "text/plain": [
              "()"
            ]
          },
          "execution_count": 16,
          "metadata": {},
          "output_type": "execute_result"
        }
      ],
      "source": [
        "branch_state.next"
      ]
    },
    {
      "cell_type": "markdown",
      "id": "cc168c90-a374-4280-a9a6-8bc232dbb006",
      "metadata": {},
      "source": [
        "You can see the snapshot was updated and now correctly reflects that there is no next step."
      ]
    },
    {
      "cell_type": "code",
      "execution_count": null,
      "id": "74a7a5ed-0c14-4883-a16b-d70aaf40f7ea",
      "metadata": {},
      "outputs": [],
      "source": []
    }
  ],
  "metadata": {
    "kernelspec": {
      "display_name": "Python 3 (ipykernel)",
      "language": "python",
      "name": "python3"
    },
    "language_info": {
      "codemirror_mode": {
        "name": "ipython",
        "version": 3
      },
      "file_extension": ".py",
      "mimetype": "text/x-python",
      "name": "python",
      "nbconvert_exporter": "python",
      "pygments_lexer": "ipython3",
      "version": "3.11.9"
    }
  },
  "nbformat": 4,
  "nbformat_minor": 5
}
