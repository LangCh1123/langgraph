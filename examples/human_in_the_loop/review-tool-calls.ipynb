{
 "cells": [
  {
   "attachments": {},
   "cell_type": "markdown",
   "id": "51466c8d-8ce4-4b3d-be4e-18fdbeda5f53",
   "metadata": {},
   "source": [
    "# Review Tool Calls\n",
    "\n",
    "Human-in-the-loop (HIL) interactions are crucial for [agentic systems](https://langchain-ai.github.io/langgraph/concepts/agentic_concepts/#human-in-the-loop). A common pattern is to add some human in the loop step after certain tool calls. These tool calls often lead to either a function call or saving of some information. Examples include:\n",
    "\n",
    "- A tool call to execute SQL, which will then be run by the tool\n",
    "- A tool call to generate a summary, which will then be saved to the State of the graph\n",
    "\n",
    "Note that using tool calls is common **whether actually calling tools or not**.\n",
    "\n",
    "There are typically a few different interactions you may want to do here:\n",
    "\n",
    "1. Approve the tool call and continue\n",
    "2. Modify the tool call manually and then continue\n",
    "3. Give natural language feedback, and then pass that back to the agent instead of continuing\n",
    "\n",
    "We can implement this in LangGraph using a [breakpoint](https://langchain-ai.github.io/langgraph/how-tos/human_in_the_loop/breakpoints/): breakpoints allow us to interrupt graph execution before a specific step. At this breakpoint, we can manually update the graph state taking one of the three options above"
   ]
  },
  {
   "cell_type": "markdown",
   "id": "7cbd446a-808f-4394-be92-d45ab818953c",
   "metadata": {},
   "source": [
    "## Setup\n",
    "\n",
    "First we need to install the packages required"
   ]
  },
  {
   "cell_type": "code",
   "execution_count": 1,
   "id": "af4ce0ba-7596-4e5f-8bf8-0b0bd6e62833",
   "metadata": {},
   "outputs": [],
   "source": [
    "%%capture --no-stderr\n",
    "%pip install --quiet -U langgraph langchain_anthropic"
   ]
  },
  {
   "cell_type": "markdown",
   "id": "0abe11f4-62ed-4dc4-8875-3db21e260d1d",
   "metadata": {},
   "source": [
    "Next, we need to set API keys for Anthropic (the LLM we will use)"
   ]
  },
  {
   "cell_type": "code",
   "execution_count": 2,
   "id": "c903a1cf-2977-4e2d-ad7d-8b3946821d89",
   "metadata": {},
   "outputs": [],
   "source": [
    "import getpass\n",
    "import os\n",
    "\n",
    "\n",
    "def _set_env(var: str):\n",
    "    if not os.environ.get(var):\n",
    "        os.environ[var] = getpass.getpass(f\"{var}: \")\n",
    "\n",
    "\n",
    "_set_env(\"ANTHROPIC_API_KEY\")"
   ]
  },
  {
   "cell_type": "markdown",
   "id": "f0ed46a8-effe-4596-b0e1-a6a29ee16f5c",
   "metadata": {},
   "source": [
    "Optionally, we can set API key for [LangSmith tracing](https://smith.langchain.com/), which will give us best-in-class observability."
   ]
  },
  {
   "cell_type": "code",
   "execution_count": 3,
   "id": "95e25aec-7c9f-4a63-b143-225d0e9a79c3",
   "metadata": {},
   "outputs": [],
   "source": [
    "os.environ[\"LANGCHAIN_TRACING_V2\"] = \"true\"\n",
    "_set_env(\"LANGCHAIN_API_KEY\")"
   ]
  },
  {
   "cell_type": "markdown",
   "id": "035e567c-db5c-4085-ba4e-5b3814561c21",
   "metadata": {},
   "source": [
    "## Simple Usage\n",
    "\n",
    "Let's set up a very simple graph that facilitates this.\n",
    "First, we will have an LLM call that decides what action to take.\n",
    "Then we go to a human node. This node actually doesn't do anything - the idea is that we interrupt before this node and then apply any updates to the state.\n",
    "After that, we check the state and either route back to the LLM or to the correct tool.\n",
    "\n",
    "Let's see this in action!"
   ]
  },
  {
   "cell_type": "code",
   "execution_count": 4,
   "id": "85e452f8-f33a-4ead-bb4d-7386cdba8edc",
   "metadata": {},
   "outputs": [
    {
     "data": {
      "image/jpeg": "[encoded data removed]",
      "text/plain": [
       "<IPython.core.display.Image object>"
      ]
     },
     "metadata": {},
     "output_type": "display_data"
    }
   ],
   "source": [
    "from typing import TypedDict, Literal\n",
    "from langgraph.graph import StateGraph, START, END, MessagesState\n",
    "from langgraph.checkpoint.memory import MemorySaver\n",
    "from langchain_anthropic import ChatAnthropic\n",
    "from langchain_core.tools import tool\n",
    "from langchain_core.messages import AIMessage\n",
    "from IPython.display import Image, display\n",
    "\n",
    "\n",
    "@tool\n",
    "def weather_search(city: str):\n",
    "    \"\"\"Search for the weather\"\"\"\n",
    "    print(\"----\")\n",
    "    print(f\"Searching for: {city}\")\n",
    "    print(\"----\")\n",
    "    return \"Sunny!\"\n",
    "\n",
    "model = ChatAnthropic(model_name=\"claude-3-5-sonnet-20240620\").bind_tools([weather_search])\n",
    "\n",
    "class State(MessagesState):\n",
    "    \"\"\"Simple state.\"\"\"\n",
    "\n",
    "def call_llm(state):\n",
    "    return {\n",
    "        \"messages\": [model.invoke(state['messages'])]\n",
    "    }\n",
    "\n",
    "\n",
    "def human_review_node(state):\n",
    "    pass\n",
    "\n",
    "\n",
    "def run_tool(state):\n",
    "    new_messages = []\n",
    "    tools = {\"weather_search\": weather_search}\n",
    "    tool_calls = state['messages'][-1].tool_calls\n",
    "    for tool_call in tool_calls:\n",
    "        tool = tools[tool_call['name']]\n",
    "        result = tool.invoke(tool_call['args'])\n",
    "        new_messages.append({\n",
    "            \"role\": \"tool\",\n",
    "            \"name\": tool_call['name'],\n",
    "            \"content\": result,\n",
    "            \"tool_call_id\": tool_call['id']\n",
    "        })\n",
    "    return {\"messages\": new_messages}\n",
    "\n",
    "\n",
    "def route_after_llm(state) -> Literal[END, \"human_review_node\"]:\n",
    "    if len(state['messages'][-1].tool_calls) == 0:\n",
    "        return END\n",
    "    else:\n",
    "        return \"human_review_node\"\n",
    "\n",
    "\n",
    "def route_after_human(state) -> Literal[\"run_tool\", \"call_llm\"]:\n",
    "    if isinstance(state['messages'][-1], AIMessage):\n",
    "        return \"run_tool\"\n",
    "    else:\n",
    "        return \"call_llm\"\n",
    "\n",
    "\n",
    "builder = StateGraph(State)\n",
    "builder.add_node(call_llm)\n",
    "builder.add_node(run_tool)\n",
    "builder.add_node(human_review_node)\n",
    "builder.add_edge(START, \"call_llm\")\n",
    "builder.add_conditional_edges(\"call_llm\", route_after_llm)\n",
    "builder.add_conditional_edges(\"human_review_node\", route_after_human)\n",
    "builder.add_edge(\"run_tool\", \"call_llm\")\n",
    "\n",
    "# Set up memory\n",
    "memory = MemorySaver()\n",
    "\n",
    "# Add\n",
    "graph = builder.compile(checkpointer=memory, interrupt_before=[\"human_review_node\"])\n",
    "\n",
    "# View\n",
    "display(Image(graph.get_graph().draw_mermaid_png()))"
   ]
  },
  {
   "cell_type": "markdown",
   "id": "d246d39f-4b36-459b-bd54-bf363753e590",
   "metadata": {},
   "source": [
    "## Example with no review\n",
    "\n",
    "Let's look at an example when no review is required (because no tools are called)"
   ]
  },
  {
   "cell_type": "code",
   "execution_count": 5,
   "id": "1b3aa6fc-c7fb-4819-8d7f-ba6057cc4edf",
   "metadata": {},
   "outputs": [
    {
     "name": "stdout",
     "output_type": "stream",
     "text": [
      "{'messages': [HumanMessage(content='hi!', id='c7cc7625-6076-421b-8518-e73caa82dc9e')]}\n",
      "{'messages': [HumanMessage(content='hi!', id='c7cc7625-6076-421b-8518-e73caa82dc9e'), AIMessage(content=\"Hello! Welcome. How can I assist you today? Is there anything specific you'd like to know or discuss?\", response_metadata={'id': 'msg_01HS2orRyy3YorjUhwMBJRm3', 'model': 'claude-3-5-sonnet-20240620', 'stop_reason': 'end_turn', 'stop_sequence': None, 'usage': {'input_tokens': 355, 'output_tokens': 26}}, id='run-1c2f1fb1-06c1-418b-a582-ae43cbdea43b-0', usage_metadata={'input_tokens': 355, 'output_tokens': 26, 'total_tokens': 381})]}\n"
     ]
    }
   ],
   "source": [
    "# Input\n",
    "initial_input = {\"messages\": [{\"role\": \"user\", \"content\": \"hi!\"}]}\n",
    "\n",
    "# Thread\n",
    "thread = {\"configurable\": {\"thread_id\": \"1\"}}\n",
    "\n",
    "# Run the graph until the first interruption\n",
    "for event in graph.stream(initial_input, thread, stream_mode=\"values\"):\n",
    "    print(event)"
   ]
  },
  {
   "cell_type": "markdown",
   "id": "d59dc607-e70d-497b-aac9-78c847c27042",
   "metadata": {},
   "source": [
    "If we check the state, we can see that it is finished"
   ]
  },
  {
   "cell_type": "code",
   "execution_count": 6,
   "id": "213323cc-0320-4313-ab11-19042e28b495",
   "metadata": {},
   "outputs": [
    {
     "name": "stdout",
     "output_type": "stream",
     "text": [
      "Pending Executions!\n",
      "()\n"
     ]
    }
   ],
   "source": [
    "print(\"Pending Executions!\")\n",
    "print(graph.get_state(thread).next)"
   ]
  },
  {
   "cell_type": "markdown",
   "id": "5c1985f7-54f1-420f-a2b6-5e6154909966",
   "metadata": {},
   "source": [
    "## Example of approving tool\n",
    "\n",
    "Let's now look at what it looks like to approve a tool call"
   ]
  },
  {
   "cell_type": "code",
   "execution_count": 7,
   "id": "2561a38f-edb5-4b44-b2d7-6a7b70d2e6b7",
   "metadata": {},
   "outputs": [
    {
     "name": "stdout",
     "output_type": "stream",
     "text": [
      "{'messages': [HumanMessage(content='whats the weather in sf?', id='bcb80925-1012-43ab-9c22-b090a88f4a93')]}\n",
      "{'messages': [HumanMessage(content='whats the weather in sf?', id='bcb80925-1012-43ab-9c22-b090a88f4a93'), AIMessage(content=[{'text': \"Certainly! I can help you check the weather in San Francisco. To get this information, I'll use the weather search function. Let me do that for you right away.\", 'type': 'text'}, {'id': 'toolu_01L3eM8wPgKf59kJrD8AgY76', 'input': {'city': 'San Francisco'}, 'name': 'weather_search', 'type': 'tool_use'}], response_metadata={'id': 'msg_0169GG1jJwbcfnsU4j5dZZZM', 'model': 'claude-3-5-sonnet-20240620', 'stop_reason': 'tool_use', 'stop_sequence': None, 'usage': {'input_tokens': 360, 'output_tokens': 90}}, id='run-95710765-604b-4a0b-a8cf-d31d09ee9133-0', tool_calls=[{'name': 'weather_search', 'args': {'city': 'San Francisco'}, 'id': 'toolu_01L3eM8wPgKf59kJrD8AgY76', 'type': 'tool_call'}], usage_metadata={'input_tokens': 360, 'output_tokens': 90, 'total_tokens': 450})]}\n"
     ]
    }
   ],
   "source": [
    "# Input\n",
    "initial_input = {\"messages\": [{\"role\": \"user\", \"content\": \"whats the weather in sf?\"}]}\n",
    "\n",
    "# Thread\n",
    "thread = {\"configurable\": {\"thread_id\": \"2\"}}\n",
    "\n",
    "# Run the graph until the first interruption\n",
    "for event in graph.stream(initial_input, thread, stream_mode=\"values\"):\n",
    "    print(event)"
   ]
  },
  {
   "cell_type": "markdown",
   "id": "4ef6d51c-e2b6-4266-8de7-acf1a0b62a57",
   "metadata": {},
   "source": [
    "If we now check, we can see that it is waiting on human review"
   ]
  },
  {
   "cell_type": "code",
   "execution_count": 8,
   "id": "33d68f0f-d435-4dd1-8013-6a59186dc9f5",
   "metadata": {},
   "outputs": [
    {
     "name": "stdout",
     "output_type": "stream",
     "text": [
      "Pending Executions!\n",
      "('human_review_node',)\n"
     ]
    }
   ],
   "source": [
    "print(\"Pending Executions!\")\n",
    "print(graph.get_state(thread).next)"
   ]
  },
  {
   "cell_type": "markdown",
   "id": "14c99fdd-4204-4c2d-b1af-02f38ab6ad57",
   "metadata": {},
   "source": [
    "To approve the tool call, we can just continue the thread with no edits. To do this, we just create a new run with no inputs."
   ]
  },
  {
   "cell_type": "code",
   "execution_count": 9,
   "id": "f9a0d5d4-52ff-49e0-a6f4-41f9a0e844d8",
   "metadata": {},
   "outputs": [
    {
     "name": "stdout",
     "output_type": "stream",
     "text": [
      "----\n",
      "Searching for: San Francisco\n",
      "----\n",
      "{'messages': [HumanMessage(content='whats the weather in sf?', id='bcb80925-1012-43ab-9c22-b090a88f4a93'), AIMessage(content=[{'text': \"Certainly! I can help you check the weather in San Francisco. To get this information, I'll use the weather search function. Let me do that for you right away.\", 'type': 'text'}, {'id': 'toolu_01L3eM8wPgKf59kJrD8AgY76', 'input': {'city': 'San Francisco'}, 'name': 'weather_search', 'type': 'tool_use'}], response_metadata={'id': 'msg_0169GG1jJwbcfnsU4j5dZZZM', 'model': 'claude-3-5-sonnet-20240620', 'stop_reason': 'tool_use', 'stop_sequence': None, 'usage': {'input_tokens': 360, 'output_tokens': 90}}, id='run-95710765-604b-4a0b-a8cf-d31d09ee9133-0', tool_calls=[{'name': 'weather_search', 'args': {'city': 'San Francisco'}, 'id': 'toolu_01L3eM8wPgKf59kJrD8AgY76', 'type': 'tool_call'}], usage_metadata={'input_tokens': 360, 'output_tokens': 90, 'total_tokens': 450}), ToolMessage(content='Sunny!', name='weather_search', id='d95957de-cfd0-4399-ba15-964dcec47a8e', tool_call_id='toolu_01L3eM8wPgKf59kJrD8AgY76')]}\n",
      "{'messages': [HumanMessage(content='whats the weather in sf?', id='bcb80925-1012-43ab-9c22-b090a88f4a93'), AIMessage(content=[{'text': \"Certainly! I can help you check the weather in San Francisco. To get this information, I'll use the weather search function. Let me do that for you right away.\", 'type': 'text'}, {'id': 'toolu_01L3eM8wPgKf59kJrD8AgY76', 'input': {'city': 'San Francisco'}, 'name': 'weather_search', 'type': 'tool_use'}], response_metadata={'id': 'msg_0169GG1jJwbcfnsU4j5dZZZM', 'model': 'claude-3-5-sonnet-20240620', 'stop_reason': 'tool_use', 'stop_sequence': None, 'usage': {'input_tokens': 360, 'output_tokens': 90}}, id='run-95710765-604b-4a0b-a8cf-d31d09ee9133-0', tool_calls=[{'name': 'weather_search', 'args': {'city': 'San Francisco'}, 'id': 'toolu_01L3eM8wPgKf59kJrD8AgY76', 'type': 'tool_call'}], usage_metadata={'input_tokens': 360, 'output_tokens': 90, 'total_tokens': 450}), ToolMessage(content='Sunny!', name='weather_search', id='d95957de-cfd0-4399-ba15-964dcec47a8e', tool_call_id='toolu_01L3eM8wPgKf59kJrD8AgY76'), AIMessage(content=\"Based on the search results, the weather in San Francisco is sunny! It's a beautiful day in the city by the bay. Is there anything else you'd like to know about the weather or any other information I can help you with?\", response_metadata={'id': 'msg_01QF2mkLHS5DPVs72XzRjDpn', 'model': 'claude-3-5-sonnet-20240620', 'stop_reason': 'end_turn', 'stop_sequence': None, 'usage': {'input_tokens': 464, 'output_tokens': 52}}, id='run-9eecd15a-f5b2-4b0e-80de-03599fe22468-0', usage_metadata={'input_tokens': 464, 'output_tokens': 52, 'total_tokens': 516})]}\n"
     ]
    }
   ],
   "source": [
    "for event in graph.stream(None, thread, stream_mode=\"values\"):\n",
    "    print(event)"
   ]
  },
  {
   "cell_type": "markdown",
   "id": "8d30c4a7-b480-4ede-b2b4-8ec11de95e30",
   "metadata": {},
   "source": [
    "## Edit Tool Call\n",
    "\n",
    "Let's now say we want to edit the tool call. E.g. change some of the parameters (or even the tool called!) but then execute that tool."
   ]
  },
  {
   "cell_type": "code",
   "execution_count": 10,
   "id": "ec77831c-e6b8-4903-9146-e098a4b2fda1",
   "metadata": {},
   "outputs": [
    {
     "name": "stdout",
     "output_type": "stream",
     "text": [
      "{'messages': [HumanMessage(content='whats the weather in sf?', id='f5daa87a-a08d-4e85-9f88-d7365e35e563')]}\n",
      "{'messages': [HumanMessage(content='whats the weather in sf?', id='f5daa87a-a08d-4e85-9f88-d7365e35e563'), AIMessage(content=[{'text': \"Certainly! I can help you find out the weather in San Francisco. To get this information, I'll use the weather search tool. Let me fetch that for you.\", 'type': 'text'}, {'id': 'toolu_01KXBbM79TGZUixUpihGaiz2', 'input': {'city': 'San Francisco'}, 'name': 'weather_search', 'type': 'tool_use'}], response_metadata={'id': 'msg_0182nSFwVhkrCta3YBdeXdPN', 'model': 'claude-3-5-sonnet-20240620', 'stop_reason': 'tool_use', 'stop_sequence': None, 'usage': {'input_tokens': 360, 'output_tokens': 89}}, id='run-e7203734-c32a-40c8-a134-0b1da81f5820-0', tool_calls=[{'name': 'weather_search', 'args': {'city': 'San Francisco'}, 'id': 'toolu_01KXBbM79TGZUixUpihGaiz2', 'type': 'tool_call'}], usage_metadata={'input_tokens': 360, 'output_tokens': 89, 'total_tokens': 449})]}\n"
     ]
    }
   ],
   "source": [
    "# Input\n",
    "initial_input = {\"messages\": [{\"role\": \"user\", \"content\": \"whats the weather in sf?\"}]}\n",
    "\n",
    "# Thread\n",
    "thread = {\"configurable\": {\"thread_id\": \"5\"}}\n",
    "\n",
    "# Run the graph until the first interruption\n",
    "for event in graph.stream(initial_input, thread, stream_mode=\"values\"):\n",
    "    print(event)"
   ]
  },
  {
   "cell_type": "code",
   "execution_count": 11,
   "id": "edcffbd7-829b-4d0c-88bf-cd531bc0e6b2",
   "metadata": {},
   "outputs": [
    {
     "name": "stdout",
     "output_type": "stream",
     "text": [
      "Pending Executions!\n",
      "('human_review_node',)\n"
     ]
    }
   ],
   "source": [
    "print(\"Pending Executions!\")\n",
    "print(graph.get_state(thread).next)"
   ]
  },
  {
   "cell_type": "markdown",
   "id": "87358aca-9b8f-48c7-98d4-3d755f6b0104",
   "metadata": {},
   "source": [
    "To do this, we first need to update the state. We can do this by passing a message in with the **same** id of the message we want to overwrite. This will have the effect of **replacing** that old message. Note that this is only possible because of the **reducer** we are using that replaces messages with the same ID - read more about that [here](/concepts/low_level/#working-with-messages-in-graph-state)"
   ]
  },
  {
   "cell_type": "code",
   "execution_count": 12,
   "id": "df4a9900-d953-4465-b8af-bd2858cb63ea",
   "metadata": {},
   "outputs": [
    {
     "name": "stdout",
     "output_type": "stream",
     "text": [
      "Current State:\n",
      "{'messages': [HumanMessage(content='whats the weather in sf?', id='f5daa87a-a08d-4e85-9f88-d7365e35e563'), AIMessage(content=[{'text': \"Certainly! I can help you find out the weather in San Francisco. To get this information, I'll use the weather search tool. Let me fetch that for you.\", 'type': 'text'}, {'id': 'toolu_01KXBbM79TGZUixUpihGaiz2', 'input': {'city': 'San Francisco'}, 'name': 'weather_search', 'type': 'tool_use'}], response_metadata={'id': 'msg_0182nSFwVhkrCta3YBdeXdPN', 'model': 'claude-3-5-sonnet-20240620', 'stop_reason': 'tool_use', 'stop_sequence': None, 'usage': {'input_tokens': 360, 'output_tokens': 89}}, id='run-e7203734-c32a-40c8-a134-0b1da81f5820-0', tool_calls=[{'name': 'weather_search', 'args': {'city': 'San Francisco'}, 'id': 'toolu_01KXBbM79TGZUixUpihGaiz2', 'type': 'tool_call'}], usage_metadata={'input_tokens': 360, 'output_tokens': 89, 'total_tokens': 449})]}\n",
      "\n",
      "Current Tool Call ID:\n",
      "toolu_01KXBbM79TGZUixUpihGaiz2\n",
      "----\n",
      "Searching for: San Francisco, USA\n",
      "----\n",
      "{'messages': [HumanMessage(content='whats the weather in sf?', id='f5daa87a-a08d-4e85-9f88-d7365e35e563'), AIMessage(content=[{'text': \"Certainly! I can help you find out the weather in San Francisco. To get this information, I'll use the weather search tool. Let me fetch that for you.\", 'type': 'text'}, {'id': 'toolu_01KXBbM79TGZUixUpihGaiz2', 'input': {'city': 'San Francisco'}, 'name': 'weather_search', 'type': 'tool_use'}], id='run-e7203734-c32a-40c8-a134-0b1da81f5820-0', tool_calls=[{'name': 'weather_search', 'args': {'city': 'San Francisco, USA'}, 'id': 'toolu_01KXBbM79TGZUixUpihGaiz2', 'type': 'tool_call'}]), ToolMessage(content='Sunny!', name='weather_search', id='b98f8316-f236-4a2e-aef0-b052c03802b0', tool_call_id='toolu_01KXBbM79TGZUixUpihGaiz2')]}\n",
      "{'messages': [HumanMessage(content='whats the weather in sf?', id='f5daa87a-a08d-4e85-9f88-d7365e35e563'), AIMessage(content=[{'text': \"Certainly! I can help you find out the weather in San Francisco. To get this information, I'll use the weather search tool. Let me fetch that for you.\", 'type': 'text'}, {'id': 'toolu_01KXBbM79TGZUixUpihGaiz2', 'input': {'city': 'San Francisco'}, 'name': 'weather_search', 'type': 'tool_use'}], id='run-e7203734-c32a-40c8-a134-0b1da81f5820-0', tool_calls=[{'name': 'weather_search', 'args': {'city': 'San Francisco, USA'}, 'id': 'toolu_01KXBbM79TGZUixUpihGaiz2', 'type': 'tool_call'}]), ToolMessage(content='Sunny!', name='weather_search', id='b98f8316-f236-4a2e-aef0-b052c03802b0', tool_call_id='toolu_01KXBbM79TGZUixUpihGaiz2'), AIMessage(content=\"Based on the search results, the weather in San Francisco is sunny! That's great news for anyone in the city or planning to visit. Sunny weather in San Francisco is perfect for exploring the city's many outdoor attractions, such as Golden Gate Park, Fisherman's Wharf, or taking a stroll across the Golden Gate Bridge.\\n\\nIs there anything else you'd like to know about the weather in San Francisco or any other city?\", response_metadata={'id': 'msg_01Fp7bD9S1f9SYbs4EuUDPeV', 'model': 'claude-3-5-sonnet-20240620', 'stop_reason': 'end_turn', 'stop_sequence': None, 'usage': {'input_tokens': 465, 'output_tokens': 95}}, id='run-552f5f67-bfd5-4fe9-a8d0-3fa4695a290e-0', usage_metadata={'input_tokens': 465, 'output_tokens': 95, 'total_tokens': 560})]}\n"
     ]
    }
   ],
   "source": [
    "# To get the ID of the message we want to replace, we need to fetch the current state and find it there.\n",
    "state = graph.get_state(thread)\n",
    "print(\"Current State:\")\n",
    "print(state.values)\n",
    "print(\"\\nCurrent Tool Call ID:\")\n",
    "current_content = state.values['messages'][-1].content\n",
    "current_id = state.values['messages'][-1].id\n",
    "tool_call_id = state.values['messages'][-1].tool_calls[0]['id']\n",
    "print(tool_call_id)\n",
    "\n",
    "# We now need to construct a replacement tool call.\n",
    "# We will change the argument to be `San Francisco, USA`\n",
    "# Note that we could change any number of arguments or tool names - it just has to be a valid one\n",
    "new_message = {\n",
    "    \"role\": \"assistant\", \n",
    "    \"content\": current_content,\n",
    "    \"tool_calls\": [\n",
    "        {\n",
    "            \"id\": tool_call_id,\n",
    "            \"name\": \"weather_search\",\n",
    "            \"args\": {\"city\": \"San Francisco, USA\"}\n",
    "        }\n",
    "    ],\n",
    "    # This is important - this needs to be the same as the message you replacing!\n",
    "    # Otherwise, it will show up as a separate message\n",
    "    \"id\": current_id\n",
    "}\n",
    "graph.update_state(\n",
    "    # This is the config which represents this thread\n",
    "    thread, \n",
    "    # This is the updated value we want to push\n",
    "    {\"messages\": [new_message]}, \n",
    "    # We push this update acting as our human_review_node\n",
    "    as_node=\"human_review_node\"\n",
    ")\n",
    "\n",
    "# Let's now continue executing from here\n",
    "for event in graph.stream(None, thread, stream_mode=\"values\"):\n",
    "    print(event)"
   ]
  },
  {
   "cell_type": "markdown",
   "id": "e14acc96-3d50-44b1-8616-b8d9131e46c4",
   "metadata": {},
   "source": [
    "## Give feedback to a tool call\n",
    "\n",
    "Sometimes, you may not want to execute a tool call, but you also may not want to ask the user to manually modify the tool call. In that case it may be better to get natural language feedback from the user. You can then insert these feedback as a mock **RESULT** of the tool call.\n",
    "\n",
    "This will involve adding a new message - one representing the result of the tool call - to the state.\n",
    "\n",
    "Let's see this in action!"
   ]
  },
  {
   "cell_type": "code",
   "execution_count": 13,
   "id": "d57d5131-7912-4216-aa87-b7272507fa51",
   "metadata": {},
   "outputs": [
    {
     "name": "stdout",
     "output_type": "stream",
     "text": [
      "{'messages': [HumanMessage(content='whats the weather in sf?', id='7be328eb-28ec-4cf3-b3ff-230a060b0ed6')]}\n",
      "{'messages': [HumanMessage(content='whats the weather in sf?', id='7be328eb-28ec-4cf3-b3ff-230a060b0ed6'), AIMessage(content=[{'text': 'To get the weather information for San Francisco, I can use the weather_search function. Let me fetch that information for you.', 'type': 'text'}, {'id': 'toolu_01JNqyF542ebsXeaAinnUTKz', 'input': {'city': 'San Francisco'}, 'name': 'weather_search', 'type': 'tool_use'}], response_metadata={'id': 'msg_01T2CvhD5YaKqSAatvyZ1PfD', 'model': 'claude-3-5-sonnet-20240620', 'stop_reason': 'tool_use', 'stop_sequence': None, 'usage': {'input_tokens': 360, 'output_tokens': 81}}, id='run-0da499dd-e88b-4f5b-a597-5dd564611df0-0', tool_calls=[{'name': 'weather_search', 'args': {'city': 'San Francisco'}, 'id': 'toolu_01JNqyF542ebsXeaAinnUTKz', 'type': 'tool_call'}], usage_metadata={'input_tokens': 360, 'output_tokens': 81, 'total_tokens': 441})]}\n"
     ]
    }
   ],
   "source": [
    "# Input\n",
    "initial_input = {\"messages\": [{\"role\": \"user\", \"content\": \"whats the weather in sf?\"}]}\n",
    "\n",
    "# Thread\n",
    "thread = {\"configurable\": {\"thread_id\": \"6\"}}\n",
    "\n",
    "# Run the graph until the first interruption\n",
    "for event in graph.stream(initial_input, thread, stream_mode=\"values\"):\n",
    "    print(event)"
   ]
  },
  {
   "cell_type": "code",
   "execution_count": 14,
   "id": "e33ad664-0307-43c5-b85a-1e02eebceb5c",
   "metadata": {},
   "outputs": [
    {
     "name": "stdout",
     "output_type": "stream",
     "text": [
      "Pending Executions!\n",
      "('human_review_node',)\n"
     ]
    }
   ],
   "source": [
    "print(\"Pending Executions!\")\n",
    "print(graph.get_state(thread).next)"
   ]
  },
  {
   "cell_type": "markdown",
   "id": "483d9455-8625-4c6a-9b98-f731403b2ed3",
   "metadata": {},
   "source": [
    "To do this, we first need to update the state. We can do this by passing a message in with the same **tool call id** of the tool call we want to respond to. Note that this is a **different** ID from above."
   ]
  },
  {
   "cell_type": "code",
   "execution_count": 15,
   "id": "3f05f8b6-6128-4de5-8884-862fc93f1227",
   "metadata": {},
   "outputs": [
    {
     "name": "stdout",
     "output_type": "stream",
     "text": [
      "Current State:\n",
      "{'messages': [HumanMessage(content='whats the weather in sf?', id='7be328eb-28ec-4cf3-b3ff-230a060b0ed6'), AIMessage(content=[{'text': 'To get the weather information for San Francisco, I can use the weather_search function. Let me fetch that information for you.', 'type': 'text'}, {'id': 'toolu_01JNqyF542ebsXeaAinnUTKz', 'input': {'city': 'San Francisco'}, 'name': 'weather_search', 'type': 'tool_use'}], response_metadata={'id': 'msg_01T2CvhD5YaKqSAatvyZ1PfD', 'model': 'claude-3-5-sonnet-20240620', 'stop_reason': 'tool_use', 'stop_sequence': None, 'usage': {'input_tokens': 360, 'output_tokens': 81}}, id='run-0da499dd-e88b-4f5b-a597-5dd564611df0-0', tool_calls=[{'name': 'weather_search', 'args': {'city': 'San Francisco'}, 'id': 'toolu_01JNqyF542ebsXeaAinnUTKz', 'type': 'tool_call'}], usage_metadata={'input_tokens': 360, 'output_tokens': 81, 'total_tokens': 441})]}\n",
      "\n",
      "Current Tool Call ID:\n",
      "toolu_01JNqyF542ebsXeaAinnUTKz\n",
      "{'messages': [HumanMessage(content='whats the weather in sf?', id='7be328eb-28ec-4cf3-b3ff-230a060b0ed6'), AIMessage(content=[{'text': 'To get the weather information for San Francisco, I can use the weather_search function. Let me fetch that information for you.', 'type': 'text'}, {'id': 'toolu_01JNqyF542ebsXeaAinnUTKz', 'input': {'city': 'San Francisco'}, 'name': 'weather_search', 'type': 'tool_use'}], response_metadata={'id': 'msg_01T2CvhD5YaKqSAatvyZ1PfD', 'model': 'claude-3-5-sonnet-20240620', 'stop_reason': 'tool_use', 'stop_sequence': None, 'usage': {'input_tokens': 360, 'output_tokens': 81}}, id='run-0da499dd-e88b-4f5b-a597-5dd564611df0-0', tool_calls=[{'name': 'weather_search', 'args': {'city': 'San Francisco'}, 'id': 'toolu_01JNqyF542ebsXeaAinnUTKz', 'type': 'tool_call'}], usage_metadata={'input_tokens': 360, 'output_tokens': 81, 'total_tokens': 441}), ToolMessage(content='User requested changes: pass in the country as well', name='weather_search', id='e87e1240-8550-4d8d-8980-8992f217b87d', tool_call_id='toolu_01JNqyF542ebsXeaAinnUTKz'), AIMessage(content=[{'text': 'I apologize for the oversight. It seems the function requires additional information. Let me try again with more specific details.', 'type': 'text'}, {'id': 'toolu_01FWKkh7VoNDLRmbRftaEV9Y', 'input': {'city': 'San Francisco, USA'}, 'name': 'weather_search', 'type': 'tool_use'}], response_metadata={'id': 'msg_01TJ9YXMt6asAK7fRkmNhy9K', 'model': 'claude-3-5-sonnet-20240620', 'stop_reason': 'tool_use', 'stop_sequence': None, 'usage': {'input_tokens': 462, 'output_tokens': 82}}, id='run-a61b3660-5348-4a98-bd41-61e1c36e6ded-0', tool_calls=[{'name': 'weather_search', 'args': {'city': 'San Francisco, USA'}, 'id': 'toolu_01FWKkh7VoNDLRmbRftaEV9Y', 'type': 'tool_call'}], usage_metadata={'input_tokens': 462, 'output_tokens': 82, 'total_tokens': 544})]}\n"
     ]
    }
   ],
   "source": [
    "# To get the ID of the message we want to replace, we need to fetch the current state and find it there.\n",
    "state = graph.get_state(thread)\n",
    "print(\"Current State:\")\n",
    "print(state.values)\n",
    "print(\"\\nCurrent Tool Call ID:\")\n",
    "tool_call_id = state.values['messages'][-1].tool_calls[0]['id']\n",
    "print(tool_call_id)\n",
    "\n",
    "# We now need to construct a replacement tool call.\n",
    "# We will change the argument to be `San Francisco, USA`\n",
    "# Note that we could change any number of arguments or tool names - it just has to be a valid one\n",
    "new_message = {\n",
    "    \"role\": \"tool\", \n",
    "    # This is our natural language feedback\n",
    "    \"content\": \"User requested changes: pass in the country as well\",\n",
    "    \"name\": \"weather_search\",\n",
    "    \"tool_call_id\": tool_call_id\n",
    "}\n",
    "graph.update_state(\n",
    "    # This is the config which represents this thread\n",
    "    thread, \n",
    "    # This is the updated value we want to push\n",
    "    {\"messages\": [new_message]}, \n",
    "    # We push this update acting as our human_review_node\n",
    "    as_node=\"human_review_node\"\n",
    ")\n",
    "\n",
    "# Let's now continue executing from here\n",
    "for event in graph.stream(None, thread, stream_mode=\"values\"):\n",
    "    print(event)"
   ]
  },
  {
   "cell_type": "markdown",
   "id": "2d2e79ab-7cdb-42ce-b2ca-2932f8782c90",
   "metadata": {},
   "source": [
    "We can see that we now get to another breakpoint - because it went back to the model and got an entirely new prediction of what to call. Let's now approve this one and continue."
   ]
  },
  {
   "cell_type": "code",
   "execution_count": 16,
   "id": "a30d40ad-611d-4ec3-84be-869ea05acb89",
   "metadata": {},
   "outputs": [
    {
     "name": "stdout",
     "output_type": "stream",
     "text": [
      "Pending Executions!\n",
      "('human_review_node',)\n",
      "----\n",
      "Searching for: San Francisco, USA\n",
      "----\n",
      "{'messages': [HumanMessage(content='whats the weather in sf?', id='7be328eb-28ec-4cf3-b3ff-230a060b0ed6'), AIMessage(content=[{'text': 'To get the weather information for San Francisco, I can use the weather_search function. Let me fetch that information for you.', 'type': 'text'}, {'id': 'toolu_01JNqyF542ebsXeaAinnUTKz', 'input': {'city': 'San Francisco'}, 'name': 'weather_search', 'type': 'tool_use'}], response_metadata={'id': 'msg_01T2CvhD5YaKqSAatvyZ1PfD', 'model': 'claude-3-5-sonnet-20240620', 'stop_reason': 'tool_use', 'stop_sequence': None, 'usage': {'input_tokens': 360, 'output_tokens': 81}}, id='run-0da499dd-e88b-4f5b-a597-5dd564611df0-0', tool_calls=[{'name': 'weather_search', 'args': {'city': 'San Francisco'}, 'id': 'toolu_01JNqyF542ebsXeaAinnUTKz', 'type': 'tool_call'}], usage_metadata={'input_tokens': 360, 'output_tokens': 81, 'total_tokens': 441}), ToolMessage(content='User requested changes: pass in the country as well', name='weather_search', id='e87e1240-8550-4d8d-8980-8992f217b87d', tool_call_id='toolu_01JNqyF542ebsXeaAinnUTKz'), AIMessage(content=[{'text': 'I apologize for the oversight. It seems the function requires additional information. Let me try again with more specific details.', 'type': 'text'}, {'id': 'toolu_01FWKkh7VoNDLRmbRftaEV9Y', 'input': {'city': 'San Francisco, USA'}, 'name': 'weather_search', 'type': 'tool_use'}], response_metadata={'id': 'msg_01TJ9YXMt6asAK7fRkmNhy9K', 'model': 'claude-3-5-sonnet-20240620', 'stop_reason': 'tool_use', 'stop_sequence': None, 'usage': {'input_tokens': 462, 'output_tokens': 82}}, id='run-a61b3660-5348-4a98-bd41-61e1c36e6ded-0', tool_calls=[{'name': 'weather_search', 'args': {'city': 'San Francisco, USA'}, 'id': 'toolu_01FWKkh7VoNDLRmbRftaEV9Y', 'type': 'tool_call'}], usage_metadata={'input_tokens': 462, 'output_tokens': 82, 'total_tokens': 544}), ToolMessage(content='Sunny!', name='weather_search', id='abffcd23-86c5-40e8-b7bc-32498561f8e2', tool_call_id='toolu_01FWKkh7VoNDLRmbRftaEV9Y')]}\n",
      "{'messages': [HumanMessage(content='whats the weather in sf?', id='7be328eb-28ec-4cf3-b3ff-230a060b0ed6'), AIMessage(content=[{'text': 'To get the weather information for San Francisco, I can use the weather_search function. Let me fetch that information for you.', 'type': 'text'}, {'id': 'toolu_01JNqyF542ebsXeaAinnUTKz', 'input': {'city': 'San Francisco'}, 'name': 'weather_search', 'type': 'tool_use'}], response_metadata={'id': 'msg_01T2CvhD5YaKqSAatvyZ1PfD', 'model': 'claude-3-5-sonnet-20240620', 'stop_reason': 'tool_use', 'stop_sequence': None, 'usage': {'input_tokens': 360, 'output_tokens': 81}}, id='run-0da499dd-e88b-4f5b-a597-5dd564611df0-0', tool_calls=[{'name': 'weather_search', 'args': {'city': 'San Francisco'}, 'id': 'toolu_01JNqyF542ebsXeaAinnUTKz', 'type': 'tool_call'}], usage_metadata={'input_tokens': 360, 'output_tokens': 81, 'total_tokens': 441}), ToolMessage(content='User requested changes: pass in the country as well', name='weather_search', id='e87e1240-8550-4d8d-8980-8992f217b87d', tool_call_id='toolu_01JNqyF542ebsXeaAinnUTKz'), AIMessage(content=[{'text': 'I apologize for the oversight. It seems the function requires additional information. Let me try again with more specific details.', 'type': 'text'}, {'id': 'toolu_01FWKkh7VoNDLRmbRftaEV9Y', 'input': {'city': 'San Francisco, USA'}, 'name': 'weather_search', 'type': 'tool_use'}], response_metadata={'id': 'msg_01TJ9YXMt6asAK7fRkmNhy9K', 'model': 'claude-3-5-sonnet-20240620', 'stop_reason': 'tool_use', 'stop_sequence': None, 'usage': {'input_tokens': 462, 'output_tokens': 82}}, id='run-a61b3660-5348-4a98-bd41-61e1c36e6ded-0', tool_calls=[{'name': 'weather_search', 'args': {'city': 'San Francisco, USA'}, 'id': 'toolu_01FWKkh7VoNDLRmbRftaEV9Y', 'type': 'tool_call'}], usage_metadata={'input_tokens': 462, 'output_tokens': 82, 'total_tokens': 544}), ToolMessage(content='Sunny!', name='weather_search', id='abffcd23-86c5-40e8-b7bc-32498561f8e2', tool_call_id='toolu_01FWKkh7VoNDLRmbRftaEV9Y'), AIMessage(content=\"Great! I've got the weather information for San Francisco. The current weather in San Francisco is sunny!\\n\\nIs there anything else you'd like to know about the weather in San Francisco or any other city?\", response_metadata={'id': 'msg_0158T5wz5oieFgKmMoG5446N', 'model': 'claude-3-5-sonnet-20240620', 'stop_reason': 'end_turn', 'stop_sequence': None, 'usage': {'input_tokens': 557, 'output_tokens': 46}}, id='run-bc652ed5-4b53-4790-90ed-6c79f26a97c0-0', usage_metadata={'input_tokens': 557, 'output_tokens': 46, 'total_tokens': 603})]}\n"
     ]
    }
   ],
   "source": [
    "print(\"Pending Executions!\")\n",
    "print(graph.get_state(thread).next)\n",
    "\n",
    "for event in graph.stream(None, thread, stream_mode=\"values\"):\n",
    "    print(event)"
   ]
  },
  {
   "cell_type": "code",
   "execution_count": null,
   "id": "78780afe-409d-46cd-a734-e82538cdd8de",
   "metadata": {},
   "outputs": [],
   "source": []
  }
 ],
 "metadata": {
  "kernelspec": {
   "display_name": "Python 3 (ipykernel)",
   "language": "python",
   "name": "python3"
  },
  "language_info": {
   "codemirror_mode": {
    "name": "ipython",
    "version": 3
   },
   "file_extension": ".py",
   "mimetype": "text/x-python",
   "name": "python",
   "nbconvert_exporter": "python",
   "pygments_lexer": "ipython3",
   "version": "3.11.1"
  }
 },
 "nbformat": 4,
 "nbformat_minor": 5
}
