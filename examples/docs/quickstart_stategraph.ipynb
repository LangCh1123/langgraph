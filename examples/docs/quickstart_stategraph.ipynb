{
  "cells": [
    {
      "cell_type": "markdown",
      "metadata": {
        "id": "3Zi6BsoGtoMo"
      },
      "source": [
        "# Quickstart Base using StateGraph\n",
        "Learn more about [StateGraph](https://langchain-ai.github.io/langgraph/reference/graphs/#stategraph). It is the preferred approach since it is far more flexible than [MessageGraph](https://langchain-ai.github.io/langgraph/reference/graphs/#messagegraph) for an expansive overall state and can handle additional key values to be accessible across the graph."
      ]
    },
    {
      "cell_type": "code",
      "execution_count": null,
      "metadata": {
        "id": "RHJXv2bKtoMp"
      },
      "outputs": [],
      "source": [
        "%%capture --no-stderr\n",
        "%pip install --quiet -U langgraph langchain-openai # No langchain install needed"
      ]
    },
    {
      "cell_type": "code",
      "execution_count": null,
      "metadata": {
        "id": "sx19g61CtoMp"
      },
      "outputs": [],
      "source": [
        "import getpass\n",
        "import os\n",
        "\n",
        "if not os.environ.get(\"OPENAI_API_KEY\"):\n",
        "    os.environ[\"OPENAI_API_KEY\"] = getpass.getpass(\"OpenAI API Key:\")"
      ]
    },
    {
      "cell_type": "markdown",
      "source": [
        "Notice how we have to explicitly handle `\"messages\"` or other keys in our state when interacting with the model"
      ],
      "metadata": {
        "id": "yehWgI-9F9Z-"
      }
    },
    {
      "cell_type": "code",
      "execution_count": null,
      "metadata": {
        "id": "XnYlx0zrtoMp"
      },
      "outputs": [],
      "source": [
        "from typing import Annotated, TypedDict\n",
        "\n",
        "from langchain_core.messages import BaseMessage, HumanMessage\n",
        "from langgraph.graph import START, END, StateGraph, MessagesState\n",
        "from langgraph.graph.message import AnyMessage, add_messages\n",
        "from langchain_openai import ChatOpenAI\n",
        "\n",
        "# this is the default state  same as \"MessageState\" TypedDict but allows us accessibility to\n",
        "# custom keys to our state like user's details\n",
        "class GraphsState(TypedDict):\n",
        "    messages: Annotated[list[AnyMessage], add_messages]\n",
        "    # user_id: int\n",
        "\n",
        "graph = StateGraph(GraphsState)\n",
        "\n",
        "# Can be any chat model integration https://python.langchain.com/v0.2/docs/integrations/chat/\n",
        "model = ChatOpenAI(temperature=0)\n",
        "\n",
        "def _call_model(state: GraphsState):\n",
        "    messages = state[\"messages\"]\n",
        "    response = model.invoke(messages)\n",
        "    return {\"messages\": [response]}\n",
        "\n",
        "graph.add_edge(START, \"modelNode\")\n",
        "graph.add_node(\"modelNode\", _call_model)\n",
        "graph.add_edge(\"modelNode\", END)\n",
        "\n",
        "graph_runnable = graph.compile()"
      ]
    },
    {
      "cell_type": "markdown",
      "source": [
        "### Let us visualize it using [Mermaid](https://langchain-ai.github.io/langgraph/how-tos/visualization/)"
      ],
      "metadata": {
        "id": "1iQnHzH-71wR"
      }
    },
    {
      "cell_type": "code",
      "execution_count": null,
      "metadata": {
        "colab": {
          "base_uri": "https://localhost:8080/",
          "height": 236
        },
        "id": "KhNwtM53toMq",
        "outputId": "62d98f39-0da2-497b-ccc8-0a671b29df85"
      },
      "outputs": [
        {
          "output_type": "display_data",
          "data": {
            "image/jpeg": "[encoded data removed]",
            "text/plain": [
              "<IPython.core.display.Image object>"
            ]
          },
          "metadata": {}
        }
      ],
      "source": [
        "from IPython.display import Image, display\n",
        "\n",
        "try:\n",
        "    display(Image(graph_runnable.get_graph(xray=True).draw_mermaid_png()))\n",
        "except Exception:\n",
        "    # This requires some extra dependencies and is optional\n",
        "    pass"
      ]
    },
    {
      "cell_type": "markdown",
      "source": [
        "### Talk to the Model\n",
        "\n",
        "Here we can have a conversation with the model accounting for `\"message\"` key. Notice we sometimes can't do math, like *area of a circle*, with a Large **Language** Model. We can solve this and many complex problems by using tooling specifically the [ToolNode](https://langchain-ai.github.io/langgraph/how-tos/tool-calling/)."
      ],
      "metadata": {
        "id": "xjth0LaURNPY"
      }
    },
    {
      "cell_type": "code",
      "source": [
        "# simple invocation\n",
        "# graph_runnable.invoke({\"messages\": HumanMessage(\"What is your name?\")})\n",
        "\n",
        "while True:\n",
        "  user = input(\"User (q/Q to quit): \")\n",
        "  if user in {\"q\", \"Q\"}:\n",
        "    print(\"AI: Byebye\")\n",
        "    break\n",
        "  for output in graph_runnable.stream({\"messages\": HumanMessage(user)}, stream_mode=\"updates\"):\n",
        "    last_message = next(iter(output.values()))['messages'][-1]\n",
        "    last_message.pretty_print()"
      ],
      "metadata": {
        "colab": {
          "base_uri": "https://localhost:8080/"
        },
        "id": "taH03dr6K83_",
        "outputId": "45caffb0-7fa6-44d1-a426-da74aa5207c6"
      },
      "execution_count": null,
      "outputs": [
        {
          "output_type": "stream",
          "name": "stdout",
          "text": [
            "User (q/Q to quit): hi\n",
            "==================================\u001b[1m Ai Message \u001b[0m==================================\n",
            "\n",
            "Hello! How can I assist you today?\n",
            "User (q/Q to quit): what is the area of a circle with radius 5?\n",
            "==================================\u001b[1m Ai Message \u001b[0m==================================\n",
            "\n",
            "The area of a circle is calculated using the formula A = πr^2, where r is the radius of the circle.\n",
            "\n",
            "Given that the radius of the circle is 5, we can substitute this value into the formula:\n",
            "\n",
            "A = π(5)^2\n",
            "A = π(25)\n",
            "A = 25π\n",
            "\n",
            "Therefore, the area of a circle with radius 5 is 25π square units.\n",
            "User (q/Q to quit): q\n",
            "AI: Byebye\n"
          ]
        }
      ]
    }
  ],
  "metadata": {
    "kernelspec": {
      "display_name": "Python 3",
      "language": "python",
      "name": "python3"
    },
    "language_info": {
      "codemirror_mode": {
        "name": "ipython",
        "version": 3
      },
      "file_extension": ".py",
      "mimetype": "text/x-python",
      "name": "python",
      "nbconvert_exporter": "python",
      "pygments_lexer": "ipython3",
      "version": "3.12.2"
    },
    "colab": {
      "provenance": []
    }
  },
  "nbformat": 4,
  "nbformat_minor": 0
}